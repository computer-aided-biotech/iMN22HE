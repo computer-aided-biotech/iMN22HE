{
 "cells": [
  {
   "cell_type": "markdown",
   "id": "2d8c57f9-f5ad-4b26-abc1-5bd92a764ac8",
   "metadata": {},
   "source": [
    "# Metabolite annotation\n",
    "Using MetaNetX chem_xref.tsv (can  be downloaded from [here](https://www.metanetx.org/mnxdoc/mnxref.html))."
   ]
  },
  {
   "cell_type": "code",
   "execution_count": 1,
   "id": "075ecef9-67c6-4bb8-8252-5752552fe9e6",
   "metadata": {
    "execution": {
     "iopub.execute_input": "2021-10-28T10:00:37.240825Z",
     "iopub.status.busy": "2021-10-28T10:00:37.240549Z",
     "iopub.status.idle": "2021-10-28T10:00:38.109411Z",
     "shell.execute_reply": "2021-10-28T10:00:38.108886Z",
     "shell.execute_reply.started": "2021-10-28T10:00:37.240757Z"
    },
    "tags": []
   },
   "outputs": [
    {
     "data": {
      "text/html": [
       "<style type='text/css'>\n",
       ".datatable table.frame { margin-bottom: 0; }\n",
       ".datatable table.frame thead { border-bottom: none; }\n",
       ".datatable table.frame tr.coltypes td {  color: #FFFFFF;  line-height: 6px;  padding: 0 0.5em;}\n",
       ".datatable .bool    { background: #DDDD99; }\n",
       ".datatable .object  { background: #565656; }\n",
       ".datatable .int     { background: #5D9E5D; }\n",
       ".datatable .float   { background: #4040CC; }\n",
       ".datatable .str     { background: #CC4040; }\n",
       ".datatable .time    { background: #40CC40; }\n",
       ".datatable .row_index {  background: var(--jp-border-color3);  border-right: 1px solid var(--jp-border-color0);  color: var(--jp-ui-font-color3);  font-size: 9px;}\n",
       ".datatable .frame tbody td { text-align: left; }\n",
       ".datatable .frame tr.coltypes .row_index {  background: var(--jp-border-color0);}\n",
       ".datatable th:nth-child(2) { padding-left: 12px; }\n",
       ".datatable .hellipsis {  color: var(--jp-cell-editor-border-color);}\n",
       ".datatable .vellipsis {  background: var(--jp-layout-color0);  color: var(--jp-cell-editor-border-color);}\n",
       ".datatable .na {  color: var(--jp-cell-editor-border-color);  font-size: 80%;}\n",
       ".datatable .sp {  opacity: 0.25;}\n",
       ".datatable .footer { font-size: 9px; }\n",
       ".datatable .frame_dimensions {  background: var(--jp-border-color3);  border-top: 1px solid var(--jp-border-color0);  color: var(--jp-ui-font-color3);  display: inline-block;  opacity: 0.6;  padding: 1px 10px 1px 5px;}\n",
       "</style>\n"
      ],
      "text/plain": [
       "<IPython.core.display.HTML object>"
      ]
     },
     "metadata": {},
     "output_type": "display_data"
    }
   ],
   "source": [
    "from collections import defaultdict\n",
    "from pathlib import Path\n",
    "\n",
    "import cobra\n",
    "import re\n",
    "from datatable import dt, f, join, update"
   ]
  },
  {
   "cell_type": "code",
   "execution_count": 2,
   "id": "5cbd077c-795f-4872-97c9-2583d2973a00",
   "metadata": {
    "execution": {
     "iopub.execute_input": "2021-10-28T10:00:38.110629Z",
     "iopub.status.busy": "2021-10-28T10:00:38.110340Z",
     "iopub.status.idle": "2021-10-28T10:00:38.114450Z",
     "shell.execute_reply": "2021-10-28T10:00:38.113797Z",
     "shell.execute_reply.started": "2021-10-28T10:00:38.110601Z"
    },
    "tags": []
   },
   "outputs": [],
   "source": [
    "ROOT = Path.cwd().parent\n",
    "model_file = str(ROOT / \"iMENI452.xml\")"
   ]
  },
  {
   "cell_type": "code",
   "execution_count": 3,
   "id": "0ea10fc7-ce9b-4d8b-9285-d6c4f423831b",
   "metadata": {
    "execution": {
     "iopub.execute_input": "2021-10-28T10:00:38.115636Z",
     "iopub.status.busy": "2021-10-28T10:00:38.115313Z",
     "iopub.status.idle": "2021-10-28T10:00:39.153062Z",
     "shell.execute_reply": "2021-10-28T10:00:39.152341Z",
     "shell.execute_reply.started": "2021-10-28T10:00:38.115608Z"
    },
    "tags": []
   },
   "outputs": [
    {
     "name": "stdout",
     "output_type": "stream",
     "text": [
      "Scaling...\n",
      " A: min|aij| =  1.000e+00  max|aij| =  1.000e+00  ratio =  1.000e+00\n",
      "Problem data seem to be well scaled\n"
     ]
    }
   ],
   "source": [
    "model = cobra.io.read_sbml_model(model_file)"
   ]
  },
  {
   "cell_type": "markdown",
   "id": "31437043-a88f-439f-967e-89264679fb0a",
   "metadata": {},
   "source": [
    "Gather all prepared reactions in a dataframe matched to their identifiers in the model."
   ]
  },
  {
   "cell_type": "code",
   "execution_count": 4,
   "id": "d85cd18d-9202-4559-a7fc-32f542c9ecdc",
   "metadata": {
    "execution": {
     "iopub.execute_input": "2021-10-28T10:00:39.173356Z",
     "iopub.status.busy": "2021-10-28T10:00:39.173028Z",
     "iopub.status.idle": "2021-10-28T10:00:39.178276Z",
     "shell.execute_reply": "2021-10-28T10:00:39.177313Z",
     "shell.execute_reply.started": "2021-10-28T10:00:39.173319Z"
    },
    "tags": []
   },
   "outputs": [],
   "source": [
    "mets_prepared = [met.id for met in model.metabolites]"
   ]
  },
  {
   "cell_type": "code",
   "execution_count": 5,
   "id": "d555fad6-9aca-4873-8cb6-d1d1ee6531a4",
   "metadata": {
    "execution": {
     "iopub.execute_input": "2021-10-28T10:00:39.179999Z",
     "iopub.status.busy": "2021-10-28T10:00:39.179560Z",
     "iopub.status.idle": "2021-10-28T10:00:39.212292Z",
     "shell.execute_reply": "2021-10-28T10:00:39.211541Z",
     "shell.execute_reply.started": "2021-10-28T10:00:39.179957Z"
    },
    "tags": []
   },
   "outputs": [
    {
     "data": {
      "text/plain": [
       "['ala-L[c]', 'nad[c]', 'h2o[c]', 'pyr[c]', 'nh4[c]']"
      ]
     },
     "execution_count": 5,
     "metadata": {},
     "output_type": "execute_result"
    }
   ],
   "source": [
    "mets_prepared[:5]"
   ]
  },
  {
   "cell_type": "code",
   "execution_count": 6,
   "id": "5b9cf11f-2885-40fe-affa-64b39d8c384a",
   "metadata": {
    "execution": {
     "iopub.execute_input": "2021-10-28T10:00:39.213819Z",
     "iopub.status.busy": "2021-10-28T10:00:39.213361Z",
     "iopub.status.idle": "2021-10-28T10:00:39.524148Z",
     "shell.execute_reply": "2021-10-28T10:00:39.523727Z",
     "shell.execute_reply.started": "2021-10-28T10:00:39.213780Z"
    },
    "tags": []
   },
   "outputs": [],
   "source": [
    "mnx = dt.fread(str(ROOT / \"chem_xref.tsv\"), skip_to_line=352)"
   ]
  },
  {
   "cell_type": "code",
   "execution_count": 7,
   "id": "eb7d4613-af3f-41c5-9e6f-e1d50948e64a",
   "metadata": {
    "execution": {
     "iopub.execute_input": "2021-10-28T10:00:39.524963Z",
     "iopub.status.busy": "2021-10-28T10:00:39.524805Z",
     "iopub.status.idle": "2021-10-28T10:00:39.528065Z",
     "shell.execute_reply": "2021-10-28T10:00:39.527724Z",
     "shell.execute_reply.started": "2021-10-28T10:00:39.524946Z"
    },
    "tags": []
   },
   "outputs": [
    {
     "data": {
      "text/html": [
       "<div class='datatable'>\n",
       "  <table class='frame'>\n",
       "  <thead>\n",
       "    <tr class='colnames'><td class='row_index'></td><th>#source</th><th>ID</th><th>description</th></tr>\n",
       "    <tr class='coltypes'><td class='row_index'></td><td class='str' title='str32'>&#x25AA;&#x25AA;&#x25AA;&#x25AA;</td><td class='str' title='str32'>&#x25AA;&#x25AA;&#x25AA;&#x25AA;</td><td class='str' title='str32'>&#x25AA;&#x25AA;&#x25AA;&#x25AA;</td></tr>\n",
       "  </thead>\n",
       "  <tbody>\n",
       "    <tr><td class='row_index'>0</td><td>BIOMASS</td><td>BIOMASS</td><td>BIOMASS</td></tr>\n",
       "    <tr><td class='row_index'>1</td><td>mnx:BIOMASS</td><td>BIOMASS</td><td>BIOMASS</td></tr>\n",
       "    <tr><td class='row_index'>2</td><td>seed.compound:cpd11416</td><td>BIOMASS</td><td>Biomass</td></tr>\n",
       "    <tr><td class='row_index'>3</td><td>seedM:M_cpd11416</td><td>BIOMASS</td><td>secondary/obsolete/fantasy identifier</td></tr>\n",
       "    <tr><td class='row_index'>4</td><td>seedM:cpd11416</td><td>BIOMASS</td><td>Biomass</td></tr>\n",
       "    <tr><td class='row_index'>5</td><td>MNXM01</td><td>MNXM01</td><td>PMF||Translocated proton that acccounts for the Pr&#133;</td></tr>\n",
       "    <tr><td class='row_index'>6</td><td>mnx:PMF</td><td>MNXM01</td><td>PMF||Translocated proton that acccounts for the Pr&#133;</td></tr>\n",
       "    <tr><td class='row_index'>7</td><td>CHEBI:16234</td><td>MNXM02</td><td>hydroxide||HO-||HYDROXIDE ION||Hydroxide ion||OH(-&#133;</td></tr>\n",
       "    <tr><td class='row_index'>8</td><td>CHEBI:29356</td><td>MNXM02</td><td>oxide(2-)||O(2-)||oxide</td></tr>\n",
       "    <tr><td class='row_index'>9</td><td>MNXM02</td><td>MNXM02</td><td>OH(-)||hydroxyde</td></tr>\n",
       "  </tbody>\n",
       "  </table>\n",
       "  <div class='footer'>\n",
       "    <div class='frame_dimensions'>10 rows &times; 3 columns</div>\n",
       "  </div>\n",
       "</div>\n"
      ],
      "text/plain": [
       "<Frame#7f5a834bfba0 10x3>"
      ]
     },
     "execution_count": 7,
     "metadata": {},
     "output_type": "execute_result"
    }
   ],
   "source": [
    "mnx.head()"
   ]
  },
  {
   "cell_type": "markdown",
   "id": "b3dd15d7-0ca0-4a2c-813f-01c317cda1fa",
   "metadata": {},
   "source": [
    "\"bigg.metabolites\" do not have the compartment in the annotation."
   ]
  },
  {
   "cell_type": "code",
   "execution_count": 8,
   "id": "42d5d3a8-a5f4-42a7-81d5-7d8c3facca74",
   "metadata": {
    "execution": {
     "iopub.execute_input": "2021-10-28T10:00:39.528750Z",
     "iopub.status.busy": "2021-10-28T10:00:39.528599Z",
     "iopub.status.idle": "2021-10-28T10:00:39.531522Z",
     "shell.execute_reply": "2021-10-28T10:00:39.531184Z",
     "shell.execute_reply.started": "2021-10-28T10:00:39.528734Z"
    },
    "tags": []
   },
   "outputs": [],
   "source": [
    "mnx.names = [\"key\", \"mnx\", \"description\"]"
   ]
  },
  {
   "cell_type": "code",
   "execution_count": 9,
   "id": "d6c6c654-8f4c-4f47-af36-0ce98ed71ace",
   "metadata": {
    "execution": {
     "iopub.execute_input": "2021-10-28T10:00:39.532206Z",
     "iopub.status.busy": "2021-10-28T10:00:39.532049Z",
     "iopub.status.idle": "2021-10-28T10:00:39.718257Z",
     "shell.execute_reply": "2021-10-28T10:00:39.717910Z",
     "shell.execute_reply.started": "2021-10-28T10:00:39.532189Z"
    },
    "tags": []
   },
   "outputs": [
    {
     "data": {
      "text/html": [
       "<div class='datatable'>\n",
       "  <table class='frame'>\n",
       "  <thead>\n",
       "    <tr class='colnames'><td class='row_index'></td><th>key</th></tr>\n",
       "    <tr class='coltypes'><td class='row_index'></td><td class='str' title='str32'>&#x25AA;&#x25AA;&#x25AA;&#x25AA;</td></tr>\n",
       "  </thead>\n",
       "  <tbody>\n",
       "    <tr><td class='row_index'>0</td><td>bigg.metabolite:oh1</td></tr>\n",
       "    <tr><td class='row_index'>1</td><td>bigg.metabolite:h</td></tr>\n",
       "    <tr><td class='row_index'>2</td><td>bigg.metabolite:nadh</td></tr>\n",
       "    <tr><td class='row_index'>3</td><td>bigg.metabolite:grdp</td></tr>\n",
       "    <tr><td class='row_index'>4</td><td>bigg.metabolite:mercplaccys</td></tr>\n",
       "    <tr><td class='row_index'>5</td><td>bigg.metabolite:CE2176</td></tr>\n",
       "    <tr><td class='row_index'>6</td><td>bigg.metabolite:12dgr_SC</td></tr>\n",
       "    <tr><td class='row_index'>7</td><td>bigg.metabolite:triodthy</td></tr>\n",
       "    <tr><td class='row_index'>8</td><td>bigg.metabolite:4hdebrisoquine</td></tr>\n",
       "    <tr><td class='row_index'>9</td><td>bigg.metabolite:4mtolbutamide</td></tr>\n",
       "  </tbody>\n",
       "  </table>\n",
       "  <div class='footer'>\n",
       "    <div class='frame_dimensions'>10 rows &times; 1 column</div>\n",
       "  </div>\n",
       "</div>\n"
      ],
      "text/plain": [
       "<Frame#7f5a834bfa50 10x1>"
      ]
     },
     "execution_count": 9,
     "metadata": {},
     "output_type": "execute_result"
    }
   ],
   "source": [
    "mnx[dt.re.match(f.key, r\"bigg.metabolite.*\"), f.key].head()"
   ]
  },
  {
   "cell_type": "markdown",
   "id": "99f221e9-56cb-44ce-a3a9-af3f46a53281",
   "metadata": {},
   "source": [
    "We have to express a map from bigg metabolites identifiers in the model to the normalized bigg metabolites (without compartment)."
   ]
  },
  {
   "cell_type": "code",
   "execution_count": 10,
   "id": "7991d999-e08a-4d87-8da4-462610b02a59",
   "metadata": {
    "execution": {
     "iopub.execute_input": "2021-10-28T10:00:39.719139Z",
     "iopub.status.busy": "2021-10-28T10:00:39.718843Z",
     "iopub.status.idle": "2021-10-28T10:00:39.721422Z",
     "shell.execute_reply": "2021-10-28T10:00:39.721092Z",
     "shell.execute_reply.started": "2021-10-28T10:00:39.719121Z"
    },
    "tags": []
   },
   "outputs": [],
   "source": [
    "MET_PAT = re.compile(r\"(.+)\\[[ce]\\]$\")"
   ]
  },
  {
   "cell_type": "code",
   "execution_count": 11,
   "id": "f1d0c456-2ce7-4522-a9c0-6c5fbdd21de6",
   "metadata": {
    "execution": {
     "iopub.execute_input": "2021-10-28T10:00:39.722280Z",
     "iopub.status.busy": "2021-10-28T10:00:39.721931Z",
     "iopub.status.idle": "2021-10-28T10:00:39.726895Z",
     "shell.execute_reply": "2021-10-28T10:00:39.726244Z",
     "shell.execute_reply.started": "2021-10-28T10:00:39.722264Z"
    },
    "tags": []
   },
   "outputs": [
    {
     "data": {
      "text/plain": [
       "'nad'"
      ]
     },
     "execution_count": 11,
     "metadata": {},
     "output_type": "execute_result"
    }
   ],
   "source": [
    "MET_PAT.sub(r\"\\1\", \"nad[c]\")"
   ]
  },
  {
   "cell_type": "code",
   "execution_count": 12,
   "id": "641cf5f1-6602-434f-b767-5d7a4cc60aae",
   "metadata": {
    "execution": {
     "iopub.execute_input": "2021-10-28T10:00:39.736363Z",
     "iopub.status.busy": "2021-10-28T10:00:39.728180Z",
     "iopub.status.idle": "2021-10-28T10:00:39.740755Z",
     "shell.execute_reply": "2021-10-28T10:00:39.740194Z",
     "shell.execute_reply.started": "2021-10-28T10:00:39.736317Z"
    },
    "tags": []
   },
   "outputs": [],
   "source": [
    "mets_prepared = [MET_PAT.sub(r\"\\1\", met) for met in mets_prepared]"
   ]
  },
  {
   "cell_type": "markdown",
   "id": "0afc1071-8883-4a66-b02e-ccefdc5391ad",
   "metadata": {},
   "source": [
    "In addition, we have to express \"ala-L\" and \"glc-D\" as \"ala__L\" and \"glc__D\"."
   ]
  },
  {
   "cell_type": "code",
   "execution_count": 13,
   "id": "7582347e-9727-408c-8061-342d66e156cd",
   "metadata": {
    "execution": {
     "iopub.execute_input": "2021-10-28T10:00:39.743624Z",
     "iopub.status.busy": "2021-10-28T10:00:39.743374Z",
     "iopub.status.idle": "2021-10-28T10:00:39.751176Z",
     "shell.execute_reply": "2021-10-28T10:00:39.750327Z",
     "shell.execute_reply.started": "2021-10-28T10:00:39.743599Z"
    },
    "tags": []
   },
   "outputs": [],
   "source": [
    "DUNDER_PAT = re.compile(r\"-([DLSR])\")"
   ]
  },
  {
   "cell_type": "code",
   "execution_count": 14,
   "id": "679594c5-561a-458b-8dbc-087c1d770461",
   "metadata": {
    "execution": {
     "iopub.execute_input": "2021-10-28T10:00:39.752832Z",
     "iopub.status.busy": "2021-10-28T10:00:39.752559Z",
     "iopub.status.idle": "2021-10-28T10:00:39.757729Z",
     "shell.execute_reply": "2021-10-28T10:00:39.757196Z",
     "shell.execute_reply.started": "2021-10-28T10:00:39.752804Z"
    },
    "tags": []
   },
   "outputs": [
    {
     "data": {
      "text/plain": [
       "'ala__L'"
      ]
     },
     "execution_count": 14,
     "metadata": {},
     "output_type": "execute_result"
    }
   ],
   "source": [
    "DUNDER_PAT.sub(r\"__\\1\", \"ala-L\")"
   ]
  },
  {
   "cell_type": "code",
   "execution_count": 15,
   "id": "7e2b0531-9bed-442e-807e-d15652425740",
   "metadata": {
    "execution": {
     "iopub.execute_input": "2021-10-28T10:00:39.758620Z",
     "iopub.status.busy": "2021-10-28T10:00:39.758416Z",
     "iopub.status.idle": "2021-10-28T10:00:39.762280Z",
     "shell.execute_reply": "2021-10-28T10:00:39.761838Z",
     "shell.execute_reply.started": "2021-10-28T10:00:39.758600Z"
    },
    "tags": []
   },
   "outputs": [],
   "source": [
    "mets_prepared = [DUNDER_PAT.sub(r\"__\\1\", met) for met in mets_prepared]"
   ]
  },
  {
   "cell_type": "markdown",
   "id": "c2324b97-49f9-4233-acc6-6f5b686d80bd",
   "metadata": {},
   "source": [
    "And \"acon-C\" and \"ala-B\" as \"acon_C\" and \"ala_B\"."
   ]
  },
  {
   "cell_type": "code",
   "execution_count": 16,
   "id": "e621abe2-cd69-484a-a824-bd76ad858481",
   "metadata": {
    "execution": {
     "iopub.execute_input": "2021-10-28T10:00:39.763655Z",
     "iopub.status.busy": "2021-10-28T10:00:39.763264Z",
     "iopub.status.idle": "2021-10-28T10:00:39.769672Z",
     "shell.execute_reply": "2021-10-28T10:00:39.768640Z",
     "shell.execute_reply.started": "2021-10-28T10:00:39.763605Z"
    }
   },
   "outputs": [],
   "source": [
    "UNDER_PAT = re.compile(r\"-([CBT])\")"
   ]
  },
  {
   "cell_type": "code",
   "execution_count": 17,
   "id": "a2116b64-4461-49b9-93cd-80630d67f577",
   "metadata": {
    "execution": {
     "iopub.execute_input": "2021-10-28T10:00:39.771205Z",
     "iopub.status.busy": "2021-10-28T10:00:39.770658Z",
     "iopub.status.idle": "2021-10-28T10:00:39.775293Z",
     "shell.execute_reply": "2021-10-28T10:00:39.774573Z",
     "shell.execute_reply.started": "2021-10-28T10:00:39.771179Z"
    }
   },
   "outputs": [],
   "source": [
    "mets_prepared = [UNDER_PAT.sub(r\"_\\1\", met) for met in mets_prepared]"
   ]
  },
  {
   "cell_type": "markdown",
   "id": "3243ee8b-fc18-421f-b313-37fd2765afc7",
   "metadata": {},
   "source": [
    "Same with ending numbers."
   ]
  },
  {
   "cell_type": "code",
   "execution_count": 18,
   "id": "cbd3e1a0-e9bf-473c-87ef-52688603d8f2",
   "metadata": {
    "execution": {
     "iopub.execute_input": "2021-10-28T10:00:39.777285Z",
     "iopub.status.busy": "2021-10-28T10:00:39.777005Z",
     "iopub.status.idle": "2021-10-28T10:00:39.780446Z",
     "shell.execute_reply": "2021-10-28T10:00:39.779668Z",
     "shell.execute_reply.started": "2021-10-28T10:00:39.777264Z"
    }
   },
   "outputs": [],
   "source": [
    "UNDER_PAT = re.compile(r\"-([0-9])$\")"
   ]
  },
  {
   "cell_type": "code",
   "execution_count": 19,
   "id": "ed7922df-a7df-49b2-8a8a-7d4b9a3c3e11",
   "metadata": {
    "execution": {
     "iopub.execute_input": "2021-10-28T10:00:39.781791Z",
     "iopub.status.busy": "2021-10-28T10:00:39.781509Z",
     "iopub.status.idle": "2021-10-28T10:00:39.786871Z",
     "shell.execute_reply": "2021-10-28T10:00:39.786099Z",
     "shell.execute_reply.started": "2021-10-28T10:00:39.781771Z"
    }
   },
   "outputs": [],
   "source": [
    "mets_prepared = [UNDER_PAT.sub(r\"_\\1\", met) for met in mets_prepared]"
   ]
  },
  {
   "cell_type": "code",
   "execution_count": 20,
   "id": "5fe4e48c-9b66-42c7-a1ae-69fcb2c77ea2",
   "metadata": {
    "execution": {
     "iopub.execute_input": "2021-10-28T10:00:39.788051Z",
     "iopub.status.busy": "2021-10-28T10:00:39.787751Z",
     "iopub.status.idle": "2021-10-28T10:00:39.792515Z",
     "shell.execute_reply": "2021-10-28T10:00:39.791642Z",
     "shell.execute_reply.started": "2021-10-28T10:00:39.788025Z"
    },
    "tags": []
   },
   "outputs": [],
   "source": [
    "mets_prepared = dt.Frame(\n",
    "    key=mets_prepared, model_id=[met.id for met in model.metabolites]\n",
    ")"
   ]
  },
  {
   "cell_type": "code",
   "execution_count": 21,
   "id": "445f9daf-dfdf-42ac-ae0b-2bb092394d9d",
   "metadata": {
    "execution": {
     "iopub.execute_input": "2021-10-28T10:00:39.793802Z",
     "iopub.status.busy": "2021-10-28T10:00:39.793504Z",
     "iopub.status.idle": "2021-10-28T10:00:39.798958Z",
     "shell.execute_reply": "2021-10-28T10:00:39.798470Z",
     "shell.execute_reply.started": "2021-10-28T10:00:39.793773Z"
    },
    "tags": []
   },
   "outputs": [
    {
     "data": {
      "text/html": [
       "<div class='datatable'>\n",
       "  <table class='frame'>\n",
       "  <thead>\n",
       "    <tr class='colnames'><td class='row_index'></td><th>key</th><th>model_id</th></tr>\n",
       "    <tr class='coltypes'><td class='row_index'></td><td class='str' title='str32'>&#x25AA;&#x25AA;&#x25AA;&#x25AA;</td><td class='str' title='str32'>&#x25AA;&#x25AA;&#x25AA;&#x25AA;</td></tr>\n",
       "  </thead>\n",
       "  <tbody>\n",
       "    <tr><td class='row_index'>0</td><td>ala__L</td><td>ala-L[c]</td></tr>\n",
       "    <tr><td class='row_index'>1</td><td>nad</td><td>nad[c]</td></tr>\n",
       "    <tr><td class='row_index'>2</td><td>h2o</td><td>h2o[c]</td></tr>\n",
       "    <tr><td class='row_index'>3</td><td>pyr</td><td>pyr[c]</td></tr>\n",
       "    <tr><td class='row_index'>4</td><td>nh4</td><td>nh4[c]</td></tr>\n",
       "    <tr><td class='row_index'>5</td><td>nadh</td><td>nadh[c]</td></tr>\n",
       "    <tr><td class='row_index'>6</td><td>h</td><td>h[c]</td></tr>\n",
       "    <tr><td class='row_index'>7</td><td>glu__L</td><td>glu-L[c]</td></tr>\n",
       "    <tr><td class='row_index'>8</td><td>oaa</td><td>oaa[c]</td></tr>\n",
       "    <tr><td class='row_index'>9</td><td>akg</td><td>akg[c]</td></tr>\n",
       "  </tbody>\n",
       "  </table>\n",
       "  <div class='footer'>\n",
       "    <div class='frame_dimensions'>10 rows &times; 2 columns</div>\n",
       "  </div>\n",
       "</div>\n"
      ],
      "text/plain": [
       "<Frame#7f5a834d54b0 10x2>"
      ]
     },
     "execution_count": 21,
     "metadata": {},
     "output_type": "execute_result"
    }
   ],
   "source": [
    "mets_prepared.head()"
   ]
  },
  {
   "cell_type": "markdown",
   "id": "d40fbd7b-224a-4c11-bd56-d00df26479fb",
   "metadata": {},
   "source": [
    "# Annotation MNX"
   ]
  },
  {
   "cell_type": "code",
   "execution_count": 22,
   "id": "a884c0fe-bf4a-4804-975f-eba43816943c",
   "metadata": {
    "execution": {
     "iopub.execute_input": "2021-10-28T10:00:39.800812Z",
     "iopub.status.busy": "2021-10-28T10:00:39.800480Z",
     "iopub.status.idle": "2021-10-28T10:00:40.066174Z",
     "shell.execute_reply": "2021-10-28T10:00:40.065433Z",
     "shell.execute_reply.started": "2021-10-28T10:00:39.800775Z"
    },
    "tags": []
   },
   "outputs": [
    {
     "data": {
      "text/plain": [
       "(9087, 2)"
      ]
     },
     "execution_count": 22,
     "metadata": {},
     "output_type": "execute_result"
    }
   ],
   "source": [
    "bigg_mnx = mnx[\n",
    "    dt.re.match(f.key, \"^bigg\\.metabolite:.+\"), {\"key\": f.key[16:], \"mnx\": f.mnx}\n",
    "]\n",
    "bigg_mnx.shape"
   ]
  },
  {
   "cell_type": "code",
   "execution_count": 23,
   "id": "d64cdf43-a8e4-46e6-bbca-fe406d6f3f8b",
   "metadata": {
    "execution": {
     "iopub.execute_input": "2021-10-28T10:00:40.067742Z",
     "iopub.status.busy": "2021-10-28T10:00:40.067246Z",
     "iopub.status.idle": "2021-10-28T10:00:40.103778Z",
     "shell.execute_reply": "2021-10-28T10:00:40.103072Z",
     "shell.execute_reply.started": "2021-10-28T10:00:40.067676Z"
    },
    "tags": []
   },
   "outputs": [],
   "source": [
    "bigg_mnx.key = \"key\""
   ]
  },
  {
   "cell_type": "code",
   "execution_count": 24,
   "id": "7c6b0282-ff0d-4ac9-bbdf-522a9780e985",
   "metadata": {
    "execution": {
     "iopub.execute_input": "2021-10-28T10:00:40.104749Z",
     "iopub.status.busy": "2021-10-28T10:00:40.104554Z",
     "iopub.status.idle": "2021-10-28T10:00:40.120632Z",
     "shell.execute_reply": "2021-10-28T10:00:40.120169Z",
     "shell.execute_reply.started": "2021-10-28T10:00:40.104727Z"
    },
    "tags": []
   },
   "outputs": [
    {
     "data": {
      "text/html": [
       "<div class='datatable'>\n",
       "  <table class='frame'>\n",
       "  <thead>\n",
       "    <tr class='colnames'><td class='row_index'></td><th>key</th><th>mnx</th></tr>\n",
       "    <tr class='coltypes'><td class='row_index'></td><td class='str' title='str32'>&#x25AA;&#x25AA;&#x25AA;&#x25AA;</td><td class='str' title='str32'>&#x25AA;&#x25AA;&#x25AA;&#x25AA;</td></tr>\n",
       "  </thead>\n",
       "  <tbody>\n",
       "    <tr><td class='row_index'>0</td><td>hacon_C</td><td>MNXM920</td></tr>\n",
       "    <tr><td class='row_index'>1</td><td>hacon_T</td><td>MNXM162779</td></tr>\n",
       "  </tbody>\n",
       "  </table>\n",
       "  <div class='footer'>\n",
       "    <div class='frame_dimensions'>2 rows &times; 2 columns</div>\n",
       "  </div>\n",
       "</div>\n"
      ],
      "text/plain": [
       "<Frame#7f5a834d5c60 2x2>"
      ]
     },
     "execution_count": 24,
     "metadata": {},
     "output_type": "execute_result"
    }
   ],
   "source": [
    "bigg_mnx[dt.re.match(f.key, r\"hacon.*\"), :]"
   ]
  },
  {
   "cell_type": "code",
   "execution_count": 25,
   "id": "27ecb30a-b66c-4917-bd8e-6d15170d92ae",
   "metadata": {
    "execution": {
     "iopub.execute_input": "2021-10-28T10:00:40.121812Z",
     "iopub.status.busy": "2021-10-28T10:00:40.121514Z",
     "iopub.status.idle": "2021-10-28T10:00:40.132606Z",
     "shell.execute_reply": "2021-10-28T10:00:40.132122Z",
     "shell.execute_reply.started": "2021-10-28T10:00:40.121789Z"
    },
    "tags": []
   },
   "outputs": [],
   "source": [
    "mets_prepared = mets_prepared[:, :, join(bigg_mnx)]"
   ]
  },
  {
   "cell_type": "code",
   "execution_count": 26,
   "id": "6bcf870e-6482-4840-ac0c-f6ea9eac1f91",
   "metadata": {
    "execution": {
     "iopub.execute_input": "2021-10-28T10:00:40.133688Z",
     "iopub.status.busy": "2021-10-28T10:00:40.133444Z",
     "iopub.status.idle": "2021-10-28T10:00:40.141786Z",
     "shell.execute_reply": "2021-10-28T10:00:40.138978Z",
     "shell.execute_reply.started": "2021-10-28T10:00:40.133668Z"
    },
    "tags": []
   },
   "outputs": [
    {
     "data": {
      "text/html": [
       "<div class='datatable'>\n",
       "  <table class='frame'>\n",
       "  <thead>\n",
       "    <tr class='colnames'><td class='row_index'></td><th>key</th><th>model_id</th><th>mnx</th></tr>\n",
       "    <tr class='coltypes'><td class='row_index'></td><td class='str' title='str32'>&#x25AA;&#x25AA;&#x25AA;&#x25AA;</td><td class='str' title='str32'>&#x25AA;&#x25AA;&#x25AA;&#x25AA;</td><td class='str' title='str32'>&#x25AA;&#x25AA;&#x25AA;&#x25AA;</td></tr>\n",
       "  </thead>\n",
       "  <tbody>\n",
       "    <tr><td class='row_index'>0</td><td>ala__L</td><td>ala-L[c]</td><td>MNXM1105732</td></tr>\n",
       "    <tr><td class='row_index'>1</td><td>nad</td><td>nad[c]</td><td>MNXM8</td></tr>\n",
       "    <tr><td class='row_index'>2</td><td>h2o</td><td>h2o[c]</td><td>WATER</td></tr>\n",
       "    <tr><td class='row_index'>3</td><td>pyr</td><td>pyr[c]</td><td>MNXM23</td></tr>\n",
       "    <tr><td class='row_index'>4</td><td>nh4</td><td>nh4[c]</td><td>MNXM729302</td></tr>\n",
       "    <tr><td class='row_index'>5</td><td>nadh</td><td>nadh[c]</td><td>MNXM10</td></tr>\n",
       "    <tr><td class='row_index'>6</td><td>h</td><td>h[c]</td><td>MNXM1</td></tr>\n",
       "    <tr><td class='row_index'>7</td><td>glu__L</td><td>glu-L[c]</td><td>MNXM741173</td></tr>\n",
       "    <tr><td class='row_index'>8</td><td>oaa</td><td>oaa[c]</td><td>MNXM46</td></tr>\n",
       "    <tr><td class='row_index'>9</td><td>akg</td><td>akg[c]</td><td>MNXM20</td></tr>\n",
       "  </tbody>\n",
       "  </table>\n",
       "  <div class='footer'>\n",
       "    <div class='frame_dimensions'>10 rows &times; 3 columns</div>\n",
       "  </div>\n",
       "</div>\n"
      ],
      "text/plain": [
       "<Frame#7f5a834d5b70 10x3>"
      ]
     },
     "execution_count": 26,
     "metadata": {},
     "output_type": "execute_result"
    }
   ],
   "source": [
    "mets_prepared.head()"
   ]
  },
  {
   "cell_type": "code",
   "execution_count": 27,
   "id": "96e7edc8-1a0a-4ff5-9f1c-3ad35b34007d",
   "metadata": {
    "execution": {
     "iopub.execute_input": "2021-10-28T10:00:40.143290Z",
     "iopub.status.busy": "2021-10-28T10:00:40.142995Z",
     "iopub.status.idle": "2021-10-28T10:00:40.150588Z",
     "shell.execute_reply": "2021-10-28T10:00:40.150149Z",
     "shell.execute_reply.started": "2021-10-28T10:00:40.143269Z"
    },
    "tags": []
   },
   "outputs": [
    {
     "data": {
      "text/html": [
       "<div class='datatable'>\n",
       "  <table class='frame'>\n",
       "  <thead>\n",
       "    <tr class='colnames'><td class='row_index'></td><th>key</th><th>model_id</th><th>mnx</th></tr>\n",
       "    <tr class='coltypes'><td class='row_index'></td><td class='str' title='str32'>&#x25AA;&#x25AA;&#x25AA;&#x25AA;</td><td class='str' title='str32'>&#x25AA;&#x25AA;&#x25AA;&#x25AA;</td><td class='str' title='str32'>&#x25AA;&#x25AA;&#x25AA;&#x25AA;</td></tr>\n",
       "  </thead>\n",
       "  <tbody>\n",
       "    <tr><td class='row_index'>0</td><td>mqn</td><td>mqn[c]</td><td><span class=na>NA</span></td></tr>\n",
       "    <tr><td class='row_index'>1</td><td>mql</td><td>mql[c]</td><td><span class=na>NA</span></td></tr>\n",
       "    <tr><td class='row_index'>2</td><td>btnp-s2</td><td>btnp-s2[c]</td><td><span class=na>NA</span></td></tr>\n",
       "    <tr><td class='row_index'>3</td><td>btnp</td><td>btnp[c]</td><td><span class=na>NA</span></td></tr>\n",
       "    <tr><td class='row_index'>4</td><td>ppant__R</td><td>ppant-R[c]</td><td><span class=na>NA</span></td></tr>\n",
       "    <tr><td class='row_index'>5</td><td>galactan</td><td>galactan[c]</td><td><span class=na>NA</span></td></tr>\n",
       "    <tr><td class='row_index'>6</td><td>polyacgal</td><td>polyacgal[c]</td><td><span class=na>NA</span></td></tr>\n",
       "    <tr><td class='row_index'>7</td><td>polyglcur</td><td>polyglcur[c]</td><td><span class=na>NA</span></td></tr>\n",
       "    <tr><td class='row_index'>8</td><td>fcd</td><td>fcd[e]</td><td><span class=na>NA</span></td></tr>\n",
       "    <tr><td class='row_index'>9</td><td>fgd</td><td>fgd[e]</td><td><span class=na>NA</span></td></tr>\n",
       "  </tbody>\n",
       "  </table>\n",
       "  <div class='footer'>\n",
       "    <div class='frame_dimensions'>10 rows &times; 3 columns</div>\n",
       "  </div>\n",
       "</div>\n"
      ],
      "text/plain": [
       "<Frame#7f5a834d2240 10x3>"
      ]
     },
     "execution_count": 27,
     "metadata": {},
     "output_type": "execute_result"
    }
   ],
   "source": [
    "mets_prepared[dt.isna(f.mnx), :].head()"
   ]
  },
  {
   "cell_type": "markdown",
   "id": "dc09846d-289b-4e34-ac0a-7f163dace8b1",
   "metadata": {},
   "source": [
    "The remaining metabolites cannot be easily translated; for instance, what metaquinone is mqn? We can leave it here."
   ]
  },
  {
   "cell_type": "code",
   "execution_count": 28,
   "id": "bfe98c42-ee22-4116-92df-98ca7bfa6a5f",
   "metadata": {
    "execution": {
     "iopub.execute_input": "2021-10-28T10:00:40.152455Z",
     "iopub.status.busy": "2021-10-28T10:00:40.151924Z",
     "iopub.status.idle": "2021-10-28T10:00:40.384496Z",
     "shell.execute_reply": "2021-10-28T10:00:40.383704Z",
     "shell.execute_reply.started": "2021-10-28T10:00:40.152410Z"
    }
   },
   "outputs": [],
   "source": [
    "for met in model.metabolites:\n",
    "    matched = mets_prepared[f.model_id == met.id, \"mnx\"]\n",
    "    if matched.nrows:\n",
    "        met.annotation[\"metanetx.chemical\"] = matched[0, 0]"
   ]
  },
  {
   "cell_type": "code",
   "execution_count": 29,
   "id": "04ecac02-8657-458c-b351-0f9ce0e822e5",
   "metadata": {
    "execution": {
     "iopub.execute_input": "2021-10-28T10:00:40.386163Z",
     "iopub.status.busy": "2021-10-28T10:00:40.385591Z",
     "iopub.status.idle": "2021-10-28T10:00:40.404541Z",
     "shell.execute_reply": "2021-10-28T10:00:40.403551Z",
     "shell.execute_reply.started": "2021-10-28T10:00:40.386133Z"
    }
   },
   "outputs": [
    {
     "data": {
      "text/plain": [
       "625"
      ]
     },
     "execution_count": 29,
     "metadata": {},
     "output_type": "execute_result"
    }
   ],
   "source": [
    "len([1 for reac in model.metabolites if \"metanetx.chemical\" in reac.annotation if reac.annotation[\"metanetx.chemical\"] is not None])"
   ]
  },
  {
   "cell_type": "code",
   "execution_count": 30,
   "id": "4c1558aa-2511-41c6-9bc4-778e995f23c3",
   "metadata": {
    "execution": {
     "iopub.execute_input": "2021-10-28T10:00:40.405655Z",
     "iopub.status.busy": "2021-10-28T10:00:40.405490Z",
     "iopub.status.idle": "2021-10-28T10:00:40.429190Z",
     "shell.execute_reply": "2021-10-28T10:00:40.411074Z",
     "shell.execute_reply.started": "2021-10-28T10:00:40.405634Z"
    }
   },
   "outputs": [
    {
     "data": {
      "text/plain": [
       "684"
      ]
     },
     "execution_count": 30,
     "metadata": {},
     "output_type": "execute_result"
    }
   ],
   "source": [
    "len(model.metabolites)"
   ]
  },
  {
   "cell_type": "markdown",
   "id": "308e94b0-f82f-40f9-bc31-43ca4a37361e",
   "metadata": {},
   "source": [
    "## Annotating the rest of dbs"
   ]
  },
  {
   "cell_type": "code",
   "execution_count": 31,
   "id": "6a83b660-d222-4dde-a3fc-802c5aae6147",
   "metadata": {
    "execution": {
     "iopub.execute_input": "2021-10-28T10:00:40.431858Z",
     "iopub.status.busy": "2021-10-28T10:00:40.431395Z",
     "iopub.status.idle": "2021-10-28T10:00:40.437259Z",
     "shell.execute_reply": "2021-10-28T10:00:40.436016Z",
     "shell.execute_reply.started": "2021-10-28T10:00:40.431829Z"
    }
   },
   "outputs": [],
   "source": [
    "mnx[\"db\"] = \"mnx\""
   ]
  },
  {
   "cell_type": "code",
   "execution_count": 32,
   "id": "34609fc5-8cf9-4071-a1b1-d928ce06d040",
   "metadata": {
    "execution": {
     "iopub.execute_input": "2021-10-28T10:00:40.438295Z",
     "iopub.status.busy": "2021-10-28T10:00:40.438094Z",
     "iopub.status.idle": "2021-10-28T10:00:40.443584Z",
     "shell.execute_reply": "2021-10-28T10:00:40.442699Z",
     "shell.execute_reply.started": "2021-10-28T10:00:40.438271Z"
    }
   },
   "outputs": [],
   "source": [
    "def get_id_db(id_base: str) -> (str, str):\n",
    "    id_base = id_base.split(\":\", maxsplit=1)\n",
    "    if len(id_base) > 1:\n",
    "        db, id = id_base\n",
    "    else:\n",
    "        db, id = \"mnx\", id_base[0]\n",
    "    return id, db"
   ]
  },
  {
   "cell_type": "code",
   "execution_count": 33,
   "id": "95eb8714-a0ea-41b8-93d0-c6365e5c2a08",
   "metadata": {
    "execution": {
     "iopub.execute_input": "2021-10-28T10:00:40.445056Z",
     "iopub.status.busy": "2021-10-28T10:00:40.444673Z",
     "iopub.status.idle": "2021-10-28T10:00:42.555976Z",
     "shell.execute_reply": "2021-10-28T10:00:42.555337Z",
     "shell.execute_reply.started": "2021-10-28T10:00:40.445020Z"
    }
   },
   "outputs": [],
   "source": [
    "ids_dbs = [get_id_db(mnx[i, \"key\"]) for i in range(mnx.nrows)]\n",
    "ids = [el[0] for el in ids_dbs]\n",
    "dbs = [el[1] for el in ids_dbs]\n",
    "mnx[\"key\"] = dt.Frame(ids)\n",
    "mnx[\"db\"] = dt.Frame(dbs)"
   ]
  },
  {
   "cell_type": "code",
   "execution_count": 34,
   "id": "7183fe84-a6b0-4948-83ea-83b3220cf36e",
   "metadata": {
    "execution": {
     "iopub.execute_input": "2021-10-28T10:00:42.556804Z",
     "iopub.status.busy": "2021-10-28T10:00:42.556658Z",
     "iopub.status.idle": "2021-10-28T10:00:42.560575Z",
     "shell.execute_reply": "2021-10-28T10:00:42.560029Z",
     "shell.execute_reply.started": "2021-10-28T10:00:42.556787Z"
    }
   },
   "outputs": [
    {
     "data": {
      "text/html": [
       "<div class='datatable'>\n",
       "  <table class='frame'>\n",
       "  <thead>\n",
       "    <tr class='colnames'><td class='row_index'></td><th>key</th><th>mnx</th><th>description</th><th>db</th></tr>\n",
       "    <tr class='coltypes'><td class='row_index'></td><td class='str' title='str32'>&#x25AA;&#x25AA;&#x25AA;&#x25AA;</td><td class='str' title='str32'>&#x25AA;&#x25AA;&#x25AA;&#x25AA;</td><td class='str' title='str32'>&#x25AA;&#x25AA;&#x25AA;&#x25AA;</td><td class='str' title='str32'>&#x25AA;&#x25AA;&#x25AA;&#x25AA;</td></tr>\n",
       "  </thead>\n",
       "  <tbody>\n",
       "    <tr><td class='row_index'>0</td><td>BIOMASS</td><td>BIOMASS</td><td>BIOMASS</td><td>mnx</td></tr>\n",
       "    <tr><td class='row_index'>1</td><td>BIOMASS</td><td>BIOMASS</td><td>BIOMASS</td><td>mnx</td></tr>\n",
       "    <tr><td class='row_index'>2</td><td>cpd11416</td><td>BIOMASS</td><td>Biomass</td><td>seed.compound</td></tr>\n",
       "    <tr><td class='row_index'>3</td><td>M_cpd11416</td><td>BIOMASS</td><td>secondary/obsolete/fantasy identifier</td><td>seedM</td></tr>\n",
       "    <tr><td class='row_index'>4</td><td>cpd11416</td><td>BIOMASS</td><td>Biomass</td><td>seedM</td></tr>\n",
       "    <tr><td class='row_index'>5</td><td>MNXM01</td><td>MNXM01</td><td>PMF||Translocated proton that acccounts for the Pr&#133;</td><td>mnx</td></tr>\n",
       "    <tr><td class='row_index'>6</td><td>PMF</td><td>MNXM01</td><td>PMF||Translocated proton that acccounts for the Pr&#133;</td><td>mnx</td></tr>\n",
       "    <tr><td class='row_index'>7</td><td>16234</td><td>MNXM02</td><td>hydroxide||HO-||HYDROXIDE ION||Hydroxide ion||OH(-&#133;</td><td>CHEBI</td></tr>\n",
       "    <tr><td class='row_index'>8</td><td>29356</td><td>MNXM02</td><td>oxide(2-)||O(2-)||oxide</td><td>CHEBI</td></tr>\n",
       "    <tr><td class='row_index'>9</td><td>MNXM02</td><td>MNXM02</td><td>OH(-)||hydroxyde</td><td>mnx</td></tr>\n",
       "    <tr><td class='row_index'>10</td><td>oh1</td><td>MNXM02</td><td>Hydroxide ion</td><td>bigg.metabolite</td></tr>\n",
       "    <tr><td class='row_index'>11</td><td>M_oh1</td><td>MNXM02</td><td>secondary/obsolete/fantasy identifier</td><td>biggM</td></tr>\n",
       "    <tr><td class='row_index'>12</td><td>oh1</td><td>MNXM02</td><td>Hydroxide ion</td><td>biggM</td></tr>\n",
       "    <tr><td class='row_index'>13</td><td>13365</td><td>MNXM02</td><td>secondary/obsolete/fantasy identifier</td><td>chebi</td></tr>\n",
       "    <tr><td class='row_index'>14</td><td>13419</td><td>MNXM02</td><td>secondary/obsolete/fantasy identifier</td><td>chebi</td></tr>\n",
       "    <tr><td class='row_index'>&#x22EE;</td><td class='hellipsis'>&#x22EE;</td><td class='hellipsis'>&#x22EE;</td><td class='hellipsis'>&#x22EE;</td><td class='hellipsis'>&#x22EE;</td></tr>\n",
       "    <tr><td class='row_index'>2,514,075</td><td>40</td><td>WATER</td><td>H2O||Water</td><td>sabiork.compound</td></tr>\n",
       "    <tr><td class='row_index'>2,514,076</td><td>40</td><td>WATER</td><td>H2O||Water</td><td>sabiorkM</td></tr>\n",
       "    <tr><td class='row_index'>2,514,077</td><td>cpd00001</td><td>WATER</td><td>H2O||H20||H3O+||HO-||Hydroxide ion||OH||OH-||Water&#133;</td><td>seed.compound</td></tr>\n",
       "    <tr><td class='row_index'>2,514,078</td><td>M_cpd00001</td><td>WATER</td><td>secondary/obsolete/fantasy identifier</td><td>seedM</td></tr>\n",
       "    <tr><td class='row_index'>2,514,079</td><td>cpd00001</td><td>WATER</td><td>H2O||H20||H3O+||HO-||Hydroxide ion||OH||OH-||Water&#133;</td><td>seedM</td></tr>\n",
       "  </tbody>\n",
       "  </table>\n",
       "  <div class='footer'>\n",
       "    <div class='frame_dimensions'>2,514,080 rows &times; 4 columns</div>\n",
       "  </div>\n",
       "</div>\n"
      ],
      "text/plain": [
       "<Frame#7f5ac8458c60 2514080x4>"
      ]
     },
     "execution_count": 34,
     "metadata": {},
     "output_type": "execute_result"
    }
   ],
   "source": [
    "mnx"
   ]
  },
  {
   "cell_type": "markdown",
   "id": "bb99c1d8-3cb2-4589-86c9-74bce85b031b",
   "metadata": {},
   "source": [
    "Remove the ones from metanetx."
   ]
  },
  {
   "cell_type": "code",
   "execution_count": 35,
   "id": "4790fdb0-709d-4c8f-b4aa-3cf4cfc9a6df",
   "metadata": {
    "execution": {
     "iopub.execute_input": "2021-10-28T10:00:42.561677Z",
     "iopub.status.busy": "2021-10-28T10:00:42.561414Z",
     "iopub.status.idle": "2021-10-28T10:00:42.668376Z",
     "shell.execute_reply": "2021-10-28T10:00:42.667718Z",
     "shell.execute_reply.started": "2021-10-28T10:00:42.561650Z"
    }
   },
   "outputs": [],
   "source": [
    "mnx = mnx[f.db != \"mnx\", :]"
   ]
  },
  {
   "cell_type": "code",
   "execution_count": 37,
   "id": "1b49b4ac-85ee-4cfe-9ea5-759c1fce9618",
   "metadata": {
    "execution": {
     "iopub.execute_input": "2021-10-28T10:01:05.477800Z",
     "iopub.status.busy": "2021-10-28T10:01:05.477372Z",
     "iopub.status.idle": "2021-10-28T10:02:03.362678Z",
     "shell.execute_reply": "2021-10-28T10:02:03.362031Z",
     "shell.execute_reply.started": "2021-10-28T10:01:05.477752Z"
    },
    "tags": []
   },
   "outputs": [],
   "source": [
    "for met in model.metabolites:\n",
    "    kv = mnx[f.mnx == met.annotation[\"metanetx.chemical\"], [\"key\", \"db\"]].to_list()\n",
    "    data_dict = defaultdict(list)\n",
    "    for k, v in zip(kv[1], kv[0]):\n",
    "        data_dict[k].append(v)\n",
    "    if met.annotation[\"metanetx.chemical\"]:\n",
    "        data_dict[\"metanetx.chemical\"] = met.annotation[\"metanetx.chemical\"]\n",
    "    if \"kegg.compound\" in met.annotation:\n",
    "        data_dict[\"kegg.compound\"] = met.annotation[\"kegg.compound\"]\n",
    "    for k, v in data_dict.items():\n",
    "        data_dict[k] = v if len(v) > 1 else v[0]\n",
    "    met.annotation = data_dict"
   ]
  },
  {
   "cell_type": "code",
   "execution_count": 38,
   "id": "42c32758-2fe5-4188-ba67-12c7fdcb0971",
   "metadata": {
    "execution": {
     "iopub.execute_input": "2021-10-28T10:02:03.364312Z",
     "iopub.status.busy": "2021-10-28T10:02:03.364006Z",
     "iopub.status.idle": "2021-10-28T10:02:03.725597Z",
     "shell.execute_reply": "2021-10-28T10:02:03.724908Z",
     "shell.execute_reply.started": "2021-10-28T10:02:03.364286Z"
    },
    "tags": []
   },
   "outputs": [],
   "source": [
    "dbs = dt.unique(mnx[\"db\"]).to_list()[0]"
   ]
  },
  {
   "cell_type": "code",
   "execution_count": 39,
   "id": "5583850e-9841-4219-b312-aaadb30aac98",
   "metadata": {
    "execution": {
     "iopub.execute_input": "2021-10-28T10:02:03.727010Z",
     "iopub.status.busy": "2021-10-28T10:02:03.726752Z",
     "iopub.status.idle": "2021-10-28T10:02:03.744014Z",
     "shell.execute_reply": "2021-10-28T10:02:03.743475Z",
     "shell.execute_reply.started": "2021-10-28T10:02:03.726984Z"
    },
    "tags": []
   },
   "outputs": [
    {
     "data": {
      "text/plain": [
       "['CHEBI',\n",
       " 'SLM',\n",
       " 'bigg.metabolite',\n",
       " 'biggM',\n",
       " 'chebi',\n",
       " 'envipath',\n",
       " 'envipathM',\n",
       " 'hmdb',\n",
       " 'kegg.compound',\n",
       " 'kegg.drug',\n",
       " 'kegg.glycan',\n",
       " 'keggC',\n",
       " 'keggD',\n",
       " 'keggG',\n",
       " 'lipidmaps',\n",
       " 'lipidmapsM',\n",
       " 'metacyc.compound',\n",
       " 'metacycM',\n",
       " 'reactome',\n",
       " 'reactomeM',\n",
       " 'rheaG',\n",
       " 'rheaP',\n",
       " 'sabiork.compound',\n",
       " 'sabiorkM',\n",
       " 'seed.compound',\n",
       " 'seedM',\n",
       " 'slm']"
      ]
     },
     "execution_count": 39,
     "metadata": {},
     "output_type": "execute_result"
    }
   ],
   "source": [
    "dbs"
   ]
  },
  {
   "cell_type": "code",
   "execution_count": 40,
   "id": "7010a8bd-3fd5-4292-9967-8b7a5ac287a0",
   "metadata": {
    "execution": {
     "iopub.execute_input": "2021-10-28T10:02:03.745800Z",
     "iopub.status.busy": "2021-10-28T10:02:03.745577Z",
     "iopub.status.idle": "2021-10-28T10:02:03.761331Z",
     "shell.execute_reply": "2021-10-28T10:02:03.760569Z",
     "shell.execute_reply.started": "2021-10-28T10:02:03.745774Z"
    },
    "tags": []
   },
   "outputs": [
    {
     "name": "stdout",
     "output_type": "stream",
     "text": [
      "CHEBI annotated: 490\n",
      "SLM annotated: 19\n",
      "bigg.metabolite annotated: 625\n",
      "biggM annotated: 625\n",
      "chebi annotated: 490\n",
      "envipath annotated: 109\n",
      "envipathM annotated: 109\n",
      "hmdb annotated: 380\n",
      "kegg.compound annotated: 593\n",
      "kegg.drug annotated: 94\n",
      "kegg.glycan annotated: 2\n",
      "keggC annotated: 476\n",
      "keggD annotated: 94\n",
      "keggG annotated: 2\n",
      "lipidmaps annotated: 47\n",
      "lipidmapsM annotated: 47\n",
      "metacyc.compound annotated: 488\n",
      "metacycM annotated: 488\n",
      "reactome annotated: 307\n",
      "reactomeM annotated: 307\n",
      "rheaG annotated: 18\n",
      "rheaP annotated: 0\n",
      "sabiork.compound annotated: 433\n",
      "sabiorkM annotated: 433\n",
      "seed.compound annotated: 541\n",
      "seedM annotated: 541\n",
      "slm annotated: 19\n"
     ]
    }
   ],
   "source": [
    "for db in dbs:\n",
    "    print(\n",
    "        f\"{db} annotated: {len([1 for met in model.metabolites if db in met.annotation])}\"\n",
    "    )"
   ]
  },
  {
   "cell_type": "code",
   "execution_count": 41,
   "id": "d004f9c3-272b-4dd9-a496-85c393d2d82e",
   "metadata": {
    "execution": {
     "iopub.execute_input": "2021-10-28T10:02:03.762871Z",
     "iopub.status.busy": "2021-10-28T10:02:03.762230Z",
     "iopub.status.idle": "2021-10-28T10:02:03.768408Z",
     "shell.execute_reply": "2021-10-28T10:02:03.767525Z",
     "shell.execute_reply.started": "2021-10-28T10:02:03.762835Z"
    },
    "tags": []
   },
   "outputs": [
    {
     "data": {
      "text/plain": [
       "625"
      ]
     },
     "execution_count": 41,
     "metadata": {},
     "output_type": "execute_result"
    }
   ],
   "source": [
    "sum(1 for met in model.metabolites if \"metanetx.chemical\" in met.annotation)"
   ]
  },
  {
   "cell_type": "code",
   "execution_count": 42,
   "id": "8560ea85-7e57-4afc-a9ac-7e640aa0e893",
   "metadata": {
    "execution": {
     "iopub.execute_input": "2021-10-28T10:02:03.769591Z",
     "iopub.status.busy": "2021-10-28T10:02:03.769384Z",
     "iopub.status.idle": "2021-10-28T10:02:03.775081Z",
     "shell.execute_reply": "2021-10-28T10:02:03.774465Z",
     "shell.execute_reply.started": "2021-10-28T10:02:03.769567Z"
    },
    "tags": []
   },
   "outputs": [],
   "source": [
    "for met in model.metabolites:\n",
    "    if met.annotation is None:\n",
    "        met.annotation == {}\n",
    "    to_del = [k for k, v in met.annotation.items() if v is None]\n",
    "    for k in to_del:\n",
    "        del met.annotation[k]"
   ]
  },
  {
   "cell_type": "markdown",
   "id": "32ceb894-5795-4578-a84f-ff851d0551e0",
   "metadata": {
    "tags": []
   },
   "source": [
    "## SBO terms"
   ]
  },
  {
   "cell_type": "markdown",
   "id": "cebd4e96-d667-4a86-9c95-3fdeefee4a4c",
   "metadata": {},
   "source": [
    "Every metabolite should be annotated with \"SBO:0000247\"."
   ]
  },
  {
   "cell_type": "code",
   "execution_count": 43,
   "id": "d8b6c463-39d8-4f89-bbe0-1a9bf31e588e",
   "metadata": {
    "execution": {
     "iopub.execute_input": "2021-10-28T10:02:28.840075Z",
     "iopub.status.busy": "2021-10-28T10:02:28.839658Z",
     "iopub.status.idle": "2021-10-28T10:02:28.846364Z",
     "shell.execute_reply": "2021-10-28T10:02:28.845265Z",
     "shell.execute_reply.started": "2021-10-28T10:02:28.840027Z"
    },
    "tags": []
   },
   "outputs": [],
   "source": [
    "for met in model.metabolites:\n",
    "    met.annotation[\"sbo\"] = \"SBO:0000247\""
   ]
  },
  {
   "cell_type": "code",
   "execution_count": 44,
   "id": "78a31eb0-104f-4c4d-b39b-436d4cf4b994",
   "metadata": {
    "execution": {
     "iopub.execute_input": "2021-10-28T10:03:11.893803Z",
     "iopub.status.busy": "2021-10-28T10:03:11.893382Z",
     "iopub.status.idle": "2021-10-28T10:03:12.735755Z",
     "shell.execute_reply": "2021-10-28T10:03:12.735123Z",
     "shell.execute_reply.started": "2021-10-28T10:03:11.893755Z"
    },
    "tags": []
   },
   "outputs": [],
   "source": [
    "cobra.io.write_sbml_model(model, model_file)"
   ]
  }
 ],
 "metadata": {
  "kernelspec": {
   "display_name": "memote",
   "language": "python",
   "name": "memote"
  },
  "language_info": {
   "codemirror_mode": {
    "name": "ipython",
    "version": 3
   },
   "file_extension": ".py",
   "mimetype": "text/x-python",
   "name": "python",
   "nbconvert_exporter": "python",
   "pygments_lexer": "ipython3",
   "version": "3.9.7"
  }
 },
 "nbformat": 4,
 "nbformat_minor": 5
}
