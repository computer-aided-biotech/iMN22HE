{
 "cells": [
  {
   "cell_type": "markdown",
   "id": "5156e025-5f1b-447f-a0d3-4cceae0c39ab",
   "metadata": {},
   "source": [
    "# EC number from EXCEL file\n",
    "We have information about the EC numbers so we may as well add it to the model."
   ]
  },
  {
   "cell_type": "code",
   "execution_count": 1,
   "id": "a3e91dfe-af17-453a-917f-1f5ff6628978",
   "metadata": {
    "execution": {
     "iopub.execute_input": "2021-10-28T11:58:56.002298Z",
     "iopub.status.busy": "2021-10-28T11:58:56.001946Z",
     "iopub.status.idle": "2021-10-28T11:58:56.794254Z",
     "shell.execute_reply": "2021-10-28T11:58:56.793686Z",
     "shell.execute_reply.started": "2021-10-28T11:58:56.002222Z"
    },
    "tags": []
   },
   "outputs": [
    {
     "data": {
      "text/html": [
       "<style type='text/css'>\n",
       ".datatable table.frame { margin-bottom: 0; }\n",
       ".datatable table.frame thead { border-bottom: none; }\n",
       ".datatable table.frame tr.coltypes td {  color: #FFFFFF;  line-height: 6px;  padding: 0 0.5em;}\n",
       ".datatable .bool    { background: #DDDD99; }\n",
       ".datatable .object  { background: #565656; }\n",
       ".datatable .int     { background: #5D9E5D; }\n",
       ".datatable .float   { background: #4040CC; }\n",
       ".datatable .str     { background: #CC4040; }\n",
       ".datatable .time    { background: #40CC40; }\n",
       ".datatable .row_index {  background: var(--jp-border-color3);  border-right: 1px solid var(--jp-border-color0);  color: var(--jp-ui-font-color3);  font-size: 9px;}\n",
       ".datatable .frame tbody td { text-align: left; }\n",
       ".datatable .frame tr.coltypes .row_index {  background: var(--jp-border-color0);}\n",
       ".datatable th:nth-child(2) { padding-left: 12px; }\n",
       ".datatable .hellipsis {  color: var(--jp-cell-editor-border-color);}\n",
       ".datatable .vellipsis {  background: var(--jp-layout-color0);  color: var(--jp-cell-editor-border-color);}\n",
       ".datatable .na {  color: var(--jp-cell-editor-border-color);  font-size: 80%;}\n",
       ".datatable .sp {  opacity: 0.25;}\n",
       ".datatable .footer { font-size: 9px; }\n",
       ".datatable .frame_dimensions {  background: var(--jp-border-color3);  border-top: 1px solid var(--jp-border-color0);  color: var(--jp-ui-font-color3);  display: inline-block;  opacity: 0.6;  padding: 1px 10px 1px 5px;}\n",
       "</style>\n"
      ],
      "text/plain": [
       "<IPython.core.display.HTML object>"
      ]
     },
     "metadata": {},
     "output_type": "display_data"
    }
   ],
   "source": [
    "from collections import defaultdict\n",
    "from pathlib import Path\n",
    "\n",
    "import cobra\n",
    "import re\n",
    "from datatable import dt, f, join, update"
   ]
  },
  {
   "cell_type": "code",
   "execution_count": 2,
   "id": "f5cea256-47e0-457d-9128-a306bd49a298",
   "metadata": {
    "execution": {
     "iopub.execute_input": "2021-10-28T11:58:58.623351Z",
     "iopub.status.busy": "2021-10-28T11:58:58.623019Z",
     "iopub.status.idle": "2021-10-28T11:58:58.628189Z",
     "shell.execute_reply": "2021-10-28T11:58:58.627164Z",
     "shell.execute_reply.started": "2021-10-28T11:58:58.623316Z"
    },
    "tags": []
   },
   "outputs": [],
   "source": [
    "ROOT = Path.cwd().parent\n",
    "model_file = str(ROOT / \"iMENI452.xml\")"
   ]
  },
  {
   "cell_type": "code",
   "execution_count": 3,
   "id": "627a404b-2fa5-482b-a5b3-46bec707c123",
   "metadata": {
    "execution": {
     "iopub.execute_input": "2021-10-28T11:58:59.440535Z",
     "iopub.status.busy": "2021-10-28T11:58:59.439389Z",
     "iopub.status.idle": "2021-10-28T11:59:00.712706Z",
     "shell.execute_reply": "2021-10-28T11:59:00.712182Z",
     "shell.execute_reply.started": "2021-10-28T11:58:59.440448Z"
    },
    "tags": []
   },
   "outputs": [
    {
     "name": "stdout",
     "output_type": "stream",
     "text": [
      "Scaling...\n",
      " A: min|aij| =  1.000e+00  max|aij| =  1.000e+00  ratio =  1.000e+00\n",
      "Problem data seem to be well scaled\n"
     ]
    }
   ],
   "source": [
    "model = cobra.io.read_sbml_model(model_file)"
   ]
  },
  {
   "cell_type": "code",
   "execution_count": 11,
   "id": "4bc94974-341a-4961-9351-84756dba0414",
   "metadata": {
    "execution": {
     "iopub.execute_input": "2021-10-28T12:49:34.819000Z",
     "iopub.status.busy": "2021-10-28T12:49:34.818563Z",
     "iopub.status.idle": "2021-10-28T12:49:34.826879Z",
     "shell.execute_reply": "2021-10-28T12:49:34.826013Z",
     "shell.execute_reply.started": "2021-10-28T12:49:34.818947Z"
    },
    "tags": []
   },
   "outputs": [],
   "source": [
    "model_xls = dt.fread(ROOT / \"M.nitroredencesGEM.tsv\")"
   ]
  },
  {
   "cell_type": "code",
   "execution_count": 12,
   "id": "658b931b-913c-451d-b0e6-13f978dc7691",
   "metadata": {
    "execution": {
     "iopub.execute_input": "2021-10-28T12:49:40.485129Z",
     "iopub.status.busy": "2021-10-28T12:49:40.484428Z",
     "iopub.status.idle": "2021-10-28T12:49:40.500328Z",
     "shell.execute_reply": "2021-10-28T12:49:40.498234Z",
     "shell.execute_reply.started": "2021-10-28T12:49:40.485050Z"
    },
    "tags": []
   },
   "outputs": [
    {
     "data": {
      "text/html": [
       "<div class='datatable'>\n",
       "  <table class='frame'>\n",
       "  <thead>\n",
       "    <tr class='colnames'><td class='row_index'></td><th>Abbreviation</th><th>Description</th><th>Reaction</th><th>EC-Number</th><th>GPR</th><th>Gene</th><th>Subsystem</th><th>Reversible</th><th>Lower bound</th><th>Upper bound</th><th>Objective</th></tr>\n",
       "    <tr class='coltypes'><td class='row_index'></td><td class='str' title='str32'>&#x25AA;&#x25AA;&#x25AA;&#x25AA;</td><td class='str' title='str32'>&#x25AA;&#x25AA;&#x25AA;&#x25AA;</td><td class='str' title='str32'>&#x25AA;&#x25AA;&#x25AA;&#x25AA;</td><td class='str' title='str32'>&#x25AA;&#x25AA;&#x25AA;&#x25AA;</td><td class='str' title='str32'>&#x25AA;&#x25AA;&#x25AA;&#x25AA;</td><td class='str' title='str32'>&#x25AA;&#x25AA;&#x25AA;&#x25AA;</td><td class='str' title='str32'>&#x25AA;&#x25AA;&#x25AA;&#x25AA;</td><td class='bool' title='bool8'>&#x25AA;</td><td class='int' title='int32'>&#x25AA;&#x25AA;&#x25AA;&#x25AA;</td><td class='int' title='int32'>&#x25AA;&#x25AA;&#x25AA;&#x25AA;</td><td class='bool' title='bool8'>&#x25AA;</td></tr>\n",
       "  </thead>\n",
       "  <tbody>\n",
       "    <tr><td class='row_index'>0</td><td>R00396</td><td>L-Alanine:NAD+ oxidoreductase (deaminating)_c0</td><td>ala-L[c] + nad[c] + h2o[c] &lt;=&gt; pyr[c] + nh4[c] + n&#133;</td><td>EC-1.4.1.1</td><td>ANME2D_RS14405</td><td>ANME2D_RS14405</td><td>Alanine and Aspartate Metabolism</td><td>1</td><td>&minus;1000</td><td>1000</td><td>0</td></tr>\n",
       "    <tr><td class='row_index'>1</td><td>ASPTA</td><td>aspartate transaminase</td><td>glu-L[c] + oaa[c] &lt;=&gt; akg[c] + asp-L[c]</td><td>EC-2.6.1.1</td><td>ANME2D_RS08380 or ANME2D_RS05600 or ANME2D_RS07885&#133;</td><td>ANME2D_RS08380   ANME2D_RS05600   ANME2D_RS07885  &#133;</td><td>Alanine and Aspartate Metabolism</td><td>1</td><td>&minus;1000</td><td>1000</td><td>0</td></tr>\n",
       "    <tr><td class='row_index'>2</td><td>ARGSS</td><td>argininosuccinate synthase</td><td>asp-L[c] + atp[c] + citr-L[c] &lt;=&gt; amp[c] + argsuc[&#133;</td><td>EC-6.3.4.5</td><td>ANME2D_RS05565</td><td>ANME2D_RS05565</td><td>Alanine and Aspartate Metabolism</td><td>1</td><td>&minus;1000</td><td>1000</td><td>0</td></tr>\n",
       "    <tr><td class='row_index'>3</td><td>ARGSL</td><td>argininosuccinate lyase</td><td>argsuc[c] &lt;=&gt; arg-L[c] + fum[c]</td><td>EC-4.3.2.1</td><td>ANME2D_RS01360</td><td>ANME2D_RS01360</td><td>Alanine and Aspartate Metabolism</td><td>1</td><td>&minus;1000</td><td>1000</td><td>0</td></tr>\n",
       "    <tr><td class='row_index'>4</td><td>ADSS</td><td>adenylosuccinate synthase</td><td>asp-L[c] + gtp[c] + imp[c] &lt;=&gt; dcamp[c] + gdp[c] +&#133;</td><td>EC-6.3.4.4</td><td>ANME2D_RS03615</td><td>ANME2D_RS03615</td><td>Alanine and Aspartate Metabolism</td><td>1</td><td>&minus;1000</td><td>1000</td><td>0</td></tr>\n",
       "    <tr><td class='row_index'>5</td><td>ADSL1</td><td>adenylosuccinate lyase</td><td>dcamp[c] &lt;=&gt; amp[c] + fum[c]</td><td>EC-4.3.2.2</td><td>ANME2D_RS00280</td><td>ANME2D_RS00280</td><td>Alanine and Aspartate Metabolism</td><td>1</td><td>&minus;1000</td><td>1000</td><td>0</td></tr>\n",
       "    <tr><td class='row_index'>6</td><td>R00490</td><td>L-Aspartate ammonia-lyase</td><td>asp-L[c] &lt;=&gt; nh4[c] + fum[c]</td><td>EC-4.3.1.1</td><td>ANME2D_RS00300</td><td>ANME2D_RS00300</td><td>Alanine and Aspartate Metabolism</td><td>1</td><td>&minus;1000</td><td>1000</td><td>0</td></tr>\n",
       "    <tr><td class='row_index'>7</td><td>ASPCT</td><td>aspartate carbamoyltransferase</td><td>asp-L[c] + cbp[c] &lt;=&gt; cbasp[c] + h[c] + pi[c]</td><td>EC-2.1.3.2</td><td>ANME2D_RS01840 or ANME2D_RS01835</td><td>ANME2D_RS01840   ANME2D_RS01835</td><td>Alanine and Aspartate Metabolism</td><td>1</td><td>&minus;1000</td><td>1000</td><td>0</td></tr>\n",
       "    <tr><td class='row_index'>8</td><td>ASP1DC</td><td>aspartate 1 decarboxylase</td><td>asp-L[c] + h[c] &lt;=&gt; ala-B[c] + co2[c]</td><td>EC-4.1.1.11</td><td></td><td></td><td>Alanine and Aspartate Metabolism</td><td>1</td><td>&minus;1000</td><td>1000</td><td>0</td></tr>\n",
       "    <tr><td class='row_index'>9</td><td>ALATRS</td><td>Alanyl tRNA synthetase</td><td>ala-L[c] + atp[c] + trnaala[c] -&gt; alatrna[c] + amp&#133;</td><td>EC-6.1.1.7</td><td>ANME2D_RS12400</td><td>ANME2D_RS12400</td><td>Alanine and Aspartate Metabolism/Aminoacyl-tRNA bi&#133;</td><td>0</td><td>0</td><td>1000</td><td>0</td></tr>\n",
       "  </tbody>\n",
       "  </table>\n",
       "  <div class='footer'>\n",
       "    <div class='frame_dimensions'>10 rows &times; 11 columns</div>\n",
       "  </div>\n",
       "</div>\n"
      ],
      "text/plain": [
       "<Frame#7f59c2d92300 10x11>"
      ]
     },
     "execution_count": 12,
     "metadata": {},
     "output_type": "execute_result"
    }
   ],
   "source": [
    "model_xls.head()"
   ]
  },
  {
   "cell_type": "code",
   "execution_count": 14,
   "id": "1842c693-6521-4e45-8c06-debbdcdd69e2",
   "metadata": {
    "execution": {
     "iopub.execute_input": "2021-10-28T12:52:12.652316Z",
     "iopub.status.busy": "2021-10-28T12:52:12.651741Z",
     "iopub.status.idle": "2021-10-28T12:52:12.794970Z",
     "shell.execute_reply": "2021-10-28T12:52:12.794554Z",
     "shell.execute_reply.started": "2021-10-28T12:52:12.652250Z"
    },
    "tags": []
   },
   "outputs": [],
   "source": [
    "for reac in model.reactions:\n",
    "    matched = model_xls[f.Abbreviation == reac.id, \"EC-Number\"]\n",
    "    if matched.nrows:\n",
    "        matched = matched[0, 0]\n",
    "        if matched:\n",
    "            reac.annotation[\"ec-code\"] = matched"
   ]
  },
  {
   "cell_type": "code",
   "execution_count": 20,
   "id": "0431996f-09dc-4235-b891-9c8ff5e8394b",
   "metadata": {
    "execution": {
     "iopub.execute_input": "2021-10-28T12:53:05.253215Z",
     "iopub.status.busy": "2021-10-28T12:53:05.252965Z",
     "iopub.status.idle": "2021-10-28T12:53:05.257803Z",
     "shell.execute_reply": "2021-10-28T12:53:05.257338Z",
     "shell.execute_reply.started": "2021-10-28T12:53:05.253193Z"
    },
    "tags": []
   },
   "outputs": [
    {
     "data": {
      "text/plain": [
       "789"
      ]
     },
     "execution_count": 20,
     "metadata": {},
     "output_type": "execute_result"
    }
   ],
   "source": [
    "len({reac for reac in model.reactions if \"ec-code\" in reac.annotation})"
   ]
  },
  {
   "cell_type": "code",
   "execution_count": 19,
   "id": "cbd132b8-1dfa-4e68-9ea3-ba999fbf8729",
   "metadata": {
    "execution": {
     "iopub.execute_input": "2021-10-28T12:53:02.916654Z",
     "iopub.status.busy": "2021-10-28T12:53:02.915939Z",
     "iopub.status.idle": "2021-10-28T12:53:02.928035Z",
     "shell.execute_reply": "2021-10-28T12:53:02.926348Z",
     "shell.execute_reply.started": "2021-10-28T12:53:02.916583Z"
    },
    "tags": []
   },
   "outputs": [
    {
     "data": {
      "text/plain": [
       "813"
      ]
     },
     "execution_count": 19,
     "metadata": {},
     "output_type": "execute_result"
    }
   ],
   "source": [
    "len(model.reactions)"
   ]
  },
  {
   "cell_type": "code",
   "execution_count": 22,
   "id": "2fc36fdd-5024-475f-853b-595481cb81e6",
   "metadata": {
    "execution": {
     "iopub.execute_input": "2021-10-28T12:56:50.146341Z",
     "iopub.status.busy": "2021-10-28T12:56:50.145546Z",
     "iopub.status.idle": "2021-10-28T12:56:50.159252Z",
     "shell.execute_reply": "2021-10-28T12:56:50.157737Z",
     "shell.execute_reply.started": "2021-10-28T12:56:50.146245Z"
    },
    "tags": []
   },
   "outputs": [],
   "source": [
    "for reac in model.reactions:\n",
    "    if \"ec-code\" in reac.annotation:\n",
    "        if reac.annotation[\"ec-code\"] is None:\n",
    "            del reac.annotation[\"ec-code\"]"
   ]
  },
  {
   "cell_type": "code",
   "execution_count": 24,
   "id": "73917f97-4e61-49a7-9b2e-7881d2b0befd",
   "metadata": {
    "execution": {
     "iopub.execute_input": "2021-10-28T12:56:58.742706Z",
     "iopub.status.busy": "2021-10-28T12:56:58.741768Z",
     "iopub.status.idle": "2021-10-28T12:56:58.753090Z",
     "shell.execute_reply": "2021-10-28T12:56:58.752305Z",
     "shell.execute_reply.started": "2021-10-28T12:56:58.742593Z"
    },
    "tags": []
   },
   "outputs": [
    {
     "data": {
      "text/plain": [
       "789"
      ]
     },
     "execution_count": 24,
     "metadata": {},
     "output_type": "execute_result"
    }
   ],
   "source": [
    "len({reac for reac in model.reactions if \"ec-code\" in reac.annotation})"
   ]
  },
  {
   "cell_type": "code",
   "execution_count": 26,
   "id": "5c0b51f9-bec9-4a72-b206-e117cd19a9c6",
   "metadata": {
    "execution": {
     "iopub.execute_input": "2021-10-28T12:58:44.142957Z",
     "iopub.status.busy": "2021-10-28T12:58:44.142535Z",
     "iopub.status.idle": "2021-10-28T12:58:44.150370Z",
     "shell.execute_reply": "2021-10-28T12:58:44.149492Z",
     "shell.execute_reply.started": "2021-10-28T12:58:44.142916Z"
    },
    "tags": []
   },
   "outputs": [
    {
     "data": {
      "text/plain": [
       "449"
      ]
     },
     "execution_count": 26,
     "metadata": {},
     "output_type": "execute_result"
    }
   ],
   "source": [
    "len({reac for reac in model.reactions if \"ec-code\" in reac.annotation if reac.annotation[\"ec-code\"] != \"\"})"
   ]
  },
  {
   "cell_type": "code",
   "execution_count": 23,
   "id": "fb504d90-580f-4173-a2ce-6f8f2af2c5ad",
   "metadata": {
    "execution": {
     "iopub.execute_input": "2021-10-28T12:56:51.228512Z",
     "iopub.status.busy": "2021-10-28T12:56:51.227834Z",
     "iopub.status.idle": "2021-10-28T12:56:52.026848Z",
     "shell.execute_reply": "2021-10-28T12:56:52.026277Z",
     "shell.execute_reply.started": "2021-10-28T12:56:51.228455Z"
    },
    "tags": []
   },
   "outputs": [],
   "source": [
    "cobra.io.write_sbml_model(model, model_file)"
   ]
  }
 ],
 "metadata": {
  "kernelspec": {
   "display_name": "memote",
   "language": "python",
   "name": "memote"
  },
  "language_info": {
   "codemirror_mode": {
    "name": "ipython",
    "version": 3
   },
   "file_extension": ".py",
   "mimetype": "text/x-python",
   "name": "python",
   "nbconvert_exporter": "python",
   "pygments_lexer": "ipython3",
   "version": "3.9.7"
  }
 },
 "nbformat": 4,
 "nbformat_minor": 5
}
