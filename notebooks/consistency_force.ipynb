{
 "cells": [
  {
   "cell_type": "markdown",
   "id": "ec179887-e995-40db-a9f7-63e8e6b0ab76",
   "metadata": {},
   "source": [
    "# Consistency\n",
    "Memote is reporting inconsistent stoichiometry. "
   ]
  },
  {
   "cell_type": "code",
   "execution_count": 1,
   "id": "8f90b91c-6478-4163-98ab-f95bef81d71a",
   "metadata": {
    "execution": {
     "iopub.execute_input": "2021-10-28T15:19:25.143793Z",
     "iopub.status.busy": "2021-10-28T15:19:25.142952Z",
     "iopub.status.idle": "2021-10-28T15:19:26.005296Z",
     "shell.execute_reply": "2021-10-28T15:19:26.004869Z",
     "shell.execute_reply.started": "2021-10-28T15:19:25.143581Z"
    },
    "tags": []
   },
   "outputs": [
    {
     "data": {
      "text/html": [
       "<style type='text/css'>\n",
       ".datatable table.frame { margin-bottom: 0; }\n",
       ".datatable table.frame thead { border-bottom: none; }\n",
       ".datatable table.frame tr.coltypes td {  color: #FFFFFF;  line-height: 6px;  padding: 0 0.5em;}\n",
       ".datatable .bool    { background: #DDDD99; }\n",
       ".datatable .object  { background: #565656; }\n",
       ".datatable .int     { background: #5D9E5D; }\n",
       ".datatable .float   { background: #4040CC; }\n",
       ".datatable .str     { background: #CC4040; }\n",
       ".datatable .time    { background: #40CC40; }\n",
       ".datatable .row_index {  background: var(--jp-border-color3);  border-right: 1px solid var(--jp-border-color0);  color: var(--jp-ui-font-color3);  font-size: 9px;}\n",
       ".datatable .frame tbody td { text-align: left; }\n",
       ".datatable .frame tr.coltypes .row_index {  background: var(--jp-border-color0);}\n",
       ".datatable th:nth-child(2) { padding-left: 12px; }\n",
       ".datatable .hellipsis {  color: var(--jp-cell-editor-border-color);}\n",
       ".datatable .vellipsis {  background: var(--jp-layout-color0);  color: var(--jp-cell-editor-border-color);}\n",
       ".datatable .na {  color: var(--jp-cell-editor-border-color);  font-size: 80%;}\n",
       ".datatable .sp {  opacity: 0.25;}\n",
       ".datatable .footer { font-size: 9px; }\n",
       ".datatable .frame_dimensions {  background: var(--jp-border-color3);  border-top: 1px solid var(--jp-border-color0);  color: var(--jp-ui-font-color3);  display: inline-block;  opacity: 0.6;  padding: 1px 10px 1px 5px;}\n",
       "</style>\n"
      ],
      "text/plain": [
       "<IPython.core.display.HTML object>"
      ]
     },
     "metadata": {},
     "output_type": "display_data"
    }
   ],
   "source": [
    "import re\n",
    "from collections import defaultdict\n",
    "from functools import reduce\n",
    "from pathlib import Path\n",
    "\n",
    "import cobra\n",
    "from datatable import dt, f, join, update"
   ]
  },
  {
   "cell_type": "code",
   "execution_count": 2,
   "id": "00c202f6-4366-4f45-b7f6-a850c7d339af",
   "metadata": {
    "execution": {
     "iopub.execute_input": "2021-10-28T15:19:26.006115Z",
     "iopub.status.busy": "2021-10-28T15:19:26.005912Z",
     "iopub.status.idle": "2021-10-28T15:19:26.009010Z",
     "shell.execute_reply": "2021-10-28T15:19:26.008501Z",
     "shell.execute_reply.started": "2021-10-28T15:19:26.006095Z"
    },
    "tags": []
   },
   "outputs": [],
   "source": [
    "ROOT = Path.cwd().parent\n",
    "model_file = str(ROOT / \"iMENI452.xml\")"
   ]
  },
  {
   "cell_type": "code",
   "execution_count": 3,
   "id": "b549d475-7881-421e-9c10-529e19b44710",
   "metadata": {
    "execution": {
     "iopub.execute_input": "2021-10-28T15:19:26.009823Z",
     "iopub.status.busy": "2021-10-28T15:19:26.009641Z",
     "iopub.status.idle": "2021-10-28T15:19:27.261887Z",
     "shell.execute_reply": "2021-10-28T15:19:27.261194Z",
     "shell.execute_reply.started": "2021-10-28T15:19:26.009798Z"
    },
    "tags": []
   },
   "outputs": [
    {
     "name": "stdout",
     "output_type": "stream",
     "text": [
      "Scaling...\n",
      " A: min|aij| =  1.000e+00  max|aij| =  1.000e+00  ratio =  1.000e+00\n",
      "Problem data seem to be well scaled\n"
     ]
    }
   ],
   "source": [
    "model = cobra.io.read_sbml_model(model_file)"
   ]
  },
  {
   "cell_type": "markdown",
   "id": "6892b699-7093-4d6a-8b14-83b8bf8e9e01",
   "metadata": {},
   "source": [
    "These are the mass-imbalanced reactions according to memote:"
   ]
  },
  {
   "cell_type": "code",
   "execution_count": 4,
   "id": "d1a11202-ee3d-4f5a-84af-f1d78b6d3ed8",
   "metadata": {
    "execution": {
     "iopub.execute_input": "2021-10-28T15:19:27.263695Z",
     "iopub.status.busy": "2021-10-28T15:19:27.263439Z",
     "iopub.status.idle": "2021-10-28T15:19:27.268498Z",
     "shell.execute_reply": "2021-10-28T15:19:27.267730Z",
     "shell.execute_reply.started": "2021-10-28T15:19:27.263671Z"
    },
    "tags": []
   },
   "outputs": [],
   "source": [
    "imbalanced = [\n",
    "    \"GHMT2\",\n",
    "    \"MTHFC\",\n",
    "    \"ASPO2x\",\n",
    "    \"ASPO2y\",\n",
    "    \"MOHMT\",\n",
    "    \"R03276\",\n",
    "    \"ECH\",\n",
    "    \"CF3Ha\",\n",
    "    \"CF3Sa\",\n",
    "    \"CF3Hg\",\n",
    "    \"PEP_guanylytransferase\",\n",
    "    \"AKP1\",\n",
    "    \"CF3Sg\",\n",
    "    \"EPPG:Fo_PEP_transferase\",\n",
    "    \"GF4GL_2\",\n",
    "    \"PHAJ\",\n",
    "    \"3HBt\",\n",
    "    \"HDR-2\",\n",
    "    \"H4MPTS9\",\n",
    "    \"DNMPPA\",\n",
    "    \"GF4GL_1\",\n",
    "    \"METS\",\n",
    "    \"QFO\",\n",
    "    \"HDR\",\n",
    "    \"DHNPA2\",\n",
    "    \"DHFR\",\n",
    "    \"SULR2\",\n",
    "    \"NRF\",\n",
    "    \"FQO\",\n",
    "    \"SDH\",\n",
    "    \"F4H2O\",\n",
    "    \"H2MPTR\",\n",
    "    \"PROD3\",\n",
    "    \"GLUS_F420\",\n",
    "]"
   ]
  },
  {
   "cell_type": "code",
   "execution_count": 5,
   "id": "48519e39-d97d-42c4-be17-1adbf8e08772",
   "metadata": {
    "execution": {
     "iopub.execute_input": "2021-10-28T15:19:27.269693Z",
     "iopub.status.busy": "2021-10-28T15:19:27.269381Z",
     "iopub.status.idle": "2021-10-28T15:19:27.275380Z",
     "shell.execute_reply": "2021-10-28T15:19:27.274713Z",
     "shell.execute_reply.started": "2021-10-28T15:19:27.269665Z"
    },
    "tags": []
   },
   "outputs": [
    {
     "data": {
      "text/plain": [
       "34"
      ]
     },
     "execution_count": 5,
     "metadata": {},
     "output_type": "execute_result"
    }
   ],
   "source": [
    "len(imbalanced)"
   ]
  },
  {
   "cell_type": "markdown",
   "id": "f2190923-a1cc-4161-b85b-6884bb7bc689",
   "metadata": {},
   "source": [
    "Rule out reactions with missing formulas for now."
   ]
  },
  {
   "cell_type": "code",
   "execution_count": 6,
   "id": "c866b06c-6aab-4fab-96d7-6c4f0286c7c1",
   "metadata": {
    "execution": {
     "iopub.execute_input": "2021-10-28T15:19:28.394063Z",
     "iopub.status.busy": "2021-10-28T15:19:28.393524Z",
     "iopub.status.idle": "2021-10-28T15:19:28.397653Z",
     "shell.execute_reply": "2021-10-28T15:19:28.397096Z",
     "shell.execute_reply.started": "2021-10-28T15:19:28.394004Z"
    },
    "tags": []
   },
   "outputs": [],
   "source": [
    "imbalanced_form = [\n",
    "    reac_id\n",
    "    for reac_id in imbalanced\n",
    "    if all(met.formula for met in model.reactions.get_by_id(reac_id).metabolites)\n",
    "]"
   ]
  },
  {
   "cell_type": "code",
   "execution_count": 7,
   "id": "e00d64c8-5cb6-4e7a-928c-34994e69ed9b",
   "metadata": {
    "execution": {
     "iopub.execute_input": "2021-10-28T15:19:29.223238Z",
     "iopub.status.busy": "2021-10-28T15:19:29.221841Z",
     "iopub.status.idle": "2021-10-28T15:19:29.231014Z",
     "shell.execute_reply": "2021-10-28T15:19:29.230107Z",
     "shell.execute_reply.started": "2021-10-28T15:19:29.223168Z"
    },
    "tags": []
   },
   "outputs": [
    {
     "data": {
      "text/plain": [
       "24"
      ]
     },
     "execution_count": 7,
     "metadata": {},
     "output_type": "execute_result"
    }
   ],
   "source": [
    "len(imbalanced_form)"
   ]
  },
  {
   "cell_type": "code",
   "execution_count": 8,
   "id": "1c75304b-9093-4697-a689-d273f94871ed",
   "metadata": {
    "execution": {
     "iopub.execute_input": "2021-10-28T15:19:29.997888Z",
     "iopub.status.busy": "2021-10-28T15:19:29.996974Z",
     "iopub.status.idle": "2021-10-28T15:19:30.010572Z",
     "shell.execute_reply": "2021-10-28T15:19:30.009309Z",
     "shell.execute_reply.started": "2021-10-28T15:19:29.997780Z"
    },
    "tags": []
   },
   "outputs": [],
   "source": [
    "def sum_dicts(x: dict[str, int], y: dict[str, int]) -> dict[str, int]:\n",
    "    \"\"\"Sum the values of two dictionaries, grouped by keys.\"\"\"\n",
    "    result = y.copy()\n",
    "    for k, coeff in x.items():\n",
    "        if k in y:\n",
    "            result[k] += coeff\n",
    "        else:\n",
    "            result[k] = coeff\n",
    "    return result\n",
    "\n",
    "\n",
    "def compute_mass_balance(reaction: cobra.Reaction) -> dict[str, int]:\n",
    "    \"\"\"Compute total mass balance of a reaction by element.\"\"\"\n",
    "    elements = [\n",
    "        {atom: number * coeff for atom, number in met.elements.items()}\n",
    "        for met, coeff in reaction.metabolites.items()\n",
    "    ]\n",
    "    elements = reduce(sum_dicts, elements)\n",
    "    return {k: v for k, v in elements.items() if v}"
   ]
  },
  {
   "cell_type": "code",
   "execution_count": 9,
   "id": "4facfc45-a676-4b9b-a4da-2a6293ee844b",
   "metadata": {
    "execution": {
     "iopub.execute_input": "2021-10-28T15:19:30.781967Z",
     "iopub.status.busy": "2021-10-28T15:19:30.781350Z",
     "iopub.status.idle": "2021-10-28T15:19:30.788196Z",
     "shell.execute_reply": "2021-10-28T15:19:30.786705Z",
     "shell.execute_reply.started": "2021-10-28T15:19:30.781916Z"
    },
    "tags": []
   },
   "outputs": [],
   "source": [
    "imbalance_reac_model = [\n",
    "    model.reactions.get_by_id(reac_id) for reac_id in imbalanced_form\n",
    "]"
   ]
  },
  {
   "cell_type": "code",
   "execution_count": 10,
   "id": "d9ac17e6-ae0d-496c-af5c-d249189815e9",
   "metadata": {
    "execution": {
     "iopub.execute_input": "2021-10-28T15:19:31.525312Z",
     "iopub.status.busy": "2021-10-28T15:19:31.524938Z",
     "iopub.status.idle": "2021-10-28T15:19:31.532019Z",
     "shell.execute_reply": "2021-10-28T15:19:31.531306Z",
     "shell.execute_reply.started": "2021-10-28T15:19:31.525282Z"
    },
    "tags": []
   },
   "outputs": [
    {
     "name": "stdout",
     "output_type": "stream",
     "text": [
      "GHMT2: {'H': 1.0}\n",
      "MTHFC: {'H': -1.0}\n",
      "ASPO2x: {'H': -1.0}\n",
      "ASPO2y: {'H': -1.0}\n",
      "MOHMT: {'H': -1.0}\n",
      "ECH: {'H': -4.0}\n",
      "CF3Ha: {'H': 1.0}\n",
      "CF3Sa: {'H': -1.0}\n",
      "CF3Hg: {'H': 1.0}\n",
      "AKP1: {'H': 1.0}\n",
      "CF3Sg: {'H': -1.0}\n",
      "GF4GL_2: {'H': -1.0}\n",
      "PHAJ: {'H': 4.0}\n",
      "HDR-2: {'H': 2.0}\n",
      "H4MPTS9: {'H': 1.0}\n",
      "DNMPPA: {'H': -1.0}\n",
      "GF4GL_1: {'H': 1.0}\n",
      "METS: {'H': -1.0}\n",
      "DHNPA2: {'H': 1.0}\n",
      "DHFR: {'H': -1.0}\n",
      "SULR2: {'H': 3.0}\n",
      "F4H2O: {'H': 2.0}\n",
      "H2MPTR: {'H': -1.0}\n",
      "GLUS_F420: {'H': 1.0}\n"
     ]
    }
   ],
   "source": [
    "for reac in imbalance_reac_model:\n",
    "    print(f\"{reac.id}: {compute_mass_balance(reac)}\")"
   ]
  },
  {
   "cell_type": "markdown",
   "id": "5c499acb-d960-44c6-bacb-47c41347d0dc",
   "metadata": {},
   "source": [
    "They are all missing protons, which is good since its the source of the stoichiometric inconsistency."
   ]
  },
  {
   "cell_type": "code",
   "execution_count": 11,
   "id": "46420022-365d-41f0-8aeb-46ef14015e2a",
   "metadata": {
    "execution": {
     "iopub.execute_input": "2021-10-28T15:19:33.397954Z",
     "iopub.status.busy": "2021-10-28T15:19:33.396996Z",
     "iopub.status.idle": "2021-10-28T15:19:33.406843Z",
     "shell.execute_reply": "2021-10-28T15:19:33.406036Z",
     "shell.execute_reply.started": "2021-10-28T15:19:33.397894Z"
    },
    "tags": []
   },
   "outputs": [
    {
     "name": "stdout",
     "output_type": "stream",
     "text": [
      "GHMT2: ser-L[c] + thf[c] <=> gly[c] + h2o[c] + mlthf[c]\n",
      "MTHFC: h2o[c] + methf[c] <=> 10fthf[c]\n",
      "ASPO2x: asp-L[c] + nad[c] --> h[c] + iasp[c] + nadh[c]\n",
      "ASPO2y: asp-L[c] + nadp[c] --> h[c] + iasp[c] + nadph[c]\n",
      "MOHMT: 3mob[c] + h2o[c] + mlthf[c] <=> 2dhp[c] + thf[c]\n",
      "ECH: ctncoa[c] + h2o[c] --> 3hbcoa[c]\n",
      "CF3Ha: f390a[c] + h2o[c] --> amp[c] + f420-2[c] + 2.0 h[c]\n",
      "CF3Sa: atp[c] + f420-2[c] + h[c] --> f390a[c] + ppi[c]\n",
      "CF3Hg: f390g[c] + h2o[c] --> f420-2[c] + gmp[c] + h[c]\n",
      "AKP1: dhnpt[c] + 2.0 h[c] + 3.0 pi[c] <=> ahdt[c] + 3.0 h2o[c]\n",
      "CF3Sg: f420-2[c] + gtp[c] --> f390g[c] + ppi[c]\n",
      "GF4GL_2: f420-2[c] + glu-L[c] + gtp[c] <=> f420-3[c] + gdp[c] + h[c] + pi[c]\n",
      "PHAJ: 3hbcoa_R[c] --> ctncoa[c] + h2o[c]\n",
      "HDR-2: cob[c] + com[c] + 2.0 f420-2[c] + 2.0 fdred[c] --> 2.0 f420-2h2[c] + 2.0 fdox[c] + hsfd[c]\n",
      "H4MPTS9: dhrfap[c] + f420-2h2[c] --> dhadrp[c] + f420-2[c] + h[c]\n",
      "DNMPPA: dhpmp[c] + h2o[c] --> dhnpt[c] + pi[c]\n",
      "GF4GL_1: f420-1[c] + glu-L[c] + gtp[c] <=> f420-2[c] + gdp[c] + h[c] + pi[c]\n",
      "METS: 5mthf[c] + hcys-L[c] --> met-L[c] + thf[c]\n",
      "DHNPA2: dhnpt[c] --> 6hmhpt[c] + gcald[c] + h[c]\n",
      "DHFR: dhf[c] + h[c] + nadph[c] <=> nadp[c] + thf[c]\n",
      "SULR2: 3.0 f420-2h2[c] + so3[c] <=> 3.0 f420-2[c] + 3.0 h2o[c] + h2s[c] + h[c]\n",
      "F4H2O: 2.0 f420-2h2[c] + o2[c] --> 2.0 f420-2[c] + 2.0 h2o[c] + 2.0 h[c]\n",
      "H2MPTR: f420-2h2[c] + h2mpt[c] --> f420-2[c] + h4mpt[c]\n",
      "GLUS_F420: akg[c] + f420-2h2[c] + gln-L[c] --> f420-2[c] + 2.0 glu-L[c] + h[c]\n"
     ]
    }
   ],
   "source": [
    "for reac in imbalance_reac_model:\n",
    "    print(f\"{reac.id}: {reac.reaction}\")"
   ]
  },
  {
   "cell_type": "markdown",
   "id": "ef235409-8b94-4273-9eb2-423238f42df8",
   "metadata": {},
   "source": [
    "Adding protons naively may not work, because it could be that some of the metabolites involved in the reactions are simply missing hydrogens in their formulas whereas the reaction is perfectly fine.\n",
    "\n",
    "Let's try it."
   ]
  },
  {
   "cell_type": "code",
   "execution_count": 12,
   "id": "7fb84ec5-6346-4f92-bdb5-b43450332506",
   "metadata": {
    "execution": {
     "iopub.execute_input": "2021-10-28T15:19:36.312108Z",
     "iopub.status.busy": "2021-10-28T15:19:36.311168Z",
     "iopub.status.idle": "2021-10-28T15:19:36.320065Z",
     "shell.execute_reply": "2021-10-28T15:19:36.318686Z",
     "shell.execute_reply.started": "2021-10-28T15:19:36.311997Z"
    },
    "tags": []
   },
   "outputs": [],
   "source": [
    "h_c = model.metabolites.get_by_id(\"h[c]\")"
   ]
  },
  {
   "cell_type": "code",
   "execution_count": null,
   "id": "5acb611e-dc13-480d-a887-5d1cda9af711",
   "metadata": {
    "execution": {
     "iopub.execute_input": "2021-10-28T15:19:37.059788Z",
     "iopub.status.busy": "2021-10-28T15:19:37.058430Z",
     "iopub.status.idle": "2021-10-28T15:19:37.202347Z",
     "shell.execute_reply": "2021-10-28T15:19:37.201272Z",
     "shell.execute_reply.started": "2021-10-28T15:19:37.059702Z"
    },
    "tags": []
   },
   "outputs": [],
   "source": [
    "for reac in imbalance_reac_model:\n",
    "    coeff = list(compute_mass_balance(reac).values())[0]\n",
    "    reac.add_metabolites({h_c: -coeff})"
   ]
  },
  {
   "cell_type": "code",
   "execution_count": 14,
   "id": "e660c815-219f-4adf-b482-b8ebf21a51da",
   "metadata": {
    "execution": {
     "iopub.execute_input": "2021-10-28T15:20:01.193606Z",
     "iopub.status.busy": "2021-10-28T15:20:01.192652Z",
     "iopub.status.idle": "2021-10-28T15:20:01.198587Z",
     "shell.execute_reply": "2021-10-28T15:20:01.197830Z",
     "shell.execute_reply.started": "2021-10-28T15:20:01.193510Z"
    }
   },
   "outputs": [],
   "source": [
    "from memote.support.consistency import check_stoichiometric_consistency"
   ]
  },
  {
   "cell_type": "code",
   "execution_count": 15,
   "id": "779b7faf-e56c-47b9-8255-6d27432b8898",
   "metadata": {
    "execution": {
     "iopub.execute_input": "2021-10-28T15:20:05.998073Z",
     "iopub.status.busy": "2021-10-28T15:20:05.997298Z",
     "iopub.status.idle": "2021-10-28T15:20:06.994913Z",
     "shell.execute_reply": "2021-10-28T15:20:06.994486Z",
     "shell.execute_reply.started": "2021-10-28T15:20:05.997985Z"
    },
    "tags": []
   },
   "outputs": [
    {
     "data": {
      "text/plain": [
       "False"
      ]
     },
     "execution_count": 15,
     "metadata": {},
     "output_type": "execute_result"
    }
   ],
   "source": [
    "check_stoichiometric_consistency(model)"
   ]
  }
 ],
 "metadata": {
  "kernelspec": {
   "display_name": "memote",
   "language": "python",
   "name": "memote"
  },
  "language_info": {
   "codemirror_mode": {
    "name": "ipython",
    "version": 3
   },
   "file_extension": ".py",
   "mimetype": "text/x-python",
   "name": "python",
   "nbconvert_exporter": "python",
   "pygments_lexer": "ipython3",
   "version": "3.9.7"
  }
 },
 "nbformat": 4,
 "nbformat_minor": 5
}
