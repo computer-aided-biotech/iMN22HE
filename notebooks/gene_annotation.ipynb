{
 "cells": [
  {
   "cell_type": "markdown",
   "id": "c5b8d3f9-c3e6-442e-b9b8-1054949e61ff",
   "metadata": {},
   "source": [
    "# Gene annotation\n",
    "\n",
    "The model have genes whose identifiers are locus tag from refseq.\n",
    "\n",
    "[The refseq table from the assembly](https://www.ncbi.nlm.nih.gov/assembly/GCF_000685155.1) can be used to annotate the ncbi proteins. Then we can map those proteins using uniprot to retrieve UniProtKB identifiers."
   ]
  },
  {
   "cell_type": "code",
   "execution_count": 1,
   "id": "e8eb7bef-15d7-4e7f-a1d9-d73709d5b32f",
   "metadata": {
    "execution": {
     "iopub.execute_input": "2021-10-28T10:29:04.534224Z",
     "iopub.status.busy": "2021-10-28T10:29:04.533947Z",
     "iopub.status.idle": "2021-10-28T10:29:05.361437Z",
     "shell.execute_reply": "2021-10-28T10:29:05.360897Z",
     "shell.execute_reply.started": "2021-10-28T10:29:04.534159Z"
    },
    "tags": []
   },
   "outputs": [
    {
     "data": {
      "text/html": [
       "<style type='text/css'>\n",
       ".datatable table.frame { margin-bottom: 0; }\n",
       ".datatable table.frame thead { border-bottom: none; }\n",
       ".datatable table.frame tr.coltypes td {  color: #FFFFFF;  line-height: 6px;  padding: 0 0.5em;}\n",
       ".datatable .bool    { background: #DDDD99; }\n",
       ".datatable .object  { background: #565656; }\n",
       ".datatable .int     { background: #5D9E5D; }\n",
       ".datatable .float   { background: #4040CC; }\n",
       ".datatable .str     { background: #CC4040; }\n",
       ".datatable .time    { background: #40CC40; }\n",
       ".datatable .row_index {  background: var(--jp-border-color3);  border-right: 1px solid var(--jp-border-color0);  color: var(--jp-ui-font-color3);  font-size: 9px;}\n",
       ".datatable .frame tbody td { text-align: left; }\n",
       ".datatable .frame tr.coltypes .row_index {  background: var(--jp-border-color0);}\n",
       ".datatable th:nth-child(2) { padding-left: 12px; }\n",
       ".datatable .hellipsis {  color: var(--jp-cell-editor-border-color);}\n",
       ".datatable .vellipsis {  background: var(--jp-layout-color0);  color: var(--jp-cell-editor-border-color);}\n",
       ".datatable .na {  color: var(--jp-cell-editor-border-color);  font-size: 80%;}\n",
       ".datatable .sp {  opacity: 0.25;}\n",
       ".datatable .footer { font-size: 9px; }\n",
       ".datatable .frame_dimensions {  background: var(--jp-border-color3);  border-top: 1px solid var(--jp-border-color0);  color: var(--jp-ui-font-color3);  display: inline-block;  opacity: 0.6;  padding: 1px 10px 1px 5px;}\n",
       "</style>\n"
      ],
      "text/plain": [
       "<IPython.core.display.HTML object>"
      ]
     },
     "metadata": {},
     "output_type": "display_data"
    }
   ],
   "source": [
    "from collections import defaultdict\n",
    "from pathlib import Path\n",
    "\n",
    "import cobra\n",
    "import re\n",
    "from datatable import dt, f, join, update"
   ]
  },
  {
   "cell_type": "code",
   "execution_count": 2,
   "id": "c0641d45-849f-40f3-a2fd-0a03fa20b850",
   "metadata": {
    "execution": {
     "iopub.execute_input": "2021-10-28T10:29:05.362201Z",
     "iopub.status.busy": "2021-10-28T10:29:05.362051Z",
     "iopub.status.idle": "2021-10-28T10:29:05.365549Z",
     "shell.execute_reply": "2021-10-28T10:29:05.364638Z",
     "shell.execute_reply.started": "2021-10-28T10:29:05.362184Z"
    },
    "tags": []
   },
   "outputs": [],
   "source": [
    "ROOT = Path.cwd().parent\n",
    "model_file = str(ROOT / \"iMENI452.xml\")"
   ]
  },
  {
   "cell_type": "code",
   "execution_count": 3,
   "id": "ed180a2d-5de9-4cd0-b507-b901dcea16a7",
   "metadata": {
    "execution": {
     "iopub.execute_input": "2021-10-28T10:29:05.366717Z",
     "iopub.status.busy": "2021-10-28T10:29:05.366463Z",
     "iopub.status.idle": "2021-10-28T10:29:06.709510Z",
     "shell.execute_reply": "2021-10-28T10:29:06.708792Z",
     "shell.execute_reply.started": "2021-10-28T10:29:05.366689Z"
    },
    "tags": []
   },
   "outputs": [
    {
     "name": "stdout",
     "output_type": "stream",
     "text": [
      "Scaling...\n",
      " A: min|aij| =  1.000e+00  max|aij| =  1.000e+00  ratio =  1.000e+00\n",
      "Problem data seem to be well scaled\n"
     ]
    }
   ],
   "source": [
    "model = cobra.io.read_sbml_model(model_file)"
   ]
  },
  {
   "cell_type": "markdown",
   "id": "391cd345-1d7d-487e-b107-653d53348aee",
   "metadata": {
    "execution": {
     "iopub.execute_input": "2021-10-28T10:28:57.031409Z",
     "iopub.status.busy": "2021-10-28T10:28:57.030658Z",
     "iopub.status.idle": "2021-10-28T10:28:57.045664Z",
     "shell.execute_reply": "2021-10-28T10:28:57.042996Z",
     "shell.execute_reply.started": "2021-10-28T10:28:57.031321Z"
    },
    "tags": []
   },
   "source": [
    "Note that the leading \"#\" was removed from the first line of the feature table to have it read properly,"
   ]
  },
  {
   "cell_type": "code",
   "execution_count": 4,
   "id": "7c229348-f123-410a-9a9c-a40f584dedbe",
   "metadata": {
    "execution": {
     "iopub.execute_input": "2021-10-28T10:29:06.711108Z",
     "iopub.status.busy": "2021-10-28T10:29:06.710910Z",
     "iopub.status.idle": "2021-10-28T10:29:06.734276Z",
     "shell.execute_reply": "2021-10-28T10:29:06.733645Z",
     "shell.execute_reply.started": "2021-10-28T10:29:06.711084Z"
    },
    "tags": []
   },
   "outputs": [],
   "source": [
    "feat_table = dt.fread(ROOT / \"GCF_000685155.1_ANME2D_V10_feature_table.txt\", header=True)"
   ]
  },
  {
   "cell_type": "code",
   "execution_count": 6,
   "id": "17079b8a-706a-4f45-b68c-7bba5c2b10e4",
   "metadata": {
    "execution": {
     "iopub.execute_input": "2021-10-28T10:29:11.313484Z",
     "iopub.status.busy": "2021-10-28T10:29:11.313111Z",
     "iopub.status.idle": "2021-10-28T10:29:11.319755Z",
     "shell.execute_reply": "2021-10-28T10:29:11.318959Z",
     "shell.execute_reply.started": "2021-10-28T10:29:11.313443Z"
    },
    "tags": []
   },
   "outputs": [
    {
     "data": {
      "text/html": [
       "<div class='datatable'>\n",
       "  <table class='frame'>\n",
       "  <thead>\n",
       "    <tr class='colnames'><td class='row_index'></td><th>feature</th><th>class</th><th>assembly</th><th>assembly_unit</th><th>seq_type</th><th>chromosome</th><th>genomic_accession</th><th>start</th><th>end</th><th>strand</th><th class='vellipsis'>&hellip;</th><th>GeneID</th><th>locus_tag</th><th>feature_interval_length</th><th>product_length</th><th>attributes</th></tr>\n",
       "    <tr class='coltypes'><td class='row_index'></td><td class='str' title='str32'>&#x25AA;&#x25AA;&#x25AA;&#x25AA;</td><td class='str' title='str32'>&#x25AA;&#x25AA;&#x25AA;&#x25AA;</td><td class='str' title='str32'>&#x25AA;&#x25AA;&#x25AA;&#x25AA;</td><td class='str' title='str32'>&#x25AA;&#x25AA;&#x25AA;&#x25AA;</td><td class='str' title='str32'>&#x25AA;&#x25AA;&#x25AA;&#x25AA;</td><td class='void' title='void'></td><td class='str' title='str32'>&#x25AA;&#x25AA;&#x25AA;&#x25AA;</td><td class='int' title='int32'>&#x25AA;&#x25AA;&#x25AA;&#x25AA;</td><td class='int' title='int32'>&#x25AA;&#x25AA;&#x25AA;&#x25AA;</td><td class='str' title='str32'>&#x25AA;&#x25AA;&#x25AA;&#x25AA;</td><td></td><td class='void' title='void'></td><td class='str' title='str32'>&#x25AA;&#x25AA;&#x25AA;&#x25AA;</td><td class='int' title='int32'>&#x25AA;&#x25AA;&#x25AA;&#x25AA;</td><td class='int' title='int32'>&#x25AA;&#x25AA;&#x25AA;&#x25AA;</td><td class='str' title='str32'>&#x25AA;&#x25AA;&#x25AA;&#x25AA;</td></tr>\n",
       "  </thead>\n",
       "  <tbody>\n",
       "    <tr><td class='row_index'>0</td><td>gene</td><td>protein_coding</td><td>GCF_000685155.1</td><td>Primary Assembly</td><td>unplaced scaffold</td><td><span class=na>(unknown)</span></td><td>NZ_JMIY01000001.1</td><td>1</td><td>265</td><td>+</td><td class=vellipsis>&hellip;</td><td><span class=na>(unknown)</span></td><td>ANME2D_RS00005</td><td>265</td><td><span class=na>NA</span></td><td>partial;old_locus_tag=ANME2D_00001</td></tr>\n",
       "    <tr><td class='row_index'>1</td><td>CDS</td><td>with_protein</td><td>GCF_000685155.1</td><td>Primary Assembly</td><td>unplaced scaffold</td><td><span class=na>(unknown)</span></td><td>NZ_JMIY01000001.1</td><td>1</td><td>265</td><td>+</td><td class=vellipsis>&hellip;</td><td><span class=na>(unknown)</span></td><td>ANME2D_RS00005</td><td>265</td><td>87</td><td>partial</td></tr>\n",
       "    <tr><td class='row_index'>2</td><td>gene</td><td>protein_coding</td><td>GCF_000685155.1</td><td>Primary Assembly</td><td>unplaced scaffold</td><td><span class=na>(unknown)</span></td><td>NZ_JMIY01000001.1</td><td>522</td><td>818</td><td>+</td><td class=vellipsis>&hellip;</td><td><span class=na>(unknown)</span></td><td>ANME2D_RS00010</td><td>297</td><td><span class=na>NA</span></td><td>old_locus_tag=ANME2D_00003</td></tr>\n",
       "    <tr><td class='row_index'>3</td><td>CDS</td><td>with_protein</td><td>GCF_000685155.1</td><td>Primary Assembly</td><td>unplaced scaffold</td><td><span class=na>(unknown)</span></td><td>NZ_JMIY01000001.1</td><td>522</td><td>818</td><td>+</td><td class=vellipsis>&hellip;</td><td><span class=na>(unknown)</span></td><td>ANME2D_RS00010</td><td>297</td><td>98</td><td></td></tr>\n",
       "    <tr><td class='row_index'>4</td><td>gene</td><td>protein_coding</td><td>GCF_000685155.1</td><td>Primary Assembly</td><td>unplaced scaffold</td><td><span class=na>(unknown)</span></td><td>NZ_JMIY01000001.1</td><td>984</td><td>1664</td><td>-</td><td class=vellipsis>&hellip;</td><td><span class=na>(unknown)</span></td><td>ANME2D_RS00015</td><td>681</td><td><span class=na>NA</span></td><td>old_locus_tag=ANME2D_00004</td></tr>\n",
       "    <tr><td class='row_index'>5</td><td>CDS</td><td>with_protein</td><td>GCF_000685155.1</td><td>Primary Assembly</td><td>unplaced scaffold</td><td><span class=na>(unknown)</span></td><td>NZ_JMIY01000001.1</td><td>984</td><td>1664</td><td>-</td><td class=vellipsis>&hellip;</td><td><span class=na>(unknown)</span></td><td>ANME2D_RS00015</td><td>681</td><td>226</td><td></td></tr>\n",
       "    <tr><td class='row_index'>6</td><td>gene</td><td>protein_coding</td><td>GCF_000685155.1</td><td>Primary Assembly</td><td>unplaced scaffold</td><td><span class=na>(unknown)</span></td><td>NZ_JMIY01000001.1</td><td>2310</td><td>3011</td><td>-</td><td class=vellipsis>&hellip;</td><td><span class=na>(unknown)</span></td><td>ANME2D_RS00020</td><td>702</td><td><span class=na>NA</span></td><td>old_locus_tag=ANME2D_00005</td></tr>\n",
       "    <tr><td class='row_index'>7</td><td>CDS</td><td>with_protein</td><td>GCF_000685155.1</td><td>Primary Assembly</td><td>unplaced scaffold</td><td><span class=na>(unknown)</span></td><td>NZ_JMIY01000001.1</td><td>2310</td><td>3011</td><td>-</td><td class=vellipsis>&hellip;</td><td><span class=na>(unknown)</span></td><td>ANME2D_RS00020</td><td>702</td><td>233</td><td></td></tr>\n",
       "    <tr><td class='row_index'>8</td><td>gene</td><td>protein_coding</td><td>GCF_000685155.1</td><td>Primary Assembly</td><td>unplaced scaffold</td><td><span class=na>(unknown)</span></td><td>NZ_JMIY01000001.1</td><td>3072</td><td>4781</td><td>-</td><td class=vellipsis>&hellip;</td><td><span class=na>(unknown)</span></td><td>ANME2D_RS00025</td><td>1710</td><td><span class=na>NA</span></td><td>old_locus_tag=ANME2D_00006</td></tr>\n",
       "    <tr><td class='row_index'>9</td><td>CDS</td><td>with_protein</td><td>GCF_000685155.1</td><td>Primary Assembly</td><td>unplaced scaffold</td><td><span class=na>(unknown)</span></td><td>NZ_JMIY01000001.1</td><td>3072</td><td>4781</td><td>-</td><td class=vellipsis>&hellip;</td><td><span class=na>(unknown)</span></td><td>ANME2D_RS00025</td><td>1710</td><td>569</td><td></td></tr>\n",
       "  </tbody>\n",
       "  </table>\n",
       "  <div class='footer'>\n",
       "    <div class='frame_dimensions'>10 rows &times; 20 columns</div>\n",
       "  </div>\n",
       "</div>\n"
      ],
      "text/plain": [
       "<Frame#7f45ac34a5d0 10x20>"
      ]
     },
     "execution_count": 6,
     "metadata": {},
     "output_type": "execute_result"
    }
   ],
   "source": [
    "feat_table.head()"
   ]
  },
  {
   "cell_type": "code",
   "execution_count": 11,
   "id": "d91ca8f1-a4b5-4025-af32-c977eb252a21",
   "metadata": {
    "execution": {
     "iopub.execute_input": "2021-10-28T10:30:36.896228Z",
     "iopub.status.busy": "2021-10-28T10:30:36.895308Z",
     "iopub.status.idle": "2021-10-28T10:30:36.912901Z",
     "shell.execute_reply": "2021-10-28T10:30:36.909972Z",
     "shell.execute_reply.started": "2021-10-28T10:30:36.896128Z"
    },
    "tags": []
   },
   "outputs": [
    {
     "data": {
      "text/plain": [
       "('feature',\n",
       " 'class',\n",
       " 'assembly',\n",
       " 'assembly_unit',\n",
       " 'seq_type',\n",
       " 'chromosome',\n",
       " 'genomic_accession',\n",
       " 'start',\n",
       " 'end',\n",
       " 'strand',\n",
       " 'product_accession',\n",
       " 'non-redundant_refseq',\n",
       " 'related_accession',\n",
       " 'name',\n",
       " 'symbol',\n",
       " 'GeneID',\n",
       " 'locus_tag',\n",
       " 'feature_interval_length',\n",
       " 'product_length',\n",
       " 'attributes')"
      ]
     },
     "execution_count": 11,
     "metadata": {},
     "output_type": "execute_result"
    }
   ],
   "source": [
    "feat_table.names"
   ]
  },
  {
   "cell_type": "code",
   "execution_count": null,
   "id": "1eb9c827-79b5-4cc2-a2a5-e6bd92014797",
   "metadata": {},
   "outputs": [],
   "source": []
  },
  {
   "cell_type": "code",
   "execution_count": 19,
   "id": "a7c4b55c-44ab-4587-8984-213dcc0ded5c",
   "metadata": {
    "execution": {
     "iopub.execute_input": "2021-10-28T10:36:19.951394Z",
     "iopub.status.busy": "2021-10-28T10:36:19.951114Z",
     "iopub.status.idle": "2021-10-28T10:36:19.976197Z",
     "shell.execute_reply": "2021-10-28T10:36:19.963339Z",
     "shell.execute_reply.started": "2021-10-28T10:36:19.951364Z"
    },
    "tags": []
   },
   "outputs": [],
   "source": [
    "cds = feat_table[f.feature == \"CDS\", [\"locus_tag\", \"name\", \"GeneID\", \"symbol\", \"product_accession\"]]"
   ]
  },
  {
   "cell_type": "code",
   "execution_count": 20,
   "id": "a3437f0e-3cf3-44e7-ab9c-da85722ff5d5",
   "metadata": {
    "execution": {
     "iopub.execute_input": "2021-10-28T10:36:52.873313Z",
     "iopub.status.busy": "2021-10-28T10:36:52.872562Z",
     "iopub.status.idle": "2021-10-28T10:36:52.884170Z",
     "shell.execute_reply": "2021-10-28T10:36:52.882529Z",
     "shell.execute_reply.started": "2021-10-28T10:36:52.873220Z"
    },
    "tags": []
   },
   "outputs": [],
   "source": [
    "gene_names = dt.Frame(locus_tag=[gene.id for gene in model.genes])"
   ]
  },
  {
   "cell_type": "code",
   "execution_count": 21,
   "id": "68f61aab-512a-4f65-9ff3-653c739bff66",
   "metadata": {
    "execution": {
     "iopub.execute_input": "2021-10-28T10:37:00.280538Z",
     "iopub.status.busy": "2021-10-28T10:37:00.279782Z",
     "iopub.status.idle": "2021-10-28T10:37:00.316382Z",
     "shell.execute_reply": "2021-10-28T10:37:00.315640Z",
     "shell.execute_reply.started": "2021-10-28T10:37:00.280448Z"
    },
    "tags": []
   },
   "outputs": [],
   "source": [
    "cds.key = \"locus_tag\""
   ]
  },
  {
   "cell_type": "code",
   "execution_count": 23,
   "id": "2e5464e5-5d8b-4bca-b922-3f328a5b0ec2",
   "metadata": {
    "execution": {
     "iopub.execute_input": "2021-10-28T10:37:28.638827Z",
     "iopub.status.busy": "2021-10-28T10:37:28.638338Z",
     "iopub.status.idle": "2021-10-28T10:37:28.653940Z",
     "shell.execute_reply": "2021-10-28T10:37:28.653443Z",
     "shell.execute_reply.started": "2021-10-28T10:37:28.638770Z"
    },
    "tags": []
   },
   "outputs": [],
   "source": [
    "df"
   ]
  },
  {
   "cell_type": "code",
   "execution_count": 24,
   "id": "7be4e0ce-33b6-46bf-80d6-d18f5551601d",
   "metadata": {
    "execution": {
     "iopub.execute_input": "2021-10-28T10:38:02.842982Z",
     "iopub.status.busy": "2021-10-28T10:38:02.842542Z",
     "iopub.status.idle": "2021-10-28T10:38:02.857174Z",
     "shell.execute_reply": "2021-10-28T10:38:02.856381Z",
     "shell.execute_reply.started": "2021-10-28T10:38:02.842941Z"
    },
    "tags": []
   },
   "outputs": [],
   "source": [
    "df_genes = gene_names[:, :, join(cds)]"
   ]
  },
  {
   "cell_type": "code",
   "execution_count": 25,
   "id": "44703a63-5111-4c9e-9b3c-2273e7da9fa5",
   "metadata": {
    "execution": {
     "iopub.execute_input": "2021-10-28T10:38:29.383492Z",
     "iopub.status.busy": "2021-10-28T10:38:29.382573Z",
     "iopub.status.idle": "2021-10-28T10:38:29.394631Z",
     "shell.execute_reply": "2021-10-28T10:38:29.393255Z",
     "shell.execute_reply.started": "2021-10-28T10:38:29.383406Z"
    },
    "tags": []
   },
   "outputs": [
    {
     "data": {
      "text/html": [
       "<div class='datatable'>\n",
       "  <table class='frame'>\n",
       "  <thead>\n",
       "    <tr class='colnames'><td class='row_index'></td><th>locus_tag</th><th>name</th><th>GeneID</th><th>symbol</th><th>product_accession</th></tr>\n",
       "    <tr class='coltypes'><td class='row_index'></td><td class='str' title='str32'>&#x25AA;&#x25AA;&#x25AA;&#x25AA;</td><td class='str' title='str32'>&#x25AA;&#x25AA;&#x25AA;&#x25AA;</td><td class='void' title='void'></td><td class='str' title='str32'>&#x25AA;&#x25AA;&#x25AA;&#x25AA;</td><td class='str' title='str32'>&#x25AA;&#x25AA;&#x25AA;&#x25AA;</td></tr>\n",
       "  </thead>\n",
       "  <tbody>\n",
       "    <tr><td class='row_index'>0</td><td>ANME2D_RS14405</td><td>alanine dehydrogenase</td><td><span class=na>(unknown)</span></td><td></td><td>WP_048093069.1</td></tr>\n",
       "    <tr><td class='row_index'>1</td><td>ANME2D_RS03200</td><td>aminotransferase class I/II-fold pyridoxal phospha&#133;</td><td><span class=na>(unknown)</span></td><td></td><td>WP_048089082.1</td></tr>\n",
       "    <tr><td class='row_index'>2</td><td>ANME2D_RS05600</td><td>pyridoxal phosphate-dependent aminotransferase</td><td><span class=na>(unknown)</span></td><td></td><td>WP_048089698.1</td></tr>\n",
       "    <tr><td class='row_index'>3</td><td>ANME2D_RS07885</td><td>pyridoxal phosphate-dependent aminotransferase</td><td><span class=na>(unknown)</span></td><td></td><td>WP_048090317.1</td></tr>\n",
       "    <tr><td class='row_index'>4</td><td>ANME2D_RS08380</td><td>aminotransferase class I/II-fold pyridoxal phospha&#133;</td><td><span class=na>(unknown)</span></td><td></td><td>WP_048090480.1</td></tr>\n",
       "    <tr><td class='row_index'>5</td><td>ANME2D_RS05565</td><td>argininosuccinate synthase</td><td><span class=na>(unknown)</span></td><td></td><td>WP_048089688.1</td></tr>\n",
       "    <tr><td class='row_index'>6</td><td>ANME2D_RS01360</td><td>argininosuccinate lyase</td><td><span class=na>(unknown)</span></td><td>argH</td><td>WP_048088486.1</td></tr>\n",
       "    <tr><td class='row_index'>7</td><td>ANME2D_RS03615</td><td>adenylosuccinate synthase</td><td><span class=na>(unknown)</span></td><td></td><td>WP_048089156.1</td></tr>\n",
       "    <tr><td class='row_index'>8</td><td>ANME2D_RS00280</td><td>adenylosuccinate lyase</td><td><span class=na>(unknown)</span></td><td></td><td>WP_048088213.1</td></tr>\n",
       "    <tr><td class='row_index'>9</td><td>ANME2D_RS00300</td><td>aspartate ammonia-lyase</td><td><span class=na>(unknown)</span></td><td></td><td>WP_048088217.1</td></tr>\n",
       "  </tbody>\n",
       "  </table>\n",
       "  <div class='footer'>\n",
       "    <div class='frame_dimensions'>10 rows &times; 5 columns</div>\n",
       "  </div>\n",
       "</div>\n"
      ],
      "text/plain": [
       "<Frame#7f45ac34ae70 10x5>"
      ]
     },
     "execution_count": 25,
     "metadata": {},
     "output_type": "execute_result"
    }
   ],
   "source": [
    "df_genes.head()"
   ]
  },
  {
   "cell_type": "code",
   "execution_count": 26,
   "id": "4cec2d3c-5567-4528-b0e1-b972a07d8110",
   "metadata": {
    "execution": {
     "iopub.execute_input": "2021-10-28T10:38:50.098235Z",
     "iopub.status.busy": "2021-10-28T10:38:50.097508Z",
     "iopub.status.idle": "2021-10-28T10:38:50.127095Z",
     "shell.execute_reply": "2021-10-28T10:38:50.125493Z",
     "shell.execute_reply.started": "2021-10-28T10:38:50.098145Z"
    },
    "tags": []
   },
   "outputs": [
    {
     "data": {
      "text/html": [
       "<div class='datatable'>\n",
       "  <table class='frame'>\n",
       "  <thead>\n",
       "    <tr class='colnames'><td class='row_index'></td><th>GeneID</th></tr>\n",
       "    <tr class='coltypes'><td class='row_index'></td><td class='float' title='float64'>&#x25AA;&#x25AA;&#x25AA;&#x25AA;&#x25AA;&#x25AA;&#x25AA;&#x25AA;</td></tr>\n",
       "  </thead>\n",
       "  <tbody>\n",
       "    <tr><td class='row_index'>0</td><td>452</td></tr>\n",
       "  </tbody>\n",
       "  </table>\n",
       "  <div class='footer'>\n",
       "    <div class='frame_dimensions'>1 row &times; 1 column</div>\n",
       "  </div>\n",
       "</div>\n"
      ],
      "text/plain": [
       "<Frame#7f45ac34a6f0 1x1>"
      ]
     },
     "execution_count": 26,
     "metadata": {},
     "output_type": "execute_result"
    }
   ],
   "source": [
    "dt.isna(df_genes[\"GeneID\"]).sum()"
   ]
  },
  {
   "cell_type": "markdown",
   "id": "5f7a0e4f-276c-48c8-8c21-c6d2feb43ac4",
   "metadata": {},
   "source": [
    "We can drop the column"
   ]
  },
  {
   "cell_type": "code",
   "execution_count": 27,
   "id": "75f5d93a-785c-40c2-920b-a5f10b4295d4",
   "metadata": {
    "execution": {
     "iopub.execute_input": "2021-10-28T10:39:12.662296Z",
     "iopub.status.busy": "2021-10-28T10:39:12.661935Z",
     "iopub.status.idle": "2021-10-28T10:39:12.666923Z",
     "shell.execute_reply": "2021-10-28T10:39:12.666091Z",
     "shell.execute_reply.started": "2021-10-28T10:39:12.662261Z"
    },
    "tags": []
   },
   "outputs": [],
   "source": [
    "del df_genes[\"GeneID\"]"
   ]
  },
  {
   "cell_type": "code",
   "execution_count": 34,
   "id": "04555cf2-95c1-450f-af46-c1dbadba1367",
   "metadata": {
    "execution": {
     "iopub.execute_input": "2021-10-28T10:43:34.365340Z",
     "iopub.status.busy": "2021-10-28T10:43:34.364587Z",
     "iopub.status.idle": "2021-10-28T10:43:34.374801Z",
     "shell.execute_reply": "2021-10-28T10:43:34.374303Z",
     "shell.execute_reply.started": "2021-10-28T10:43:34.365298Z"
    },
    "tags": []
   },
   "outputs": [
    {
     "data": {
      "text/plain": [
       "[['alanine dehydrogenase'], [''], ['WP_048093069.1']]"
      ]
     },
     "execution_count": 34,
     "metadata": {},
     "output_type": "execute_result"
    }
   ],
   "source": [
    "df_genes[f.locus_tag==\"ANME2D_RS14405\", [\"name\", \"symbol\", \"product_accession\"]][0, [0,1,2]].to_list()"
   ]
  },
  {
   "cell_type": "code",
   "execution_count": 38,
   "id": "ab74980b-262d-48f9-b4d9-93f7b6561fd4",
   "metadata": {
    "execution": {
     "iopub.execute_input": "2021-10-28T10:48:52.761323Z",
     "iopub.status.busy": "2021-10-28T10:48:52.761000Z",
     "iopub.status.idle": "2021-10-28T10:48:52.888492Z",
     "shell.execute_reply": "2021-10-28T10:48:52.888074Z",
     "shell.execute_reply.started": "2021-10-28T10:48:52.761286Z"
    },
    "tags": []
   },
   "outputs": [],
   "source": [
    "for gene in model.genes:\n",
    "    matched = df_genes[f.locus_tag==gene.id, [\"name\", \"symbol\", \"product_accession\"]]\n",
    "    name, symbol, ncbiprotein = [m[0, 0] for m in matched]\n",
    "    gene.name = name\n",
    "    gene.annotation = {\n",
    "        \"locus_tag\": gene.id,\n",
    "        \"ncbiprotein\": ncbiprotein,\n",
    "    }\n",
    "    if symbol:\n",
    "        gene.annotation[\"symbol\"] =  symbol"
   ]
  },
  {
   "cell_type": "code",
   "execution_count": 40,
   "id": "10227b9d-f360-4f97-bab9-af5d64b5c027",
   "metadata": {
    "execution": {
     "iopub.execute_input": "2021-10-28T10:48:58.855368Z",
     "iopub.status.busy": "2021-10-28T10:48:58.854778Z",
     "iopub.status.idle": "2021-10-28T10:48:58.862521Z",
     "shell.execute_reply": "2021-10-28T10:48:58.861733Z",
     "shell.execute_reply.started": "2021-10-28T10:48:58.855309Z"
    },
    "tags": []
   },
   "outputs": [
    {
     "data": {
      "text/html": [
       "\n",
       "        <table>\n",
       "            <tr>\n",
       "                <td><strong>Gene identifier</strong></td><td>ANME2D_RS00220</td>\n",
       "            </tr><tr>\n",
       "                <td><strong>Name</strong></td><td>phosphoglycerate dehydrogenase</td>\n",
       "            </tr><tr>\n",
       "                <td><strong>Memory address</strong></td>\n",
       "                <td>0x07f456605ac10</td>\n",
       "            </tr><tr>\n",
       "                <td><strong>Functional</strong></td><td>True</td>\n",
       "            </tr><tr>\n",
       "                <td><strong>In 1 reaction(s)</strong></td><td>\n",
       "                    PGCD</td>\n",
       "            </tr>\n",
       "        </table>"
      ],
      "text/plain": [
       "<Gene ANME2D_RS00220 at 0x7f456605ac10>"
      ]
     },
     "execution_count": 40,
     "metadata": {},
     "output_type": "execute_result"
    }
   ],
   "source": [
    "model.genes.ANME2D_RS00220"
   ]
  },
  {
   "cell_type": "code",
   "execution_count": 42,
   "id": "016e5ea6-01d0-4320-8ebb-1c04ee919ec4",
   "metadata": {
    "execution": {
     "iopub.execute_input": "2021-10-28T10:49:15.951055Z",
     "iopub.status.busy": "2021-10-28T10:49:15.950631Z",
     "iopub.status.idle": "2021-10-28T10:49:15.958202Z",
     "shell.execute_reply": "2021-10-28T10:49:15.957242Z",
     "shell.execute_reply.started": "2021-10-28T10:49:15.951004Z"
    },
    "tags": []
   },
   "outputs": [
    {
     "data": {
      "text/plain": [
       "{'locus_tag': 'ANME2D_RS00220', 'ncbiprotein': 'WP_048088203.1'}"
      ]
     },
     "execution_count": 42,
     "metadata": {},
     "output_type": "execute_result"
    }
   ],
   "source": [
    "model.genes.ANME2D_RS00220.annotation"
   ]
  },
  {
   "cell_type": "markdown",
   "id": "058d5300-fca2-4743-98d2-e7867ac3451a",
   "metadata": {},
   "source": [
    "Now, we need to extract each ncbiprotein (Refseq Protein) to map them to UniProt [here](https://www.uniprot.org/uploadlists/)."
   ]
  },
  {
   "cell_type": "code",
   "execution_count": 43,
   "id": "d8ad0a22-b420-4e9d-b69b-af50eefad2b5",
   "metadata": {
    "execution": {
     "iopub.execute_input": "2021-10-28T10:52:06.952106Z",
     "iopub.status.busy": "2021-10-28T10:52:06.951351Z",
     "iopub.status.idle": "2021-10-28T10:52:06.963704Z",
     "shell.execute_reply": "2021-10-28T10:52:06.962266Z",
     "shell.execute_reply.started": "2021-10-28T10:52:06.952017Z"
    },
    "tags": []
   },
   "outputs": [],
   "source": [
    "with open(ROOT / \"refseq_proteins\", \"w\") as file:\n",
    "    file.write(\"\\n\".join([gene.annotation[\"ncbiprotein\"] for gene in model.genes]))"
   ]
  },
  {
   "cell_type": "markdown",
   "id": "0a936914-537a-460c-9611-f81e5fa1dfa4",
   "metadata": {
    "execution": {
     "iopub.execute_input": "2021-10-28T10:53:55.509763Z",
     "iopub.status.busy": "2021-10-28T10:53:55.509530Z",
     "iopub.status.idle": "2021-10-28T10:53:55.514885Z",
     "shell.execute_reply": "2021-10-28T10:53:55.513932Z",
     "shell.execute_reply.started": "2021-10-28T10:53:55.509733Z"
    },
    "tags": []
   },
   "source": [
    "The result was downloaded as a tab separated table."
   ]
  },
  {
   "cell_type": "code",
   "execution_count": 46,
   "id": "c50d7856-7db9-44fb-b22a-f3c747eb6886",
   "metadata": {
    "execution": {
     "iopub.execute_input": "2021-10-28T10:54:27.680902Z",
     "iopub.status.busy": "2021-10-28T10:54:27.680590Z",
     "iopub.status.idle": "2021-10-28T10:54:27.687241Z",
     "shell.execute_reply": "2021-10-28T10:54:27.686378Z",
     "shell.execute_reply.started": "2021-10-28T10:54:27.680866Z"
    },
    "tags": []
   },
   "outputs": [],
   "source": [
    "uni = dt.fread(ROOT / \"uniprot-yourlistM2021102892C7BAECDB1C5C413EE0E0348724B682257D40T.tab\")"
   ]
  },
  {
   "cell_type": "code",
   "execution_count": 53,
   "id": "2f9e66ef-0a39-4ce0-a7f9-2118fb122656",
   "metadata": {
    "execution": {
     "iopub.execute_input": "2021-10-28T10:56:22.820165Z",
     "iopub.status.busy": "2021-10-28T10:56:22.819657Z",
     "iopub.status.idle": "2021-10-28T10:56:22.825656Z",
     "shell.execute_reply": "2021-10-28T10:56:22.824544Z",
     "shell.execute_reply.started": "2021-10-28T10:56:22.820107Z"
    },
    "tags": []
   },
   "outputs": [],
   "source": [
    "uni.names = {\"yourlist:M2021102892C7BAECDB1C5C413EE0E0348724B682257D40T\": \"ncbiprotein\"}"
   ]
  },
  {
   "cell_type": "code",
   "execution_count": 54,
   "id": "bba722a6-df79-4076-8e8f-22aba079016e",
   "metadata": {
    "execution": {
     "iopub.execute_input": "2021-10-28T10:56:25.096339Z",
     "iopub.status.busy": "2021-10-28T10:56:25.095903Z",
     "iopub.status.idle": "2021-10-28T10:56:25.102621Z",
     "shell.execute_reply": "2021-10-28T10:56:25.101785Z",
     "shell.execute_reply.started": "2021-10-28T10:56:25.096295Z"
    },
    "tags": []
   },
   "outputs": [
    {
     "data": {
      "text/html": [
       "<div class='datatable'>\n",
       "  <table class='frame'>\n",
       "  <thead>\n",
       "    <tr class='colnames'><td class='row_index'></td><th>ncbiprotein</th><th>Entry</th><th>Entry name</th><th>Status</th><th>Protein names</th><th>Gene names</th><th>Organism</th><th>Length</th></tr>\n",
       "    <tr class='coltypes'><td class='row_index'></td><td class='str' title='str32'>&#x25AA;&#x25AA;&#x25AA;&#x25AA;</td><td class='str' title='str32'>&#x25AA;&#x25AA;&#x25AA;&#x25AA;</td><td class='str' title='str32'>&#x25AA;&#x25AA;&#x25AA;&#x25AA;</td><td class='str' title='str32'>&#x25AA;&#x25AA;&#x25AA;&#x25AA;</td><td class='str' title='str32'>&#x25AA;&#x25AA;&#x25AA;&#x25AA;</td><td class='str' title='str32'>&#x25AA;&#x25AA;&#x25AA;&#x25AA;</td><td class='str' title='str32'>&#x25AA;&#x25AA;&#x25AA;&#x25AA;</td><td class='int' title='int32'>&#x25AA;&#x25AA;&#x25AA;&#x25AA;</td></tr>\n",
       "  </thead>\n",
       "  <tbody>\n",
       "    <tr><td class='row_index'>0</td><td>WP_048093069.1</td><td>A0A062V0U9</td><td>A0A062V0U9_9EURY</td><td>unreviewed</td><td>Alanine dehydrogenase (AlaDH) (EC 1.4.1.1)</td><td>ala ANME2D_03016</td><td>Candidatus Methanoperedens nitroreducens</td><td>329</td></tr>\n",
       "    <tr><td class='row_index'>1</td><td>WP_048089698.1</td><td>A0A062VAG2</td><td>A0A062VAG2_9EURY</td><td>unreviewed</td><td>Aminotransferase (EC 2.6.1.-)</td><td>ANME2D_01156</td><td>Candidatus Methanoperedens nitroreducens</td><td>366</td></tr>\n",
       "    <tr><td class='row_index'>2</td><td>WP_048090317.1</td><td>A0A062V4F6</td><td>A0A062V4F6_9EURY</td><td>unreviewed</td><td>Aminotransferase (EC 2.6.1.-)</td><td>ANME2D_01641</td><td>Candidatus Methanoperedens nitroreducens</td><td>379</td></tr>\n",
       "    <tr><td class='row_index'>3</td><td>WP_048090480.1</td><td>A0A062V4T2</td><td>A0A062V4T2_9EURY</td><td>unreviewed</td><td>Aminotransferase (EC 2.6.1.-)</td><td>ANME2D_01743</td><td>Candidatus Methanoperedens nitroreducens</td><td>384</td></tr>\n",
       "    <tr><td class='row_index'>4</td><td>WP_048088486.1</td><td>A0A062VBZ7</td><td>A0A062VBZ7_9EURY</td><td>unreviewed</td><td>Argininosuccinate lyase (ASAL) (EC 4.3.2.1) (Argin&#133;</td><td>argH ANME2D_00289</td><td>Candidatus Methanoperedens nitroreducens</td><td>488</td></tr>\n",
       "    <tr><td class='row_index'>5</td><td>WP_048089156.1</td><td>A0A062V3K3</td><td>A0A062V3K3_9EURY</td><td>unreviewed</td><td>Adenylosuccinate synthetase (AMPSase) (AdSS) (EC 6&#133;</td><td>purA ANME2D_00749</td><td>Candidatus Methanoperedens nitroreducens</td><td>421</td></tr>\n",
       "    <tr><td class='row_index'>6</td><td>WP_048088213.1</td><td>A0A062V905</td><td>A0A062V905_9EURY</td><td>unreviewed</td><td>Adenylosuccinate lyase (ASL) (EC 4.3.2.2) (Adenylo&#133;</td><td>ANME2D_00062</td><td>Candidatus Methanoperedens nitroreducens</td><td>445</td></tr>\n",
       "    <tr><td class='row_index'>7</td><td>WP_048088217.1</td><td>A0A062V6T6</td><td>A0A062V6T6_9EURY</td><td>unreviewed</td><td>Aspartate ammonia-lyase (EC 4.3.1.1)</td><td>ANME2D_00066</td><td>Candidatus Methanoperedens nitroreducens</td><td>477</td></tr>\n",
       "    <tr><td class='row_index'>8</td><td>WP_048088667.1</td><td>A0A062V9X1</td><td>A0A062V9X1_9EURY</td><td>unreviewed</td><td>Aspartate carbamoyltransferase regulatory chain</td><td>pyrI ANME2D_00389</td><td>Candidatus Methanoperedens nitroreducens</td><td>153</td></tr>\n",
       "    <tr><td class='row_index'>9</td><td>WP_048088669.1</td><td>A0A062VCA0</td><td>A0A062VCA0_9EURY</td><td>unreviewed</td><td>Aspartate carbamoyltransferase (EC 2.1.3.2) (Aspar&#133;</td><td>pyrB ANME2D_00390</td><td>Candidatus Methanoperedens nitroreducens</td><td>302</td></tr>\n",
       "  </tbody>\n",
       "  </table>\n",
       "  <div class='footer'>\n",
       "    <div class='frame_dimensions'>10 rows &times; 8 columns</div>\n",
       "  </div>\n",
       "</div>\n"
      ],
      "text/plain": [
       "<Frame#7f45657323f0 10x8>"
      ]
     },
     "execution_count": 54,
     "metadata": {},
     "output_type": "execute_result"
    }
   ],
   "source": [
    "uni.head()"
   ]
  },
  {
   "cell_type": "code",
   "execution_count": 55,
   "id": "4d0559ca-d62f-4b8e-b24b-9ecfc8d46fa5",
   "metadata": {
    "execution": {
     "iopub.execute_input": "2021-10-28T11:41:28.694114Z",
     "iopub.status.busy": "2021-10-28T11:41:28.692884Z",
     "iopub.status.idle": "2021-10-28T11:41:28.739222Z",
     "shell.execute_reply": "2021-10-28T11:41:28.738540Z",
     "shell.execute_reply.started": "2021-10-28T11:41:28.694009Z"
    },
    "tags": []
   },
   "outputs": [
    {
     "data": {
      "text/plain": [
       "359"
      ]
     },
     "execution_count": 55,
     "metadata": {},
     "output_type": "execute_result"
    }
   ],
   "source": [
    "dt.unique(uni[\"ncbiprotein\"]).nrows"
   ]
  },
  {
   "cell_type": "code",
   "execution_count": 56,
   "id": "962ab25d-29e7-4929-ac9f-87fc94e6669a",
   "metadata": {
    "execution": {
     "iopub.execute_input": "2021-10-28T11:41:41.856816Z",
     "iopub.status.busy": "2021-10-28T11:41:41.856491Z",
     "iopub.status.idle": "2021-10-28T11:41:41.862136Z",
     "shell.execute_reply": "2021-10-28T11:41:41.861356Z",
     "shell.execute_reply.started": "2021-10-28T11:41:41.856780Z"
    },
    "tags": []
   },
   "outputs": [
    {
     "data": {
      "text/plain": [
       "359"
      ]
     },
     "execution_count": 56,
     "metadata": {},
     "output_type": "execute_result"
    }
   ],
   "source": [
    "uni[\"ncbiprotein\"].nrows"
   ]
  },
  {
   "cell_type": "code",
   "execution_count": 58,
   "id": "db1a8205-d5a3-446f-a97c-dafe3bb6c2c3",
   "metadata": {
    "execution": {
     "iopub.execute_input": "2021-10-28T11:42:29.047152Z",
     "iopub.status.busy": "2021-10-28T11:42:29.046735Z",
     "iopub.status.idle": "2021-10-28T11:42:29.156790Z",
     "shell.execute_reply": "2021-10-28T11:42:29.156353Z",
     "shell.execute_reply.started": "2021-10-28T11:42:29.047103Z"
    },
    "tags": []
   },
   "outputs": [],
   "source": [
    "for gene in model.genes:\n",
    "    matched = uni[f.ncbiprotein == gene.annotation[\"ncbiprotein\"], \"Entry\"]\n",
    "    if matched.nrows:\n",
    "        gene.annotation[\"uniprot\"] = matched[0, 0]\n",
    "    "
   ]
  },
  {
   "cell_type": "code",
   "execution_count": 59,
   "id": "bdb47ced-9541-493b-beef-e2d06b2442c7",
   "metadata": {
    "execution": {
     "iopub.execute_input": "2021-10-28T11:42:37.031635Z",
     "iopub.status.busy": "2021-10-28T11:42:37.030901Z",
     "iopub.status.idle": "2021-10-28T11:42:37.046289Z",
     "shell.execute_reply": "2021-10-28T11:42:37.044636Z",
     "shell.execute_reply.started": "2021-10-28T11:42:37.031546Z"
    },
    "tags": []
   },
   "outputs": [
    {
     "data": {
      "text/plain": [
       "{'locus_tag': 'ANME2D_RS00220',\n",
       " 'ncbiprotein': 'WP_048088203.1',\n",
       " 'uniprot': 'A0A062VCL9'}"
      ]
     },
     "execution_count": 59,
     "metadata": {},
     "output_type": "execute_result"
    }
   ],
   "source": [
    "model.genes.ANME2D_RS00220.annotation"
   ]
  },
  {
   "cell_type": "code",
   "execution_count": 60,
   "id": "bba22d11-cee4-4c7a-95d6-37ecc2625757",
   "metadata": {
    "execution": {
     "iopub.execute_input": "2021-10-28T11:43:31.935926Z",
     "iopub.status.busy": "2021-10-28T11:43:31.934815Z",
     "iopub.status.idle": "2021-10-28T11:43:32.755895Z",
     "shell.execute_reply": "2021-10-28T11:43:32.755455Z",
     "shell.execute_reply.started": "2021-10-28T11:43:31.935795Z"
    },
    "tags": []
   },
   "outputs": [],
   "source": [
    "cobra.io.write_sbml_model(model, model_file)"
   ]
  },
  {
   "cell_type": "markdown",
   "id": "96e33cca-b5b0-49cb-bef2-38d364fb4a6a",
   "metadata": {},
   "source": [
    "# SBO terms"
   ]
  },
  {
   "cell_type": "code",
   "execution_count": 63,
   "id": "6c65d25d-1d69-4971-8385-55fb162e14f8",
   "metadata": {
    "execution": {
     "iopub.execute_input": "2021-10-28T11:52:22.457525Z",
     "iopub.status.busy": "2021-10-28T11:52:22.456874Z",
     "iopub.status.idle": "2021-10-28T11:52:22.466549Z",
     "shell.execute_reply": "2021-10-28T11:52:22.464999Z",
     "shell.execute_reply.started": "2021-10-28T11:52:22.457447Z"
    },
    "tags": []
   },
   "outputs": [],
   "source": [
    "for genes in model.genes:\n",
    "    genes.annotation[\"sbo\"] = \"SBO:0000243\""
   ]
  },
  {
   "cell_type": "code",
   "execution_count": 65,
   "id": "8e78bef5-1c27-47c7-a1c1-16dc80fd54f5",
   "metadata": {
    "execution": {
     "iopub.execute_input": "2021-10-28T11:52:34.166695Z",
     "iopub.status.busy": "2021-10-28T11:52:34.166406Z",
     "iopub.status.idle": "2021-10-28T11:52:34.929220Z",
     "shell.execute_reply": "2021-10-28T11:52:34.928772Z",
     "shell.execute_reply.started": "2021-10-28T11:52:34.166671Z"
    },
    "tags": []
   },
   "outputs": [],
   "source": [
    "cobra.io.write_sbml_model(model, model_file)"
   ]
  }
 ],
 "metadata": {
  "kernelspec": {
   "display_name": "memote",
   "language": "python",
   "name": "memote"
  },
  "language_info": {
   "codemirror_mode": {
    "name": "ipython",
    "version": 3
   },
   "file_extension": ".py",
   "mimetype": "text/x-python",
   "name": "python",
   "nbconvert_exporter": "python",
   "pygments_lexer": "ipython3",
   "version": "3.9.7"
  }
 },
 "nbformat": 4,
 "nbformat_minor": 5
}
