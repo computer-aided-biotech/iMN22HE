{
 "cells": [
  {
   "cell_type": "markdown",
   "id": "2d8c57f9-f5ad-4b26-abc1-5bd92a764ac8",
   "metadata": {
    "tags": []
   },
   "source": [
    "# Reaction annotation\n",
    "Using MetaNetX reac_xref.tsv (can  be downloaded from [here](https://www.metanetx.org/mnxdoc/mnxref.html))."
   ]
  },
  {
   "cell_type": "code",
   "execution_count": 1,
   "id": "075ecef9-67c6-4bb8-8252-5752552fe9e6",
   "metadata": {
    "execution": {
     "iopub.execute_input": "2021-10-28T09:50:55.089539Z",
     "iopub.status.busy": "2021-10-28T09:50:55.089213Z",
     "iopub.status.idle": "2021-10-28T09:50:55.904278Z",
     "shell.execute_reply": "2021-10-28T09:50:55.903753Z",
     "shell.execute_reply.started": "2021-10-28T09:50:55.089462Z"
    },
    "tags": []
   },
   "outputs": [
    {
     "data": {
      "text/html": [
       "<style type='text/css'>\n",
       ".datatable table.frame { margin-bottom: 0; }\n",
       ".datatable table.frame thead { border-bottom: none; }\n",
       ".datatable table.frame tr.coltypes td {  color: #FFFFFF;  line-height: 6px;  padding: 0 0.5em;}\n",
       ".datatable .bool    { background: #DDDD99; }\n",
       ".datatable .object  { background: #565656; }\n",
       ".datatable .int     { background: #5D9E5D; }\n",
       ".datatable .float   { background: #4040CC; }\n",
       ".datatable .str     { background: #CC4040; }\n",
       ".datatable .time    { background: #40CC40; }\n",
       ".datatable .row_index {  background: var(--jp-border-color3);  border-right: 1px solid var(--jp-border-color0);  color: var(--jp-ui-font-color3);  font-size: 9px;}\n",
       ".datatable .frame tbody td { text-align: left; }\n",
       ".datatable .frame tr.coltypes .row_index {  background: var(--jp-border-color0);}\n",
       ".datatable th:nth-child(2) { padding-left: 12px; }\n",
       ".datatable .hellipsis {  color: var(--jp-cell-editor-border-color);}\n",
       ".datatable .vellipsis {  background: var(--jp-layout-color0);  color: var(--jp-cell-editor-border-color);}\n",
       ".datatable .na {  color: var(--jp-cell-editor-border-color);  font-size: 80%;}\n",
       ".datatable .sp {  opacity: 0.25;}\n",
       ".datatable .footer { font-size: 9px; }\n",
       ".datatable .frame_dimensions {  background: var(--jp-border-color3);  border-top: 1px solid var(--jp-border-color0);  color: var(--jp-ui-font-color3);  display: inline-block;  opacity: 0.6;  padding: 1px 10px 1px 5px;}\n",
       "</style>\n"
      ],
      "text/plain": [
       "<IPython.core.display.HTML object>"
      ]
     },
     "metadata": {},
     "output_type": "display_data"
    }
   ],
   "source": [
    "import re\n",
    "from collections import defaultdict\n",
    "from pathlib import Path\n",
    "\n",
    "import cobra\n",
    "from datatable import dt, f, join, update"
   ]
  },
  {
   "cell_type": "code",
   "execution_count": 2,
   "id": "5cbd077c-795f-4872-97c9-2583d2973a00",
   "metadata": {
    "execution": {
     "iopub.execute_input": "2021-10-28T09:50:55.905300Z",
     "iopub.status.busy": "2021-10-28T09:50:55.905146Z",
     "iopub.status.idle": "2021-10-28T09:50:55.908391Z",
     "shell.execute_reply": "2021-10-28T09:50:55.907933Z",
     "shell.execute_reply.started": "2021-10-28T09:50:55.905282Z"
    },
    "tags": []
   },
   "outputs": [],
   "source": [
    "ROOT = Path.cwd().parent\n",
    "model_file = str(ROOT / \"iMENI452.xml\")"
   ]
  },
  {
   "cell_type": "code",
   "execution_count": 3,
   "id": "0ea10fc7-ce9b-4d8b-9285-d6c4f423831b",
   "metadata": {
    "execution": {
     "iopub.execute_input": "2021-10-28T09:50:55.909261Z",
     "iopub.status.busy": "2021-10-28T09:50:55.909046Z",
     "iopub.status.idle": "2021-10-28T09:50:56.827745Z",
     "shell.execute_reply": "2021-10-28T09:50:56.827126Z",
     "shell.execute_reply.started": "2021-10-28T09:50:55.909241Z"
    },
    "tags": []
   },
   "outputs": [
    {
     "name": "stdout",
     "output_type": "stream",
     "text": [
      "Scaling...\n",
      " A: min|aij| =  1.000e+00  max|aij| =  1.000e+00  ratio =  1.000e+00\n",
      "Problem data seem to be well scaled\n"
     ]
    }
   ],
   "source": [
    "model = cobra.io.read_sbml_model(model_file)"
   ]
  },
  {
   "cell_type": "markdown",
   "id": "31437043-a88f-439f-967e-89264679fb0a",
   "metadata": {},
   "source": [
    "Gather all prepared reactions in a dataframe matched to their identifiers in the model."
   ]
  },
  {
   "cell_type": "code",
   "execution_count": 4,
   "id": "d85cd18d-9202-4559-a7fc-32f542c9ecdc",
   "metadata": {
    "execution": {
     "iopub.execute_input": "2021-10-28T09:50:56.829869Z",
     "iopub.status.busy": "2021-10-28T09:50:56.829520Z",
     "iopub.status.idle": "2021-10-28T09:50:56.834311Z",
     "shell.execute_reply": "2021-10-28T09:50:56.833708Z",
     "shell.execute_reply.started": "2021-10-28T09:50:56.829839Z"
    },
    "tags": []
   },
   "outputs": [],
   "source": [
    "reacs_prepared = [reac.id for reac in model.reactions]"
   ]
  },
  {
   "cell_type": "code",
   "execution_count": 5,
   "id": "e27869b2-2e16-4572-84c5-bd2aabefe552",
   "metadata": {
    "execution": {
     "iopub.execute_input": "2021-10-28T09:50:56.835536Z",
     "iopub.status.busy": "2021-10-28T09:50:56.835169Z",
     "iopub.status.idle": "2021-10-28T09:50:56.840633Z",
     "shell.execute_reply": "2021-10-28T09:50:56.840113Z",
     "shell.execute_reply.started": "2021-10-28T09:50:56.835497Z"
    },
    "tags": []
   },
   "outputs": [
    {
     "data": {
      "text/plain": [
       "['ALAD_L', 'ASPTA', 'ARGSS', 'ARGSL', 'ADSS']"
      ]
     },
     "execution_count": 5,
     "metadata": {},
     "output_type": "execute_result"
    }
   ],
   "source": [
    "reacs_prepared[:5]"
   ]
  },
  {
   "cell_type": "markdown",
   "id": "933578cf-1aab-484f-bc50-f48534512abc",
   "metadata": {},
   "source": [
    "Compartments in the reactions (mostly exchanges) should be \"\\_e\" instead of \"\\[e\\]\" "
   ]
  },
  {
   "cell_type": "code",
   "execution_count": 6,
   "id": "adba11f1-f022-4da2-9759-288734e3d15f",
   "metadata": {
    "execution": {
     "iopub.execute_input": "2021-10-28T09:50:56.841798Z",
     "iopub.status.busy": "2021-10-28T09:50:56.841576Z",
     "iopub.status.idle": "2021-10-28T09:50:56.846115Z",
     "shell.execute_reply": "2021-10-28T09:50:56.845351Z",
     "shell.execute_reply.started": "2021-10-28T09:50:56.841773Z"
    },
    "tags": []
   },
   "outputs": [],
   "source": [
    "REAC_PAT = re.compile(r\"\\[([ce])\\]$\")\n",
    "UNDER_PAT = re.compile(r\"-([CBT])\")  # acon-C should be acon_C\n",
    "DUNDER_PAT = re.compile(r\"-([DLSR])\")  # ala-L shoul´d be ala__L"
   ]
  },
  {
   "cell_type": "code",
   "execution_count": 7,
   "id": "d812b3ea-65cd-48f1-b271-de3e5f91a69f",
   "metadata": {
    "execution": {
     "iopub.execute_input": "2021-10-28T09:50:56.847427Z",
     "iopub.status.busy": "2021-10-28T09:50:56.847111Z",
     "iopub.status.idle": "2021-10-28T09:50:56.852689Z",
     "shell.execute_reply": "2021-10-28T09:50:56.852152Z",
     "shell.execute_reply.started": "2021-10-28T09:50:56.847398Z"
    },
    "tags": []
   },
   "outputs": [],
   "source": [
    "reacs_prepared = [REAC_PAT.sub(r\"_\\1\", reac) for reac in reacs_prepared]"
   ]
  },
  {
   "cell_type": "code",
   "execution_count": 8,
   "id": "171b7fd7-7c03-49cd-8350-c099f26a2360",
   "metadata": {
    "execution": {
     "iopub.execute_input": "2021-10-28T09:50:56.854069Z",
     "iopub.status.busy": "2021-10-28T09:50:56.853640Z",
     "iopub.status.idle": "2021-10-28T09:50:56.858725Z",
     "shell.execute_reply": "2021-10-28T09:50:56.858146Z",
     "shell.execute_reply.started": "2021-10-28T09:50:56.854027Z"
    },
    "tags": []
   },
   "outputs": [],
   "source": [
    "reacs_prepared = [\n",
    "    UNDER_PAT.sub(r\"_\\1\", DUNDER_PAT.sub(r\"__\\1\", reac))\n",
    "    if reac.startswith(\"EX_\")\n",
    "    else reac\n",
    "    for reac in reacs_prepared\n",
    "]"
   ]
  },
  {
   "cell_type": "markdown",
   "id": "b84bec73-df69-4156-85da-839adceb871d",
   "metadata": {
    "execution": {
     "iopub.execute_input": "2021-10-28T07:58:02.298441Z",
     "iopub.status.busy": "2021-10-28T07:58:02.297644Z",
     "iopub.status.idle": "2021-10-28T07:58:02.310477Z",
     "shell.execute_reply": "2021-10-28T07:58:02.308452Z",
     "shell.execute_reply.started": "2021-10-28T07:58:02.298357Z"
    },
    "tags": []
   },
   "source": [
    "These are bigg reactions which can be already annotated.\n",
    "\n",
    "The identifiers won't be changed right now to keep compatible with inhouse scripts, but this will have some slight impact in the score (all identfiers should be consistent with the way the are written in the largest found database/namespace)."
   ]
  },
  {
   "cell_type": "code",
   "execution_count": 9,
   "id": "7549a086-ffa6-4acd-87d2-24310645fafa",
   "metadata": {
    "execution": {
     "iopub.execute_input": "2021-10-28T09:50:56.859897Z",
     "iopub.status.busy": "2021-10-28T09:50:56.859581Z",
     "iopub.status.idle": "2021-10-28T09:50:56.864318Z",
     "shell.execute_reply": "2021-10-28T09:50:56.863726Z",
     "shell.execute_reply.started": "2021-10-28T09:50:56.859864Z"
    },
    "tags": []
   },
   "outputs": [],
   "source": [
    "for reac, annot in zip(model.reactions, reacs_prepared):\n",
    "    reac.annotation[\"bigg.reaction\"] = annot"
   ]
  },
  {
   "cell_type": "code",
   "execution_count": 10,
   "id": "5fe4e48c-9b66-42c7-a1ae-69fcb2c77ea2",
   "metadata": {
    "execution": {
     "iopub.execute_input": "2021-10-28T09:50:56.866668Z",
     "iopub.status.busy": "2021-10-28T09:50:56.866370Z",
     "iopub.status.idle": "2021-10-28T09:50:56.871306Z",
     "shell.execute_reply": "2021-10-28T09:50:56.870714Z",
     "shell.execute_reply.started": "2021-10-28T09:50:56.866635Z"
    },
    "tags": []
   },
   "outputs": [],
   "source": [
    "reacs_prepared = dt.Frame(\n",
    "    key=reacs_prepared, in_model=[reac.id for reac in model.reactions]\n",
    ")"
   ]
  },
  {
   "cell_type": "code",
   "execution_count": 11,
   "id": "445f9daf-dfdf-42ac-ae0b-2bb092394d9d",
   "metadata": {
    "execution": {
     "iopub.execute_input": "2021-10-28T09:50:56.872435Z",
     "iopub.status.busy": "2021-10-28T09:50:56.872188Z",
     "iopub.status.idle": "2021-10-28T09:50:56.879310Z",
     "shell.execute_reply": "2021-10-28T09:50:56.878382Z",
     "shell.execute_reply.started": "2021-10-28T09:50:56.872412Z"
    },
    "tags": []
   },
   "outputs": [
    {
     "data": {
      "text/html": [
       "<div class='datatable'>\n",
       "  <table class='frame'>\n",
       "  <thead>\n",
       "    <tr class='colnames'><td class='row_index'></td><th>key</th><th>in_model</th></tr>\n",
       "    <tr class='coltypes'><td class='row_index'></td><td class='str' title='str32'>&#x25AA;&#x25AA;&#x25AA;&#x25AA;</td><td class='str' title='str32'>&#x25AA;&#x25AA;&#x25AA;&#x25AA;</td></tr>\n",
       "  </thead>\n",
       "  <tbody>\n",
       "    <tr><td class='row_index'>0</td><td>ALAD_L</td><td>ALAD_L</td></tr>\n",
       "    <tr><td class='row_index'>1</td><td>ASPTA</td><td>ASPTA</td></tr>\n",
       "    <tr><td class='row_index'>2</td><td>ARGSS</td><td>ARGSS</td></tr>\n",
       "    <tr><td class='row_index'>3</td><td>ARGSL</td><td>ARGSL</td></tr>\n",
       "    <tr><td class='row_index'>4</td><td>ADSS</td><td>ADSS</td></tr>\n",
       "    <tr><td class='row_index'>5</td><td>ADSL1r</td><td>ADSL1r</td></tr>\n",
       "    <tr><td class='row_index'>6</td><td>ASPT</td><td>ASPT</td></tr>\n",
       "    <tr><td class='row_index'>7</td><td>ASPCT</td><td>ASPCT</td></tr>\n",
       "    <tr><td class='row_index'>8</td><td>ASP1DC</td><td>ASP1DC</td></tr>\n",
       "    <tr><td class='row_index'>9</td><td>ALATRS</td><td>ALATRS</td></tr>\n",
       "  </tbody>\n",
       "  </table>\n",
       "  <div class='footer'>\n",
       "    <div class='frame_dimensions'>10 rows &times; 2 columns</div>\n",
       "  </div>\n",
       "</div>\n"
      ],
      "text/plain": [
       "<Frame#7f3d3021f6c0 10x2>"
      ]
     },
     "execution_count": 11,
     "metadata": {},
     "output_type": "execute_result"
    }
   ],
   "source": [
    "reacs_prepared.head()"
   ]
  },
  {
   "cell_type": "markdown",
   "id": "6f008ee4-d5f7-4955-a31a-12090318c890",
   "metadata": {},
   "source": [
    "Now that we have the model reactions in a data frame, let's prepare the MNX dataset."
   ]
  },
  {
   "cell_type": "code",
   "execution_count": 12,
   "id": "653f66f4-e23b-4f60-b4f9-c16177790648",
   "metadata": {
    "execution": {
     "iopub.execute_input": "2021-10-28T09:50:56.880863Z",
     "iopub.status.busy": "2021-10-28T09:50:56.880406Z",
     "iopub.status.idle": "2021-10-28T09:50:57.018898Z",
     "shell.execute_reply": "2021-10-28T09:50:57.017359Z",
     "shell.execute_reply.started": "2021-10-28T09:50:56.880836Z"
    },
    "tags": []
   },
   "outputs": [],
   "source": [
    "mnx = dt.fread(str(ROOT / \"reac_xref.tsv\"), skip_to_line=352)"
   ]
  },
  {
   "cell_type": "code",
   "execution_count": 13,
   "id": "3223caea-8a1b-41b8-9759-e721aa8fc9d2",
   "metadata": {
    "execution": {
     "iopub.execute_input": "2021-10-28T09:50:57.020172Z",
     "iopub.status.busy": "2021-10-28T09:50:57.019911Z",
     "iopub.status.idle": "2021-10-28T09:50:57.024024Z",
     "shell.execute_reply": "2021-10-28T09:50:57.023605Z",
     "shell.execute_reply.started": "2021-10-28T09:50:57.020150Z"
    },
    "tags": []
   },
   "outputs": [
    {
     "data": {
      "text/html": [
       "<div class='datatable'>\n",
       "  <table class='frame'>\n",
       "  <thead>\n",
       "    <tr class='colnames'><td class='row_index'></td><th>#source</th><th>ID</th><th>description</th></tr>\n",
       "    <tr class='coltypes'><td class='row_index'></td><td class='str' title='str32'>&#x25AA;&#x25AA;&#x25AA;&#x25AA;</td><td class='str' title='str32'>&#x25AA;&#x25AA;&#x25AA;&#x25AA;</td><td class='str' title='str32'>&#x25AA;&#x25AA;&#x25AA;&#x25AA;</td></tr>\n",
       "  </thead>\n",
       "  <tbody>\n",
       "    <tr><td class='row_index'>0</td><td>EMPTY</td><td>EMPTY</td><td>Empty equation</td></tr>\n",
       "    <tr><td class='row_index'>1</td><td>bigg.reaction:CRBNTD</td><td>EMPTY</td><td>H2CO3 dissociation||1 biggM:h2co3@biggC:x = 1 bigg&#133;</td></tr>\n",
       "    <tr><td class='row_index'>2</td><td>bigg.reaction:DNADRAIN</td><td>EMPTY</td><td>Dna sink transport reaction|| =</td></tr>\n",
       "    <tr><td class='row_index'>3</td><td>bigg.reaction:H2CO3D2</td><td>EMPTY</td><td>Carboxylic acid dissociation||1 biggM:h2co3@biggC:&#133;</td></tr>\n",
       "    <tr><td class='row_index'>4</td><td>bigg.reaction:H2CO3D2m</td><td>EMPTY</td><td>Carboxylic acid dissociation, mitochondrial||1 big&#133;</td></tr>\n",
       "    <tr><td class='row_index'>5</td><td>bigg.reaction:HMR_5409</td><td>EMPTY</td><td>HMR 5409||1 biggM:h@biggC:e + 1 biggM:hco3@biggC:e&#133;</td></tr>\n",
       "    <tr><td class='row_index'>6</td><td>bigg.reaction:NH3c</td><td>EMPTY</td><td>Ammomnium proton dissociation||1 biggM:nh4@biggC:c&#133;</td></tr>\n",
       "    <tr><td class='row_index'>7</td><td>bigg.reaction:NH4DISg</td><td>EMPTY</td><td>Nh4 Dissociation||1 biggM:h@biggC:x + 1 biggM:nh3@&#133;</td></tr>\n",
       "    <tr><td class='row_index'>8</td><td>bigg.reaction:RE2594C</td><td>EMPTY</td><td>RE2594||1 biggM:h@biggC:c + 1 biggM:CE2949@biggC:c&#133;</td></tr>\n",
       "    <tr><td class='row_index'>9</td><td>bigg.reaction:R_CRBNTD</td><td>EMPTY</td><td>secondary/obsolete/fantasy identifier</td></tr>\n",
       "  </tbody>\n",
       "  </table>\n",
       "  <div class='footer'>\n",
       "    <div class='frame_dimensions'>10 rows &times; 3 columns</div>\n",
       "  </div>\n",
       "</div>\n"
      ],
      "text/plain": [
       "<Frame#7f3cea285120 10x3>"
      ]
     },
     "execution_count": 13,
     "metadata": {},
     "output_type": "execute_result"
    }
   ],
   "source": [
    "mnx.head()"
   ]
  },
  {
   "cell_type": "code",
   "execution_count": 14,
   "id": "e58e7812-2cfa-44bd-a82c-b83b4c15f4f7",
   "metadata": {
    "execution": {
     "iopub.execute_input": "2021-10-28T09:50:57.025367Z",
     "iopub.status.busy": "2021-10-28T09:50:57.025033Z",
     "iopub.status.idle": "2021-10-28T09:50:57.031461Z",
     "shell.execute_reply": "2021-10-28T09:50:57.030093Z",
     "shell.execute_reply.started": "2021-10-28T09:50:57.025341Z"
    },
    "tags": []
   },
   "outputs": [
    {
     "data": {
      "text/html": [
       "<div class='datatable'>\n",
       "  <table class='frame'>\n",
       "  <thead>\n",
       "    <tr class='colnames'><td class='row_index'></td><th>#source</th><th>ID</th><th>description</th></tr>\n",
       "    <tr class='coltypes'><td class='row_index'></td><td class='str' title='str32'>&#x25AA;&#x25AA;&#x25AA;&#x25AA;</td><td class='str' title='str32'>&#x25AA;&#x25AA;&#x25AA;&#x25AA;</td><td class='str' title='str32'>&#x25AA;&#x25AA;&#x25AA;&#x25AA;</td></tr>\n",
       "  </thead>\n",
       "  <tbody>\n",
       "    <tr><td class='row_index'>0</td><td>biggR:GALNACT2g</td><td>MNXR99997</td><td>Uridine diphosphoacetylgalactosamine-chondroitin a&#133;</td></tr>\n",
       "    <tr><td class='row_index'>1</td><td>biggR:R_GALNACT2g</td><td>MNXR99997</td><td>secondary/obsolete/fantasy identifier</td></tr>\n",
       "    <tr><td class='row_index'>2</td><td>bigg.reaction:GALNACT3g</td><td>MNXR99998</td><td>Uridine diphosphoacetylgalactosamine-chondroitin a&#133;</td></tr>\n",
       "    <tr><td class='row_index'>3</td><td>bigg.reaction:R_GALNACT3g</td><td>MNXR99998</td><td>secondary/obsolete/fantasy identifier</td></tr>\n",
       "    <tr><td class='row_index'>4</td><td>biggR:GALNACT3g</td><td>MNXR99998</td><td>Uridine diphosphoacetylgalactosamine-chondroitin a&#133;</td></tr>\n",
       "    <tr><td class='row_index'>5</td><td>biggR:R_GALNACT3g</td><td>MNXR99998</td><td>secondary/obsolete/fantasy identifier</td></tr>\n",
       "    <tr><td class='row_index'>6</td><td>bigg.reaction:GALNACT4g</td><td>MNXR99999</td><td>Uridine diphosphoacetylgalactosamine-chondroitin a&#133;</td></tr>\n",
       "    <tr><td class='row_index'>7</td><td>bigg.reaction:R_GALNACT4g</td><td>MNXR99999</td><td>secondary/obsolete/fantasy identifier</td></tr>\n",
       "    <tr><td class='row_index'>8</td><td>biggR:GALNACT4g</td><td>MNXR99999</td><td>Uridine diphosphoacetylgalactosamine-chondroitin a&#133;</td></tr>\n",
       "    <tr><td class='row_index'>9</td><td>biggR:R_GALNACT4g</td><td>MNXR99999</td><td>secondary/obsolete/fantasy identifier</td></tr>\n",
       "  </tbody>\n",
       "  </table>\n",
       "  <div class='footer'>\n",
       "    <div class='frame_dimensions'>10 rows &times; 3 columns</div>\n",
       "  </div>\n",
       "</div>\n"
      ],
      "text/plain": [
       "<Frame#7f3cea28ce70 10x3>"
      ]
     },
     "execution_count": 14,
     "metadata": {},
     "output_type": "execute_result"
    }
   ],
   "source": [
    "mnx.tail()"
   ]
  },
  {
   "cell_type": "code",
   "execution_count": 15,
   "id": "9738291d-b0ee-443c-9fe8-6092dd8a0eb1",
   "metadata": {
    "execution": {
     "iopub.execute_input": "2021-10-28T09:50:57.033371Z",
     "iopub.status.busy": "2021-10-28T09:50:57.032455Z",
     "iopub.status.idle": "2021-10-28T09:50:57.036651Z",
     "shell.execute_reply": "2021-10-28T09:50:57.036105Z",
     "shell.execute_reply.started": "2021-10-28T09:50:57.033279Z"
    },
    "tags": []
   },
   "outputs": [],
   "source": [
    "mnx.names = [\"key\", \"mnx\", \"description\"]"
   ]
  },
  {
   "cell_type": "markdown",
   "id": "309b1796-7d38-40fd-b70f-da61ad8f2811",
   "metadata": {},
   "source": [
    "## MNX space"
   ]
  },
  {
   "cell_type": "markdown",
   "id": "d8cc1900-f167-4ad5-a036-cabec85b033a",
   "metadata": {},
   "source": [
    "The first step is to map the BiGG reaction identifiers to MXN."
   ]
  },
  {
   "cell_type": "code",
   "execution_count": 16,
   "id": "9634ad1b-eaed-4595-9210-68b653ba2395",
   "metadata": {
    "execution": {
     "iopub.execute_input": "2021-10-28T09:50:57.037468Z",
     "iopub.status.busy": "2021-10-28T09:50:57.037303Z",
     "iopub.status.idle": "2021-10-28T09:50:57.139828Z",
     "shell.execute_reply": "2021-10-28T09:50:57.139224Z",
     "shell.execute_reply.started": "2021-10-28T09:50:57.037444Z"
    },
    "tags": []
   },
   "outputs": [],
   "source": [
    "bigg_mnx = mnx[\n",
    "    dt.re.match(f.key, \"^bigg\\.reaction:.+\"), {\"key\": f.key[14:], \"mnx\": f.mnx}\n",
    "]"
   ]
  },
  {
   "cell_type": "code",
   "execution_count": 17,
   "id": "1f1e3694-abef-448b-82ba-a21aac77fd48",
   "metadata": {
    "execution": {
     "iopub.execute_input": "2021-10-28T09:50:57.142094Z",
     "iopub.status.busy": "2021-10-28T09:50:57.140755Z",
     "iopub.status.idle": "2021-10-28T09:50:57.161781Z",
     "shell.execute_reply": "2021-10-28T09:50:57.161183Z",
     "shell.execute_reply.started": "2021-10-28T09:50:57.142067Z"
    },
    "tags": []
   },
   "outputs": [
    {
     "data": {
      "text/html": [
       "<div class='datatable'>\n",
       "  <table class='frame'>\n",
       "  <thead>\n",
       "    <tr class='colnames'><td class='row_index'></td><th>key</th><th>mnx</th></tr>\n",
       "    <tr class='coltypes'><td class='row_index'></td><td class='str' title='str32'>&#x25AA;&#x25AA;&#x25AA;&#x25AA;</td><td class='str' title='str32'>&#x25AA;&#x25AA;&#x25AA;&#x25AA;</td></tr>\n",
       "  </thead>\n",
       "  <tbody>\n",
       "    <tr><td class='row_index'>0</td><td>EX_glyc__R_e</td><td>MNXR145093</td></tr>\n",
       "  </tbody>\n",
       "  </table>\n",
       "  <div class='footer'>\n",
       "    <div class='frame_dimensions'>1 row &times; 2 columns</div>\n",
       "  </div>\n",
       "</div>\n"
      ],
      "text/plain": [
       "<Frame#7f3cea2d4150 1x2>"
      ]
     },
     "execution_count": 17,
     "metadata": {},
     "output_type": "execute_result"
    }
   ],
   "source": [
    "bigg_mnx[dt.re.match(f.key, \"EX_glyc__R.*\"), :]"
   ]
  },
  {
   "cell_type": "code",
   "execution_count": 18,
   "id": "3a7677cd-8346-4569-8fcd-df906b4b63ed",
   "metadata": {
    "execution": {
     "iopub.execute_input": "2021-10-28T09:50:57.162942Z",
     "iopub.status.busy": "2021-10-28T09:50:57.162672Z",
     "iopub.status.idle": "2021-10-28T09:50:57.234136Z",
     "shell.execute_reply": "2021-10-28T09:50:57.233478Z",
     "shell.execute_reply.started": "2021-10-28T09:50:57.162921Z"
    },
    "tags": []
   },
   "outputs": [],
   "source": [
    "bigg_mnx.key = \"key\""
   ]
  },
  {
   "cell_type": "markdown",
   "id": "f89ac624-0806-46fa-8c45-d1a2f3771f04",
   "metadata": {},
   "source": [
    "Join by bigg id in the model, so that we take only the reactions of interest."
   ]
  },
  {
   "cell_type": "code",
   "execution_count": 19,
   "id": "828a5612-ac58-496f-8364-fff57336c986",
   "metadata": {
    "execution": {
     "iopub.execute_input": "2021-10-28T09:50:57.236068Z",
     "iopub.status.busy": "2021-10-28T09:50:57.235353Z",
     "iopub.status.idle": "2021-10-28T09:50:57.252739Z",
     "shell.execute_reply": "2021-10-28T09:50:57.252219Z",
     "shell.execute_reply.started": "2021-10-28T09:50:57.236020Z"
    },
    "tags": []
   },
   "outputs": [],
   "source": [
    "reacs_prepared = reacs_prepared[:, :, join(bigg_mnx)]"
   ]
  },
  {
   "cell_type": "code",
   "execution_count": 20,
   "id": "fdf4b35f-eb23-4fa1-8f6a-15c85a108c75",
   "metadata": {
    "execution": {
     "iopub.execute_input": "2021-10-28T09:50:57.267258Z",
     "iopub.status.busy": "2021-10-28T09:50:57.257502Z",
     "iopub.status.idle": "2021-10-28T09:50:57.273340Z",
     "shell.execute_reply": "2021-10-28T09:50:57.272933Z",
     "shell.execute_reply.started": "2021-10-28T09:50:57.267211Z"
    },
    "tags": []
   },
   "outputs": [
    {
     "data": {
      "text/plain": [
       "813"
      ]
     },
     "execution_count": 20,
     "metadata": {},
     "output_type": "execute_result"
    }
   ],
   "source": [
    "reacs_prepared.nrows"
   ]
  },
  {
   "cell_type": "code",
   "execution_count": 21,
   "id": "44a7e336-75ab-4c51-bff2-a0e2dcea27a4",
   "metadata": {
    "execution": {
     "iopub.execute_input": "2021-10-28T09:50:57.274956Z",
     "iopub.status.busy": "2021-10-28T09:50:57.274169Z",
     "iopub.status.idle": "2021-10-28T09:50:57.286681Z",
     "shell.execute_reply": "2021-10-28T09:50:57.283495Z",
     "shell.execute_reply.started": "2021-10-28T09:50:57.274906Z"
    },
    "tags": []
   },
   "outputs": [
    {
     "data": {
      "text/plain": [
       "182"
      ]
     },
     "execution_count": 21,
     "metadata": {},
     "output_type": "execute_result"
    }
   ],
   "source": [
    "reacs_prepared[dt.isna(f.mnx), :].nrows"
   ]
  },
  {
   "cell_type": "code",
   "execution_count": 22,
   "id": "437cef76-5636-48d6-b18a-6746bd3326ed",
   "metadata": {
    "execution": {
     "iopub.execute_input": "2021-10-28T09:50:57.288208Z",
     "iopub.status.busy": "2021-10-28T09:50:57.287869Z",
     "iopub.status.idle": "2021-10-28T09:50:57.307767Z",
     "shell.execute_reply": "2021-10-28T09:50:57.307106Z",
     "shell.execute_reply.started": "2021-10-28T09:50:57.288184Z"
    },
    "tags": []
   },
   "outputs": [
    {
     "data": {
      "text/html": [
       "<div class='datatable'>\n",
       "  <table class='frame'>\n",
       "  <thead>\n",
       "    <tr class='colnames'><td class='row_index'></td><th>key</th><th>in_model</th><th>mnx</th></tr>\n",
       "    <tr class='coltypes'><td class='row_index'></td><td class='str' title='str32'>&#x25AA;&#x25AA;&#x25AA;&#x25AA;</td><td class='str' title='str32'>&#x25AA;&#x25AA;&#x25AA;&#x25AA;</td><td class='str' title='str32'>&#x25AA;&#x25AA;&#x25AA;&#x25AA;</td></tr>\n",
       "  </thead>\n",
       "  <tbody>\n",
       "    <tr><td class='row_index'>0</td><td>BSPRR</td><td>BSPRR</td><td><span class=na>NA</span></td></tr>\n",
       "    <tr><td class='row_index'>1</td><td>GLYALDOX</td><td>GLYALDOX</td><td><span class=na>NA</span></td></tr>\n",
       "    <tr><td class='row_index'>2</td><td>UDPGDr</td><td>UDPGDr</td><td><span class=na>NA</span></td></tr>\n",
       "    <tr><td class='row_index'>3</td><td>SDH</td><td>SDH</td><td><span class=na>NA</span></td></tr>\n",
       "    <tr><td class='row_index'>4</td><td>SCS</td><td>SCS</td><td><span class=na>NA</span></td></tr>\n",
       "    <tr><td class='row_index'>5</td><td>ICITDH</td><td>ICITDH</td><td><span class=na>NA</span></td></tr>\n",
       "    <tr><td class='row_index'>6</td><td>POK</td><td>POK</td><td><span class=na>NA</span></td></tr>\n",
       "    <tr><td class='row_index'>7</td><td>PPTS</td><td>PPTS</td><td><span class=na>NA</span></td></tr>\n",
       "    <tr><td class='row_index'>8</td><td>LCYSTS</td><td>LCYSTS</td><td><span class=na>NA</span></td></tr>\n",
       "    <tr><td class='row_index'>9</td><td>CYSSr</td><td>CYSSr</td><td><span class=na>NA</span></td></tr>\n",
       "    <tr><td class='row_index'>10</td><td>biomass</td><td>biomass</td><td><span class=na>NA</span></td></tr>\n",
       "    <tr><td class='row_index'>11</td><td>EX_uamr_e</td><td>EX_uamr[e]</td><td><span class=na>NA</span></td></tr>\n",
       "    <tr><td class='row_index'>12</td><td>EX_gdpfuc_e</td><td>EX_gdpfuc[e]</td><td><span class=na>NA</span></td></tr>\n",
       "    <tr><td class='row_index'>13</td><td>EX_2inst_e</td><td>EX_2inst[e]</td><td><span class=na>NA</span></td></tr>\n",
       "    <tr><td class='row_index'>14</td><td>EX_uacmamu_e</td><td>EX_uacmamu[e]</td><td><span class=na>NA</span></td></tr>\n",
       "    <tr><td class='row_index'>&#x22EE;</td><td class='hellipsis'>&#x22EE;</td><td class='hellipsis'>&#x22EE;</td><td class='hellipsis'>&#x22EE;</td></tr>\n",
       "    <tr><td class='row_index'>177</td><td>2OBUTHE2THPPTRX</td><td>2OBUTHE2THPPTRX</td><td><span class=na>NA</span></td></tr>\n",
       "    <tr><td class='row_index'>178</td><td>3H3MOPI</td><td>3H3MOPI</td><td><span class=na>NA</span></td></tr>\n",
       "    <tr><td class='row_index'>179</td><td>3H3MOPOX</td><td>3H3MOPOX</td><td><span class=na>NA</span></td></tr>\n",
       "    <tr><td class='row_index'>180</td><td>2H3MOAOX</td><td>2H3MOAOX</td><td><span class=na>NA</span></td></tr>\n",
       "    <tr><td class='row_index'>181</td><td>ADCL2</td><td>ADCL2</td><td><span class=na>NA</span></td></tr>\n",
       "  </tbody>\n",
       "  </table>\n",
       "  <div class='footer'>\n",
       "    <div class='frame_dimensions'>182 rows &times; 3 columns</div>\n",
       "  </div>\n",
       "</div>\n"
      ],
      "text/plain": [
       "<Frame#7f3cea2d4840 182x3>"
      ]
     },
     "execution_count": 22,
     "metadata": {},
     "output_type": "execute_result"
    }
   ],
   "source": [
    "reacs_prepared[dt.isna(f.mnx), :]"
   ]
  },
  {
   "cell_type": "code",
   "execution_count": 23,
   "id": "ca80b84f-7800-41bd-b86e-c606b7eba166",
   "metadata": {
    "execution": {
     "iopub.execute_input": "2021-10-28T09:50:57.309038Z",
     "iopub.status.busy": "2021-10-28T09:50:57.308743Z",
     "iopub.status.idle": "2021-10-28T09:50:57.323159Z",
     "shell.execute_reply": "2021-10-28T09:50:57.322552Z",
     "shell.execute_reply.started": "2021-10-28T09:50:57.309016Z"
    },
    "tags": []
   },
   "outputs": [
    {
     "data": {
      "text/plain": [
       "813"
      ]
     },
     "execution_count": 23,
     "metadata": {},
     "output_type": "execute_result"
    }
   ],
   "source": [
    "len(model.reactions)"
   ]
  },
  {
   "cell_type": "code",
   "execution_count": 24,
   "id": "a2ce9a1a-3dce-4e96-a59e-52fd5ea22ef3",
   "metadata": {
    "execution": {
     "iopub.execute_input": "2021-10-28T09:50:57.324408Z",
     "iopub.status.busy": "2021-10-28T09:50:57.324128Z",
     "iopub.status.idle": "2021-10-28T09:50:57.507699Z",
     "shell.execute_reply": "2021-10-28T09:50:57.507279Z",
     "shell.execute_reply.started": "2021-10-28T09:50:57.324387Z"
    },
    "tags": []
   },
   "outputs": [],
   "source": [
    "for reac in model.reactions:\n",
    "    matched = reacs_prepared[f.in_model == reac.id, \"mnx\"]\n",
    "    if matched.nrows:\n",
    "        annot = matched[0, 0]\n",
    "        if matched:\n",
    "            reac.annotation[\"metanetx.reaction\"] = matched[0, 0]"
   ]
  },
  {
   "cell_type": "code",
   "execution_count": 25,
   "id": "9b68dee0-8b44-4571-b4a6-7466dcc42319",
   "metadata": {
    "execution": {
     "iopub.execute_input": "2021-10-28T09:50:57.508800Z",
     "iopub.status.busy": "2021-10-28T09:50:57.508553Z",
     "iopub.status.idle": "2021-10-28T09:50:57.513133Z",
     "shell.execute_reply": "2021-10-28T09:50:57.512683Z",
     "shell.execute_reply.started": "2021-10-28T09:50:57.508782Z"
    },
    "tags": []
   },
   "outputs": [
    {
     "data": {
      "text/plain": [
       "631"
      ]
     },
     "execution_count": 25,
     "metadata": {},
     "output_type": "execute_result"
    }
   ],
   "source": [
    "len(\n",
    "    [\n",
    "        1\n",
    "        for reac in model.reactions\n",
    "        if \"metanetx.reaction\" in reac.annotation\n",
    "        if reac.annotation[\"metanetx.reaction\"] is not None\n",
    "    ]\n",
    ")"
   ]
  },
  {
   "cell_type": "code",
   "execution_count": 26,
   "id": "66e58851-2498-4f88-829e-ee5fb20377d4",
   "metadata": {
    "execution": {
     "iopub.execute_input": "2021-10-28T09:50:57.514419Z",
     "iopub.status.busy": "2021-10-28T09:50:57.514012Z",
     "iopub.status.idle": "2021-10-28T09:50:57.548149Z",
     "shell.execute_reply": "2021-10-28T09:50:57.544455Z",
     "shell.execute_reply.started": "2021-10-28T09:50:57.514381Z"
    },
    "tags": []
   },
   "outputs": [],
   "source": [
    "for reac in model.reactions:\n",
    "    if \"metanetx.reaction\" in reac.annotation:\n",
    "        if reac.annotation[\"metanetx.reaction\"] is None:\n",
    "            del reac.annotation[\"metanetx.reaction\"]"
   ]
  },
  {
   "cell_type": "code",
   "execution_count": 27,
   "id": "09e3d676-2b74-4301-9ad9-bb4504afcec8",
   "metadata": {
    "execution": {
     "iopub.execute_input": "2021-10-28T09:50:57.549069Z",
     "iopub.status.busy": "2021-10-28T09:50:57.548911Z",
     "iopub.status.idle": "2021-10-28T09:50:57.553783Z",
     "shell.execute_reply": "2021-10-28T09:50:57.553355Z",
     "shell.execute_reply.started": "2021-10-28T09:50:57.549049Z"
    },
    "tags": []
   },
   "outputs": [
    {
     "data": {
      "text/plain": [
       "813"
      ]
     },
     "execution_count": 27,
     "metadata": {},
     "output_type": "execute_result"
    }
   ],
   "source": [
    "len(model.reactions)"
   ]
  },
  {
   "cell_type": "markdown",
   "id": "308e94b0-f82f-40f9-bc31-43ca4a37361e",
   "metadata": {},
   "source": [
    "## Annotating BiGG"
   ]
  },
  {
   "cell_type": "code",
   "execution_count": 28,
   "id": "6a83b660-d222-4dde-a3fc-802c5aae6147",
   "metadata": {
    "execution": {
     "iopub.execute_input": "2021-10-28T09:50:57.555924Z",
     "iopub.status.busy": "2021-10-28T09:50:57.555730Z",
     "iopub.status.idle": "2021-10-28T09:50:57.558944Z",
     "shell.execute_reply": "2021-10-28T09:50:57.558283Z",
     "shell.execute_reply.started": "2021-10-28T09:50:57.555904Z"
    },
    "tags": []
   },
   "outputs": [],
   "source": [
    "mnx[\"db\"] = \"mnx\""
   ]
  },
  {
   "cell_type": "code",
   "execution_count": 29,
   "id": "34609fc5-8cf9-4071-a1b1-d928ce06d040",
   "metadata": {
    "execution": {
     "iopub.execute_input": "2021-10-28T09:50:57.559905Z",
     "iopub.status.busy": "2021-10-28T09:50:57.559695Z",
     "iopub.status.idle": "2021-10-28T09:50:57.563923Z",
     "shell.execute_reply": "2021-10-28T09:50:57.563330Z",
     "shell.execute_reply.started": "2021-10-28T09:50:57.559883Z"
    },
    "tags": []
   },
   "outputs": [],
   "source": [
    "def get_id_db(id_base: str) -> (str, str):\n",
    "    id_base = id_base.split(\":\", maxsplit=1)\n",
    "    if len(id_base) > 1:\n",
    "        db, id = id_base\n",
    "    else:\n",
    "        db, id = \"mnx\", id_base[0]\n",
    "    return id, db"
   ]
  },
  {
   "cell_type": "code",
   "execution_count": 30,
   "id": "95eb8714-a0ea-41b8-93d0-c6365e5c2a08",
   "metadata": {
    "execution": {
     "iopub.execute_input": "2021-10-28T09:50:57.565010Z",
     "iopub.status.busy": "2021-10-28T09:50:57.564717Z",
     "iopub.status.idle": "2021-10-28T09:50:57.894097Z",
     "shell.execute_reply": "2021-10-28T09:50:57.893490Z",
     "shell.execute_reply.started": "2021-10-28T09:50:57.564986Z"
    },
    "tags": []
   },
   "outputs": [],
   "source": [
    "ids_dbs = [get_id_db(mnx[i, \"key\"]) for i in range(mnx.nrows)]\n",
    "ids = [el[0] for el in ids_dbs]\n",
    "dbs = [el[1] for el in ids_dbs]\n",
    "mnx[\"key\"] = dt.Frame(ids)\n",
    "mnx[\"db\"] = dt.Frame(dbs)"
   ]
  },
  {
   "cell_type": "code",
   "execution_count": 33,
   "id": "1b49b4ac-85ee-4cfe-9ea5-759c1fce9618",
   "metadata": {
    "execution": {
     "iopub.execute_input": "2021-10-28T09:51:09.495699Z",
     "iopub.status.busy": "2021-10-28T09:51:09.495382Z",
     "iopub.status.idle": "2021-10-28T09:51:15.452006Z",
     "shell.execute_reply": "2021-10-28T09:51:15.451598Z",
     "shell.execute_reply.started": "2021-10-28T09:51:09.495673Z"
    },
    "tags": []
   },
   "outputs": [],
   "source": [
    "for reac in model.reactions:\n",
    "    if \"metanetx.reaction\" in reac.annotation:\n",
    "        kv = mnx[f.mnx == reac.annotation[\"metanetx.reaction\"], [\"key\", \"db\"]].to_list()\n",
    "        data_dict = defaultdict(list)\n",
    "        for k, v in zip(kv[1], kv[0]):\n",
    "            data_dict[k].append(v)\n",
    "        if reac.annotation[\"metanetx.reaction\"]:\n",
    "            data_dict[\"metanetx.reaction\"] = reac.annotation[\"metanetx.reaction\"]\n",
    "        for k, v in data_dict.items():\n",
    "            data_dict[k] = v if len(v) > 1 else v[0]\n",
    "        reac.annotation = data_dict"
   ]
  },
  {
   "cell_type": "code",
   "execution_count": 34,
   "id": "42c32758-2fe5-4188-ba67-12c7fdcb0971",
   "metadata": {
    "execution": {
     "iopub.execute_input": "2021-10-28T09:51:17.682709Z",
     "iopub.status.busy": "2021-10-28T09:51:17.682482Z",
     "iopub.status.idle": "2021-10-28T09:51:17.757805Z",
     "shell.execute_reply": "2021-10-28T09:51:17.757159Z",
     "shell.execute_reply.started": "2021-10-28T09:51:17.682682Z"
    },
    "tags": []
   },
   "outputs": [],
   "source": [
    "dbs = dt.unique(mnx[\"db\"]).to_list()[0]"
   ]
  },
  {
   "cell_type": "code",
   "execution_count": 35,
   "id": "5583850e-9841-4219-b312-aaadb30aac98",
   "metadata": {
    "execution": {
     "iopub.execute_input": "2021-10-28T09:51:19.412510Z",
     "iopub.status.busy": "2021-10-28T09:51:19.412258Z",
     "iopub.status.idle": "2021-10-28T09:51:19.417145Z",
     "shell.execute_reply": "2021-10-28T09:51:19.416583Z",
     "shell.execute_reply.started": "2021-10-28T09:51:19.412484Z"
    },
    "tags": []
   },
   "outputs": [
    {
     "data": {
      "text/plain": [
       "['bigg.reaction',\n",
       " 'biggR',\n",
       " 'kegg.reaction',\n",
       " 'keggR',\n",
       " 'metacyc.reaction',\n",
       " 'metacycR',\n",
       " 'mnx',\n",
       " 'rhea',\n",
       " 'rheaR',\n",
       " 'sabiork.reaction',\n",
       " 'sabiorkR',\n",
       " 'seed.reaction',\n",
       " 'seedR']"
      ]
     },
     "execution_count": 35,
     "metadata": {},
     "output_type": "execute_result"
    }
   ],
   "source": [
    "dbs"
   ]
  },
  {
   "cell_type": "code",
   "execution_count": 36,
   "id": "7010a8bd-3fd5-4292-9967-8b7a5ac287a0",
   "metadata": {
    "execution": {
     "iopub.execute_input": "2021-10-28T09:51:22.441277Z",
     "iopub.status.busy": "2021-10-28T09:51:22.440632Z",
     "iopub.status.idle": "2021-10-28T09:51:22.458076Z",
     "shell.execute_reply": "2021-10-28T09:51:22.456915Z",
     "shell.execute_reply.started": "2021-10-28T09:51:22.441205Z"
    },
    "tags": []
   },
   "outputs": [
    {
     "name": "stdout",
     "output_type": "stream",
     "text": [
      "bigg.reaction annotated: 813\n",
      "biggR annotated: 631\n",
      "kegg.reaction annotated: 286\n",
      "keggR annotated: 286\n",
      "metacyc.reaction annotated: 332\n",
      "metacycR annotated: 332\n",
      "mnx annotated: 1\n",
      "rhea annotated: 321\n",
      "rheaR annotated: 321\n",
      "sabiork.reaction annotated: 253\n",
      "sabiorkR annotated: 253\n",
      "seed.reaction annotated: 483\n",
      "seedR annotated: 483\n"
     ]
    }
   ],
   "source": [
    "for db in dbs:\n",
    "    print(\n",
    "        f\"{db} annotated: {len([1 for reac in model.reactions if db in reac.annotation])}\"\n",
    "    )"
   ]
  },
  {
   "cell_type": "markdown",
   "id": "4388be65-5d60-484d-a8f9-1a505c34b0da",
   "metadata": {},
   "source": [
    "\"metanetx.reaction\" annotations were removed while computing the others. Add them back"
   ]
  },
  {
   "cell_type": "code",
   "execution_count": 37,
   "id": "6d992059-4502-4d48-bcf7-a081b1fb9c44",
   "metadata": {
    "execution": {
     "iopub.execute_input": "2021-10-28T09:51:29.921575Z",
     "iopub.status.busy": "2021-10-28T09:51:29.921272Z",
     "iopub.status.idle": "2021-10-28T09:51:29.928208Z",
     "shell.execute_reply": "2021-10-28T09:51:29.927432Z",
     "shell.execute_reply.started": "2021-10-28T09:51:29.921543Z"
    },
    "tags": []
   },
   "outputs": [
    {
     "data": {
      "text/plain": [
       "631"
      ]
     },
     "execution_count": 37,
     "metadata": {},
     "output_type": "execute_result"
    }
   ],
   "source": [
    "len([1 for reac in model.reactions if \"metanetx.reaction\" in reac.annotation])"
   ]
  },
  {
   "cell_type": "code",
   "execution_count": 38,
   "id": "8560ea85-7e57-4afc-a9ac-7e640aa0e893",
   "metadata": {
    "execution": {
     "iopub.execute_input": "2021-10-28T09:51:48.656548Z",
     "iopub.status.busy": "2021-10-28T09:51:48.656232Z",
     "iopub.status.idle": "2021-10-28T09:51:48.662991Z",
     "shell.execute_reply": "2021-10-28T09:51:48.662351Z",
     "shell.execute_reply.started": "2021-10-28T09:51:48.656514Z"
    },
    "tags": []
   },
   "outputs": [],
   "source": [
    "for reac in model.reactions:\n",
    "    if reac.annotation is None:\n",
    "        reac.annotation = {}\n",
    "    to_del = [k for k, v in reac.annotation.items() if v is None]\n",
    "    for k in to_del:\n",
    "        del reac.annotation[k]\n",
    "        del reac.annotation[\"mnx\"]"
   ]
  },
  {
   "cell_type": "code",
   "execution_count": 39,
   "id": "78a31eb0-104f-4c4d-b39b-436d4cf4b994",
   "metadata": {
    "execution": {
     "iopub.execute_input": "2021-10-28T09:52:07.566792Z",
     "iopub.status.busy": "2021-10-28T09:52:07.566241Z",
     "iopub.status.idle": "2021-10-28T09:52:08.102167Z",
     "shell.execute_reply": "2021-10-28T09:52:08.101763Z",
     "shell.execute_reply.started": "2021-10-28T09:52:07.566763Z"
    },
    "tags": []
   },
   "outputs": [],
   "source": [
    "cobra.io.write_sbml_model(model, model_file)"
   ]
  },
  {
   "cell_type": "markdown",
   "id": "ff1bd8ea-6156-4d7e-a8d2-5a637f92ffce",
   "metadata": {
    "tags": []
   },
   "source": [
    "## SBO terms"
   ]
  },
  {
   "cell_type": "markdown",
   "id": "b5d58045-beab-4eaa-b695-36c9ffb86e5b",
   "metadata": {},
   "source": [
    "SBO:0000176 represents the term 'biochemical reaction'. Every metabolic reaction that is not a transport or boundary reaction should be annotated with this."
   ]
  },
  {
   "cell_type": "code",
   "execution_count": 40,
   "id": "c6b6a189-798f-4143-a00b-7fb1114d778e",
   "metadata": {
    "execution": {
     "iopub.execute_input": "2021-10-28T09:54:19.048797Z",
     "iopub.status.busy": "2021-10-28T09:54:19.048468Z",
     "iopub.status.idle": "2021-10-28T09:54:19.382740Z",
     "shell.execute_reply": "2021-10-28T09:54:19.382256Z",
     "shell.execute_reply.started": "2021-10-28T09:54:19.048760Z"
    },
    "tags": []
   },
   "outputs": [],
   "source": [
    "from memote.support.helpers import find_transport_reactions"
   ]
  },
  {
   "cell_type": "code",
   "execution_count": 41,
   "id": "4d298ac5-bd16-462e-9cce-56e635d055fc",
   "metadata": {
    "execution": {
     "iopub.execute_input": "2021-10-28T09:54:20.273430Z",
     "iopub.status.busy": "2021-10-28T09:54:20.273163Z",
     "iopub.status.idle": "2021-10-28T09:54:20.288466Z",
     "shell.execute_reply": "2021-10-28T09:54:20.287291Z",
     "shell.execute_reply.started": "2021-10-28T09:54:20.273396Z"
    },
    "tags": []
   },
   "outputs": [],
   "source": [
    "transport_reactions = find_transport_reactions(model)"
   ]
  },
  {
   "cell_type": "code",
   "execution_count": 42,
   "id": "6cd9a463-5dbc-4505-93a8-40b8640bef2a",
   "metadata": {
    "execution": {
     "iopub.execute_input": "2021-10-28T09:54:20.821252Z",
     "iopub.status.busy": "2021-10-28T09:54:20.820364Z",
     "iopub.status.idle": "2021-10-28T09:54:20.828467Z",
     "shell.execute_reply": "2021-10-28T09:54:20.827370Z",
     "shell.execute_reply.started": "2021-10-28T09:54:20.821183Z"
    },
    "tags": []
   },
   "outputs": [],
   "source": [
    "for reac in model.reactions:\n",
    "    reac.annotation[\"sbo\"] = (\n",
    "        \"SBO:0000185\" if reac in transport_reactions else \"SBO:0000176\"\n",
    "    )"
   ]
  },
  {
   "cell_type": "markdown",
   "id": "af466a79-1415-4828-9025-d590edd20468",
   "metadata": {},
   "source": [
    "Now, biomass reaction."
   ]
  },
  {
   "cell_type": "code",
   "execution_count": 43,
   "id": "79c024ec-e1f4-425a-bec3-559b06865511",
   "metadata": {
    "execution": {
     "iopub.execute_input": "2021-10-28T09:54:21.645879Z",
     "iopub.status.busy": "2021-10-28T09:54:21.644965Z",
     "iopub.status.idle": "2021-10-28T09:54:21.653191Z",
     "shell.execute_reply": "2021-10-28T09:54:21.652226Z",
     "shell.execute_reply.started": "2021-10-28T09:54:21.645773Z"
    },
    "tags": []
   },
   "outputs": [],
   "source": [
    "model.reactions.biomass.annotation[\"sbo\"] = \"SBO:0000629\""
   ]
  },
  {
   "cell_type": "markdown",
   "id": "5e717c84-3c85-40d5-8755-453763d99138",
   "metadata": {},
   "source": [
    "SBO:0000627 represents the term 'exchange reaction'."
   ]
  },
  {
   "cell_type": "code",
   "execution_count": 44,
   "id": "5ad701a2-79cf-4773-88fe-efbde77dbb81",
   "metadata": {
    "execution": {
     "iopub.execute_input": "2021-10-28T09:54:22.433827Z",
     "iopub.status.busy": "2021-10-28T09:54:22.432486Z",
     "iopub.status.idle": "2021-10-28T09:54:22.456369Z",
     "shell.execute_reply": "2021-10-28T09:54:22.455346Z",
     "shell.execute_reply.started": "2021-10-28T09:54:22.433687Z"
    },
    "tags": []
   },
   "outputs": [],
   "source": [
    "for ex in model.exchanges:\n",
    "    ex.annotation[\"sbo\"] = \"SBO:0000627\""
   ]
  },
  {
   "cell_type": "markdown",
   "id": "00d1d9ef-024f-4c7a-a02f-1f6fb2b6fe88",
   "metadata": {},
   "source": [
    "SBO:0000243 represents the term 'gene'. Every gene should be annotated with this."
   ]
  },
  {
   "cell_type": "code",
   "execution_count": 45,
   "id": "35d32dd0-0889-4d87-a42e-3623770b3454",
   "metadata": {
    "execution": {
     "iopub.execute_input": "2021-10-28T09:54:23.144963Z",
     "iopub.status.busy": "2021-10-28T09:54:23.144700Z",
     "iopub.status.idle": "2021-10-28T09:54:23.149288Z",
     "shell.execute_reply": "2021-10-28T09:54:23.148576Z",
     "shell.execute_reply.started": "2021-10-28T09:54:23.144935Z"
    },
    "tags": []
   },
   "outputs": [],
   "source": [
    "for gene in model.genes:\n",
    "    gene.annotation[\"sbo\"] = \"SBO:0000243\""
   ]
  },
  {
   "cell_type": "code",
   "execution_count": 46,
   "id": "eb22a1ca-cdfd-4c8d-bf22-f96c454cc426",
   "metadata": {
    "execution": {
     "iopub.execute_input": "2021-10-28T09:54:23.751678Z",
     "iopub.status.busy": "2021-10-28T09:54:23.751244Z",
     "iopub.status.idle": "2021-10-28T09:54:24.331198Z",
     "shell.execute_reply": "2021-10-28T09:54:24.330643Z",
     "shell.execute_reply.started": "2021-10-28T09:54:23.751637Z"
    },
    "tags": []
   },
   "outputs": [],
   "source": [
    "cobra.io.write_sbml_model(model, model_file)"
   ]
  }
 ],
 "metadata": {
  "kernelspec": {
   "display_name": "memote",
   "language": "python",
   "name": "memote"
  },
  "language_info": {
   "codemirror_mode": {
    "name": "ipython",
    "version": 3
   },
   "file_extension": ".py",
   "mimetype": "text/x-python",
   "name": "python",
   "nbconvert_exporter": "python",
   "pygments_lexer": "ipython3",
   "version": "3.9.7"
  }
 },
 "nbformat": 4,
 "nbformat_minor": 5
}
