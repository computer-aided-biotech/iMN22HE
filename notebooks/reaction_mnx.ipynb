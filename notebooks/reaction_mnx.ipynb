{
 "cells": [
  {
   "cell_type": "markdown",
   "id": "2d8c57f9-f5ad-4b26-abc1-5bd92a764ac8",
   "metadata": {
    "tags": []
   },
   "source": [
    "# Reaction annotation\n",
    "Using MetaNetX reac_xref.tsv (can  be downloaded from [here](https://www.metanetx.org/mnxdoc/mnxref.html))."
   ]
  },
  {
   "cell_type": "code",
   "execution_count": 1,
   "id": "075ecef9-67c6-4bb8-8252-5752552fe9e6",
   "metadata": {
    "execution": {
     "iopub.execute_input": "2021-10-28T07:56:01.176407Z",
     "iopub.status.busy": "2021-10-28T07:56:01.176126Z",
     "iopub.status.idle": "2021-10-28T07:56:01.986944Z",
     "shell.execute_reply": "2021-10-28T07:56:01.986424Z",
     "shell.execute_reply.started": "2021-10-28T07:56:01.176335Z"
    },
    "tags": []
   },
   "outputs": [
    {
     "data": {
      "text/html": [
       "<style type='text/css'>\n",
       ".datatable table.frame { margin-bottom: 0; }\n",
       ".datatable table.frame thead { border-bottom: none; }\n",
       ".datatable table.frame tr.coltypes td {  color: #FFFFFF;  line-height: 6px;  padding: 0 0.5em;}\n",
       ".datatable .bool    { background: #DDDD99; }\n",
       ".datatable .object  { background: #565656; }\n",
       ".datatable .int     { background: #5D9E5D; }\n",
       ".datatable .float   { background: #4040CC; }\n",
       ".datatable .str     { background: #CC4040; }\n",
       ".datatable .time    { background: #40CC40; }\n",
       ".datatable .row_index {  background: var(--jp-border-color3);  border-right: 1px solid var(--jp-border-color0);  color: var(--jp-ui-font-color3);  font-size: 9px;}\n",
       ".datatable .frame tbody td { text-align: left; }\n",
       ".datatable .frame tr.coltypes .row_index {  background: var(--jp-border-color0);}\n",
       ".datatable th:nth-child(2) { padding-left: 12px; }\n",
       ".datatable .hellipsis {  color: var(--jp-cell-editor-border-color);}\n",
       ".datatable .vellipsis {  background: var(--jp-layout-color0);  color: var(--jp-cell-editor-border-color);}\n",
       ".datatable .na {  color: var(--jp-cell-editor-border-color);  font-size: 80%;}\n",
       ".datatable .sp {  opacity: 0.25;}\n",
       ".datatable .footer { font-size: 9px; }\n",
       ".datatable .frame_dimensions {  background: var(--jp-border-color3);  border-top: 1px solid var(--jp-border-color0);  color: var(--jp-ui-font-color3);  display: inline-block;  opacity: 0.6;  padding: 1px 10px 1px 5px;}\n",
       "</style>\n"
      ],
      "text/plain": [
       "<IPython.core.display.HTML object>"
      ]
     },
     "metadata": {},
     "output_type": "display_data"
    }
   ],
   "source": [
    "import re\n",
    "from collections import defaultdict\n",
    "from pathlib import Path\n",
    "\n",
    "import cobra\n",
    "from datatable import dt, f, join, update"
   ]
  },
  {
   "cell_type": "code",
   "execution_count": 2,
   "id": "5cbd077c-795f-4872-97c9-2583d2973a00",
   "metadata": {
    "execution": {
     "iopub.execute_input": "2021-10-28T07:56:03.615970Z",
     "iopub.status.busy": "2021-10-28T07:56:03.615208Z",
     "iopub.status.idle": "2021-10-28T07:56:03.621571Z",
     "shell.execute_reply": "2021-10-28T07:56:03.620880Z",
     "shell.execute_reply.started": "2021-10-28T07:56:03.615879Z"
    },
    "tags": []
   },
   "outputs": [],
   "source": [
    "ROOT = Path.cwd().parent\n",
    "model_file = str(ROOT / \"iMENI452.xml\")"
   ]
  },
  {
   "cell_type": "code",
   "execution_count": 3,
   "id": "0ea10fc7-ce9b-4d8b-9285-d6c4f423831b",
   "metadata": {
    "execution": {
     "iopub.execute_input": "2021-10-28T07:56:05.802654Z",
     "iopub.status.busy": "2021-10-28T07:56:05.800360Z",
     "iopub.status.idle": "2021-10-28T07:56:06.445159Z",
     "shell.execute_reply": "2021-10-28T07:56:06.443609Z",
     "shell.execute_reply.started": "2021-10-28T07:56:05.802504Z"
    },
    "tags": []
   },
   "outputs": [
    {
     "name": "stdout",
     "output_type": "stream",
     "text": [
      "Scaling...\n",
      " A: min|aij| =  1.000e+00  max|aij| =  1.000e+00  ratio =  1.000e+00\n",
      "Problem data seem to be well scaled\n"
     ]
    }
   ],
   "source": [
    "model = cobra.io.read_sbml_model(model_file)"
   ]
  },
  {
   "cell_type": "markdown",
   "id": "31437043-a88f-439f-967e-89264679fb0a",
   "metadata": {},
   "source": [
    "Gather all prepared reactions in a dataframe matched to their identifiers in the model."
   ]
  },
  {
   "cell_type": "code",
   "execution_count": 4,
   "id": "d85cd18d-9202-4559-a7fc-32f542c9ecdc",
   "metadata": {
    "execution": {
     "iopub.execute_input": "2021-10-28T07:56:07.899561Z",
     "iopub.status.busy": "2021-10-28T07:56:07.899317Z",
     "iopub.status.idle": "2021-10-28T07:56:07.904085Z",
     "shell.execute_reply": "2021-10-28T07:56:07.903151Z",
     "shell.execute_reply.started": "2021-10-28T07:56:07.899534Z"
    },
    "tags": []
   },
   "outputs": [],
   "source": [
    "reacs_prepared = [reac.id for reac in model.reactions]"
   ]
  },
  {
   "cell_type": "code",
   "execution_count": 5,
   "id": "e27869b2-2e16-4572-84c5-bd2aabefe552",
   "metadata": {
    "execution": {
     "iopub.execute_input": "2021-10-28T07:56:27.839330Z",
     "iopub.status.busy": "2021-10-28T07:56:27.838689Z",
     "iopub.status.idle": "2021-10-28T07:56:27.846173Z",
     "shell.execute_reply": "2021-10-28T07:56:27.845609Z",
     "shell.execute_reply.started": "2021-10-28T07:56:27.839255Z"
    },
    "tags": []
   },
   "outputs": [
    {
     "data": {
      "text/plain": [
       "['ALAD_L', 'ASPTA', 'ARGSS', 'ARGSL', 'ADSS']"
      ]
     },
     "execution_count": 5,
     "metadata": {},
     "output_type": "execute_result"
    }
   ],
   "source": [
    "reacs_prepared[:5]"
   ]
  },
  {
   "cell_type": "markdown",
   "id": "1ec679b7-dfc7-49ed-a359-86430a282b83",
   "metadata": {
    "execution": {
     "iopub.execute_input": "2021-10-28T07:58:02.298441Z",
     "iopub.status.busy": "2021-10-28T07:58:02.297644Z",
     "iopub.status.idle": "2021-10-28T07:58:02.310477Z",
     "shell.execute_reply": "2021-10-28T07:58:02.308452Z",
     "shell.execute_reply.started": "2021-10-28T07:58:02.298357Z"
    },
    "tags": []
   },
   "source": [
    "These are bigg reactions which can be already annotated."
   ]
  },
  {
   "cell_type": "code",
   "execution_count": 7,
   "id": "7549a086-ffa6-4acd-87d2-24310645fafa",
   "metadata": {
    "execution": {
     "iopub.execute_input": "2021-10-28T07:59:57.290836Z",
     "iopub.status.busy": "2021-10-28T07:59:57.290445Z",
     "iopub.status.idle": "2021-10-28T07:59:57.294732Z",
     "shell.execute_reply": "2021-10-28T07:59:57.293920Z",
     "shell.execute_reply.started": "2021-10-28T07:59:57.290807Z"
    },
    "tags": []
   },
   "outputs": [],
   "source": [
    "for reac in model.reactions:\n",
    "    reac.annotation[\"bigg.reaction\"] = reac.id"
   ]
  },
  {
   "cell_type": "code",
   "execution_count": 8,
   "id": "5fe4e48c-9b66-42c7-a1ae-69fcb2c77ea2",
   "metadata": {
    "execution": {
     "iopub.execute_input": "2021-10-28T08:00:00.359531Z",
     "iopub.status.busy": "2021-10-28T08:00:00.358897Z",
     "iopub.status.idle": "2021-10-28T08:00:00.377374Z",
     "shell.execute_reply": "2021-10-28T08:00:00.376071Z",
     "shell.execute_reply.started": "2021-10-28T08:00:00.359456Z"
    },
    "tags": []
   },
   "outputs": [],
   "source": [
    "reacs_prepared = dt.Frame(\n",
    "    key=reacs_prepared\n",
    ")"
   ]
  },
  {
   "cell_type": "code",
   "execution_count": 9,
   "id": "445f9daf-dfdf-42ac-ae0b-2bb092394d9d",
   "metadata": {
    "execution": {
     "iopub.execute_input": "2021-10-28T08:00:02.294303Z",
     "iopub.status.busy": "2021-10-28T08:00:02.294071Z",
     "iopub.status.idle": "2021-10-28T08:00:02.299440Z",
     "shell.execute_reply": "2021-10-28T08:00:02.298624Z",
     "shell.execute_reply.started": "2021-10-28T08:00:02.294276Z"
    },
    "tags": []
   },
   "outputs": [
    {
     "data": {
      "text/html": [
       "<div class='datatable'>\n",
       "  <table class='frame'>\n",
       "  <thead>\n",
       "    <tr class='colnames'><td class='row_index'></td><th>key</th></tr>\n",
       "    <tr class='coltypes'><td class='row_index'></td><td class='str' title='str32'>&#x25AA;&#x25AA;&#x25AA;&#x25AA;</td></tr>\n",
       "  </thead>\n",
       "  <tbody>\n",
       "    <tr><td class='row_index'>0</td><td>ALAD_L</td></tr>\n",
       "    <tr><td class='row_index'>1</td><td>ASPTA</td></tr>\n",
       "    <tr><td class='row_index'>2</td><td>ARGSS</td></tr>\n",
       "    <tr><td class='row_index'>3</td><td>ARGSL</td></tr>\n",
       "    <tr><td class='row_index'>4</td><td>ADSS</td></tr>\n",
       "    <tr><td class='row_index'>5</td><td>ADSL1r</td></tr>\n",
       "    <tr><td class='row_index'>6</td><td>ASPT</td></tr>\n",
       "    <tr><td class='row_index'>7</td><td>ASPCT</td></tr>\n",
       "    <tr><td class='row_index'>8</td><td>ASP1DC</td></tr>\n",
       "    <tr><td class='row_index'>9</td><td>ALATRS</td></tr>\n",
       "  </tbody>\n",
       "  </table>\n",
       "  <div class='footer'>\n",
       "    <div class='frame_dimensions'>10 rows &times; 1 column</div>\n",
       "  </div>\n",
       "</div>\n"
      ],
      "text/plain": [
       "<Frame#7f8196edc4b0 10x1>"
      ]
     },
     "execution_count": 9,
     "metadata": {},
     "output_type": "execute_result"
    }
   ],
   "source": [
    "reacs_prepared.head()"
   ]
  },
  {
   "cell_type": "markdown",
   "id": "6f008ee4-d5f7-4955-a31a-12090318c890",
   "metadata": {},
   "source": [
    "Now that we have the model reactions in a data frame, let's prepare the MNX dataset."
   ]
  },
  {
   "cell_type": "code",
   "execution_count": 11,
   "id": "653f66f4-e23b-4f60-b4f9-c16177790648",
   "metadata": {
    "execution": {
     "iopub.execute_input": "2021-10-28T08:02:17.797346Z",
     "iopub.status.busy": "2021-10-28T08:02:17.796712Z",
     "iopub.status.idle": "2021-10-28T08:02:17.888459Z",
     "shell.execute_reply": "2021-10-28T08:02:17.879714Z",
     "shell.execute_reply.started": "2021-10-28T08:02:17.797316Z"
    },
    "tags": []
   },
   "outputs": [],
   "source": [
    "mnx = dt.fread(str(ROOT / \"reac_xref.tsv\"), skip_to_line=352)"
   ]
  },
  {
   "cell_type": "code",
   "execution_count": 12,
   "id": "3223caea-8a1b-41b8-9759-e721aa8fc9d2",
   "metadata": {
    "execution": {
     "iopub.execute_input": "2021-10-28T08:02:18.617129Z",
     "iopub.status.busy": "2021-10-28T08:02:18.616185Z",
     "iopub.status.idle": "2021-10-28T08:02:18.631452Z",
     "shell.execute_reply": "2021-10-28T08:02:18.630042Z",
     "shell.execute_reply.started": "2021-10-28T08:02:18.617013Z"
    },
    "tags": []
   },
   "outputs": [
    {
     "data": {
      "text/html": [
       "<div class='datatable'>\n",
       "  <table class='frame'>\n",
       "  <thead>\n",
       "    <tr class='colnames'><td class='row_index'></td><th>#source</th><th>ID</th><th>description</th></tr>\n",
       "    <tr class='coltypes'><td class='row_index'></td><td class='str' title='str32'>&#x25AA;&#x25AA;&#x25AA;&#x25AA;</td><td class='str' title='str32'>&#x25AA;&#x25AA;&#x25AA;&#x25AA;</td><td class='str' title='str32'>&#x25AA;&#x25AA;&#x25AA;&#x25AA;</td></tr>\n",
       "  </thead>\n",
       "  <tbody>\n",
       "    <tr><td class='row_index'>0</td><td>EMPTY</td><td>EMPTY</td><td>Empty equation</td></tr>\n",
       "    <tr><td class='row_index'>1</td><td>bigg.reaction:CRBNTD</td><td>EMPTY</td><td>H2CO3 dissociation||1 biggM:h2co3@biggC:x = 1 bigg&#133;</td></tr>\n",
       "    <tr><td class='row_index'>2</td><td>bigg.reaction:DNADRAIN</td><td>EMPTY</td><td>Dna sink transport reaction|| =</td></tr>\n",
       "    <tr><td class='row_index'>3</td><td>bigg.reaction:H2CO3D2</td><td>EMPTY</td><td>Carboxylic acid dissociation||1 biggM:h2co3@biggC:&#133;</td></tr>\n",
       "    <tr><td class='row_index'>4</td><td>bigg.reaction:H2CO3D2m</td><td>EMPTY</td><td>Carboxylic acid dissociation, mitochondrial||1 big&#133;</td></tr>\n",
       "    <tr><td class='row_index'>5</td><td>bigg.reaction:HMR_5409</td><td>EMPTY</td><td>HMR 5409||1 biggM:h@biggC:e + 1 biggM:hco3@biggC:e&#133;</td></tr>\n",
       "    <tr><td class='row_index'>6</td><td>bigg.reaction:NH3c</td><td>EMPTY</td><td>Ammomnium proton dissociation||1 biggM:nh4@biggC:c&#133;</td></tr>\n",
       "    <tr><td class='row_index'>7</td><td>bigg.reaction:NH4DISg</td><td>EMPTY</td><td>Nh4 Dissociation||1 biggM:h@biggC:x + 1 biggM:nh3@&#133;</td></tr>\n",
       "    <tr><td class='row_index'>8</td><td>bigg.reaction:RE2594C</td><td>EMPTY</td><td>RE2594||1 biggM:h@biggC:c + 1 biggM:CE2949@biggC:c&#133;</td></tr>\n",
       "    <tr><td class='row_index'>9</td><td>bigg.reaction:R_CRBNTD</td><td>EMPTY</td><td>secondary/obsolete/fantasy identifier</td></tr>\n",
       "  </tbody>\n",
       "  </table>\n",
       "  <div class='footer'>\n",
       "    <div class='frame_dimensions'>10 rows &times; 3 columns</div>\n",
       "  </div>\n",
       "</div>\n"
      ],
      "text/plain": [
       "<Frame#7f8196edc690 10x3>"
      ]
     },
     "execution_count": 12,
     "metadata": {},
     "output_type": "execute_result"
    }
   ],
   "source": [
    "mnx.head()"
   ]
  },
  {
   "cell_type": "code",
   "execution_count": 13,
   "id": "e58e7812-2cfa-44bd-a82c-b83b4c15f4f7",
   "metadata": {
    "execution": {
     "iopub.execute_input": "2021-10-28T08:02:19.810200Z",
     "iopub.status.busy": "2021-10-28T08:02:19.809346Z",
     "iopub.status.idle": "2021-10-28T08:02:19.824537Z",
     "shell.execute_reply": "2021-10-28T08:02:19.821673Z",
     "shell.execute_reply.started": "2021-10-28T08:02:19.810115Z"
    },
    "tags": []
   },
   "outputs": [
    {
     "data": {
      "text/html": [
       "<div class='datatable'>\n",
       "  <table class='frame'>\n",
       "  <thead>\n",
       "    <tr class='colnames'><td class='row_index'></td><th>#source</th><th>ID</th><th>description</th></tr>\n",
       "    <tr class='coltypes'><td class='row_index'></td><td class='str' title='str32'>&#x25AA;&#x25AA;&#x25AA;&#x25AA;</td><td class='str' title='str32'>&#x25AA;&#x25AA;&#x25AA;&#x25AA;</td><td class='str' title='str32'>&#x25AA;&#x25AA;&#x25AA;&#x25AA;</td></tr>\n",
       "  </thead>\n",
       "  <tbody>\n",
       "    <tr><td class='row_index'>0</td><td>biggR:GALNACT2g</td><td>MNXR99997</td><td>Uridine diphosphoacetylgalactosamine-chondroitin a&#133;</td></tr>\n",
       "    <tr><td class='row_index'>1</td><td>biggR:R_GALNACT2g</td><td>MNXR99997</td><td>secondary/obsolete/fantasy identifier</td></tr>\n",
       "    <tr><td class='row_index'>2</td><td>bigg.reaction:GALNACT3g</td><td>MNXR99998</td><td>Uridine diphosphoacetylgalactosamine-chondroitin a&#133;</td></tr>\n",
       "    <tr><td class='row_index'>3</td><td>bigg.reaction:R_GALNACT3g</td><td>MNXR99998</td><td>secondary/obsolete/fantasy identifier</td></tr>\n",
       "    <tr><td class='row_index'>4</td><td>biggR:GALNACT3g</td><td>MNXR99998</td><td>Uridine diphosphoacetylgalactosamine-chondroitin a&#133;</td></tr>\n",
       "    <tr><td class='row_index'>5</td><td>biggR:R_GALNACT3g</td><td>MNXR99998</td><td>secondary/obsolete/fantasy identifier</td></tr>\n",
       "    <tr><td class='row_index'>6</td><td>bigg.reaction:GALNACT4g</td><td>MNXR99999</td><td>Uridine diphosphoacetylgalactosamine-chondroitin a&#133;</td></tr>\n",
       "    <tr><td class='row_index'>7</td><td>bigg.reaction:R_GALNACT4g</td><td>MNXR99999</td><td>secondary/obsolete/fantasy identifier</td></tr>\n",
       "    <tr><td class='row_index'>8</td><td>biggR:GALNACT4g</td><td>MNXR99999</td><td>Uridine diphosphoacetylgalactosamine-chondroitin a&#133;</td></tr>\n",
       "    <tr><td class='row_index'>9</td><td>biggR:R_GALNACT4g</td><td>MNXR99999</td><td>secondary/obsolete/fantasy identifier</td></tr>\n",
       "  </tbody>\n",
       "  </table>\n",
       "  <div class='footer'>\n",
       "    <div class='frame_dimensions'>10 rows &times; 3 columns</div>\n",
       "  </div>\n",
       "</div>\n"
      ],
      "text/plain": [
       "<Frame#7f8196edc480 10x3>"
      ]
     },
     "execution_count": 13,
     "metadata": {},
     "output_type": "execute_result"
    }
   ],
   "source": [
    "mnx.tail()"
   ]
  },
  {
   "cell_type": "code",
   "execution_count": 14,
   "id": "9738291d-b0ee-443c-9fe8-6092dd8a0eb1",
   "metadata": {
    "execution": {
     "iopub.execute_input": "2021-10-28T08:02:21.459745Z",
     "iopub.status.busy": "2021-10-28T08:02:21.459449Z",
     "iopub.status.idle": "2021-10-28T08:02:21.463552Z",
     "shell.execute_reply": "2021-10-28T08:02:21.462590Z",
     "shell.execute_reply.started": "2021-10-28T08:02:21.459716Z"
    },
    "tags": []
   },
   "outputs": [],
   "source": [
    "mnx.names = [\"key\", \"mnx\", \"description\"]"
   ]
  },
  {
   "cell_type": "markdown",
   "id": "309b1796-7d38-40fd-b70f-da61ad8f2811",
   "metadata": {},
   "source": [
    "## MNX space"
   ]
  },
  {
   "cell_type": "markdown",
   "id": "d8cc1900-f167-4ad5-a036-cabec85b033a",
   "metadata": {},
   "source": [
    "The first step is to map the BiGG reaction identifiers to MXN."
   ]
  },
  {
   "cell_type": "code",
   "execution_count": 16,
   "id": "9634ad1b-eaed-4595-9210-68b653ba2395",
   "metadata": {
    "execution": {
     "iopub.execute_input": "2021-10-28T08:03:11.282009Z",
     "iopub.status.busy": "2021-10-28T08:03:11.281555Z",
     "iopub.status.idle": "2021-10-28T08:03:11.346210Z",
     "shell.execute_reply": "2021-10-28T08:03:11.345739Z",
     "shell.execute_reply.started": "2021-10-28T08:03:11.281956Z"
    },
    "tags": []
   },
   "outputs": [],
   "source": [
    "bigg_mnx = mnx[\n",
    "    dt.re.match(f.key, \"^bigg\\.reaction:.+\"), {\"key\": f.key[14:], \"mnx\": f.mnx}\n",
    "]"
   ]
  },
  {
   "cell_type": "code",
   "execution_count": 17,
   "id": "704ea690-313d-4dd1-a29a-a0516130491d",
   "metadata": {
    "execution": {
     "iopub.execute_input": "2021-10-28T08:03:16.934350Z",
     "iopub.status.busy": "2021-10-28T08:03:16.933598Z",
     "iopub.status.idle": "2021-10-28T08:03:16.947070Z",
     "shell.execute_reply": "2021-10-28T08:03:16.945330Z",
     "shell.execute_reply.started": "2021-10-28T08:03:16.934260Z"
    },
    "tags": []
   },
   "outputs": [
    {
     "data": {
      "text/html": [
       "<div class='datatable'>\n",
       "  <table class='frame'>\n",
       "  <thead>\n",
       "    <tr class='colnames'><td class='row_index'></td><th>key</th><th>mnx</th></tr>\n",
       "    <tr class='coltypes'><td class='row_index'></td><td class='str' title='str32'>&#x25AA;&#x25AA;&#x25AA;&#x25AA;</td><td class='str' title='str32'>&#x25AA;&#x25AA;&#x25AA;&#x25AA;</td></tr>\n",
       "  </thead>\n",
       "  <tbody>\n",
       "    <tr><td class='row_index'>0</td><td>CRBNTD</td><td>EMPTY</td></tr>\n",
       "    <tr><td class='row_index'>1</td><td>DNADRAIN</td><td>EMPTY</td></tr>\n",
       "    <tr><td class='row_index'>2</td><td>H2CO3D2</td><td>EMPTY</td></tr>\n",
       "    <tr><td class='row_index'>3</td><td>H2CO3D2m</td><td>EMPTY</td></tr>\n",
       "    <tr><td class='row_index'>4</td><td>HMR_5409</td><td>EMPTY</td></tr>\n",
       "    <tr><td class='row_index'>5</td><td>NH3c</td><td>EMPTY</td></tr>\n",
       "    <tr><td class='row_index'>6</td><td>NH4DISg</td><td>EMPTY</td></tr>\n",
       "    <tr><td class='row_index'>7</td><td>RE2594C</td><td>EMPTY</td></tr>\n",
       "    <tr><td class='row_index'>8</td><td>R_CRBNTD</td><td>EMPTY</td></tr>\n",
       "    <tr><td class='row_index'>9</td><td>R_DNADRAIN</td><td>EMPTY</td></tr>\n",
       "    <tr><td class='row_index'>10</td><td>R_H2CO3D2</td><td>EMPTY</td></tr>\n",
       "    <tr><td class='row_index'>11</td><td>R_H2CO3D2m</td><td>EMPTY</td></tr>\n",
       "    <tr><td class='row_index'>12</td><td>R_HMR_5409</td><td>EMPTY</td></tr>\n",
       "    <tr><td class='row_index'>13</td><td>R_NH3c</td><td>EMPTY</td></tr>\n",
       "    <tr><td class='row_index'>14</td><td>R_NH4DISg</td><td>EMPTY</td></tr>\n",
       "    <tr><td class='row_index'>&#x22EE;</td><td class='hellipsis'>&#x22EE;</td><td class='hellipsis'>&#x22EE;</td></tr>\n",
       "    <tr><td class='row_index'>56,337</td><td>R_GALNACT2g</td><td>MNXR99997</td></tr>\n",
       "    <tr><td class='row_index'>56,338</td><td>GALNACT3g</td><td>MNXR99998</td></tr>\n",
       "    <tr><td class='row_index'>56,339</td><td>R_GALNACT3g</td><td>MNXR99998</td></tr>\n",
       "    <tr><td class='row_index'>56,340</td><td>GALNACT4g</td><td>MNXR99999</td></tr>\n",
       "    <tr><td class='row_index'>56,341</td><td>R_GALNACT4g</td><td>MNXR99999</td></tr>\n",
       "  </tbody>\n",
       "  </table>\n",
       "  <div class='footer'>\n",
       "    <div class='frame_dimensions'>56,342 rows &times; 2 columns</div>\n",
       "  </div>\n",
       "</div>\n"
      ],
      "text/plain": [
       "<Frame#7f8196edc510 56342x2>"
      ]
     },
     "execution_count": 17,
     "metadata": {},
     "output_type": "execute_result"
    }
   ],
   "source": [
    "bigg_mnx"
   ]
  },
  {
   "cell_type": "code",
   "execution_count": 18,
   "id": "3a7677cd-8346-4569-8fcd-df906b4b63ed",
   "metadata": {
    "execution": {
     "iopub.execute_input": "2021-10-28T08:03:22.637006Z",
     "iopub.status.busy": "2021-10-28T08:03:22.636299Z",
     "iopub.status.idle": "2021-10-28T08:03:22.711339Z",
     "shell.execute_reply": "2021-10-28T08:03:22.710682Z",
     "shell.execute_reply.started": "2021-10-28T08:03:22.636930Z"
    },
    "tags": []
   },
   "outputs": [],
   "source": [
    "bigg_mnx.key = \"key\""
   ]
  },
  {
   "cell_type": "markdown",
   "id": "f89ac624-0806-46fa-8c45-d1a2f3771f04",
   "metadata": {},
   "source": [
    "Join by bigg id in the model, so that we take only the reactions of interest."
   ]
  },
  {
   "cell_type": "code",
   "execution_count": 21,
   "id": "828a5612-ac58-496f-8364-fff57336c986",
   "metadata": {
    "execution": {
     "iopub.execute_input": "2021-10-28T08:04:15.508028Z",
     "iopub.status.busy": "2021-10-28T08:04:15.507591Z",
     "iopub.status.idle": "2021-10-28T08:04:15.531236Z",
     "shell.execute_reply": "2021-10-28T08:04:15.530544Z",
     "shell.execute_reply.started": "2021-10-28T08:04:15.507977Z"
    },
    "tags": []
   },
   "outputs": [],
   "source": [
    "reacs_prepared = reacs_prepared[:, :, join(bigg_mnx)]"
   ]
  },
  {
   "cell_type": "code",
   "execution_count": 23,
   "id": "fdf4b35f-eb23-4fa1-8f6a-15c85a108c75",
   "metadata": {
    "execution": {
     "iopub.execute_input": "2021-10-28T08:04:32.990950Z",
     "iopub.status.busy": "2021-10-28T08:04:32.990713Z",
     "iopub.status.idle": "2021-10-28T08:04:32.995490Z",
     "shell.execute_reply": "2021-10-28T08:04:32.994879Z",
     "shell.execute_reply.started": "2021-10-28T08:04:32.990919Z"
    },
    "tags": []
   },
   "outputs": [
    {
     "data": {
      "text/plain": [
       "813"
      ]
     },
     "execution_count": 23,
     "metadata": {},
     "output_type": "execute_result"
    }
   ],
   "source": [
    "reacs_prepared.nrows"
   ]
  },
  {
   "cell_type": "code",
   "execution_count": 28,
   "id": "44a7e336-75ab-4c51-bff2-a0e2dcea27a4",
   "metadata": {
    "execution": {
     "iopub.execute_input": "2021-10-28T08:06:55.575523Z",
     "iopub.status.busy": "2021-10-28T08:06:55.575169Z",
     "iopub.status.idle": "2021-10-28T08:06:55.591796Z",
     "shell.execute_reply": "2021-10-28T08:06:55.591317Z",
     "shell.execute_reply.started": "2021-10-28T08:06:55.575484Z"
    },
    "tags": []
   },
   "outputs": [
    {
     "data": {
      "text/plain": [
       "253"
      ]
     },
     "execution_count": 28,
     "metadata": {},
     "output_type": "execute_result"
    }
   ],
   "source": [
    "reacs_prepared[dt.isna(f.mnx), :].nrows"
   ]
  },
  {
   "cell_type": "code",
   "execution_count": 24,
   "id": "ca80b84f-7800-41bd-b86e-c606b7eba166",
   "metadata": {
    "execution": {
     "iopub.execute_input": "2021-10-28T08:04:42.883034Z",
     "iopub.status.busy": "2021-10-28T08:04:42.882588Z",
     "iopub.status.idle": "2021-10-28T08:04:42.887839Z",
     "shell.execute_reply": "2021-10-28T08:04:42.887319Z",
     "shell.execute_reply.started": "2021-10-28T08:04:42.882984Z"
    },
    "tags": []
   },
   "outputs": [
    {
     "data": {
      "text/plain": [
       "813"
      ]
     },
     "execution_count": 24,
     "metadata": {},
     "output_type": "execute_result"
    }
   ],
   "source": [
    "len(model.reactions)"
   ]
  },
  {
   "cell_type": "code",
   "execution_count": 25,
   "id": "a2ce9a1a-3dce-4e96-a59e-52fd5ea22ef3",
   "metadata": {
    "execution": {
     "iopub.execute_input": "2021-10-28T08:05:42.256405Z",
     "iopub.status.busy": "2021-10-28T08:05:42.255026Z",
     "iopub.status.idle": "2021-10-28T08:05:42.400540Z",
     "shell.execute_reply": "2021-10-28T08:05:42.400122Z",
     "shell.execute_reply.started": "2021-10-28T08:05:42.256311Z"
    },
    "tags": []
   },
   "outputs": [],
   "source": [
    "for reac in model.reactions:\n",
    "    matched = reacs_prepared[f.key == reac.id, \"mnx\"]\n",
    "    if matched.nrows:\n",
    "        reac.annotation[\"metanetx.reaction\"] = matched[0, 0]"
   ]
  },
  {
   "cell_type": "code",
   "execution_count": 26,
   "id": "9b68dee0-8b44-4571-b4a6-7466dcc42319",
   "metadata": {
    "execution": {
     "iopub.execute_input": "2021-10-28T08:05:43.877750Z",
     "iopub.status.busy": "2021-10-28T08:05:43.877505Z",
     "iopub.status.idle": "2021-10-28T08:05:43.883863Z",
     "shell.execute_reply": "2021-10-28T08:05:43.883295Z",
     "shell.execute_reply.started": "2021-10-28T08:05:43.877723Z"
    },
    "tags": []
   },
   "outputs": [
    {
     "data": {
      "text/plain": [
       "560"
      ]
     },
     "execution_count": 26,
     "metadata": {},
     "output_type": "execute_result"
    }
   ],
   "source": [
    "len([1 for reac in model.reactions if \"metanetx.reaction\" in reac.annotation if reac.annotation[\"metanetx.reaction\"] is not None])"
   ]
  },
  {
   "cell_type": "code",
   "execution_count": 29,
   "id": "66e58851-2498-4f88-829e-ee5fb20377d4",
   "metadata": {
    "execution": {
     "iopub.execute_input": "2021-10-28T08:07:11.621085Z",
     "iopub.status.busy": "2021-10-28T08:07:11.620327Z",
     "iopub.status.idle": "2021-10-28T08:07:11.634945Z",
     "shell.execute_reply": "2021-10-28T08:07:11.632536Z",
     "shell.execute_reply.started": "2021-10-28T08:07:11.620996Z"
    },
    "tags": []
   },
   "outputs": [],
   "source": [
    "for reac in model.reactions:\n",
    "    if \"metanetx.reaction\" in reac.annotation:\n",
    "        if reac.annotation[\"metanetx.reaction\"] is None:\n",
    "            del reac.annotation[\"metanetx.reaction\"]"
   ]
  },
  {
   "cell_type": "code",
   "execution_count": 30,
   "id": "09e3d676-2b74-4301-9ad9-bb4504afcec8",
   "metadata": {
    "execution": {
     "iopub.execute_input": "2021-10-28T08:07:12.752641Z",
     "iopub.status.busy": "2021-10-28T08:07:12.751878Z",
     "iopub.status.idle": "2021-10-28T08:07:12.765592Z",
     "shell.execute_reply": "2021-10-28T08:07:12.764507Z",
     "shell.execute_reply.started": "2021-10-28T08:07:12.752554Z"
    },
    "tags": []
   },
   "outputs": [
    {
     "data": {
      "text/plain": [
       "813"
      ]
     },
     "execution_count": 30,
     "metadata": {},
     "output_type": "execute_result"
    }
   ],
   "source": [
    "len(model.reactions)"
   ]
  },
  {
   "cell_type": "markdown",
   "id": "308e94b0-f82f-40f9-bc31-43ca4a37361e",
   "metadata": {},
   "source": [
    "## Annotating BiGG"
   ]
  },
  {
   "cell_type": "code",
   "execution_count": 31,
   "id": "6a83b660-d222-4dde-a3fc-802c5aae6147",
   "metadata": {
    "execution": {
     "iopub.execute_input": "2021-10-28T08:07:21.590803Z",
     "iopub.status.busy": "2021-10-28T08:07:21.590129Z",
     "iopub.status.idle": "2021-10-28T08:07:21.597924Z",
     "shell.execute_reply": "2021-10-28T08:07:21.596706Z",
     "shell.execute_reply.started": "2021-10-28T08:07:21.590730Z"
    },
    "tags": []
   },
   "outputs": [],
   "source": [
    "mnx[\"db\"] = \"mnx\""
   ]
  },
  {
   "cell_type": "code",
   "execution_count": 32,
   "id": "34609fc5-8cf9-4071-a1b1-d928ce06d040",
   "metadata": {
    "execution": {
     "iopub.execute_input": "2021-10-28T08:07:28.632517Z",
     "iopub.status.busy": "2021-10-28T08:07:28.632168Z",
     "iopub.status.idle": "2021-10-28T08:07:28.637925Z",
     "shell.execute_reply": "2021-10-28T08:07:28.637329Z",
     "shell.execute_reply.started": "2021-10-28T08:07:28.632479Z"
    },
    "tags": []
   },
   "outputs": [],
   "source": [
    "def get_id_db(id_base: str) -> (str, str):\n",
    "    id_base = id_base.split(\":\", maxsplit=1)\n",
    "    if len(id_base) > 1:\n",
    "        db, id = id_base\n",
    "    else:\n",
    "        db, id = \"mnx\", id_base[0]\n",
    "    return id, db"
   ]
  },
  {
   "cell_type": "code",
   "execution_count": 33,
   "id": "95eb8714-a0ea-41b8-93d0-c6365e5c2a08",
   "metadata": {
    "execution": {
     "iopub.execute_input": "2021-10-28T08:07:33.878729Z",
     "iopub.status.busy": "2021-10-28T08:07:33.878083Z",
     "iopub.status.idle": "2021-10-28T08:07:34.202021Z",
     "shell.execute_reply": "2021-10-28T08:07:34.201523Z",
     "shell.execute_reply.started": "2021-10-28T08:07:33.878654Z"
    },
    "tags": []
   },
   "outputs": [],
   "source": [
    "ids_dbs = [get_id_db(mnx[i, \"key\"]) for i in range(mnx.nrows)]\n",
    "ids = [el[0] for el in ids_dbs]\n",
    "dbs = [el[1] for el in ids_dbs]\n",
    "mnx[\"key\"] = dt.Frame(ids)\n",
    "mnx[\"db\"] = dt.Frame(dbs)"
   ]
  },
  {
   "cell_type": "code",
   "execution_count": 34,
   "id": "7183fe84-a6b0-4948-83ea-83b3220cf36e",
   "metadata": {
    "execution": {
     "iopub.execute_input": "2021-10-28T08:07:34.969401Z",
     "iopub.status.busy": "2021-10-28T08:07:34.967065Z",
     "iopub.status.idle": "2021-10-28T08:07:34.982120Z",
     "shell.execute_reply": "2021-10-28T08:07:34.980507Z",
     "shell.execute_reply.started": "2021-10-28T08:07:34.969293Z"
    },
    "tags": []
   },
   "outputs": [
    {
     "data": {
      "text/html": [
       "<div class='datatable'>\n",
       "  <table class='frame'>\n",
       "  <thead>\n",
       "    <tr class='colnames'><td class='row_index'></td><th>key</th><th>mnx</th><th>description</th><th>db</th></tr>\n",
       "    <tr class='coltypes'><td class='row_index'></td><td class='str' title='str32'>&#x25AA;&#x25AA;&#x25AA;&#x25AA;</td><td class='str' title='str32'>&#x25AA;&#x25AA;&#x25AA;&#x25AA;</td><td class='str' title='str32'>&#x25AA;&#x25AA;&#x25AA;&#x25AA;</td><td class='str' title='str32'>&#x25AA;&#x25AA;&#x25AA;&#x25AA;</td></tr>\n",
       "  </thead>\n",
       "  <tbody>\n",
       "    <tr><td class='row_index'>0</td><td>EMPTY</td><td>EMPTY</td><td>Empty equation</td><td>mnx</td></tr>\n",
       "    <tr><td class='row_index'>1</td><td>CRBNTD</td><td>EMPTY</td><td>H2CO3 dissociation||1 biggM:h2co3@biggC:x = 1 bigg&#133;</td><td>bigg.reaction</td></tr>\n",
       "    <tr><td class='row_index'>2</td><td>DNADRAIN</td><td>EMPTY</td><td>Dna sink transport reaction|| =</td><td>bigg.reaction</td></tr>\n",
       "    <tr><td class='row_index'>3</td><td>H2CO3D2</td><td>EMPTY</td><td>Carboxylic acid dissociation||1 biggM:h2co3@biggC:&#133;</td><td>bigg.reaction</td></tr>\n",
       "    <tr><td class='row_index'>4</td><td>H2CO3D2m</td><td>EMPTY</td><td>Carboxylic acid dissociation, mitochondrial||1 big&#133;</td><td>bigg.reaction</td></tr>\n",
       "    <tr><td class='row_index'>5</td><td>HMR_5409</td><td>EMPTY</td><td>HMR 5409||1 biggM:h@biggC:e + 1 biggM:hco3@biggC:e&#133;</td><td>bigg.reaction</td></tr>\n",
       "    <tr><td class='row_index'>6</td><td>NH3c</td><td>EMPTY</td><td>Ammomnium proton dissociation||1 biggM:nh4@biggC:c&#133;</td><td>bigg.reaction</td></tr>\n",
       "    <tr><td class='row_index'>7</td><td>NH4DISg</td><td>EMPTY</td><td>Nh4 Dissociation||1 biggM:h@biggC:x + 1 biggM:nh3@&#133;</td><td>bigg.reaction</td></tr>\n",
       "    <tr><td class='row_index'>8</td><td>RE2594C</td><td>EMPTY</td><td>RE2594||1 biggM:h@biggC:c + 1 biggM:CE2949@biggC:c&#133;</td><td>bigg.reaction</td></tr>\n",
       "    <tr><td class='row_index'>9</td><td>R_CRBNTD</td><td>EMPTY</td><td>secondary/obsolete/fantasy identifier</td><td>bigg.reaction</td></tr>\n",
       "    <tr><td class='row_index'>10</td><td>R_DNADRAIN</td><td>EMPTY</td><td>secondary/obsolete/fantasy identifier</td><td>bigg.reaction</td></tr>\n",
       "    <tr><td class='row_index'>11</td><td>R_H2CO3D2</td><td>EMPTY</td><td>secondary/obsolete/fantasy identifier</td><td>bigg.reaction</td></tr>\n",
       "    <tr><td class='row_index'>12</td><td>R_H2CO3D2m</td><td>EMPTY</td><td>secondary/obsolete/fantasy identifier</td><td>bigg.reaction</td></tr>\n",
       "    <tr><td class='row_index'>13</td><td>R_HMR_5409</td><td>EMPTY</td><td>secondary/obsolete/fantasy identifier</td><td>bigg.reaction</td></tr>\n",
       "    <tr><td class='row_index'>14</td><td>R_NH3c</td><td>EMPTY</td><td>secondary/obsolete/fantasy identifier</td><td>bigg.reaction</td></tr>\n",
       "    <tr><td class='row_index'>&#x22EE;</td><td class='hellipsis'>&#x22EE;</td><td class='hellipsis'>&#x22EE;</td><td class='hellipsis'>&#x22EE;</td><td class='hellipsis'>&#x22EE;</td></tr>\n",
       "    <tr><td class='row_index'>384,797</td><td>R_GALNACT3g</td><td>MNXR99998</td><td>secondary/obsolete/fantasy identifier</td><td>biggR</td></tr>\n",
       "    <tr><td class='row_index'>384,798</td><td>GALNACT4g</td><td>MNXR99999</td><td>Uridine diphosphoacetylgalactosamine-chondroitin a&#133;</td><td>bigg.reaction</td></tr>\n",
       "    <tr><td class='row_index'>384,799</td><td>R_GALNACT4g</td><td>MNXR99999</td><td>secondary/obsolete/fantasy identifier</td><td>bigg.reaction</td></tr>\n",
       "    <tr><td class='row_index'>384,800</td><td>GALNACT4g</td><td>MNXR99999</td><td>Uridine diphosphoacetylgalactosamine-chondroitin a&#133;</td><td>biggR</td></tr>\n",
       "    <tr><td class='row_index'>384,801</td><td>R_GALNACT4g</td><td>MNXR99999</td><td>secondary/obsolete/fantasy identifier</td><td>biggR</td></tr>\n",
       "  </tbody>\n",
       "  </table>\n",
       "  <div class='footer'>\n",
       "    <div class='frame_dimensions'>384,802 rows &times; 4 columns</div>\n",
       "  </div>\n",
       "</div>\n"
      ],
      "text/plain": [
       "<Frame#7f81973f20c0 384802x4>"
      ]
     },
     "execution_count": 34,
     "metadata": {},
     "output_type": "execute_result"
    }
   ],
   "source": [
    "mnx"
   ]
  },
  {
   "cell_type": "code",
   "execution_count": 35,
   "id": "1b49b4ac-85ee-4cfe-9ea5-759c1fce9618",
   "metadata": {
    "execution": {
     "iopub.execute_input": "2021-10-28T08:28:38.123528Z",
     "iopub.status.busy": "2021-10-28T08:28:38.122918Z",
     "iopub.status.idle": "2021-10-28T08:28:43.338322Z",
     "shell.execute_reply": "2021-10-28T08:28:43.337919Z",
     "shell.execute_reply.started": "2021-10-28T08:28:38.123461Z"
    },
    "tags": []
   },
   "outputs": [],
   "source": [
    "for reac in model.reactions:\n",
    "    if \"metanetx.reaction\" in reac.annotation:\n",
    "        kv = mnx[f.mnx == reac.annotation[\"metanetx.reaction\"], [\"key\", \"db\"]].to_list()\n",
    "        data_dict = defaultdict(list)\n",
    "        for k, v in zip(kv[1], kv[0]):\n",
    "            data_dict[k].append(v)\n",
    "        for k, v in data_dict.items():\n",
    "            data_dict[k] = v if len(v) > 1 else v[0]\n",
    "        reac.annotation = data_dict"
   ]
  },
  {
   "cell_type": "code",
   "execution_count": 36,
   "id": "42c32758-2fe5-4188-ba67-12c7fdcb0971",
   "metadata": {
    "execution": {
     "iopub.execute_input": "2021-10-28T08:28:49.714359Z",
     "iopub.status.busy": "2021-10-28T08:28:49.714119Z",
     "iopub.status.idle": "2021-10-28T08:28:49.769619Z",
     "shell.execute_reply": "2021-10-28T08:28:49.769132Z",
     "shell.execute_reply.started": "2021-10-28T08:28:49.714333Z"
    },
    "tags": []
   },
   "outputs": [],
   "source": [
    "dbs = dt.unique(mnx[\"db\"]).to_list()[0]"
   ]
  },
  {
   "cell_type": "code",
   "execution_count": 37,
   "id": "5583850e-9841-4219-b312-aaadb30aac98",
   "metadata": {
    "execution": {
     "iopub.execute_input": "2021-10-28T08:28:51.273466Z",
     "iopub.status.busy": "2021-10-28T08:28:51.273236Z",
     "iopub.status.idle": "2021-10-28T08:28:51.278254Z",
     "shell.execute_reply": "2021-10-28T08:28:51.277611Z",
     "shell.execute_reply.started": "2021-10-28T08:28:51.273441Z"
    },
    "tags": []
   },
   "outputs": [
    {
     "data": {
      "text/plain": [
       "['bigg.reaction',\n",
       " 'biggR',\n",
       " 'kegg.reaction',\n",
       " 'keggR',\n",
       " 'metacyc.reaction',\n",
       " 'metacycR',\n",
       " 'mnx',\n",
       " 'rhea',\n",
       " 'rheaR',\n",
       " 'sabiork.reaction',\n",
       " 'sabiorkR',\n",
       " 'seed.reaction',\n",
       " 'seedR']"
      ]
     },
     "execution_count": 37,
     "metadata": {},
     "output_type": "execute_result"
    }
   ],
   "source": [
    "dbs"
   ]
  },
  {
   "cell_type": "code",
   "execution_count": 38,
   "id": "7010a8bd-3fd5-4292-9967-8b7a5ac287a0",
   "metadata": {
    "execution": {
     "iopub.execute_input": "2021-10-28T08:28:53.060799Z",
     "iopub.status.busy": "2021-10-28T08:28:53.060574Z",
     "iopub.status.idle": "2021-10-28T08:28:53.070640Z",
     "shell.execute_reply": "2021-10-28T08:28:53.069693Z",
     "shell.execute_reply.started": "2021-10-28T08:28:53.060773Z"
    },
    "tags": []
   },
   "outputs": [
    {
     "name": "stdout",
     "output_type": "stream",
     "text": [
      "bigg.reaction annotated: 813\n",
      "biggR annotated: 560\n",
      "kegg.reaction annotated: 286\n",
      "keggR annotated: 286\n",
      "metacyc.reaction annotated: 303\n",
      "metacycR annotated: 303\n",
      "mnx annotated: 0\n",
      "rhea annotated: 292\n",
      "rheaR annotated: 292\n",
      "sabiork.reaction annotated: 232\n",
      "sabiorkR annotated: 232\n",
      "seed.reaction annotated: 424\n",
      "seedR annotated: 424\n"
     ]
    }
   ],
   "source": [
    "for db in dbs:\n",
    "    print(\n",
    "        f\"{db} annotated: {len([1 for reac in model.reactions if db in reac.annotation])}\"\n",
    "    )"
   ]
  },
  {
   "cell_type": "markdown",
   "id": "4388be65-5d60-484d-a8f9-1a505c34b0da",
   "metadata": {},
   "source": [
    "\"metanetx.reaction\" annotations were removed while computing the others. Add them back"
   ]
  },
  {
   "cell_type": "code",
   "execution_count": 40,
   "id": "a72aa54e-5480-4708-9c77-732e8354ddcd",
   "metadata": {
    "execution": {
     "iopub.execute_input": "2021-10-28T08:29:10.097700Z",
     "iopub.status.busy": "2021-10-28T08:29:10.097282Z",
     "iopub.status.idle": "2021-10-28T08:29:10.230058Z",
     "shell.execute_reply": "2021-10-28T08:29:10.229651Z",
     "shell.execute_reply.started": "2021-10-28T08:29:10.097650Z"
    },
    "tags": []
   },
   "outputs": [],
   "source": [
    "for reac in model.reactions:\n",
    "    matched = reacs_prepared[f.key == reac.id, \"mnx\"]\n",
    "    if matched.nrows:\n",
    "        if matched[0,0] is not None:\n",
    "            reac.annotation[\"metanetx.reaction\"] = matched[0, 0]"
   ]
  },
  {
   "cell_type": "code",
   "execution_count": 41,
   "id": "6d992059-4502-4d48-bcf7-a081b1fb9c44",
   "metadata": {
    "execution": {
     "iopub.execute_input": "2021-10-28T08:29:11.117460Z",
     "iopub.status.busy": "2021-10-28T08:29:11.116787Z",
     "iopub.status.idle": "2021-10-28T08:29:11.135008Z",
     "shell.execute_reply": "2021-10-28T08:29:11.133414Z",
     "shell.execute_reply.started": "2021-10-28T08:29:11.117383Z"
    },
    "tags": []
   },
   "outputs": [
    {
     "data": {
      "text/plain": [
       "560"
      ]
     },
     "execution_count": 41,
     "metadata": {},
     "output_type": "execute_result"
    }
   ],
   "source": [
    "len([1 for reac in model.reactions if \"metanetx.reaction\" in reac.annotation])"
   ]
  },
  {
   "cell_type": "code",
   "execution_count": 43,
   "id": "8560ea85-7e57-4afc-a9ac-7e640aa0e893",
   "metadata": {
    "execution": {
     "iopub.execute_input": "2021-10-28T08:30:33.622234Z",
     "iopub.status.busy": "2021-10-28T08:30:33.621672Z",
     "iopub.status.idle": "2021-10-28T08:30:33.627624Z",
     "shell.execute_reply": "2021-10-28T08:30:33.626818Z",
     "shell.execute_reply.started": "2021-10-28T08:30:33.622198Z"
    },
    "tags": []
   },
   "outputs": [],
   "source": [
    "for reac in model.reactions:\n",
    "    if reac.annotation is None:\n",
    "        reac.annotation == {}\n",
    "    to_del = [k for k, v in reac.annotation.items() if v is None]\n",
    "    for k in to_del:\n",
    "        del reac.annotation[k]\n",
    "        del reac.annotation[\"mnx\"]"
   ]
  },
  {
   "cell_type": "code",
   "execution_count": 44,
   "id": "78a31eb0-104f-4c4d-b39b-436d4cf4b994",
   "metadata": {
    "execution": {
     "iopub.execute_input": "2021-10-28T08:30:38.958446Z",
     "iopub.status.busy": "2021-10-28T08:30:38.957898Z",
     "iopub.status.idle": "2021-10-28T08:30:39.463863Z",
     "shell.execute_reply": "2021-10-28T08:30:39.463330Z",
     "shell.execute_reply.started": "2021-10-28T08:30:38.958382Z"
    },
    "tags": []
   },
   "outputs": [],
   "source": [
    "cobra.io.write_sbml_model(model, model_file)"
   ]
  },
  {
   "cell_type": "markdown",
   "id": "ff1bd8ea-6156-4d7e-a8d2-5a637f92ffce",
   "metadata": {
    "tags": []
   },
   "source": [
    "## SBO terms"
   ]
  },
  {
   "cell_type": "markdown",
   "id": "b5d58045-beab-4eaa-b695-36c9ffb86e5b",
   "metadata": {},
   "source": [
    "SBO:0000176 represents the term 'biochemical reaction'. Every metabolic reaction that is not a transport or boundary reaction should be annotated with this."
   ]
  },
  {
   "cell_type": "code",
   "execution_count": 45,
   "id": "c6b6a189-798f-4143-a00b-7fb1114d778e",
   "metadata": {
    "execution": {
     "iopub.execute_input": "2021-10-28T08:42:05.582993Z",
     "iopub.status.busy": "2021-10-28T08:42:05.582636Z",
     "iopub.status.idle": "2021-10-28T08:42:05.886540Z",
     "shell.execute_reply": "2021-10-28T08:42:05.886021Z",
     "shell.execute_reply.started": "2021-10-28T08:42:05.582969Z"
    },
    "tags": []
   },
   "outputs": [],
   "source": [
    "from memote.support.helpers import find_transport_reactions"
   ]
  },
  {
   "cell_type": "code",
   "execution_count": 46,
   "id": "4d298ac5-bd16-462e-9cce-56e635d055fc",
   "metadata": {
    "execution": {
     "iopub.execute_input": "2021-10-28T08:42:06.636983Z",
     "iopub.status.busy": "2021-10-28T08:42:06.636501Z",
     "iopub.status.idle": "2021-10-28T08:42:06.646935Z",
     "shell.execute_reply": "2021-10-28T08:42:06.646411Z",
     "shell.execute_reply.started": "2021-10-28T08:42:06.636956Z"
    },
    "tags": []
   },
   "outputs": [],
   "source": [
    "transport_reactions = find_transport_reactions(model)"
   ]
  },
  {
   "cell_type": "code",
   "execution_count": 47,
   "id": "6cd9a463-5dbc-4505-93a8-40b8640bef2a",
   "metadata": {
    "execution": {
     "iopub.execute_input": "2021-10-28T08:42:09.015996Z",
     "iopub.status.busy": "2021-10-28T08:42:09.015775Z",
     "iopub.status.idle": "2021-10-28T08:42:09.020361Z",
     "shell.execute_reply": "2021-10-28T08:42:09.019621Z",
     "shell.execute_reply.started": "2021-10-28T08:42:09.015977Z"
    },
    "tags": []
   },
   "outputs": [],
   "source": [
    "for reac in model.reactions:\n",
    "    reac.annotation[\"sbo\"] = (\n",
    "        \"SBO:0000185\" if reac in transport_reactions else \"SBO:0000176\"\n",
    "    )"
   ]
  },
  {
   "cell_type": "markdown",
   "id": "af466a79-1415-4828-9025-d590edd20468",
   "metadata": {},
   "source": [
    "Now, biomass reaction."
   ]
  },
  {
   "cell_type": "code",
   "execution_count": 49,
   "id": "79c024ec-e1f4-425a-bec3-559b06865511",
   "metadata": {
    "execution": {
     "iopub.execute_input": "2021-10-28T08:42:17.526335Z",
     "iopub.status.busy": "2021-10-28T08:42:17.526042Z",
     "iopub.status.idle": "2021-10-28T08:42:17.529430Z",
     "shell.execute_reply": "2021-10-28T08:42:17.528856Z",
     "shell.execute_reply.started": "2021-10-28T08:42:17.526308Z"
    },
    "tags": []
   },
   "outputs": [],
   "source": [
    "model.reactions.biomass.annotation[\"sbo\"] = \"SBO:0000629\""
   ]
  },
  {
   "cell_type": "markdown",
   "id": "5e717c84-3c85-40d5-8755-453763d99138",
   "metadata": {},
   "source": [
    "SBO:0000627 represents the term 'exchange reaction'."
   ]
  },
  {
   "cell_type": "code",
   "execution_count": 50,
   "id": "5ad701a2-79cf-4773-88fe-efbde77dbb81",
   "metadata": {
    "execution": {
     "iopub.execute_input": "2021-10-28T08:42:19.616557Z",
     "iopub.status.busy": "2021-10-28T08:42:19.616282Z",
     "iopub.status.idle": "2021-10-28T08:42:19.630560Z",
     "shell.execute_reply": "2021-10-28T08:42:19.629712Z",
     "shell.execute_reply.started": "2021-10-28T08:42:19.616526Z"
    },
    "tags": []
   },
   "outputs": [],
   "source": [
    "for ex in model.exchanges:\n",
    "    ex.annotation[\"sbo\"] = \"SBO:0000627\""
   ]
  },
  {
   "cell_type": "markdown",
   "id": "00d1d9ef-024f-4c7a-a02f-1f6fb2b6fe88",
   "metadata": {},
   "source": [
    "SBO:0000243 represents the term 'gene'. Every gene should be annotated with this."
   ]
  },
  {
   "cell_type": "code",
   "execution_count": 51,
   "id": "35d32dd0-0889-4d87-a42e-3623770b3454",
   "metadata": {
    "execution": {
     "iopub.execute_input": "2021-10-28T08:42:22.457197Z",
     "iopub.status.busy": "2021-10-28T08:42:22.456995Z",
     "iopub.status.idle": "2021-10-28T08:42:22.460021Z",
     "shell.execute_reply": "2021-10-28T08:42:22.459504Z",
     "shell.execute_reply.started": "2021-10-28T08:42:22.457180Z"
    },
    "tags": []
   },
   "outputs": [],
   "source": [
    "for gene in model.genes:\n",
    "    gene.annotation[\"sbo\"] = \"SBO:0000243\""
   ]
  },
  {
   "cell_type": "code",
   "execution_count": 52,
   "id": "eb22a1ca-cdfd-4c8d-bf22-f96c454cc426",
   "metadata": {
    "execution": {
     "iopub.execute_input": "2021-10-28T08:42:28.352140Z",
     "iopub.status.busy": "2021-10-28T08:42:28.351625Z",
     "iopub.status.idle": "2021-10-28T08:42:28.791827Z",
     "shell.execute_reply": "2021-10-28T08:42:28.791280Z",
     "shell.execute_reply.started": "2021-10-28T08:42:28.352099Z"
    },
    "tags": []
   },
   "outputs": [],
   "source": [
    "cobra.io.write_sbml_model(model, model_file)"
   ]
  }
 ],
 "metadata": {
  "kernelspec": {
   "display_name": "memote",
   "language": "python",
   "name": "memote"
  },
  "language_info": {
   "codemirror_mode": {
    "name": "ipython",
    "version": 3
   },
   "file_extension": ".py",
   "mimetype": "text/x-python",
   "name": "python",
   "nbconvert_exporter": "python",
   "pygments_lexer": "ipython3",
   "version": "3.9.7"
  }
 },
 "nbformat": 4,
 "nbformat_minor": 5
}
