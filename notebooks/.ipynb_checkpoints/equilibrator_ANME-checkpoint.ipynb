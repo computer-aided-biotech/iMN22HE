{
 "cells": [
  {
   "cell_type": "markdown",
   "id": "f2e050ca-5d44-495c-80fd-4d1430ae6be3",
   "metadata": {},
   "source": [
    "# Thermodynamics calculations of ANME"
   ]
  },
  {
   "cell_type": "code",
   "execution_count": 1,
   "id": "6dc56ca8-68f5-43e1-8253-3b287948efa1",
   "metadata": {
    "execution": {
     "iopub.execute_input": "2022-02-07T13:38:54.152229Z",
     "iopub.status.busy": "2022-02-07T13:38:54.151722Z",
     "iopub.status.idle": "2022-02-07T13:39:22.175472Z",
     "shell.execute_reply": "2022-02-07T13:39:22.174394Z",
     "shell.execute_reply.started": "2022-02-07T13:38:54.152097Z"
    },
    "tags": []
   },
   "outputs": [],
   "source": [
    "from math import isnan\n",
    "from xml.etree import ElementTree\n",
    "\n",
    "import cobra\n",
    "import nest_asyncio\n",
    "import pandas as pd\n",
    "import requests\n",
    "from cobra import Metabolite, Model, Reaction\n",
    "from equilibrator_api import Q_, ComponentContribution\n",
    "from equilibrator_api.compatibility import map_cobra_reactions\n",
    "from equilibrator_api.model import StoichiometricModel\n",
    "from equilibrator_assets.local_compound_cache import LocalCompoundCache\n",
    "from equilibrator_pathway import ThermodynamicModel\n",
    "from IPython.core.interactiveshell import InteractiveShell\n",
    "from IPython.display import display\n",
    "\n",
    "InteractiveShell.ast_node_interactivity = \"all\"\n",
    "# equilibrator uses async, so this is required on jupyter\n",
    "nest_asyncio.apply()"
   ]
  },
  {
   "cell_type": "markdown",
   "id": "76a586fb-e35a-4660-810a-4c9a4b121e81",
   "metadata": {},
   "source": [
    "There are some compounds that are not in the equilibrator DB. Their $\\Delta G_f$ must be calculated using ChemAxon cxcalc (whose installation is not super trivial)."
   ]
  },
  {
   "cell_type": "code",
   "execution_count": 2,
   "id": "56845b3c-f91d-4291-8981-a1db7ee63c40",
   "metadata": {
    "execution": {
     "iopub.execute_input": "2022-02-07T13:39:22.177372Z",
     "iopub.status.busy": "2022-02-07T13:39:22.177021Z",
     "iopub.status.idle": "2022-02-07T13:39:22.185145Z",
     "shell.execute_reply": "2022-02-07T13:39:22.183645Z",
     "shell.execute_reply.started": "2022-02-07T13:39:22.177338Z"
    }
   },
   "outputs": [],
   "source": [
    "def inchi_key_to_inchi(inchi_key: str):\n",
    "    \"\"\"Convert and inchi_key to a InChI id.\n",
    "\n",
    "    There might or there might not be a better way to do this with chemaxon or openbabel.\n",
    "    \"\"\"\n",
    "    return ElementTree.fromstring(\n",
    "        requests.get(\n",
    "            f\"http://www.chemspider.com/InChI.asmx/InChIKeyToInChI?\"\n",
    "            f\"inchi_key={inchi_key}\"\n",
    "        ).text\n",
    "    ).text"
   ]
  },
  {
   "cell_type": "code",
   "execution_count": 3,
   "id": "e10c0587-d464-47e7-a589-162e4413e660",
   "metadata": {
    "execution": {
     "iopub.execute_input": "2022-02-07T13:39:22.189994Z",
     "iopub.status.busy": "2022-02-07T13:39:22.189440Z",
     "iopub.status.idle": "2022-02-07T13:39:22.196728Z",
     "shell.execute_reply": "2022-02-07T13:39:22.195412Z",
     "shell.execute_reply.started": "2022-02-07T13:39:22.189940Z"
    }
   },
   "outputs": [],
   "source": [
    "inchi_keys = {\n",
    "    # https://www.ebi.ac.uk/chebi/searchId.do?chebiId=CHEBI:15823\n",
    "    \"f420-2h2[c]\": \"IXPYGZIWHPPILV-NALJQGANSA-N\",\n",
    "    # https://jglobal.jst.go.jp/en/detail?JGLOBAL_ID=200907096370255528#%7B%22category%22%3A%227%22%2C%22fields%22%3A%5B%7B%22op%22%3A%22AND%22%2C%22nm%22%3A%22SNID%22%2C%22vals%22%3A%5B%7B%22v%22%3A%22J2.751.521E%22%2C%22m%22%3A1%7D%5D%7D%5D%7D\n",
    "    \"mh4mpt[c]\": \"SWBKYDXMQNCIAW-ZQPYBXQSSA-N\",\n",
    "}"
   ]
  },
  {
   "cell_type": "code",
   "execution_count": 4,
   "id": "f12746fe-ff0c-4869-b152-4c960602e8b9",
   "metadata": {
    "execution": {
     "iopub.execute_input": "2022-02-07T13:39:22.199614Z",
     "iopub.status.busy": "2022-02-07T13:39:22.198732Z",
     "iopub.status.idle": "2022-02-07T13:39:22.206210Z",
     "shell.execute_reply": "2022-02-07T13:39:22.204887Z",
     "shell.execute_reply.started": "2022-02-07T13:39:22.199549Z"
    },
    "tags": []
   },
   "outputs": [],
   "source": [
    "import logging\n",
    "\n",
    "logging.basicConfig(format=\"%(levelname)s:%(message)s\", level=logging.DEBUG)"
   ]
  },
  {
   "cell_type": "code",
   "execution_count": 5,
   "id": "55b4f8aa-98c7-46a7-9b88-75ceb0fc68de",
   "metadata": {
    "execution": {
     "iopub.execute_input": "2022-02-07T13:39:22.209077Z",
     "iopub.status.busy": "2022-02-07T13:39:22.208203Z",
     "iopub.status.idle": "2022-02-07T13:39:24.512706Z",
     "shell.execute_reply": "2022-02-07T13:39:24.511715Z",
     "shell.execute_reply.started": "2022-02-07T13:39:22.209016Z"
    },
    "tags": []
   },
   "outputs": [
    {
     "name": "stdout",
     "output_type": "stream",
     "text": [
      "Scaling...\n",
      " A: min|aij| =  1.000e+00  max|aij| =  1.000e+00  ratio =  1.000e+00\n",
      "Problem data seem to be well scaled\n"
     ]
    }
   ],
   "source": [
    "iME22HE = cobra.io.read_sbml_model(\"../iMENI452.xml\")"
   ]
  },
  {
   "cell_type": "markdown",
   "id": "48a55b04-808d-4048-92a5-78ffb838b5b4",
   "metadata": {},
   "source": [
    "$$\n",
    " {\\Delta }\\textit{G}_{redox_cycle}= {\\Delta }\\textit{G}{_{\\textit{Mcr}}}+{\\Delta }\\textit{G}{_{\\textit{Mtr}}}+ (0\\textit{.}183\\textit{/}1\\textit{.}1) {\\Delta }\\textit{G}{_{\\textit{HdrDE}}}+ (0\\textit{.}183\\textit{/}1\\textit{.}1) {\\Delta }\\textit{G}{_{\\textit{Nar}}}+ (0\\textit{.}917\\textit{/}1\\textit{.}1) {\\Delta }\\textit{G}{_{\\textit{HdrABC}}}+ (0\\textit{.}917\\textit{/}1\\textit{.}1) {\\Delta }\\textit{G}{_{\\textit{Fqo}}}+ (0\\textit{.}917\\textit{/}1\\textit{.}1) {\\Delta }\\textit{G}{_{\\textit{Nar}}} = -37.751 \\textit{kJmol}{^{\\textit{{-}}}}{^{1}}. \n",
    "$$"
   ]
  },
  {
   "cell_type": "code",
   "execution_count": 6,
   "id": "1836f50d-3fd0-430e-946d-1d42c3880ab9",
   "metadata": {
    "execution": {
     "iopub.execute_input": "2022-02-07T13:39:24.514826Z",
     "iopub.status.busy": "2022-02-07T13:39:24.514304Z",
     "iopub.status.idle": "2022-02-07T13:39:24.521459Z",
     "shell.execute_reply": "2022-02-07T13:39:24.520115Z",
     "shell.execute_reply.started": "2022-02-07T13:39:24.514774Z"
    },
    "tags": []
   },
   "outputs": [],
   "source": [
    "reactions = [\n",
    "    iME22HE.reactions.MTR,\n",
    "    iME22HE.reactions.MCR,\n",
    "    iME22HE.reactions.HDR,\n",
    "    iME22HE.reactions.NAR,\n",
    "]"
   ]
  },
  {
   "cell_type": "markdown",
   "id": "dd94c015-8ac6-479e-a191-a59b71675b13",
   "metadata": {},
   "source": [
    "Prepare Local Compound Cache."
   ]
  },
  {
   "cell_type": "code",
   "execution_count": 7,
   "id": "1501a73b-2504-4eec-bb51-df4957799565",
   "metadata": {
    "execution": {
     "iopub.execute_input": "2022-02-07T13:39:24.524281Z",
     "iopub.status.busy": "2022-02-07T13:39:24.523329Z",
     "iopub.status.idle": "2022-02-07T13:39:24.531628Z",
     "shell.execute_reply": "2022-02-07T13:39:24.529548Z",
     "shell.execute_reply.started": "2022-02-07T13:39:24.524221Z"
    }
   },
   "outputs": [
    {
     "name": "stdout",
     "output_type": "stream",
     "text": [
      "cxcalc is not installed, operating in read-only mode. A local cache may be loaded, but no compounds can be created. Install cxcalc and obtain a ChemAxon license to enable compound creation.\n"
     ]
    }
   ],
   "source": [
    "lc = LocalCompoundCache()"
   ]
  },
  {
   "cell_type": "code",
   "execution_count": 8,
   "id": "8c018a42-fb37-46f5-a687-4c248a359967",
   "metadata": {
    "execution": {
     "iopub.execute_input": "2022-02-07T13:39:24.535020Z",
     "iopub.status.busy": "2022-02-07T13:39:24.534332Z",
     "iopub.status.idle": "2022-02-07T13:39:51.793230Z",
     "shell.execute_reply": "2022-02-07T13:39:51.792046Z",
     "shell.execute_reply.started": "2022-02-07T13:39:24.534956Z"
    },
    "tags": []
   },
   "outputs": [
    {
     "name": "stdout",
     "output_type": "stream",
     "text": [
      "../comp_cache.sqlite already exists.\n",
      "Delete existing file and replace?\n"
     ]
    },
    {
     "name": "stdin",
     "output_type": "stream",
     "text": [
      "Proceed? (yes/no): no\n"
     ]
    },
    {
     "name": "stdout",
     "output_type": "stream",
     "text": [
      "Local cache generation cancelled.\n"
     ]
    }
   ],
   "source": [
    "# comment out this line if a local compound was previously generated\n",
    "lc.generate_local_cache_from_default_zenodo(\"../comp_cache.sqlite\")"
   ]
  },
  {
   "cell_type": "code",
   "execution_count": 9,
   "id": "a997939e-f190-4aa2-80f1-97e07d38c1a9",
   "metadata": {
    "execution": {
     "iopub.execute_input": "2022-02-07T13:39:51.795019Z",
     "iopub.status.busy": "2022-02-07T13:39:51.794624Z",
     "iopub.status.idle": "2022-02-07T13:39:53.036911Z",
     "shell.execute_reply": "2022-02-07T13:39:53.036011Z",
     "shell.execute_reply.started": "2022-02-07T13:39:51.794976Z"
    },
    "tags": []
   },
   "outputs": [],
   "source": [
    "sample_inchis = {key: inchi_key_to_inchi(val) for key, val in inchi_keys.items()}"
   ]
  },
  {
   "cell_type": "code",
   "execution_count": 10,
   "id": "2b59277c-d3b0-40ca-9c39-e25846d2013b",
   "metadata": {
    "execution": {
     "iopub.execute_input": "2022-02-07T13:39:53.038931Z",
     "iopub.status.busy": "2022-02-07T13:39:53.038322Z",
     "iopub.status.idle": "2022-02-07T13:40:08.731606Z",
     "shell.execute_reply": "2022-02-07T13:40:08.730605Z",
     "shell.execute_reply.started": "2022-02-07T13:39:53.038884Z"
    },
    "tags": []
   },
   "outputs": [
    {
     "name": "stdout",
     "output_type": "stream",
     "text": [
      "Loading compounds from ../comp_cache.sqlite\n",
      "Read-Only mode: Only existing compounds in the database can be accessed.\n"
     ]
    }
   ],
   "source": [
    "lc.load_cache(\"../comp_cache.sqlite\")\n",
    "compound_df = pd.DataFrame(\n",
    "    data=[[value, key, key] for key, value in sample_inchis.items()],\n",
    "    # must have these columns (coco as in custom compound)\n",
    "    columns=[\"struct\", \"name\", \"coco_id\"],\n",
    ")\n",
    "\n",
    "# a message will be printed if the compound + ID already exists\n",
    "# run twice to see this behavior\n",
    "log_df = pd.DataFrame()\n",
    "lc.add_compounds(compound_df, mol_format=\"inchi\", log_df=log_df)"
   ]
  },
  {
   "cell_type": "code",
   "execution_count": 11,
   "id": "fbf801eb-7442-484e-9b09-6adbcc5c0ba7",
   "metadata": {
    "execution": {
     "iopub.execute_input": "2022-02-07T13:40:08.733324Z",
     "iopub.status.busy": "2022-02-07T13:40:08.732974Z",
     "iopub.status.idle": "2022-02-07T13:40:08.756467Z",
     "shell.execute_reply": "2022-02-07T13:40:08.755561Z",
     "shell.execute_reply.started": "2022-02-07T13:40:08.733289Z"
    },
    "tags": []
   },
   "outputs": [
    {
     "data": {
      "text/html": [
       "<div>\n",
       "<style scoped>\n",
       "    .dataframe tbody tr th:only-of-type {\n",
       "        vertical-align: middle;\n",
       "    }\n",
       "\n",
       "    .dataframe tbody tr th {\n",
       "        vertical-align: top;\n",
       "    }\n",
       "\n",
       "    .dataframe thead th {\n",
       "        text-align: right;\n",
       "    }\n",
       "</style>\n",
       "<table border=\"1\" class=\"dataframe\">\n",
       "  <thead>\n",
       "    <tr style=\"text-align: right;\">\n",
       "      <th></th>\n",
       "      <th>struct</th>\n",
       "      <th>method</th>\n",
       "      <th>status</th>\n",
       "      <th>inchi_key</th>\n",
       "    </tr>\n",
       "  </thead>\n",
       "  <tbody>\n",
       "    <tr>\n",
       "      <th>0</th>\n",
       "      <td>InChI=1S/C29H38N5O18P/c1-12(25(42)31-17(28(46)...</td>\n",
       "      <td>database</td>\n",
       "      <td>valid</td>\n",
       "      <td>IXPYGZIWHPPILV-NALJQGANSA-J</td>\n",
       "    </tr>\n",
       "    <tr>\n",
       "      <th>1</th>\n",
       "      <td>InChI=1S/C31H47N6O16P/c1-13(22-14(2)34-27-23(3...</td>\n",
       "      <td>database</td>\n",
       "      <td>valid</td>\n",
       "      <td>SWBKYDXMQNCIAW-ZQPYBXQSSA-K</td>\n",
       "    </tr>\n",
       "  </tbody>\n",
       "</table>\n",
       "</div>"
      ],
      "text/plain": [
       "                                              struct    method status  \\\n",
       "0  InChI=1S/C29H38N5O18P/c1-12(25(42)31-17(28(46)...  database  valid   \n",
       "1  InChI=1S/C31H47N6O16P/c1-13(22-14(2)34-27-23(3...  database  valid   \n",
       "\n",
       "                     inchi_key  \n",
       "0  IXPYGZIWHPPILV-NALJQGANSA-J  \n",
       "1  SWBKYDXMQNCIAW-ZQPYBXQSSA-K  "
      ]
     },
     "execution_count": 11,
     "metadata": {},
     "output_type": "execute_result"
    }
   ],
   "source": [
    "log_df"
   ]
  },
  {
   "cell_type": "code",
   "execution_count": 12,
   "id": "de20d2e4-7a15-49cd-91ad-e7acc8e24173",
   "metadata": {
    "execution": {
     "iopub.execute_input": "2022-02-07T13:40:08.761100Z",
     "iopub.status.busy": "2022-02-07T13:40:08.760597Z",
     "iopub.status.idle": "2022-02-07T13:40:08.771421Z",
     "shell.execute_reply": "2022-02-07T13:40:08.769867Z",
     "shell.execute_reply.started": "2022-02-07T13:40:08.761028Z"
    },
    "tags": []
   },
   "outputs": [
    {
     "data": {
      "text/plain": [
       "'InChI=1S/C29H38N5O18P/c1-12(25(42)31-17(28(46)47)4-6-21(38)30-16(27(44)45)5-7-22(39)40)52-53(49,50)51-11-20(37)23(41)19(36)10-34-18-9-14(35)3-2-13(18)8-15-24(34)32-29(48)33-26(15)43/h2-3,9,12,16-17,19-20,23,35-37,41H,4-8,10-11H2,1H3,(H,30,38)(H,31,42)(H,39,40)(H,44,45)(H,46,47)(H,49,50)(H2,32,33,43,48)/t12-,16-,17-,19-,20+,23-/m0/s1'"
      ]
     },
     "execution_count": 12,
     "metadata": {},
     "output_type": "execute_result"
    }
   ],
   "source": [
    "log_df.struct[0]"
   ]
  },
  {
   "cell_type": "code",
   "execution_count": 13,
   "id": "d8944238-e3b2-4aa7-97f4-136345cf64d4",
   "metadata": {
    "execution": {
     "iopub.execute_input": "2022-02-07T13:40:08.773914Z",
     "iopub.status.busy": "2022-02-07T13:40:08.773372Z",
     "iopub.status.idle": "2022-02-07T13:40:09.194164Z",
     "shell.execute_reply": "2022-02-07T13:40:09.193037Z",
     "shell.execute_reply.started": "2022-02-07T13:40:08.773858Z"
    },
    "tags": []
   },
   "outputs": [
    {
     "name": "stdout",
     "output_type": "stream",
     "text": [
      "Read-Only mode: Only existing compounds in the database can be accessed.\n"
     ]
    },
    {
     "data": {
      "text/plain": [
       "Compound(id=494, inchi_key=IXPYGZIWHPPILV-NALJQGANSA-J)"
      ]
     },
     "execution_count": 13,
     "metadata": {},
     "output_type": "execute_result"
    }
   ],
   "source": [
    "lc.get_compounds(\n",
    "    \"InChI=1S/C29H38N5O18P/c1-12(25(42)31-17(28(46)47)4-6-21(38)30-16(27(44)45)5-7-22(39)40)52-53(49,50)51-11-20(37)23(41)19(36)10-34-18-9-14(35)3-2-13(18)8-15-24(34)32-29(48)33-26(15)43/h2-3,9,12,16-17,19-20,23,35-37,41H,4-8,10-11H2,1H3,(H,30,38)(H,31,42)(H,39,40)(H,44,45)(H,46,47)(H,49,50)(H2,32,33,43,48)/t12-,16-,17-,19-,20+,23-/m0/s1\",\n",
    "    mol_format=\"inchi\",\n",
    ")"
   ]
  },
  {
   "cell_type": "code",
   "execution_count": 14,
   "id": "b4982996-994e-4874-8ed5-ce957479594b",
   "metadata": {
    "execution": {
     "iopub.execute_input": "2022-02-07T13:40:09.196534Z",
     "iopub.status.busy": "2022-02-07T13:40:09.196005Z",
     "iopub.status.idle": "2022-02-07T13:40:13.657956Z",
     "shell.execute_reply": "2022-02-07T13:40:13.656964Z",
     "shell.execute_reply.started": "2022-02-07T13:40:09.196476Z"
    },
    "tags": []
   },
   "outputs": [],
   "source": [
    "cc = ComponentContribution(ccache=lc.ccache)\n",
    "\n",
    "# optional: changing the aqueous environment parameters\n",
    "cc.p_h = Q_(7.4)\n",
    "cc.p_mg = Q_(3.0)\n",
    "cc.ionic_strength = Q_(\"0.25M\")\n",
    "cc.temperature = Q_(\"310.15K\")"
   ]
  },
  {
   "cell_type": "code",
   "execution_count": 15,
   "id": "14f49406-7a74-4dad-be72-e873627af81c",
   "metadata": {
    "execution": {
     "iopub.execute_input": "2022-02-07T13:40:13.660322Z",
     "iopub.status.busy": "2022-02-07T13:40:13.659595Z",
     "iopub.status.idle": "2022-02-07T13:40:13.674092Z",
     "shell.execute_reply": "2022-02-07T13:40:13.672804Z",
     "shell.execute_reply.started": "2022-02-07T13:40:13.660263Z"
    },
    "tags": []
   },
   "outputs": [],
   "source": [
    "iME22HE.metabolites.get_by_id(\"mqn[c]\").annotation[\"bigg.metabolite\"] = \"mqn8\"\n",
    "iME22HE.metabolites.get_by_id(\"mql[c]\").annotation[\"bigg.metabolite\"] = \"mql8\"\n",
    "iME22HE.metabolites.get_by_id(\"f420-2h2[c]\").annotation[\"coco\"] = \"f420-2h2[c]\"\n",
    "iME22HE.metabolites.get_by_id(\"mh4mpt[c]\").annotation[\"coco\"] = \"mh4mpt[c]\"\n",
    "iME22HE.metabolites.get_by_id(\"f420-2h2[c]\").annotation[\"kegg.compound\"] = \"C01080\"\n",
    "iME22HE.metabolites.get_by_id(\"mh4mpt[c]\").annotation[\"kegg.compound\"] = \"C04488\""
   ]
  },
  {
   "cell_type": "code",
   "execution_count": 16,
   "id": "1d2aa394-02e5-4a44-b942-dc74d0770a8d",
   "metadata": {
    "execution": {
     "iopub.execute_input": "2022-02-07T13:40:13.677439Z",
     "iopub.status.busy": "2022-02-07T13:40:13.675814Z",
     "iopub.status.idle": "2022-02-07T13:40:27.333630Z",
     "shell.execute_reply": "2022-02-07T13:40:27.332424Z",
     "shell.execute_reply.started": "2022-02-07T13:40:13.677381Z"
    },
    "tags": []
   },
   "outputs": [
    {
     "name": "stderr",
     "output_type": "stream",
     "text": [
      "Querying cache for 15 compounds in 'bigg.metabolite' namespace.                                                              \n",
      "Querying cache for 1 compounds in 'coco' namespace.                                                                          \n",
      "Searching Namespace: 100%|█████████████████████████████████████████████████████████████████████| 2/2 [00:13<00:00,  6.82s/it]\n"
     ]
    }
   ],
   "source": [
    "equi_reactions = map_cobra_reactions(\n",
    "    cc.ccache,\n",
    "    reactions,\n",
    "    annotation_preference=[\n",
    "        \"bigg.metabolite\",\n",
    "        \"coco\",\n",
    "    ],\n",
    ")"
   ]
  },
  {
   "cell_type": "code",
   "execution_count": 17,
   "id": "fdefe917-3225-406e-8270-7dc96c8afdf2",
   "metadata": {
    "execution": {
     "iopub.execute_input": "2022-02-07T13:40:27.336663Z",
     "iopub.status.busy": "2022-02-07T13:40:27.335645Z",
     "iopub.status.idle": "2022-02-07T13:40:27.346957Z",
     "shell.execute_reply": "2022-02-07T13:40:27.344540Z",
     "shell.execute_reply.started": "2022-02-07T13:40:27.336596Z"
    },
    "tags": []
   },
   "outputs": [
    {
     "data": {
      "text/plain": [
       "{'MTR': <equilibrator_api.phased_reaction.PhasedReaction at 0x7ff707c9e820>,\n",
       " 'MCR': <equilibrator_api.phased_reaction.PhasedReaction at 0x7ff708862340>,\n",
       " 'HDR': <equilibrator_api.phased_reaction.PhasedReaction at 0x7ff7072c9e20>,\n",
       " 'NAR': <equilibrator_api.phased_reaction.PhasedReaction at 0x7ff7072e2f40>}"
      ]
     },
     "execution_count": 17,
     "metadata": {},
     "output_type": "execute_result"
    }
   ],
   "source": [
    "equi_reactions"
   ]
  },
  {
   "cell_type": "code",
   "execution_count": 18,
   "id": "4f8f89c2-b17a-447a-9689-2b448a52d980",
   "metadata": {
    "execution": {
     "iopub.execute_input": "2022-02-07T13:40:27.349724Z",
     "iopub.status.busy": "2022-02-07T13:40:27.349158Z",
     "iopub.status.idle": "2022-02-07T13:40:29.427368Z",
     "shell.execute_reply": "2022-02-07T13:40:29.426551Z",
     "shell.execute_reply.started": "2022-02-07T13:40:27.349669Z"
    },
    "tags": []
   },
   "outputs": [
    {
     "name": "stdout",
     "output_type": "stream",
     "text": [
      "MTR\n",
      "(-0.0 +/- 1.0)e+05 kilojoule / mole\n",
      "MCR\n"
     ]
    },
    {
     "name": "stderr",
     "output_type": "stream",
     "text": [
      "/home/georg/.virtualenvs/equilibrator/lib/python3.9/site-packages/equilibrator_cache/reaction.py:616: UserWarning: Cannot calculate Legendre transform for Compound(id=88441, inchi_key=None): Compound(id=88441, inchi_key=None) has not yet been analyzed by ChemAxon.\n",
      "  warnings.warn(\n"
     ]
    },
    {
     "name": "stdout",
     "output_type": "stream",
     "text": [
      "(0.0 +/- 1.0)e+05 kilojoule / mole\n",
      "HDR\n",
      "(-0.0 +/- 1.0)e+05 kilojoule / mole\n",
      "NAR\n"
     ]
    },
    {
     "name": "stderr",
     "output_type": "stream",
     "text": [
      "/home/georg/.virtualenvs/equilibrator/lib/python3.9/site-packages/equilibrator_cache/reaction.py:616: UserWarning: Cannot calculate Legendre transform for Compound(id=704, inchi_key=None): Compound(id=704, inchi_key=None) has not yet been analyzed by ChemAxon.\n",
      "  warnings.warn(\n"
     ]
    },
    {
     "name": "stdout",
     "output_type": "stream",
     "text": [
      "(0.0 +/- 1.0)e+05 kilojoule / mole\n"
     ]
    },
    {
     "name": "stderr",
     "output_type": "stream",
     "text": [
      "/home/georg/.virtualenvs/equilibrator/lib/python3.9/site-packages/equilibrator_cache/reaction.py:616: UserWarning: Cannot calculate Legendre transform for Compound(id=4914, inchi_key=None): Compound(id=4914, inchi_key=None) has not yet been analyzed by ChemAxon.\n",
      "  warnings.warn(\n"
     ]
    }
   ],
   "source": [
    "for r in equi_reactions:\n",
    "    print(r)\n",
    "    if r in equi_reactions:\n",
    "        print(cc.physiological_dg_prime(equi_reactions[r]))\n",
    "    else:\n",
    "        print(f\"no dG for {r}\")"
   ]
  },
  {
   "cell_type": "code",
   "execution_count": 19,
   "id": "ba39856b-98da-4fe0-95c3-dc0db9205884",
   "metadata": {
    "execution": {
     "iopub.execute_input": "2022-02-07T13:40:29.428975Z",
     "iopub.status.busy": "2022-02-07T13:40:29.428533Z",
     "iopub.status.idle": "2022-02-07T13:40:29.610828Z",
     "shell.execute_reply": "2022-02-07T13:40:29.609336Z",
     "shell.execute_reply.started": "2022-02-07T13:40:29.428912Z"
    },
    "tags": []
   },
   "outputs": [
    {
     "name": "stdout",
     "output_type": "stream",
     "text": [
      "met -> cob[c]\n"
     ]
    },
    {
     "data": {
      "text/plain": [
       "Compound(id=854, inchi_key=JBJSVEVEEGOEBZ-SCZZXKLOSA-K)"
      ]
     },
     "execution_count": 19,
     "metadata": {},
     "output_type": "execute_result"
    },
    {
     "name": "stdout",
     "output_type": "stream",
     "text": [
      "met -> ch4[c]\n"
     ]
    },
    {
     "data": {
      "text/plain": [
       "Compound(id=675, inchi_key=VNWKTOKETHGBQD-UHFFFAOYSA-N)"
      ]
     },
     "execution_count": 19,
     "metadata": {},
     "output_type": "execute_result"
    },
    {
     "name": "stdout",
     "output_type": "stream",
     "text": [
      "met -> h2o[c]\n"
     ]
    },
    {
     "data": {
      "text/plain": [
       "Compound(id=5, inchi_key=XLYOFNOQVPJJNP-UHFFFAOYSA-N)"
      ]
     },
     "execution_count": 19,
     "metadata": {},
     "output_type": "execute_result"
    },
    {
     "name": "stdout",
     "output_type": "stream",
     "text": [
      "met -> ficytC[c]\n"
     ]
    },
    {
     "data": {
      "text/plain": [
       "Compound(id=4914, inchi_key=None)"
      ]
     },
     "execution_count": 19,
     "metadata": {},
     "output_type": "execute_result"
    },
    {
     "name": "stdout",
     "output_type": "stream",
     "text": [
      "met -> mcom[c]\n"
     ]
    },
    {
     "data": {
      "text/plain": [
       "Compound(id=638, inchi_key=FGMRHOCVEPGURB-UHFFFAOYSA-M)"
      ]
     },
     "execution_count": 19,
     "metadata": {},
     "output_type": "execute_result"
    },
    {
     "name": "stdout",
     "output_type": "stream",
     "text": [
      "met -> no3[e]\n"
     ]
    },
    {
     "data": {
      "text/plain": [
       "Compound(id=195, inchi_key=NHNBFGGVMKEFGY-UHFFFAOYSA-N)"
      ]
     },
     "execution_count": 19,
     "metadata": {},
     "output_type": "execute_result"
    },
    {
     "name": "stdout",
     "output_type": "stream",
     "text": [
      "met -> h[c]\n"
     ]
    },
    {
     "data": {
      "text/plain": [
       "Compound(id=4, inchi_key=GPRLSGONYQIRFK-UHFFFAOYSA-N)"
      ]
     },
     "execution_count": 19,
     "metadata": {},
     "output_type": "execute_result"
    },
    {
     "name": "stdout",
     "output_type": "stream",
     "text": [
      "met -> no2[e]\n"
     ]
    },
    {
     "data": {
      "text/plain": [
       "Compound(id=101, inchi_key=IOVCWXUNBOPUCH-UHFFFAOYSA-M)"
      ]
     },
     "execution_count": 19,
     "metadata": {},
     "output_type": "execute_result"
    },
    {
     "name": "stdout",
     "output_type": "stream",
     "text": [
      "met -> na1[e]\n"
     ]
    },
    {
     "data": {
      "text/plain": [
       "Compound(id=29, inchi_key=FKNQFGJONOIPTF-UHFFFAOYSA-N)"
      ]
     },
     "execution_count": 19,
     "metadata": {},
     "output_type": "execute_result"
    },
    {
     "name": "stdout",
     "output_type": "stream",
     "text": [
      "met -> mqn[c]\n"
     ]
    },
    {
     "data": {
      "text/plain": [
       "Compound(id=485, inchi_key=LXKDFTDVRVLXFY-WQWYCSGDSA-N)"
      ]
     },
     "execution_count": 19,
     "metadata": {},
     "output_type": "execute_result"
    },
    {
     "name": "stdout",
     "output_type": "stream",
     "text": [
      "met -> mh4mpt[c]\n"
     ]
    },
    {
     "data": {
      "text/plain": [
       "Compound(id=1484, inchi_key=SWBKYDXMQNCIAW-ZQPYBXQSSA-K)"
      ]
     },
     "execution_count": 19,
     "metadata": {},
     "output_type": "execute_result"
    },
    {
     "name": "stdout",
     "output_type": "stream",
     "text": [
      "met -> h4mpt[c]\n"
     ]
    },
    {
     "data": {
      "text/plain": [
       "Compound(id=635, inchi_key=SCBIBGUJSMHIAI-LHIIQLEZSA-K)"
      ]
     },
     "execution_count": 19,
     "metadata": {},
     "output_type": "execute_result"
    },
    {
     "name": "stdout",
     "output_type": "stream",
     "text": [
      "met -> mql[c]\n"
     ]
    },
    {
     "data": {
      "text/plain": [
       "Compound(id=211, inchi_key=OIEZRVBFVPGODT-WQWYCSGDSA-N)"
      ]
     },
     "execution_count": 19,
     "metadata": {},
     "output_type": "execute_result"
    },
    {
     "name": "stdout",
     "output_type": "stream",
     "text": [
      "met -> focytC[c]\n"
     ]
    },
    {
     "data": {
      "text/plain": [
       "Compound(id=704, inchi_key=None)"
      ]
     },
     "execution_count": 19,
     "metadata": {},
     "output_type": "execute_result"
    },
    {
     "name": "stdout",
     "output_type": "stream",
     "text": [
      "met -> na1[c]\n"
     ]
    },
    {
     "data": {
      "text/plain": [
       "Compound(id=29, inchi_key=FKNQFGJONOIPTF-UHFFFAOYSA-N)"
      ]
     },
     "execution_count": 19,
     "metadata": {},
     "output_type": "execute_result"
    },
    {
     "name": "stdout",
     "output_type": "stream",
     "text": [
      "met -> hsfd[c]\n"
     ]
    },
    {
     "data": {
      "text/plain": [
       "Compound(id=88441, inchi_key=None)"
      ]
     },
     "execution_count": 19,
     "metadata": {},
     "output_type": "execute_result"
    },
    {
     "name": "stdout",
     "output_type": "stream",
     "text": [
      "met -> h[e]\n"
     ]
    },
    {
     "data": {
      "text/plain": [
       "Compound(id=4, inchi_key=GPRLSGONYQIRFK-UHFFFAOYSA-N)"
      ]
     },
     "execution_count": 19,
     "metadata": {},
     "output_type": "execute_result"
    },
    {
     "name": "stdout",
     "output_type": "stream",
     "text": [
      "met -> com[c]\n"
     ]
    },
    {
     "data": {
      "text/plain": [
       "Compound(id=378, inchi_key=ZNEWHQLOPFWXOF-UHFFFAOYSA-M)"
      ]
     },
     "execution_count": 19,
     "metadata": {},
     "output_type": "execute_result"
    }
   ],
   "source": [
    "for met in {met for reac in reactions for met in reac.metabolites}:\n",
    "    print(f\"met -> {met.id}\")\n",
    "    if \"bigg.metabolite\" in met.annotation:\n",
    "        cc.get_compound(f\"bigg.metabolite:{met.annotation['bigg.metabolite']}\")\n",
    "    else:\n",
    "        cc.get_compound(f\"coco:{met.annotation['coco']}\")"
   ]
  },
  {
   "cell_type": "code",
   "execution_count": 20,
   "id": "acb3c6cb-6d19-4a19-8568-7414cfbe2a51",
   "metadata": {
    "execution": {
     "iopub.execute_input": "2022-02-07T13:40:29.613263Z",
     "iopub.status.busy": "2022-02-07T13:40:29.612758Z",
     "iopub.status.idle": "2022-02-07T13:40:29.624906Z",
     "shell.execute_reply": "2022-02-07T13:40:29.622849Z",
     "shell.execute_reply.started": "2022-02-07T13:40:29.613197Z"
    },
    "tags": []
   },
   "outputs": [
    {
     "data": {
      "text/plain": [
       "{'f420-2h2[c]': 'InChI=1S/C29H38N5O18P/c1-12(25(42)31-17(28(46)47)4-6-21(38)30-16(27(44)45)5-7-22(39)40)52-53(49,50)51-11-20(37)23(41)19(36)10-34-18-9-14(35)3-2-13(18)8-15-24(34)32-29(48)33-26(15)43/h2-3,9,12,16-17,19-20,23,35-37,41H,4-8,10-11H2,1H3,(H,30,38)(H,31,42)(H,39,40)(H,44,45)(H,46,47)(H,49,50)(H2,32,33,43,48)/t12-,16-,17-,19-,20+,23-/m0/s1',\n",
       " 'mh4mpt[c]': 'InChI=1S/C31H47N6O16P/c1-13(22-14(2)34-27-23(37(22)3)28(45)36-31(32)35-27)33-16-6-4-15(5-7-16)10-17(38)24(42)18(39)11-50-30-26(44)25(43)20(52-30)12-51-54(48,49)53-19(29(46)47)8-9-21(40)41/h4-7,13-14,17-20,22,24-26,30,33,38-39,42-44H,8-12H2,1-3H3,(H,40,41)(H,46,47)(H,48,49)(H4,32,34,35,36,45)/t13-,14+,17+,18-,19+,20-,22+,24+,25-,26-,30+/m1/s1'}"
      ]
     },
     "execution_count": 20,
     "metadata": {},
     "output_type": "execute_result"
    }
   ],
   "source": [
    "sample_inchis"
   ]
  },
  {
   "cell_type": "code",
   "execution_count": 21,
   "id": "7cbc2b99-837a-476f-9ffc-023dc444fd2f",
   "metadata": {
    "execution": {
     "iopub.execute_input": "2022-02-07T13:40:29.628251Z",
     "iopub.status.busy": "2022-02-07T13:40:29.627363Z",
     "iopub.status.idle": "2022-02-07T13:40:29.645913Z",
     "shell.execute_reply": "2022-02-07T13:40:29.644390Z",
     "shell.execute_reply.started": "2022-02-07T13:40:29.628170Z"
    },
    "tags": []
   },
   "outputs": [],
   "source": [
    "cc.get_compound_by_inchi(\n",
    "    \"InChI=1S/C29H38N5O18P/c1-12(25(42)31-17(28(46)47)4-6-21(38)30-16(27(44)45)5-7-22(39)40)52-53(49,50)51-11-20(37)23(41)19(36)10-34-18-9-14(35)3-2-13(18)8-15-24(34)32-29(48)33-26(15)43/h2-3,9,12,16-17,19-20,23,35-37,41H,4-8,10-11H2,1H3,(H,30,38)(H,31,42)(H,39,40)(H,44,45)(H,46,47)(H,49,50)(H2,32,33,43,48)/t12-,16-,17-,19-,20+,23-/m0/s1\"\n",
    ")"
   ]
  },
  {
   "cell_type": "markdown",
   "id": "35054059-6ef5-4767-84de-66b1e86f4f6a",
   "metadata": {},
   "source": [
    "## MDF calculations"
   ]
  },
  {
   "cell_type": "code",
   "execution_count": 22,
   "id": "fa165f4e-1b81-4531-ad11-b531c87409ef",
   "metadata": {
    "execution": {
     "iopub.execute_input": "2022-02-07T13:40:29.649121Z",
     "iopub.status.busy": "2022-02-07T13:40:29.648163Z",
     "iopub.status.idle": "2022-02-07T13:40:29.656590Z",
     "shell.execute_reply": "2022-02-07T13:40:29.654626Z",
     "shell.execute_reply.started": "2022-02-07T13:40:29.649052Z"
    },
    "tags": []
   },
   "outputs": [],
   "source": [
    "import equilibrator_pathway"
   ]
  },
  {
   "cell_type": "code",
   "execution_count": 23,
   "id": "cdd297fa-43c6-4296-bce6-5f6b386daa04",
   "metadata": {
    "execution": {
     "iopub.execute_input": "2022-02-07T13:40:29.659842Z",
     "iopub.status.busy": "2022-02-07T13:40:29.658541Z",
     "iopub.status.idle": "2022-02-07T13:40:29.672588Z",
     "shell.execute_reply": "2022-02-07T13:40:29.671176Z",
     "shell.execute_reply.started": "2022-02-07T13:40:29.659770Z"
    },
    "tags": []
   },
   "outputs": [],
   "source": [
    "def run_mdf(\n",
    "    equi_reactions: dict, cc: ComponentContribution\n",
    ") -> equilibrator_pathway.mdf_solution.PathwayMdfSolution:\n",
    "    # clean some identifiers\n",
    "    i = 1\n",
    "    for reac in equi_reactions.values():\n",
    "        for k in reac.keys():\n",
    "            if k.get_common_name() is None:\n",
    "                k.identifiers[0].registry.name = \"Synonyms\"\n",
    "    for reac in equi_reactions.values():\n",
    "        for k in reac.keys():\n",
    "            if k.get_common_name() is None:\n",
    "                k.get_compund_name = lambda: f\"comp{i}\"\n",
    "                i += 1\n",
    "    pathway = ThermodynamicModel.from_stoichiometric_model(\n",
    "        StoichiometricModel(equi_reactions.values(), cc)\n",
    "    )\n",
    "    tmodel = ThermodynamicModel(pathway.reactions, pathway.fluxes, cc)\n",
    "    return tmodel.mdf_analysis()"
   ]
  },
  {
   "cell_type": "code",
   "execution_count": 24,
   "id": "ef063f24-6edd-4b8f-9c35-62474c51a339",
   "metadata": {
    "execution": {
     "iopub.execute_input": "2022-02-07T13:40:29.675846Z",
     "iopub.status.busy": "2022-02-07T13:40:29.674543Z",
     "iopub.status.idle": "2022-02-07T13:40:30.954486Z",
     "shell.execute_reply": "2022-02-07T13:40:30.953304Z",
     "shell.execute_reply.started": "2022-02-07T13:40:29.675771Z"
    },
    "tags": []
   },
   "outputs": [],
   "source": [
    "mdf_result = run_mdf(equi_reactions, cc)"
   ]
  },
  {
   "cell_type": "code",
   "execution_count": 25,
   "id": "4727ce38-5232-497f-b04e-3e6d6aeccd26",
   "metadata": {
    "execution": {
     "iopub.execute_input": "2022-02-07T13:40:30.956887Z",
     "iopub.status.busy": "2022-02-07T13:40:30.956090Z",
     "iopub.status.idle": "2022-02-07T13:40:32.576344Z",
     "shell.execute_reply": "2022-02-07T13:40:32.575264Z",
     "shell.execute_reply.started": "2022-02-07T13:40:30.956825Z"
    },
    "tags": []
   },
   "outputs": [
    {
     "data": {
      "image/png": "[encoded data removed]",
      "text/plain": [
       "<Figure size 720x270 with 1 Axes>"
      ]
     },
     "metadata": {
      "needs_background": "light"
     },
     "output_type": "display_data"
    }
   ],
   "source": [
    "mdf_result.plot_concentrations()"
   ]
  },
  {
   "cell_type": "code",
   "execution_count": 26,
   "id": "5a203a67-49fd-410b-bf03-1dc67cfa9773",
   "metadata": {
    "execution": {
     "iopub.execute_input": "2022-02-07T13:40:32.578787Z",
     "iopub.status.busy": "2022-02-07T13:40:32.578283Z",
     "iopub.status.idle": "2022-02-07T13:40:32.885120Z",
     "shell.execute_reply": "2022-02-07T13:40:32.883593Z",
     "shell.execute_reply.started": "2022-02-07T13:40:32.578734Z"
    },
    "tags": []
   },
   "outputs": [
    {
     "data": {
      "image/png": "[encoded data removed]",
      "text/plain": [
       "<Figure size 302.4x432 with 1 Axes>"
      ]
     },
     "metadata": {
      "needs_background": "light"
     },
     "output_type": "display_data"
    }
   ],
   "source": [
    "mdf_result.plot_driving_forces()"
   ]
  },
  {
   "cell_type": "code",
   "execution_count": 27,
   "id": "4367d264-5d2e-4609-95dc-2541204de4e8",
   "metadata": {
    "execution": {
     "iopub.execute_input": "2022-02-07T13:40:32.887721Z",
     "iopub.status.busy": "2022-02-07T13:40:32.887103Z",
     "iopub.status.idle": "2022-02-07T13:40:32.893161Z",
     "shell.execute_reply": "2022-02-07T13:40:32.892083Z",
     "shell.execute_reply.started": "2022-02-07T13:40:32.887656Z"
    },
    "tags": []
   },
   "outputs": [],
   "source": [
    "reactions_nohdr = [\n",
    "    iME22HE.reactions.MTR,\n",
    "    iME22HE.reactions.MCR,\n",
    "    iME22HE.reactions.get_by_id(\"HDR-2\"),\n",
    "    iME22HE.reactions.NAR,\n",
    "    iME22HE.reactions.FQO,\n",
    "]"
   ]
  },
  {
   "cell_type": "code",
   "execution_count": 28,
   "id": "8c470351-f252-4563-b6ba-5df2c756d9ae",
   "metadata": {
    "execution": {
     "iopub.execute_input": "2022-02-07T13:40:32.895550Z",
     "iopub.status.busy": "2022-02-07T13:40:32.894509Z",
     "iopub.status.idle": "2022-02-07T13:40:56.303049Z",
     "shell.execute_reply": "2022-02-07T13:40:56.301744Z",
     "shell.execute_reply.started": "2022-02-07T13:40:32.895505Z"
    },
    "tags": []
   },
   "outputs": [
    {
     "name": "stderr",
     "output_type": "stream",
     "text": [
      "Querying cache for 18 compounds in 'bigg.metabolite' namespace.                                                              \n",
      "Querying cache for 2 compounds in 'coco' namespace.                                                                          \n",
      "Searching Namespace: 100%|█████████████████████████████████████████████████████████████████████| 2/2 [00:17<00:00,  8.96s/it]\n"
     ]
    }
   ],
   "source": [
    "cc = ComponentContribution(ccache=lc.ccache)\n",
    "\n",
    "# optional: changing the aqueous environment parameters\n",
    "cc.p_h = Q_(7.4)\n",
    "cc.p_mg = Q_(3.0)\n",
    "cc.ionic_strength = Q_(\"0.25M\")\n",
    "cc.temperature = Q_(\"296.15K\")\n",
    "\n",
    "equi_reactions = map_cobra_reactions(\n",
    "    cc.ccache,\n",
    "    reactions_nohdr,\n",
    "    annotation_preference=[\n",
    "        \"bigg.metabolite\",\n",
    "        \"coco\",\n",
    "    ],\n",
    ")"
   ]
  },
  {
   "cell_type": "code",
   "execution_count": 29,
   "id": "f2dcabb3-5552-4c13-85bb-0b7cf548fff7",
   "metadata": {
    "execution": {
     "iopub.execute_input": "2022-02-07T13:40:56.305379Z",
     "iopub.status.busy": "2022-02-07T13:40:56.304882Z",
     "iopub.status.idle": "2022-02-07T13:40:57.035237Z",
     "shell.execute_reply": "2022-02-07T13:40:57.033716Z",
     "shell.execute_reply.started": "2022-02-07T13:40:56.305321Z"
    }
   },
   "outputs": [
    {
     "name": "stdout",
     "output_type": "stream",
     "text": [
      "MTR\n",
      "(-0.0 +/- 1.0)e+05 kilojoule / mole\n",
      "MCR\n",
      "(0.0 +/- 1.0)e+05 kilojoule / mole\n",
      "HDR-2\n"
     ]
    },
    {
     "name": "stderr",
     "output_type": "stream",
     "text": [
      "/home/georg/.virtualenvs/equilibrator/lib/python3.9/site-packages/equilibrator_cache/reaction.py:616: UserWarning: Cannot calculate Legendre transform for Compound(id=75412, inchi_key=None): Compound(id=75412, inchi_key=None) has not yet been analyzed by ChemAxon.\n",
      "  warnings.warn(\n"
     ]
    },
    {
     "name": "stdout",
     "output_type": "stream",
     "text": [
      "(-0.0 +/- 1.0)e+05 kilojoule / mole\n",
      "NAR\n",
      "(0.0 +/- 1.0)e+05 kilojoule / mole\n",
      "FQO\n",
      "(-22 +/- 6) kilojoule / mole\n"
     ]
    },
    {
     "name": "stderr",
     "output_type": "stream",
     "text": [
      "/home/georg/.virtualenvs/equilibrator/lib/python3.9/site-packages/equilibrator_cache/reaction.py:616: UserWarning: Cannot calculate Legendre transform for Compound(id=75411, inchi_key=None): Compound(id=75411, inchi_key=None) has not yet been analyzed by ChemAxon.\n",
      "  warnings.warn(\n"
     ]
    }
   ],
   "source": [
    "for r in equi_reactions:\n",
    "    print(r)\n",
    "    if r in equi_reactions:\n",
    "        print(cc.physiological_dg_prime(equi_reactions[r]))\n",
    "    else:\n",
    "        print(f\"no dG for {r}\")"
   ]
  },
  {
   "cell_type": "code",
   "execution_count": 30,
   "id": "87c40ceb-f8c4-426a-8579-be02d8fca5dd",
   "metadata": {
    "execution": {
     "iopub.execute_input": "2022-02-07T13:40:57.039759Z",
     "iopub.status.busy": "2022-02-07T13:40:57.037890Z",
     "iopub.status.idle": "2022-02-07T13:40:57.924119Z",
     "shell.execute_reply": "2022-02-07T13:40:57.923320Z",
     "shell.execute_reply.started": "2022-02-07T13:40:57.039683Z"
    },
    "tags": []
   },
   "outputs": [],
   "source": [
    "mdf_result2 = run_mdf(equi_reactions, cc)"
   ]
  },
  {
   "cell_type": "code",
   "execution_count": 31,
   "id": "ac24c3ad-8de5-47c0-8719-6ffdb8a54ed5",
   "metadata": {
    "execution": {
     "iopub.execute_input": "2022-02-07T13:40:57.925646Z",
     "iopub.status.busy": "2022-02-07T13:40:57.925321Z",
     "iopub.status.idle": "2022-02-07T13:40:58.925570Z",
     "shell.execute_reply": "2022-02-07T13:40:58.924788Z",
     "shell.execute_reply.started": "2022-02-07T13:40:57.925611Z"
    },
    "tags": []
   },
   "outputs": [
    {
     "data": {
      "image/png": "[encoded data removed]",
      "text/plain": [
       "<Figure size 720x342 with 1 Axes>"
      ]
     },
     "metadata": {
      "needs_background": "light"
     },
     "output_type": "display_data"
    }
   ],
   "source": [
    "mdf_result2.plot_concentrations()"
   ]
  },
  {
   "cell_type": "code",
   "execution_count": 32,
   "id": "15e6f18f-3b76-423f-ba5f-35356570acb3",
   "metadata": {
    "execution": {
     "iopub.execute_input": "2022-02-07T13:40:58.927181Z",
     "iopub.status.busy": "2022-02-07T13:40:58.926842Z",
     "iopub.status.idle": "2022-02-07T13:40:59.281628Z",
     "shell.execute_reply": "2022-02-07T13:40:59.280664Z",
     "shell.execute_reply.started": "2022-02-07T13:40:58.927150Z"
    },
    "tags": []
   },
   "outputs": [
    {
     "data": {
      "image/png": "[encoded data removed]",
      "text/plain": [
       "<Figure size 324x432 with 1 Axes>"
      ]
     },
     "metadata": {
      "needs_background": "light"
     },
     "output_type": "display_data"
    }
   ],
   "source": [
    "mdf_result2.plot_driving_forces()"
   ]
  },
  {
   "cell_type": "markdown",
   "id": "87f3a053-ca84-4493-b537-705bbeb0b891",
   "metadata": {},
   "source": [
    "## MDF from $\\Delta G_r^{o'}$ as in the supp tables"
   ]
  },
  {
   "cell_type": "code",
   "execution_count": 34,
   "id": "66fa337c-17c7-44cc-babc-bc3b21af644c",
   "metadata": {
    "execution": {
     "iopub.execute_input": "2022-02-07T13:47:28.340315Z",
     "iopub.status.busy": "2022-02-07T13:47:28.339839Z",
     "iopub.status.idle": "2022-02-07T13:47:28.345133Z",
     "shell.execute_reply": "2022-02-07T13:47:28.343942Z",
     "shell.execute_reply.started": "2022-02-07T13:47:28.340269Z"
    },
    "tags": []
   },
   "outputs": [],
   "source": [
    "from equilibrator_api import Q_"
   ]
  },
  {
   "cell_type": "code",
   "execution_count": 43,
   "id": "c0ad5351-abd4-40d7-8b3a-51898e948c3e",
   "metadata": {
    "execution": {
     "iopub.execute_input": "2022-02-07T13:48:43.306499Z",
     "iopub.status.busy": "2022-02-07T13:48:43.306127Z",
     "iopub.status.idle": "2022-02-07T13:48:43.314165Z",
     "shell.execute_reply": "2022-02-07T13:48:43.313025Z",
     "shell.execute_reply.started": "2022-02-07T13:48:43.306454Z"
    },
    "tags": []
   },
   "outputs": [
    {
     "data": {
      "text/plain": [
       "{'MTR': <equilibrator_api.phased_reaction.PhasedReaction at 0x7ff7082b7070>,\n",
       " 'MCR': <equilibrator_api.phased_reaction.PhasedReaction at 0x7ff7082b7bb0>,\n",
       " 'HDR-2': <equilibrator_api.phased_reaction.PhasedReaction at 0x7ff7082dc8e0>,\n",
       " 'NAR': <equilibrator_api.phased_reaction.PhasedReaction at 0x7ff7088b9640>,\n",
       " 'FQO': <equilibrator_api.phased_reaction.PhasedReaction at 0x7ff7088dad90>}"
      ]
     },
     "execution_count": 43,
     "metadata": {},
     "output_type": "execute_result"
    }
   ],
   "source": [
    "equi_reactions"
   ]
  },
  {
   "cell_type": "code",
   "execution_count": 49,
   "id": "ba798ac9-f83c-4324-a4f4-0112f1fca035",
   "metadata": {
    "execution": {
     "iopub.execute_input": "2022-02-07T13:55:20.609445Z",
     "iopub.status.busy": "2022-02-07T13:55:20.608950Z",
     "iopub.status.idle": "2022-02-07T13:55:20.623508Z",
     "shell.execute_reply": "2022-02-07T13:55:20.622453Z",
     "shell.execute_reply.started": "2022-02-07T13:55:20.609397Z"
    },
    "tags": []
   },
   "outputs": [
    {
     "name": "stderr",
     "output_type": "stream",
     "text": [
      "/home/georg/.virtualenvs/equilibrator/lib/python3.9/site-packages/pandas/core/dtypes/cast.py:1990: UnitStrippedWarning: The unit of the quantity is stripped when downcasting to ndarray.\n",
      "  result[:] = values\n"
     ]
    }
   ],
   "source": [
    "df = pd.DataFrame(\n",
    "    {\n",
    "        \"reaction_id\": equi_reactions.keys(),\n",
    "        \"reaction\": equi_reactions.values(),\n",
    "        \"fluxes\": [\n",
    "           standard_dg_primesmM/hour\"),\n",
    "            Q_(1.1, \"mM/hour\"),\n",
    "            Q_(0.917, \"mM/hour\"),\n",
    "            Q_(3.832, \"mM/hour\"),\n",
    "            Q_(3.648, \"mM/hour\"),\n",
    "        ],\n",
    "        \"standard_dg_primes\": [\n",
    "            Q_(30, \"kJ/mol\"),\n",
    "            Q_(45, \"kJ/mol\"),\n",
    "            Q_(38.59, \"kJ/mol\"),\n",
    "            Q_(-96.48, \"kJ/mol\"),\n",
    "            Q_(-57.68, \"kJ/mol\"),\n",
    "        ]\n",
    "    }\n",
    ")"
   ]
  },
  {
   "cell_type": "code",
   "execution_count": 48,
   "id": "1af03fa6-1c34-4f7b-b702-76b04c0964b7",
   "metadata": {
    "execution": {
     "iopub.execute_input": "2022-02-07T13:53:31.315754Z",
     "iopub.status.busy": "2022-02-07T13:53:31.315422Z",
     "iopub.status.idle": "2022-02-07T13:53:31.328069Z",
     "shell.execute_reply": "2022-02-07T13:53:31.326880Z",
     "shell.execute_reply.started": "2022-02-07T13:53:31.315719Z"
    },
    "tags": []
   },
   "outputs": [
    {
     "data": {
      "text/html": [
       "<div>\n",
       "<style scoped>\n",
       "    .dataframe tbody tr th:only-of-type {\n",
       "        vertical-align: middle;\n",
       "    }\n",
       "\n",
       "    .dataframe tbody tr th {\n",
       "        vertical-align: top;\n",
       "    }\n",
       "\n",
       "    .dataframe thead th {\n",
       "        text-align: right;\n",
       "    }\n",
       "</style>\n",
       "<table border=\"1\" class=\"dataframe\">\n",
       "  <thead>\n",
       "    <tr style=\"text-align: right;\">\n",
       "      <th></th>\n",
       "      <th>reaction_id</th>\n",
       "      <th>reaction</th>\n",
       "      <th>fluxes</th>\n",
       "    </tr>\n",
       "  </thead>\n",
       "  <tbody>\n",
       "    <tr>\n",
       "      <th>0</th>\n",
       "      <td>MTR</td>\n",
       "      <td>Compound(id=635, inchi_key=SCBIBGUJSMHIAI-LHII...</td>\n",
       "      <td>1.1 millimolar / hour</td>\n",
       "    </tr>\n",
       "    <tr>\n",
       "      <th>1</th>\n",
       "      <td>MCR</td>\n",
       "      <td>Compound(id=675, inchi_key=VNWKTOKETHGBQD-UHFF...</td>\n",
       "      <td>1.1 millimolar / hour</td>\n",
       "    </tr>\n",
       "    <tr>\n",
       "      <th>2</th>\n",
       "      <td>HDR-2</td>\n",
       "      <td>2 Compound(id=4, inchi_key=GPRLSGONYQIRFK-UHFF...</td>\n",
       "      <td>0.917 millimolar / hour</td>\n",
       "    </tr>\n",
       "    <tr>\n",
       "      <th>3</th>\n",
       "      <td>NAR</td>\n",
       "      <td>2 Compound(id=4, inchi_key=GPRLSGONYQIRFK-UHFF...</td>\n",
       "      <td>3.832 millimolar / hour</td>\n",
       "    </tr>\n",
       "    <tr>\n",
       "      <th>4</th>\n",
       "      <td>FQO</td>\n",
       "      <td>Compound(id=485, inchi_key=LXKDFTDVRVLXFY-WQWY...</td>\n",
       "      <td>3.648 millimolar / hour</td>\n",
       "    </tr>\n",
       "  </tbody>\n",
       "</table>\n",
       "</div>"
      ],
      "text/plain": [
       "  reaction_id                                           reaction  \\\n",
       "0         MTR  Compound(id=635, inchi_key=SCBIBGUJSMHIAI-LHII...   \n",
       "1         MCR  Compound(id=675, inchi_key=VNWKTOKETHGBQD-UHFF...   \n",
       "2       HDR-2  2 Compound(id=4, inchi_key=GPRLSGONYQIRFK-UHFF...   \n",
       "3         NAR  2 Compound(id=4, inchi_key=GPRLSGONYQIRFK-UHFF...   \n",
       "4         FQO  Compound(id=485, inchi_key=LXKDFTDVRVLXFY-WQWY...   \n",
       "\n",
       "                    fluxes  \n",
       "0    1.1 millimolar / hour  \n",
       "1    1.1 millimolar / hour  \n",
       "2  0.917 millimolar / hour  \n",
       "3  3.832 millimolar / hour  \n",
       "4  3.648 millimolar / hour  "
      ]
     },
     "execution_count": 48,
     "metadata": {},
     "output_type": "execute_result"
    }
   ],
   "source": [
    "df"
   ]
  },
  {
   "cell_type": "code",
   "execution_count": 68,
   "id": "f246517a-22b5-4411-8722-d8310e13bd68",
   "metadata": {
    "execution": {
     "iopub.execute_input": "2022-02-07T15:05:26.851160Z",
     "iopub.status.busy": "2022-02-07T15:05:26.850427Z",
     "iopub.status.idle": "2022-02-07T15:05:26.856126Z",
     "shell.execute_reply": "2022-02-07T15:05:26.855017Z",
     "shell.execute_reply.started": "2022-02-07T15:05:26.851123Z"
    },
    "tags": []
   },
   "outputs": [],
   "source": [
    "fluxes = Q_([1.1, 1.1, 0.917, 3.832, 3.648], \"mM/hour\")\n",
    "standard_dg_primes = Q_([30, 45, 38.59, -96.48, -57.68], \"kJ/mol\")"
   ]
  },
  {
   "cell_type": "code",
   "execution_count": 69,
   "id": "f32fb6cc-1704-42ea-9067-7d70c0f88b37",
   "metadata": {
    "execution": {
     "iopub.execute_input": "2022-02-07T15:05:27.593601Z",
     "iopub.status.busy": "2022-02-07T15:05:27.592694Z",
     "iopub.status.idle": "2022-02-07T15:05:27.619949Z",
     "shell.execute_reply": "2022-02-07T15:05:27.618451Z",
     "shell.execute_reply.started": "2022-02-07T15:05:27.593561Z"
    },
    "tags": []
   },
   "outputs": [],
   "source": [
    "thermo_model = ThermodynamicModel(\n",
    "    reactions=equi_reactions.values(),\n",
    "    fluxes=fluxes,\n",
    "    comp_contrib=cc,\n",
    "    standard_dg_primes=standard_dg_primes,\n",
    ")"
   ]
  },
  {
   "cell_type": "code",
   "execution_count": 70,
   "id": "7fa4e18f-b361-41fc-852c-ad9c64cfb965",
   "metadata": {
    "execution": {
     "iopub.execute_input": "2022-02-07T15:05:28.281116Z",
     "iopub.status.busy": "2022-02-07T15:05:28.280443Z",
     "iopub.status.idle": "2022-02-07T15:05:28.840906Z",
     "shell.execute_reply": "2022-02-07T15:05:28.840004Z",
     "shell.execute_reply.started": "2022-02-07T15:05:28.281030Z"
    },
    "tags": []
   },
   "outputs": [],
   "source": [
    "mdf_analysis_supp = thermo_model.mdf_analysis()"
   ]
  },
  {
   "cell_type": "code",
   "execution_count": 71,
   "id": "20c4a9d6-32df-42be-bf7a-ff1804803e85",
   "metadata": {
    "execution": {
     "iopub.execute_input": "2022-02-07T15:05:28.843755Z",
     "iopub.status.busy": "2022-02-07T15:05:28.842917Z",
     "iopub.status.idle": "2022-02-07T15:05:29.954669Z",
     "shell.execute_reply": "2022-02-07T15:05:29.953818Z",
     "shell.execute_reply.started": "2022-02-07T15:05:28.843690Z"
    },
    "tags": []
   },
   "outputs": [
    {
     "data": {
      "image/png": "[encoded data removed]",
      "text/plain": [
       "<Figure size 720x342 with 1 Axes>"
      ]
     },
     "metadata": {
      "needs_background": "light"
     },
     "output_type": "display_data"
    }
   ],
   "source": [
    "mdf_analysis_supp.plot_concentrations()"
   ]
  },
  {
   "cell_type": "code",
   "execution_count": 72,
   "id": "4bc76276-da93-4f3f-947d-f4dbaaffcfd0",
   "metadata": {
    "execution": {
     "iopub.execute_input": "2022-02-07T15:05:29.956508Z",
     "iopub.status.busy": "2022-02-07T15:05:29.956182Z",
     "iopub.status.idle": "2022-02-07T15:05:30.247363Z",
     "shell.execute_reply": "2022-02-07T15:05:30.245920Z",
     "shell.execute_reply.started": "2022-02-07T15:05:29.956473Z"
    },
    "tags": []
   },
   "outputs": [
    {
     "data": {
      "image/png": "[encoded data removed]",
      "text/plain": [
       "<Figure size 324x432 with 1 Axes>"
      ]
     },
     "metadata": {
      "needs_background": "light"
     },
     "output_type": "display_data"
    }
   ],
   "source": [
    "mdf_analysis_supp.plot_driving_forces()"
   ]
  },
  {
   "cell_type": "markdown",
   "id": "988fba99-baea-400b-9842-47997edd3816",
   "metadata": {},
   "source": [
    "With HDR"
   ]
  },
  {
   "cell_type": "code",
   "execution_count": 73,
   "id": "813f1e7a-d898-4256-b1e5-ab9bbc580af4",
   "metadata": {
    "execution": {
     "iopub.execute_input": "2022-02-07T15:07:38.669581Z",
     "iopub.status.busy": "2022-02-07T15:07:38.669072Z",
     "iopub.status.idle": "2022-02-07T15:07:47.089377Z",
     "shell.execute_reply": "2022-02-07T15:07:47.088044Z",
     "shell.execute_reply.started": "2022-02-07T15:07:38.669530Z"
    },
    "tags": []
   },
   "outputs": [
    {
     "name": "stderr",
     "output_type": "stream",
     "text": [
      "Querying cache for 15 compounds in 'bigg.metabolite' namespace.                                                                                                                                                  \n",
      "Querying cache for 1 compounds in 'coco' namespace.                                                                                                                                                              \n",
      "Searching Namespace: 100%|█████████████████████████████████████████████████████████████████████████████████████████████████████████████████████████████████████████████████████████| 2/2 [00:08<00:00,  4.20s/it]\n"
     ]
    },
    {
     "data": {
      "text/plain": [
       "{'MTR': <equilibrator_api.phased_reaction.PhasedReaction at 0x7ff6fa278c40>,\n",
       " 'MCR': <equilibrator_api.phased_reaction.PhasedReaction at 0x7ff709b764f0>,\n",
       " 'HDR': <equilibrator_api.phased_reaction.PhasedReaction at 0x7ff704ba8d00>,\n",
       " 'NAR': <equilibrator_api.phased_reaction.PhasedReaction at 0x7ff6f996b790>}"
      ]
     },
     "execution_count": 73,
     "metadata": {},
     "output_type": "execute_result"
    }
   ],
   "source": [
    "equi_reactions = map_cobra_reactions(\n",
    "    cc.ccache,\n",
    "    [\n",
    "        iME22HE.reactions.MTR,\n",
    "        iME22HE.reactions.MCR,\n",
    "        iME22HE.reactions.HDR,\n",
    "        iME22HE.reactions.NAR,\n",
    "    ],\n",
    "    annotation_preference=[\n",
    "        \"bigg.metabolite\",\n",
    "        \"coco\",\n",
    "    ],\n",
    ")\n",
    "equi_reactions"
   ]
  },
  {
   "cell_type": "code",
   "execution_count": 74,
   "id": "5d2756e6-dd15-4c3d-b207-9691f0196274",
   "metadata": {
    "execution": {
     "iopub.execute_input": "2022-02-07T15:08:50.697461Z",
     "iopub.status.busy": "2022-02-07T15:08:50.697006Z",
     "iopub.status.idle": "2022-02-07T15:08:51.005838Z",
     "shell.execute_reply": "2022-02-07T15:08:51.004975Z",
     "shell.execute_reply.started": "2022-02-07T15:08:50.697416Z"
    },
    "tags": []
   },
   "outputs": [],
   "source": [
    "fluxes = Q_([1.1, 1.1, 0.183, 3.648], \"mM/hour\")\n",
    "standard_dg_primes = Q_([30, 45, -11.58, -57.68], \"kJ/mol\")\n",
    "thermo_model = ThermodynamicModel(\n",
    "    reactions=equi_reactions.values(),\n",
    "    fluxes=fluxes,\n",
    "    comp_contrib=cc,\n",
    "    standard_dg_primes=standard_dg_primes,\n",
    ")\n",
    "mdf_analysis_supp = thermo_model.mdf_analysis()"
   ]
  },
  {
   "cell_type": "code",
   "execution_count": 75,
   "id": "bb13496e-1eef-400f-9be3-3c87b5ce62bb",
   "metadata": {
    "execution": {
     "iopub.execute_input": "2022-02-07T15:08:51.968639Z",
     "iopub.status.busy": "2022-02-07T15:08:51.968297Z",
     "iopub.status.idle": "2022-02-07T15:08:52.840423Z",
     "shell.execute_reply": "2022-02-07T15:08:52.839609Z",
     "shell.execute_reply.started": "2022-02-07T15:08:51.968608Z"
    },
    "tags": []
   },
   "outputs": [
    {
     "data": {
      "image/png": "[encoded data removed]",
      "text/plain": [
       "<Figure size 720x270 with 1 Axes>"
      ]
     },
     "metadata": {
      "needs_background": "light"
     },
     "output_type": "display_data"
    }
   ],
   "source": [
    "mdf_analysis_supp.plot_concentrations()"
   ]
  },
  {
   "cell_type": "code",
   "execution_count": 76,
   "id": "eed797dc-f82a-4651-9702-f3f196db3c55",
   "metadata": {
    "execution": {
     "iopub.execute_input": "2022-02-07T15:08:56.154675Z",
     "iopub.status.busy": "2022-02-07T15:08:56.154163Z",
     "iopub.status.idle": "2022-02-07T15:08:56.390631Z",
     "shell.execute_reply": "2022-02-07T15:08:56.389841Z",
     "shell.execute_reply.started": "2022-02-07T15:08:56.154620Z"
    },
    "tags": []
   },
   "outputs": [
    {
     "data": {
      "image/png": "[encoded data removed]",
      "text/plain": [
       "<Figure size 302.4x432 with 1 Axes>"
      ]
     },
     "metadata": {
      "needs_background": "light"
     },
     "output_type": "display_data"
    }
   ],
   "source": [
    "mdf_analysis_supp.plot_driving_forces()"
   ]
  },
  {
   "cell_type": "code",
   "execution_count": 77,
   "id": "21e06537-f0f4-408c-8052-cde9587c6433",
   "metadata": {
    "execution": {
     "iopub.execute_input": "2022-02-07T15:10:26.794707Z",
     "iopub.status.busy": "2022-02-07T15:10:26.794247Z",
     "iopub.status.idle": "2022-02-07T15:10:26.821606Z",
     "shell.execute_reply": "2022-02-07T15:10:26.818990Z",
     "shell.execute_reply.started": "2022-02-07T15:10:26.794663Z"
    },
    "tags": []
   },
   "outputs": [
    {
     "data": {
      "text/html": [
       "<div>\n",
       "<style scoped>\n",
       "    .dataframe tbody tr th:only-of-type {\n",
       "        vertical-align: middle;\n",
       "    }\n",
       "\n",
       "    .dataframe tbody tr th {\n",
       "        vertical-align: top;\n",
       "    }\n",
       "\n",
       "    .dataframe thead th {\n",
       "        text-align: right;\n",
       "    }\n",
       "</style>\n",
       "<table border=\"1\" class=\"dataframe\">\n",
       "  <thead>\n",
       "    <tr style=\"text-align: right;\">\n",
       "      <th></th>\n",
       "      <th>reaction_id</th>\n",
       "      <th>reaction_formula</th>\n",
       "      <th>flux</th>\n",
       "      <th>original_standard_dg_prime</th>\n",
       "      <th>standard_dg_prime</th>\n",
       "      <th>physiological_dg_prime</th>\n",
       "      <th>optimized_dg_prime</th>\n",
       "      <th>shadow_price</th>\n",
       "    </tr>\n",
       "  </thead>\n",
       "  <tbody>\n",
       "    <tr>\n",
       "      <th>0</th>\n",
       "      <td>MTR</td>\n",
       "      <td>5678_tetrahydromethanopterin + Methylcoenzyme_...</td>\n",
       "      <td>1.1 millimolar / hour</td>\n",
       "      <td>30.0 kilojoule / mole</td>\n",
       "      <td>30.0 kilojoule / mole</td>\n",
       "      <td>-4.229675069442067 kilojoule / mole</td>\n",
       "      <td>-7.355689781065507 kilojoule / mole</td>\n",
       "      <td>0.0</td>\n",
       "    </tr>\n",
       "    <tr>\n",
       "      <th>1</th>\n",
       "      <td>MCR</td>\n",
       "      <td>Methane + Heterodisulfide &lt;=&gt; Methylcoenzyme_m...</td>\n",
       "      <td>1.1 millimolar / hour</td>\n",
       "      <td>45.0 kilojoule / mole</td>\n",
       "      <td>45.0 kilojoule / mole</td>\n",
       "      <td>45.0 kilojoule / mole</td>\n",
       "      <td>-0.4048375347229225 kilojoule / mole</td>\n",
       "      <td>0.5</td>\n",
       "    </tr>\n",
       "    <tr>\n",
       "      <th>2</th>\n",
       "      <td>HDR</td>\n",
       "      <td>Coenzyme_m + Menaquinone_8 + Coenzyme_b =&gt; Men...</td>\n",
       "      <td>0.183 millimolar / hour</td>\n",
       "      <td>-11.58 kilojoule / mole</td>\n",
       "      <td>-11.58 kilojoule / mole</td>\n",
       "      <td>5.534837534721033 kilojoule / mole</td>\n",
       "      <td>-0.4048375347199791 kilojoule / mole</td>\n",
       "      <td>0.5</td>\n",
       "    </tr>\n",
       "    <tr>\n",
       "      <th>3</th>\n",
       "      <td>NAR</td>\n",
       "      <td>Nitrate + 2 Ferrocytochrome_C =&gt; H2O + Nitrite...</td>\n",
       "      <td>3.648 millimolar / hour</td>\n",
       "      <td>-57.68 kilojoule / mole</td>\n",
       "      <td>-57.68 kilojoule / mole</td>\n",
       "      <td>-57.68 kilojoule / mole</td>\n",
       "      <td>-27.57320859364965 kilojoule / mole</td>\n",
       "      <td>0.0</td>\n",
       "    </tr>\n",
       "  </tbody>\n",
       "</table>\n",
       "</div>"
      ],
      "text/plain": [
       "  reaction_id                                   reaction_formula  \\\n",
       "0         MTR  5678_tetrahydromethanopterin + Methylcoenzyme_...   \n",
       "1         MCR  Methane + Heterodisulfide <=> Methylcoenzyme_m...   \n",
       "2         HDR  Coenzyme_m + Menaquinone_8 + Coenzyme_b => Men...   \n",
       "3         NAR  Nitrate + 2 Ferrocytochrome_C => H2O + Nitrite...   \n",
       "\n",
       "                      flux original_standard_dg_prime  \\\n",
       "0    1.1 millimolar / hour      30.0 kilojoule / mole   \n",
       "1    1.1 millimolar / hour      45.0 kilojoule / mole   \n",
       "2  0.183 millimolar / hour    -11.58 kilojoule / mole   \n",
       "3  3.648 millimolar / hour    -57.68 kilojoule / mole   \n",
       "\n",
       "         standard_dg_prime               physiological_dg_prime  \\\n",
       "0    30.0 kilojoule / mole  -4.229675069442067 kilojoule / mole   \n",
       "1    45.0 kilojoule / mole                45.0 kilojoule / mole   \n",
       "2  -11.58 kilojoule / mole   5.534837534721033 kilojoule / mole   \n",
       "3  -57.68 kilojoule / mole              -57.68 kilojoule / mole   \n",
       "\n",
       "                     optimized_dg_prime  shadow_price  \n",
       "0   -7.355689781065507 kilojoule / mole           0.0  \n",
       "1  -0.4048375347229225 kilojoule / mole           0.5  \n",
       "2  -0.4048375347199791 kilojoule / mole           0.5  \n",
       "3   -27.57320859364965 kilojoule / mole           0.0  "
      ]
     },
     "execution_count": 77,
     "metadata": {},
     "output_type": "execute_result"
    }
   ],
   "source": [
    "mdf_analysis_supp.reaction_df"
   ]
  }
 ],
 "metadata": {
  "kernelspec": {
   "display_name": "equilibrator",
   "language": "python",
   "name": "equilibrator"
  },
  "language_info": {
   "codemirror_mode": {
    "name": "ipython",
    "version": 3
   },
   "file_extension": ".py",
   "mimetype": "text/x-python",
   "name": "python",
   "nbconvert_exporter": "python",
   "pygments_lexer": "ipython3",
   "version": "3.9.9"
  }
 },
 "nbformat": 4,
 "nbformat_minor": 5
}
