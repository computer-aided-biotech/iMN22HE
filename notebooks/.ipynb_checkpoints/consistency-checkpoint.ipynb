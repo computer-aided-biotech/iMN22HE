{
 "cells": [
  {
   "cell_type": "markdown",
   "id": "ec179887-e995-40db-a9f7-63e8e6b0ab76",
   "metadata": {},
   "source": [
    "# Consistency\n",
    "Memote is reporting inconsistent stoichiometry. "
   ]
  },
  {
   "cell_type": "code",
   "execution_count": 1,
   "id": "8f90b91c-6478-4163-98ab-f95bef81d71a",
   "metadata": {
    "execution": {
     "iopub.execute_input": "2021-10-28T13:28:10.215644Z",
     "iopub.status.busy": "2021-10-28T13:28:10.214022Z",
     "iopub.status.idle": "2021-10-28T13:28:11.039391Z",
     "shell.execute_reply": "2021-10-28T13:28:11.038969Z",
     "shell.execute_reply.started": "2021-10-28T13:28:10.215450Z"
    },
    "tags": []
   },
   "outputs": [
    {
     "data": {
      "text/html": [
       "<style type='text/css'>\n",
       ".datatable table.frame { margin-bottom: 0; }\n",
       ".datatable table.frame thead { border-bottom: none; }\n",
       ".datatable table.frame tr.coltypes td {  color: #FFFFFF;  line-height: 6px;  padding: 0 0.5em;}\n",
       ".datatable .bool    { background: #DDDD99; }\n",
       ".datatable .object  { background: #565656; }\n",
       ".datatable .int     { background: #5D9E5D; }\n",
       ".datatable .float   { background: #4040CC; }\n",
       ".datatable .str     { background: #CC4040; }\n",
       ".datatable .time    { background: #40CC40; }\n",
       ".datatable .row_index {  background: var(--jp-border-color3);  border-right: 1px solid var(--jp-border-color0);  color: var(--jp-ui-font-color3);  font-size: 9px;}\n",
       ".datatable .frame tbody td { text-align: left; }\n",
       ".datatable .frame tr.coltypes .row_index {  background: var(--jp-border-color0);}\n",
       ".datatable th:nth-child(2) { padding-left: 12px; }\n",
       ".datatable .hellipsis {  color: var(--jp-cell-editor-border-color);}\n",
       ".datatable .vellipsis {  background: var(--jp-layout-color0);  color: var(--jp-cell-editor-border-color);}\n",
       ".datatable .na {  color: var(--jp-cell-editor-border-color);  font-size: 80%;}\n",
       ".datatable .sp {  opacity: 0.25;}\n",
       ".datatable .footer { font-size: 9px; }\n",
       ".datatable .frame_dimensions {  background: var(--jp-border-color3);  border-top: 1px solid var(--jp-border-color0);  color: var(--jp-ui-font-color3);  display: inline-block;  opacity: 0.6;  padding: 1px 10px 1px 5px;}\n",
       "</style>\n"
      ],
      "text/plain": [
       "<IPython.core.display.HTML object>"
      ]
     },
     "metadata": {},
     "output_type": "display_data"
    }
   ],
   "source": [
    "import re\n",
    "from collections import defaultdict\n",
    "from functools import reduce\n",
    "from pathlib import Path\n",
    "\n",
    "import cobra\n",
    "from datatable import dt, f, join, update"
   ]
  },
  {
   "cell_type": "code",
   "execution_count": 2,
   "id": "00c202f6-4366-4f45-b7f6-a850c7d339af",
   "metadata": {
    "execution": {
     "iopub.execute_input": "2021-10-28T13:28:11.040190Z",
     "iopub.status.busy": "2021-10-28T13:28:11.040050Z",
     "iopub.status.idle": "2021-10-28T13:28:11.043149Z",
     "shell.execute_reply": "2021-10-28T13:28:11.042703Z",
     "shell.execute_reply.started": "2021-10-28T13:28:11.040173Z"
    },
    "tags": []
   },
   "outputs": [],
   "source": [
    "ROOT = Path.cwd().parent\n",
    "model_file = str(ROOT / \"iMENI452.xml\")"
   ]
  },
  {
   "cell_type": "code",
   "execution_count": 3,
   "id": "b549d475-7881-421e-9c10-529e19b44710",
   "metadata": {
    "execution": {
     "iopub.execute_input": "2021-10-28T13:28:11.043948Z",
     "iopub.status.busy": "2021-10-28T13:28:11.043796Z",
     "iopub.status.idle": "2021-10-28T13:28:12.253328Z",
     "shell.execute_reply": "2021-10-28T13:28:12.252625Z",
     "shell.execute_reply.started": "2021-10-28T13:28:11.043930Z"
    },
    "tags": []
   },
   "outputs": [
    {
     "name": "stdout",
     "output_type": "stream",
     "text": [
      "Scaling...\n",
      " A: min|aij| =  1.000e+00  max|aij| =  1.000e+00  ratio =  1.000e+00\n",
      "Problem data seem to be well scaled\n"
     ]
    }
   ],
   "source": [
    "model = cobra.io.read_sbml_model(model_file)"
   ]
  },
  {
   "cell_type": "markdown",
   "id": "6892b699-7093-4d6a-8b14-83b8bf8e9e01",
   "metadata": {},
   "source": [
    "These are the mass-imbalanced reactions according to memote:"
   ]
  },
  {
   "cell_type": "code",
   "execution_count": 4,
   "id": "d1a11202-ee3d-4f5a-84af-f1d78b6d3ed8",
   "metadata": {
    "execution": {
     "iopub.execute_input": "2021-10-28T13:28:12.255424Z",
     "iopub.status.busy": "2021-10-28T13:28:12.255166Z",
     "iopub.status.idle": "2021-10-28T13:28:12.260252Z",
     "shell.execute_reply": "2021-10-28T13:28:12.259701Z",
     "shell.execute_reply.started": "2021-10-28T13:28:12.255400Z"
    },
    "tags": []
   },
   "outputs": [],
   "source": [
    "imbalanced = [\n",
    "    \"GHMT2\",\n",
    "    \"MTHFC\",\n",
    "    \"ASPO2x\",\n",
    "    \"ASPO2y\",\n",
    "    \"MOHMT\",\n",
    "    \"R03276\",\n",
    "    \"ECH\",\n",
    "    \"CF3Ha\",\n",
    "    \"CF3Sa\",\n",
    "    \"CF3Hg\",\n",
    "    \"PEP_guanylytransferase\",\n",
    "    \"AKP1\",\n",
    "    \"CF3Sg\",\n",
    "    \"EPPG:Fo_PEP_transferase\",\n",
    "    \"GF4GL_2\",\n",
    "    \"PHAJ\",\n",
    "    \"3HBt\",\n",
    "    \"HDR-2\",\n",
    "    \"H4MPTS9\",\n",
    "    \"DNMPPA\",\n",
    "    \"GF4GL_1\",\n",
    "    \"METS\",\n",
    "    \"QFO\",\n",
    "    \"HDR\",\n",
    "    \"DHNPA2\",\n",
    "    \"DHFR\",\n",
    "    \"SULR2\",\n",
    "    \"NRF\",\n",
    "    \"FQO\",\n",
    "    \"SDH\",\n",
    "    \"F4H2O\",\n",
    "    \"H2MPTR\",\n",
    "    \"PROD3\",\n",
    "    \"GLUS_F420\",\n",
    "]"
   ]
  },
  {
   "cell_type": "code",
   "execution_count": 5,
   "id": "48519e39-d97d-42c4-be17-1adbf8e08772",
   "metadata": {
    "execution": {
     "iopub.execute_input": "2021-10-28T13:28:12.261334Z",
     "iopub.status.busy": "2021-10-28T13:28:12.261058Z",
     "iopub.status.idle": "2021-10-28T13:28:12.265881Z",
     "shell.execute_reply": "2021-10-28T13:28:12.265331Z",
     "shell.execute_reply.started": "2021-10-28T13:28:12.261306Z"
    },
    "tags": []
   },
   "outputs": [
    {
     "data": {
      "text/plain": [
       "34"
      ]
     },
     "execution_count": 5,
     "metadata": {},
     "output_type": "execute_result"
    }
   ],
   "source": [
    "len(imbalanced)"
   ]
  },
  {
   "cell_type": "markdown",
   "id": "f2190923-a1cc-4161-b85b-6884bb7bc689",
   "metadata": {},
   "source": [
    "Rule out reactions with missing formulas for now."
   ]
  },
  {
   "cell_type": "code",
   "execution_count": 6,
   "id": "c866b06c-6aab-4fab-96d7-6c4f0286c7c1",
   "metadata": {
    "execution": {
     "iopub.execute_input": "2021-10-28T13:28:12.266966Z",
     "iopub.status.busy": "2021-10-28T13:28:12.266724Z",
     "iopub.status.idle": "2021-10-28T13:28:12.270614Z",
     "shell.execute_reply": "2021-10-28T13:28:12.270066Z",
     "shell.execute_reply.started": "2021-10-28T13:28:12.266943Z"
    },
    "tags": []
   },
   "outputs": [],
   "source": [
    "imbalanced_form = [\n",
    "    reac_id\n",
    "    for reac_id in imbalanced\n",
    "    if all(met.formula for met in model.reactions.get_by_id(reac_id).metabolites)\n",
    "]"
   ]
  },
  {
   "cell_type": "code",
   "execution_count": 7,
   "id": "e00d64c8-5cb6-4e7a-928c-34994e69ed9b",
   "metadata": {
    "execution": {
     "iopub.execute_input": "2021-10-28T13:28:12.271677Z",
     "iopub.status.busy": "2021-10-28T13:28:12.271483Z",
     "iopub.status.idle": "2021-10-28T13:28:12.277402Z",
     "shell.execute_reply": "2021-10-28T13:28:12.276854Z",
     "shell.execute_reply.started": "2021-10-28T13:28:12.271656Z"
    },
    "tags": []
   },
   "outputs": [
    {
     "data": {
      "text/plain": [
       "24"
      ]
     },
     "execution_count": 7,
     "metadata": {},
     "output_type": "execute_result"
    }
   ],
   "source": [
    "len(imbalanced_form)"
   ]
  },
  {
   "cell_type": "code",
   "execution_count": 8,
   "id": "1c75304b-9093-4697-a689-d273f94871ed",
   "metadata": {
    "execution": {
     "iopub.execute_input": "2021-10-28T13:28:12.278541Z",
     "iopub.status.busy": "2021-10-28T13:28:12.278274Z",
     "iopub.status.idle": "2021-10-28T13:28:12.285379Z",
     "shell.execute_reply": "2021-10-28T13:28:12.284918Z",
     "shell.execute_reply.started": "2021-10-28T13:28:12.278513Z"
    },
    "tags": []
   },
   "outputs": [],
   "source": [
    "def sum_dicts(x: dict[str, int], y: dict[str, int]) -> dict[str, int]:\n",
    "    \"\"\"Sum the values of two dictionaries, grouped by keys.\"\"\"\n",
    "    result = y.copy()\n",
    "    for k, coeff in x.items():\n",
    "        if k in y:\n",
    "            result[k] += coeff\n",
    "        else:\n",
    "            result[k] = coeff\n",
    "    return result\n",
    "\n",
    "\n",
    "def compute_mass_balance(reaction: cobra.Reaction) -> dict[str, int]:\n",
    "    \"\"\"Compute total mass balance of a reaction by element.\"\"\"\n",
    "    elements = [\n",
    "        {atom: number * coeff for atom, number in met.elements.items()}\n",
    "        for met, coeff in reaction.metabolites.items()\n",
    "    ]\n",
    "    elements = reduce(sum_dicts, elements)\n",
    "    return {k: v for k, v in elements.items() if v}"
   ]
  },
  {
   "cell_type": "code",
   "execution_count": 9,
   "id": "4facfc45-a676-4b9b-a4da-2a6293ee844b",
   "metadata": {
    "execution": {
     "iopub.execute_input": "2021-10-28T13:28:12.286507Z",
     "iopub.status.busy": "2021-10-28T13:28:12.286120Z",
     "iopub.status.idle": "2021-10-28T13:28:12.289995Z",
     "shell.execute_reply": "2021-10-28T13:28:12.289154Z",
     "shell.execute_reply.started": "2021-10-28T13:28:12.286483Z"
    },
    "tags": []
   },
   "outputs": [],
   "source": [
    "imbalance_reac_model = [\n",
    "    model.reactions.get_by_id(reac_id) for reac_id in imbalanced_form\n",
    "]"
   ]
  },
  {
   "cell_type": "code",
   "execution_count": 10,
   "id": "d9ac17e6-ae0d-496c-af5c-d249189815e9",
   "metadata": {
    "execution": {
     "iopub.execute_input": "2021-10-28T13:28:12.291520Z",
     "iopub.status.busy": "2021-10-28T13:28:12.291230Z",
     "iopub.status.idle": "2021-10-28T13:28:12.299038Z",
     "shell.execute_reply": "2021-10-28T13:28:12.298550Z",
     "shell.execute_reply.started": "2021-10-28T13:28:12.291496Z"
    },
    "tags": []
   },
   "outputs": [
    {
     "name": "stdout",
     "output_type": "stream",
     "text": [
      "GHMT2: {'H': 1.0}\n",
      "MTHFC: {'H': -1.0}\n",
      "ASPO2x: {'H': -1.0}\n",
      "ASPO2y: {'H': -1.0}\n",
      "MOHMT: {'H': -1.0}\n",
      "ECH: {'H': -4.0}\n",
      "CF3Ha: {'H': 1.0}\n",
      "CF3Sa: {'H': -1.0}\n",
      "CF3Hg: {'H': 1.0}\n",
      "AKP1: {'H': 1.0}\n",
      "CF3Sg: {'H': -1.0}\n",
      "GF4GL_2: {'H': -1.0}\n",
      "PHAJ: {'H': 4.0}\n",
      "HDR-2: {'H': 2.0}\n",
      "H4MPTS9: {'H': 1.0}\n",
      "DNMPPA: {'H': -1.0}\n",
      "GF4GL_1: {'H': 1.0}\n",
      "METS: {'H': -1.0}\n",
      "DHNPA2: {'H': 1.0}\n",
      "DHFR: {'H': -1.0}\n",
      "SULR2: {'H': 3.0}\n",
      "F4H2O: {'H': 2.0}\n",
      "H2MPTR: {'H': -1.0}\n",
      "GLUS_F420: {'H': 1.0}\n"
     ]
    }
   ],
   "source": [
    "for reac in imbalance_reac_model:\n",
    "    print(f\"{reac.id}: {compute_mass_balance(reac)}\")"
   ]
  },
  {
   "cell_type": "markdown",
   "id": "5c499acb-d960-44c6-bacb-47c41347d0dc",
   "metadata": {},
   "source": [
    "They are all missing protons, which is good since its the source of the stoichiometric inconsistency."
   ]
  },
  {
   "cell_type": "code",
   "execution_count": 11,
   "id": "46420022-365d-41f0-8aeb-46ef14015e2a",
   "metadata": {
    "execution": {
     "iopub.execute_input": "2021-10-28T13:28:12.300023Z",
     "iopub.status.busy": "2021-10-28T13:28:12.299804Z",
     "iopub.status.idle": "2021-10-28T13:28:12.305089Z",
     "shell.execute_reply": "2021-10-28T13:28:12.304447Z",
     "shell.execute_reply.started": "2021-10-28T13:28:12.300001Z"
    },
    "tags": []
   },
   "outputs": [
    {
     "name": "stdout",
     "output_type": "stream",
     "text": [
      "GHMT2: ser-L[c] + thf[c] <=> gly[c] + h2o[c] + mlthf[c]\n",
      "MTHFC: h2o[c] + methf[c] <=> 10fthf[c]\n",
      "ASPO2x: asp-L[c] + nad[c] --> h[c] + iasp[c] + nadh[c]\n",
      "ASPO2y: asp-L[c] + nadp[c] --> h[c] + iasp[c] + nadph[c]\n",
      "MOHMT: 3mob[c] + h2o[c] + mlthf[c] <=> 2dhp[c] + thf[c]\n",
      "ECH: ctncoa[c] + h2o[c] --> 3hbcoa[c]\n",
      "CF3Ha: f390a[c] + h2o[c] --> amp[c] + f420-2[c] + 2.0 h[c]\n",
      "CF3Sa: atp[c] + f420-2[c] + h[c] --> f390a[c] + ppi[c]\n",
      "CF3Hg: f390g[c] + h2o[c] --> f420-2[c] + gmp[c] + h[c]\n",
      "AKP1: dhnpt[c] + 2.0 h[c] + 3.0 pi[c] <=> ahdt[c] + 3.0 h2o[c]\n",
      "CF3Sg: f420-2[c] + gtp[c] --> f390g[c] + ppi[c]\n",
      "GF4GL_2: f420-2[c] + glu-L[c] + gtp[c] <=> f420-3[c] + gdp[c] + h[c] + pi[c]\n",
      "PHAJ: 3hbcoa_R[c] --> ctncoa[c] + h2o[c]\n",
      "HDR-2: cob[c] + com[c] + 2.0 f420-2[c] + 2.0 fdred[c] --> 2.0 f420-2h2[c] + 2.0 fdox[c] + hsfd[c]\n",
      "H4MPTS9: dhrfap[c] + f420-2h2[c] --> dhadrp[c] + f420-2[c] + h[c]\n",
      "DNMPPA: dhpmp[c] + h2o[c] --> dhnpt[c] + pi[c]\n",
      "GF4GL_1: f420-1[c] + glu-L[c] + gtp[c] <=> f420-2[c] + gdp[c] + h[c] + pi[c]\n",
      "METS: 5mthf[c] + hcys-L[c] --> met-L[c] + thf[c]\n",
      "DHNPA2: dhnpt[c] --> 6hmhpt[c] + gcald[c] + h[c]\n",
      "DHFR: dhf[c] + h[c] + nadph[c] <=> nadp[c] + thf[c]\n",
      "SULR2: 3.0 f420-2h2[c] + so3[c] <=> 3.0 f420-2[c] + 3.0 h2o[c] + h2s[c] + h[c]\n",
      "F4H2O: 2.0 f420-2h2[c] + o2[c] --> 2.0 f420-2[c] + 2.0 h2o[c] + 2.0 h[c]\n",
      "H2MPTR: f420-2h2[c] + h2mpt[c] --> f420-2[c] + h4mpt[c]\n",
      "GLUS_F420: akg[c] + f420-2h2[c] + gln-L[c] --> f420-2[c] + 2.0 glu-L[c] + h[c]\n"
     ]
    }
   ],
   "source": [
    "for reac in imbalance_reac_model:\n",
    "    print(f\"{reac.id}: {reac.reaction}\")"
   ]
  },
  {
   "cell_type": "markdown",
   "id": "ef235409-8b94-4273-9eb2-423238f42df8",
   "metadata": {},
   "source": [
    "I looked one by one at [BiGG](http://bigg.ucsd.edu/) to check if reaction str are missing H+, because it could be that some of the metabolites involved in the reactions are simply missing hydrogens in their formulas whereas the reaction is perfectly fine."
   ]
  },
  {
   "cell_type": "code",
   "execution_count": 12,
   "id": "e0608885-6236-41b7-8c09-a4a3eb336d68",
   "metadata": {
    "execution": {
     "iopub.execute_input": "2021-10-28T13:28:12.306496Z",
     "iopub.status.busy": "2021-10-28T13:28:12.306158Z",
     "iopub.status.idle": "2021-10-28T13:28:12.311495Z",
     "shell.execute_reply": "2021-10-28T13:28:12.310950Z",
     "shell.execute_reply.started": "2021-10-28T13:28:12.306471Z"
    },
    "tags": []
   },
   "outputs": [
    {
     "data": {
      "text/plain": [
       "True"
      ]
     },
     "execution_count": 12,
     "metadata": {},
     "output_type": "execute_result"
    }
   ],
   "source": [
    "model.metabolites.get_by_id(\"thf[c]\").formula == \"C19H21N7O6\""
   ]
  },
  {
   "cell_type": "code",
   "execution_count": 13,
   "id": "6b5556d5-5cf0-4b9d-be4d-cd70c650a7bb",
   "metadata": {
    "execution": {
     "iopub.execute_input": "2021-10-28T13:28:12.313543Z",
     "iopub.status.busy": "2021-10-28T13:28:12.313212Z",
     "iopub.status.idle": "2021-10-28T13:28:12.317546Z",
     "shell.execute_reply": "2021-10-28T13:28:12.317078Z",
     "shell.execute_reply.started": "2021-10-28T13:28:12.313517Z"
    },
    "tags": []
   },
   "outputs": [
    {
     "data": {
      "text/plain": [
       "False"
      ]
     },
     "execution_count": 13,
     "metadata": {},
     "output_type": "execute_result"
    }
   ],
   "source": [
    "model.metabolites.get_by_id(\"mlthf[c]\").formula == \"C20H21N7O6\""
   ]
  },
  {
   "cell_type": "markdown",
   "id": "32e41729-ae38-4398-a358-89db169ce015",
   "metadata": {},
   "source": [
    "methyleneTHF has one extra hydrogen"
   ]
  },
  {
   "cell_type": "code",
   "execution_count": 14,
   "id": "138510fb-deae-4739-a349-14420805a7d4",
   "metadata": {
    "execution": {
     "iopub.execute_input": "2021-10-28T13:28:12.318385Z",
     "iopub.status.busy": "2021-10-28T13:28:12.318227Z",
     "iopub.status.idle": "2021-10-28T13:28:12.321649Z",
     "shell.execute_reply": "2021-10-28T13:28:12.321030Z",
     "shell.execute_reply.started": "2021-10-28T13:28:12.318365Z"
    },
    "tags": []
   },
   "outputs": [],
   "source": [
    "model.metabolites.get_by_id(\"mlthf[c]\").formula = \"C20H21N7O6\""
   ]
  },
  {
   "cell_type": "code",
   "execution_count": 15,
   "id": "b2f686e2-abf7-4c60-a914-970792c604b2",
   "metadata": {
    "execution": {
     "iopub.execute_input": "2021-10-28T13:28:12.322851Z",
     "iopub.status.busy": "2021-10-28T13:28:12.322582Z",
     "iopub.status.idle": "2021-10-28T13:28:12.327463Z",
     "shell.execute_reply": "2021-10-28T13:28:12.326720Z",
     "shell.execute_reply.started": "2021-10-28T13:28:12.322822Z"
    },
    "tags": []
   },
   "outputs": [],
   "source": [
    "imbalance_reac_model = [\n",
    "    reac for reac in imbalance_reac_model if compute_mass_balance(reac)\n",
    "]"
   ]
  },
  {
   "cell_type": "code",
   "execution_count": 16,
   "id": "546de839-e902-4487-b6e9-41971dcf88c4",
   "metadata": {
    "execution": {
     "iopub.execute_input": "2021-10-28T13:28:12.328529Z",
     "iopub.status.busy": "2021-10-28T13:28:12.328294Z",
     "iopub.status.idle": "2021-10-28T13:28:12.335138Z",
     "shell.execute_reply": "2021-10-28T13:28:12.334696Z",
     "shell.execute_reply.started": "2021-10-28T13:28:12.328506Z"
    },
    "tags": []
   },
   "outputs": [
    {
     "name": "stdout",
     "output_type": "stream",
     "text": [
      "MTHFC: {'H': -1.0}\n",
      "ASPO2x: {'H': -1.0}\n",
      "ASPO2y: {'H': -1.0}\n",
      "ECH: {'H': -4.0}\n",
      "CF3Ha: {'H': 1.0}\n",
      "CF3Sa: {'H': -1.0}\n",
      "CF3Hg: {'H': 1.0}\n",
      "AKP1: {'H': 1.0}\n",
      "CF3Sg: {'H': -1.0}\n",
      "GF4GL_2: {'H': -1.0}\n",
      "PHAJ: {'H': 4.0}\n",
      "HDR-2: {'H': 2.0}\n",
      "H4MPTS9: {'H': 1.0}\n",
      "DNMPPA: {'H': -1.0}\n",
      "GF4GL_1: {'H': 1.0}\n",
      "METS: {'H': -1.0}\n",
      "DHNPA2: {'H': 1.0}\n",
      "DHFR: {'H': -1.0}\n",
      "SULR2: {'H': 3.0}\n",
      "F4H2O: {'H': 2.0}\n",
      "H2MPTR: {'H': -1.0}\n",
      "GLUS_F420: {'H': 1.0}\n"
     ]
    }
   ],
   "source": [
    "for reac in imbalance_reac_model:\n",
    "    print(f\"{reac.id}: {compute_mass_balance(reac)}\")"
   ]
  },
  {
   "cell_type": "markdown",
   "id": "d4c5db3a-ed5a-4171-9a36-dbbc49abecd3",
   "metadata": {},
   "source": [
    "MTHFC is simply missing a hydrogen (see [here](http://bigg.ucsd.edu/universal/reactions/MTHFC))."
   ]
  },
  {
   "cell_type": "code",
   "execution_count": 17,
   "id": "b09dcdf4-93d4-46c0-a3cf-365c3af93f50",
   "metadata": {
    "execution": {
     "iopub.execute_input": "2021-10-28T13:28:12.336104Z",
     "iopub.status.busy": "2021-10-28T13:28:12.335788Z",
     "iopub.status.idle": "2021-10-28T13:28:12.338560Z",
     "shell.execute_reply": "2021-10-28T13:28:12.338139Z",
     "shell.execute_reply.started": "2021-10-28T13:28:12.336085Z"
    },
    "tags": []
   },
   "outputs": [],
   "source": [
    "h_c = model.metabolites.get_by_id(\"h[c]\")"
   ]
  },
  {
   "cell_type": "code",
   "execution_count": 18,
   "id": "0a9313a7-93aa-4ff4-a436-cb5265c140cc",
   "metadata": {
    "execution": {
     "iopub.execute_input": "2021-10-28T13:28:12.339781Z",
     "iopub.status.busy": "2021-10-28T13:28:12.339424Z",
     "iopub.status.idle": "2021-10-28T13:28:12.350738Z",
     "shell.execute_reply": "2021-10-28T13:28:12.350027Z",
     "shell.execute_reply.started": "2021-10-28T13:28:12.339751Z"
    },
    "tags": []
   },
   "outputs": [],
   "source": [
    "model.reactions.MTHFC.add_metabolites({h_c: 1})"
   ]
  },
  {
   "cell_type": "code",
   "execution_count": 19,
   "id": "8532c200-1018-4e2e-baa9-7b643a1bdaf1",
   "metadata": {
    "execution": {
     "iopub.execute_input": "2021-10-28T13:28:12.351902Z",
     "iopub.status.busy": "2021-10-28T13:28:12.351648Z",
     "iopub.status.idle": "2021-10-28T13:28:12.355876Z",
     "shell.execute_reply": "2021-10-28T13:28:12.355354Z",
     "shell.execute_reply.started": "2021-10-28T13:28:12.351877Z"
    },
    "tags": []
   },
   "outputs": [
    {
     "data": {
      "text/plain": [
       "{}"
      ]
     },
     "execution_count": 19,
     "metadata": {},
     "output_type": "execute_result"
    }
   ],
   "source": [
    "compute_mass_balance(model.reactions.MTHFC)"
   ]
  },
  {
   "cell_type": "markdown",
   "id": "21350436-47d5-4ba8-a257-54cb12e46153",
   "metadata": {},
   "source": [
    "[ASPO2x](http://bigg.ucsd.edu/universal/reactions/ASPO2) is missing a product hydrogen too."
   ]
  },
  {
   "cell_type": "code",
   "execution_count": 20,
   "id": "08254f9d-fab9-44ab-9784-a87d36737358",
   "metadata": {
    "execution": {
     "iopub.execute_input": "2021-10-28T13:28:12.357371Z",
     "iopub.status.busy": "2021-10-28T13:28:12.356762Z",
     "iopub.status.idle": "2021-10-28T13:28:12.367886Z",
     "shell.execute_reply": "2021-10-28T13:28:12.367414Z",
     "shell.execute_reply.started": "2021-10-28T13:28:12.357318Z"
    },
    "tags": []
   },
   "outputs": [
    {
     "data": {
      "text/plain": [
       "{}"
      ]
     },
     "execution_count": 20,
     "metadata": {},
     "output_type": "execute_result"
    }
   ],
   "source": [
    "model.reactions.ASPO2x.add_metabolites({h_c: 1})\n",
    "compute_mass_balance(model.reactions.ASPO2x)"
   ]
  },
  {
   "cell_type": "code",
   "execution_count": 21,
   "id": "86302c11-8997-40ed-8adb-eea0de630b99",
   "metadata": {
    "execution": {
     "iopub.execute_input": "2021-10-28T13:28:12.369007Z",
     "iopub.status.busy": "2021-10-28T13:28:12.368739Z",
     "iopub.status.idle": "2021-10-28T13:28:12.379229Z",
     "shell.execute_reply": "2021-10-28T13:28:12.378675Z",
     "shell.execute_reply.started": "2021-10-28T13:28:12.368983Z"
    },
    "tags": []
   },
   "outputs": [
    {
     "data": {
      "text/plain": [
       "{}"
      ]
     },
     "execution_count": 21,
     "metadata": {},
     "output_type": "execute_result"
    }
   ],
   "source": [
    "model.reactions.ASPO2y.add_metabolites({h_c: 1})\n",
    "compute_mass_balance(model.reactions.ASPO2y)"
   ]
  },
  {
   "cell_type": "markdown",
   "id": "de749189-4456-4c83-851e-41b9bcefa867",
   "metadata": {},
   "source": [
    "ECH ([HBCH](http://bigg.ucsd.edu/models/iCN900/reactions/HBCH)) is missing 4 reactant protons. Not too sure if this reaction id should be changed since the one in BiGG has the opposite irreversible direction."
   ]
  },
  {
   "cell_type": "code",
   "execution_count": 22,
   "id": "863aece8-13cc-4dc0-86f0-4b12e29b5713",
   "metadata": {
    "execution": {
     "iopub.execute_input": "2021-10-28T13:28:12.380266Z",
     "iopub.status.busy": "2021-10-28T13:28:12.380010Z",
     "iopub.status.idle": "2021-10-28T13:28:12.390927Z",
     "shell.execute_reply": "2021-10-28T13:28:12.389968Z",
     "shell.execute_reply.started": "2021-10-28T13:28:12.380244Z"
    },
    "tags": []
   },
   "outputs": [
    {
     "data": {
      "text/plain": [
       "{}"
      ]
     },
     "execution_count": 22,
     "metadata": {},
     "output_type": "execute_result"
    }
   ],
   "source": [
    "model.reactions.ECH.add_metabolites({h_c: 4})\n",
    "compute_mass_balance(model.reactions.ECH)"
   ]
  },
  {
   "cell_type": "markdown",
   "id": "2a8bb15b-bdb6-4798-825e-dcd6ebd4eeed",
   "metadata": {},
   "source": [
    "[CF3Ha](http://bigg.ucsd.edu/universal/reactions/CF3Ha) has one extra product proton."
   ]
  },
  {
   "cell_type": "code",
   "execution_count": 23,
   "id": "ae490fe8-ca53-4e82-9b5e-4614960946fa",
   "metadata": {
    "execution": {
     "iopub.execute_input": "2021-10-28T13:30:36.613010Z",
     "iopub.status.busy": "2021-10-28T13:30:36.612772Z",
     "iopub.status.idle": "2021-10-28T13:30:36.626183Z",
     "shell.execute_reply": "2021-10-28T13:30:36.625175Z",
     "shell.execute_reply.started": "2021-10-28T13:30:36.612985Z"
    },
    "tags": []
   },
   "outputs": [
    {
     "data": {
      "text/plain": [
       "{}"
      ]
     },
     "execution_count": 23,
     "metadata": {},
     "output_type": "execute_result"
    }
   ],
   "source": [
    "model.reactions.CF3Ha.add_metabolites({h_c: -1})\n",
    "compute_mass_balance(model.reactions.CF3Ha)"
   ]
  },
  {
   "cell_type": "code",
   "execution_count": 25,
   "id": "99d7e8f0-6bec-4ad4-94c1-5ba3fe94ae8e",
   "metadata": {
    "execution": {
     "iopub.execute_input": "2021-10-28T13:31:37.412704Z",
     "iopub.status.busy": "2021-10-28T13:31:37.412242Z",
     "iopub.status.idle": "2021-10-28T13:31:37.427261Z",
     "shell.execute_reply": "2021-10-28T13:31:37.426622Z",
     "shell.execute_reply.started": "2021-10-28T13:31:37.412652Z"
    },
    "tags": []
   },
   "outputs": [
    {
     "data": {
      "text/plain": [
       "{}"
      ]
     },
     "execution_count": 25,
     "metadata": {},
     "output_type": "execute_result"
    }
   ],
   "source": [
    "# http://bigg.ucsd.edu/universal/reactions/CF3Sa\n",
    "model.reactions.CF3Sa.add_metabolites({h_c: 1})\n",
    "compute_mass_balance(model.reactions.CF3Sa)"
   ]
  },
  {
   "cell_type": "markdown",
   "id": "3391626a-68e1-492f-a1c4-ca14d9a8b39e",
   "metadata": {
    "execution": {
     "iopub.execute_input": "2021-10-28T13:34:28.572787Z",
     "iopub.status.busy": "2021-10-28T13:34:28.572500Z",
     "iopub.status.idle": "2021-10-28T13:34:28.577035Z",
     "shell.execute_reply": "2021-10-28T13:34:28.576258Z",
     "shell.execute_reply.started": "2021-10-28T13:34:28.572762Z"
    },
    "tags": []
   },
   "source": [
    "CF3Hg seems fine, look at f390g."
   ]
  },
  {
   "cell_type": "code",
   "execution_count": 29,
   "id": "b5facc39-2f86-4fe2-aa37-7815397e27a2",
   "metadata": {
    "execution": {
     "iopub.execute_input": "2021-10-28T13:36:38.182362Z",
     "iopub.status.busy": "2021-10-28T13:36:38.181916Z",
     "iopub.status.idle": "2021-10-28T13:36:38.189543Z",
     "shell.execute_reply": "2021-10-28T13:36:38.188561Z",
     "shell.execute_reply.started": "2021-10-28T13:36:38.182310Z"
    },
    "tags": []
   },
   "outputs": [
    {
     "data": {
      "text/plain": [
       "False"
      ]
     },
     "execution_count": 29,
     "metadata": {},
     "output_type": "execute_result"
    }
   ],
   "source": [
    "model.metabolites.get_by_id(\"f390g[c]\").formula == \"C39H43N10O25P2\""
   ]
  },
  {
   "cell_type": "markdown",
   "id": "4d40c386-4c88-41e6-a1a1-43ced74598f7",
   "metadata": {},
   "source": [
    "Correct the formula."
   ]
  },
  {
   "cell_type": "code",
   "execution_count": 30,
   "id": "35cbceb4-8500-49b2-81b3-1a0a74510c95",
   "metadata": {
    "execution": {
     "iopub.execute_input": "2021-10-28T13:36:43.596391Z",
     "iopub.status.busy": "2021-10-28T13:36:43.595632Z",
     "iopub.status.idle": "2021-10-28T13:36:43.607545Z",
     "shell.execute_reply": "2021-10-28T13:36:43.604599Z",
     "shell.execute_reply.started": "2021-10-28T13:36:43.596304Z"
    },
    "tags": []
   },
   "outputs": [],
   "source": [
    "model.metabolites.get_by_id(\"f390g[c]\").formula = \"C39H43N10O25P2\""
   ]
  },
  {
   "cell_type": "code",
   "execution_count": 31,
   "id": "3895c278-e7d6-4d13-8094-f6c4124d0e59",
   "metadata": {
    "execution": {
     "iopub.execute_input": "2021-10-28T13:36:53.419043Z",
     "iopub.status.busy": "2021-10-28T13:36:53.418784Z",
     "iopub.status.idle": "2021-10-28T13:36:53.423072Z",
     "shell.execute_reply": "2021-10-28T13:36:53.422540Z",
     "shell.execute_reply.started": "2021-10-28T13:36:53.419020Z"
    },
    "tags": []
   },
   "outputs": [
    {
     "data": {
      "text/plain": [
       "{}"
      ]
     },
     "execution_count": 31,
     "metadata": {},
     "output_type": "execute_result"
    }
   ],
   "source": [
    "compute_mass_balance(model.reactions.CF3Hg)"
   ]
  },
  {
   "cell_type": "markdown",
   "id": "77fc48a2-e0a6-4a35-a880-ca8e0cf332ff",
   "metadata": {
    "execution": {
     "iopub.execute_input": "2021-10-28T13:37:12.939794Z",
     "iopub.status.busy": "2021-10-28T13:37:12.939080Z",
     "iopub.status.idle": "2021-10-28T13:37:12.956934Z",
     "shell.execute_reply": "2021-10-28T13:37:12.953607Z",
     "shell.execute_reply.started": "2021-10-28T13:37:12.939711Z"
    },
    "tags": []
   },
   "source": [
    "[AKP1](http://bigg.ucsd.edu/universal/reactions/AKP1) is also fine."
   ]
  },
  {
   "cell_type": "code",
   "execution_count": 33,
   "id": "ebda5cc7-fdc5-4c62-9705-1e77f9eb017e",
   "metadata": {
    "execution": {
     "iopub.execute_input": "2021-10-28T13:38:12.674311Z",
     "iopub.status.busy": "2021-10-28T13:38:12.673588Z",
     "iopub.status.idle": "2021-10-28T13:38:12.690076Z",
     "shell.execute_reply": "2021-10-28T13:38:12.688097Z",
     "shell.execute_reply.started": "2021-10-28T13:38:12.674225Z"
    },
    "tags": []
   },
   "outputs": [
    {
     "data": {
      "text/plain": [
       "'C9H13N5O13P3'"
      ]
     },
     "execution_count": 33,
     "metadata": {},
     "output_type": "execute_result"
    }
   ],
   "source": [
    "model.metabolites.get_by_id(\"ahdt[c]\").formula"
   ]
  },
  {
   "cell_type": "markdown",
   "id": "51e40a02-6184-439b-90f9-2e5e775b65d8",
   "metadata": {},
   "source": [
    "This one reports two formulas at BiGG, none of them with 13 H."
   ]
  },
  {
   "cell_type": "code",
   "execution_count": 34,
   "id": "728adffb-a820-4c40-8b86-4b0e5741fff0",
   "metadata": {
    "execution": {
     "iopub.execute_input": "2021-10-28T13:39:20.133210Z",
     "iopub.status.busy": "2021-10-28T13:39:20.132574Z",
     "iopub.status.idle": "2021-10-28T13:39:20.138040Z",
     "shell.execute_reply": "2021-10-28T13:39:20.137355Z",
     "shell.execute_reply.started": "2021-10-28T13:39:20.133137Z"
    },
    "tags": []
   },
   "outputs": [],
   "source": [
    "model.metabolites.get_by_id(\"ahdt[c]\").formula = \"C9H12N5O13P3\""
   ]
  },
  {
   "cell_type": "code",
   "execution_count": 35,
   "id": "348c2410-fb38-4d69-aab7-25bf86671c11",
   "metadata": {
    "execution": {
     "iopub.execute_input": "2021-10-28T13:39:39.024316Z",
     "iopub.status.busy": "2021-10-28T13:39:39.023682Z",
     "iopub.status.idle": "2021-10-28T13:39:39.030857Z",
     "shell.execute_reply": "2021-10-28T13:39:39.030290Z",
     "shell.execute_reply.started": "2021-10-28T13:39:39.024242Z"
    },
    "tags": []
   },
   "outputs": [
    {
     "data": {
      "text/plain": [
       "{}"
      ]
     },
     "execution_count": 35,
     "metadata": {},
     "output_type": "execute_result"
    }
   ],
   "source": [
    "compute_mass_balance(model.reactions.AKP1)"
   ]
  },
  {
   "cell_type": "code",
   "execution_count": 37,
   "id": "6a520f0f-6467-452f-91e1-03678b03d81e",
   "metadata": {
    "execution": {
     "iopub.execute_input": "2021-10-28T13:40:36.230535Z",
     "iopub.status.busy": "2021-10-28T13:40:36.230264Z",
     "iopub.status.idle": "2021-10-28T13:40:36.239060Z",
     "shell.execute_reply": "2021-10-28T13:40:36.238133Z",
     "shell.execute_reply.started": "2021-10-28T13:40:36.230505Z"
    },
    "tags": []
   },
   "outputs": [
    {
     "name": "stdout",
     "output_type": "stream",
     "text": [
      "GF4GL_2: {'H': -1.0}\tf420-2[c] + glu-L[c] + gtp[c] <=> f420-3[c] + gdp[c] + h[c] + pi[c]\n",
      "PHAJ: {'H': 4.0}\t3hbcoa_R[c] --> ctncoa[c] + h2o[c]\n",
      "HDR-2: {'H': 2.0}\tcob[c] + com[c] + 2.0 f420-2[c] + 2.0 fdred[c] --> 2.0 f420-2h2[c] + 2.0 fdox[c] + hsfd[c]\n",
      "H4MPTS9: {'H': 1.0}\tdhrfap[c] + f420-2h2[c] --> dhadrp[c] + f420-2[c] + h[c]\n",
      "DNMPPA: {'H': -1.0}\tdhpmp[c] + h2o[c] --> dhnpt[c] + pi[c]\n",
      "GF4GL_1: {'H': 1.0}\tf420-1[c] + glu-L[c] + gtp[c] <=> f420-2[c] + gdp[c] + h[c] + pi[c]\n",
      "METS: {'H': -1.0}\t5mthf[c] + hcys-L[c] --> met-L[c] + thf[c]\n",
      "DHNPA2: {'H': 1.0}\tdhnpt[c] --> 6hmhpt[c] + gcald[c] + h[c]\n",
      "DHFR: {'H': -1.0}\tdhf[c] + h[c] + nadph[c] <=> nadp[c] + thf[c]\n",
      "SULR2: {'H': 3.0}\t3.0 f420-2h2[c] + so3[c] <=> 3.0 f420-2[c] + 3.0 h2o[c] + h2s[c] + h[c]\n",
      "F4H2O: {'H': 2.0}\t2.0 f420-2h2[c] + o2[c] --> 2.0 f420-2[c] + 2.0 h2o[c] + 2.0 h[c]\n",
      "H2MPTR: {'H': -1.0}\tf420-2h2[c] + h2mpt[c] --> f420-2[c] + h4mpt[c]\n",
      "GLUS_F420: {'H': 1.0}\takg[c] + f420-2h2[c] + gln-L[c] --> f420-2[c] + 2.0 glu-L[c] + h[c]\n"
     ]
    }
   ],
   "source": [
    "imbalance_reac_model = [\n",
    "    reac for reac in imbalance_reac_model if compute_mass_balance(reac)\n",
    "]\n",
    "\n",
    "for reac in imbalance_reac_model:\n",
    "    print(f\"{reac.id}: {compute_mass_balance(reac)}\\t{reac.reaction}\")"
   ]
  },
  {
   "cell_type": "code",
   "execution_count": 39,
   "id": "5a2133b6-a064-42ce-b37b-f648fa99fb4a",
   "metadata": {
    "execution": {
     "iopub.execute_input": "2021-10-28T13:42:00.596452Z",
     "iopub.status.busy": "2021-10-28T13:42:00.596128Z",
     "iopub.status.idle": "2021-10-28T13:42:00.601870Z",
     "shell.execute_reply": "2021-10-28T13:42:00.601132Z",
     "shell.execute_reply.started": "2021-10-28T13:42:00.596415Z"
    },
    "tags": []
   },
   "outputs": [
    {
     "data": {
      "text/plain": [
       "False"
      ]
     },
     "execution_count": 39,
     "metadata": {},
     "output_type": "execute_result"
    }
   ],
   "source": [
    "# http://bigg.ucsd.edu/models/universal/metabolites/f420_3\n",
    "model.metabolites.get_by_id(\"f420-3[c]\").formula == \"C34H38N6O21P\""
   ]
  },
  {
   "cell_type": "code",
   "execution_count": 40,
   "id": "94b2c6c0-eb33-4005-b5d8-f2621b1f693d",
   "metadata": {
    "execution": {
     "iopub.execute_input": "2021-10-28T13:42:12.643348Z",
     "iopub.status.busy": "2021-10-28T13:42:12.643122Z",
     "iopub.status.idle": "2021-10-28T13:42:12.647047Z",
     "shell.execute_reply": "2021-10-28T13:42:12.646330Z",
     "shell.execute_reply.started": "2021-10-28T13:42:12.643324Z"
    },
    "tags": []
   },
   "outputs": [],
   "source": [
    "model.metabolites.get_by_id(\"f420-3[c]\").formula = \"C34H38N6O21P\""
   ]
  },
  {
   "cell_type": "code",
   "execution_count": 41,
   "id": "459e26c3-6a2e-4db5-88c7-75ecb80fbb1e",
   "metadata": {
    "execution": {
     "iopub.execute_input": "2021-10-28T13:42:17.171951Z",
     "iopub.status.busy": "2021-10-28T13:42:17.170906Z",
     "iopub.status.idle": "2021-10-28T13:42:17.185384Z",
     "shell.execute_reply": "2021-10-28T13:42:17.184484Z",
     "shell.execute_reply.started": "2021-10-28T13:42:17.171858Z"
    },
    "tags": []
   },
   "outputs": [
    {
     "name": "stdout",
     "output_type": "stream",
     "text": [
      "PHAJ: {'H': 4.0}\t3hbcoa_R[c] --> ctncoa[c] + h2o[c]\n",
      "HDR-2: {'H': 2.0}\tcob[c] + com[c] + 2.0 f420-2[c] + 2.0 fdred[c] --> 2.0 f420-2h2[c] + 2.0 fdox[c] + hsfd[c]\n",
      "H4MPTS9: {'H': 1.0}\tdhrfap[c] + f420-2h2[c] --> dhadrp[c] + f420-2[c] + h[c]\n",
      "DNMPPA: {'H': -1.0}\tdhpmp[c] + h2o[c] --> dhnpt[c] + pi[c]\n",
      "GF4GL_1: {'H': 1.0}\tf420-1[c] + glu-L[c] + gtp[c] <=> f420-2[c] + gdp[c] + h[c] + pi[c]\n",
      "METS: {'H': -1.0}\t5mthf[c] + hcys-L[c] --> met-L[c] + thf[c]\n",
      "DHNPA2: {'H': 1.0}\tdhnpt[c] --> 6hmhpt[c] + gcald[c] + h[c]\n",
      "DHFR: {'H': -1.0}\tdhf[c] + h[c] + nadph[c] <=> nadp[c] + thf[c]\n",
      "SULR2: {'H': 3.0}\t3.0 f420-2h2[c] + so3[c] <=> 3.0 f420-2[c] + 3.0 h2o[c] + h2s[c] + h[c]\n",
      "F4H2O: {'H': 2.0}\t2.0 f420-2h2[c] + o2[c] --> 2.0 f420-2[c] + 2.0 h2o[c] + 2.0 h[c]\n",
      "H2MPTR: {'H': -1.0}\tf420-2h2[c] + h2mpt[c] --> f420-2[c] + h4mpt[c]\n",
      "GLUS_F420: {'H': 1.0}\takg[c] + f420-2h2[c] + gln-L[c] --> f420-2[c] + 2.0 glu-L[c] + h[c]\n"
     ]
    }
   ],
   "source": [
    "imbalance_reac_model = [\n",
    "    reac for reac in imbalance_reac_model if compute_mass_balance(reac)\n",
    "]\n",
    "\n",
    "for reac in imbalance_reac_model:\n",
    "    print(f\"{reac.id}: {compute_mass_balance(reac)}\\t{reac.reaction}\")"
   ]
  },
  {
   "cell_type": "markdown",
   "id": "de8c16c9-962a-4140-8252-a169552d366a",
   "metadata": {},
   "source": [
    "PHAJ is indeed the reaction ([HBCH](http://bigg.ucsd.edu/models/iCN900/reactions/HBCH)) in BiGG, and we can see that it is missing 4 protons (its id won't be corrected for now)."
   ]
  },
  {
   "cell_type": "code",
   "execution_count": 42,
   "id": "4405e1bc-5250-4f70-839a-3c72bcedc3e7",
   "metadata": {
    "execution": {
     "iopub.execute_input": "2021-10-28T13:44:10.934792Z",
     "iopub.status.busy": "2021-10-28T13:44:10.934568Z",
     "iopub.status.idle": "2021-10-28T13:44:10.947317Z",
     "shell.execute_reply": "2021-10-28T13:44:10.946438Z",
     "shell.execute_reply.started": "2021-10-28T13:44:10.934768Z"
    },
    "tags": []
   },
   "outputs": [
    {
     "data": {
      "text/plain": [
       "{}"
      ]
     },
     "execution_count": 42,
     "metadata": {},
     "output_type": "execute_result"
    }
   ],
   "source": [
    "model.reactions.PHAJ.add_metabolites({h_c: -4})\n",
    "compute_mass_balance(model.reactions.PHAJ)"
   ]
  },
  {
   "cell_type": "markdown",
   "id": "08034d0b-3ccb-4795-b369-e6b28bba3db3",
   "metadata": {},
   "source": [
    "HDR-2."
   ]
  },
  {
   "cell_type": "code",
   "execution_count": 43,
   "id": "cda4ca21-c392-4521-b4ba-b90ef31015aa",
   "metadata": {
    "execution": {
     "iopub.execute_input": "2021-10-28T13:46:29.772944Z",
     "iopub.status.busy": "2021-10-28T13:46:29.772273Z",
     "iopub.status.idle": "2021-10-28T13:46:29.787649Z",
     "shell.execute_reply": "2021-10-28T13:46:29.785442Z",
     "shell.execute_reply.started": "2021-10-28T13:46:29.772847Z"
    },
    "tags": []
   },
   "outputs": [
    {
     "data": {
      "text/plain": [
       "False"
      ]
     },
     "execution_count": 43,
     "metadata": {},
     "output_type": "execute_result"
    }
   ],
   "source": [
    "model.metabolites.get_by_id(\"f420-2h2[c]\").formula == model.metabolites.get_by_id(\"f420-2[c]\").formula"
   ]
  },
  {
   "cell_type": "code",
   "execution_count": 48,
   "id": "8cb6247b-b34d-4d89-8c1e-4e49633750e6",
   "metadata": {
    "execution": {
     "iopub.execute_input": "2021-10-28T13:50:01.365981Z",
     "iopub.status.busy": "2021-10-28T13:50:01.365474Z",
     "iopub.status.idle": "2021-10-28T13:50:01.370742Z",
     "shell.execute_reply": "2021-10-28T13:50:01.369974Z",
     "shell.execute_reply.started": "2021-10-28T13:50:01.365952Z"
    },
    "tags": []
   },
   "outputs": [
    {
     "data": {
      "text/plain": [
       "True"
      ]
     },
     "execution_count": 48,
     "metadata": {},
     "output_type": "execute_result"
    }
   ],
   "source": [
    "model.metabolites.get_by_id(\"f420-2h2[c]\").formula == \"C29H34O18N5P1\""
   ]
  },
  {
   "cell_type": "code",
   "execution_count": 47,
   "id": "7085e516-cda2-4e83-946e-9938441fa31a",
   "metadata": {
    "execution": {
     "iopub.execute_input": "2021-10-28T13:49:46.258857Z",
     "iopub.status.busy": "2021-10-28T13:49:46.258329Z",
     "iopub.status.idle": "2021-10-28T13:49:46.265352Z",
     "shell.execute_reply": "2021-10-28T13:49:46.264595Z",
     "shell.execute_reply.started": "2021-10-28T13:49:46.258817Z"
    },
    "tags": []
   },
   "outputs": [
    {
     "data": {
      "text/plain": [
       "{'H': 2.0}"
      ]
     },
     "execution_count": 47,
     "metadata": {},
     "output_type": "execute_result"
    }
   ],
   "source": [
    "model.metabolites.get_by_id(\"f420-2h2[c]\").formula = \"C29H34O18N5P1\"\n",
    "compute_mass_balance(model.reactions.get_by_id(\"HDR-2\"))"
   ]
  },
  {
   "cell_type": "code",
   "execution_count": 49,
   "id": "140ada97-6284-4a31-838a-4e20f95882e8",
   "metadata": {
    "execution": {
     "iopub.execute_input": "2021-10-28T13:51:01.660616Z",
     "iopub.status.busy": "2021-10-28T13:51:01.660016Z",
     "iopub.status.idle": "2021-10-28T13:51:01.673413Z",
     "shell.execute_reply": "2021-10-28T13:51:01.671905Z",
     "shell.execute_reply.started": "2021-10-28T13:51:01.660548Z"
    },
    "tags": []
   },
   "outputs": [
    {
     "data": {
      "text/plain": [
       "'C29H32N5O18P'"
      ]
     },
     "execution_count": 49,
     "metadata": {},
     "output_type": "execute_result"
    }
   ],
   "source": [
    "model.metabolites.get_by_id(\"f420-2[c]\").formula"
   ]
  },
  {
   "cell_type": "code",
   "execution_count": 50,
   "id": "39ff7c9e-e79f-41df-9dc3-49e410da3a48",
   "metadata": {
    "execution": {
     "iopub.execute_input": "2021-10-28T13:51:19.964187Z",
     "iopub.status.busy": "2021-10-28T13:51:19.963906Z",
     "iopub.status.idle": "2021-10-28T13:51:19.968934Z",
     "shell.execute_reply": "2021-10-28T13:51:19.968303Z",
     "shell.execute_reply.started": "2021-10-28T13:51:19.964161Z"
    },
    "tags": []
   },
   "outputs": [
    {
     "data": {
      "text/plain": [
       "{'H': 2.0}"
      ]
     },
     "execution_count": 50,
     "metadata": {},
     "output_type": "execute_result"
    }
   ],
   "source": [
    "compute_mass_balance(model.reactions.get_by_id(\"HDR-2\"))"
   ]
  },
  {
   "cell_type": "code",
   "execution_count": 60,
   "id": "36c5fc27-1a1f-4757-b183-27b214ca66af",
   "metadata": {
    "execution": {
     "iopub.execute_input": "2021-10-28T13:52:47.353771Z",
     "iopub.status.busy": "2021-10-28T13:52:47.353276Z",
     "iopub.status.idle": "2021-10-28T13:52:47.367437Z",
     "shell.execute_reply": "2021-10-28T13:52:47.366308Z",
     "shell.execute_reply.started": "2021-10-28T13:52:47.353731Z"
    },
    "tags": []
   },
   "outputs": [
    {
     "data": {
      "text/plain": [
       "{}"
      ]
     },
     "execution_count": 60,
     "metadata": {},
     "output_type": "execute_result"
    }
   ],
   "source": [
    "model.reactions.get_by_id(\"HDR-2\").add_metabolites({h_c: -2})\n",
    "compute_mass_balance(model.reactions.get_by_id(\"HDR-2\"))"
   ]
  },
  {
   "cell_type": "code",
   "execution_count": 66,
   "id": "d9f0189e-31ec-46cb-9b8c-9fb34d34627d",
   "metadata": {
    "execution": {
     "iopub.execute_input": "2021-10-28T13:53:48.298501Z",
     "iopub.status.busy": "2021-10-28T13:53:48.298267Z",
     "iopub.status.idle": "2021-10-28T13:53:48.305048Z",
     "shell.execute_reply": "2021-10-28T13:53:48.304198Z",
     "shell.execute_reply.started": "2021-10-28T13:53:48.298475Z"
    },
    "tags": []
   },
   "outputs": [
    {
     "name": "stdout",
     "output_type": "stream",
     "text": [
      "H4MPTS9: {'H': 1.0}\tdhrfap[c] + f420-2h2[c] --> dhadrp[c] + f420-2[c] + h[c]\n",
      "DNMPPA: {'H': -1.0}\tdhpmp[c] + h2o[c] --> dhnpt[c] + pi[c]\n",
      "GF4GL_1: {'H': 1.0}\tf420-1[c] + glu-L[c] + gtp[c] <=> f420-2[c] + gdp[c] + h[c] + pi[c]\n",
      "METS: {'H': -1.0}\t5mthf[c] + hcys-L[c] --> met-L[c] + thf[c]\n",
      "DHNPA2: {'H': 1.0}\tdhnpt[c] --> 6hmhpt[c] + gcald[c] + h[c]\n",
      "DHFR: {'H': -1.0}\tdhf[c] + h[c] + nadph[c] <=> nadp[c] + thf[c]\n",
      "SULR2: {'H': 3.0}\t3.0 f420-2h2[c] + so3[c] <=> 3.0 f420-2[c] + 3.0 h2o[c] + h2s[c] + h[c]\n",
      "F4H2O: {'H': 2.0}\t2.0 f420-2h2[c] + o2[c] --> 2.0 f420-2[c] + 2.0 h2o[c] + 2.0 h[c]\n",
      "H2MPTR: {'H': -1.0}\tf420-2h2[c] + h2mpt[c] --> f420-2[c] + h4mpt[c]\n",
      "GLUS_F420: {'H': 1.0}\takg[c] + f420-2h2[c] + gln-L[c] --> f420-2[c] + 2.0 glu-L[c] + h[c]\n"
     ]
    }
   ],
   "source": [
    "imbalance_reac_model = [\n",
    "    reac for reac in imbalance_reac_model if compute_mass_balance(reac)\n",
    "]\n",
    "\n",
    "for reac in imbalance_reac_model:\n",
    "    print(f\"{reac.id}: {compute_mass_balance(reac)}\\t{reac.reaction}\")"
   ]
  },
  {
   "cell_type": "markdown",
   "id": "5b411911-db4d-4ec4-a751-11ca0fe483ab",
   "metadata": {},
   "source": [
    "H4MPTS9 has one extra proton, that is now fine with the adjusted formula of f420-2h2"
   ]
  },
  {
   "cell_type": "code",
   "execution_count": 67,
   "id": "dfa10edc-bcfa-4f6d-b97a-438d2fd32a5d",
   "metadata": {
    "execution": {
     "iopub.execute_input": "2021-10-28T13:54:42.374086Z",
     "iopub.status.busy": "2021-10-28T13:54:42.373849Z",
     "iopub.status.idle": "2021-10-28T13:54:42.383972Z",
     "shell.execute_reply": "2021-10-28T13:54:42.383390Z",
     "shell.execute_reply.started": "2021-10-28T13:54:42.374060Z"
    },
    "tags": []
   },
   "outputs": [
    {
     "data": {
      "text/plain": [
       "{}"
      ]
     },
     "execution_count": 67,
     "metadata": {},
     "output_type": "execute_result"
    }
   ],
   "source": [
    "model.reactions.H4MPTS9.add_metabolites({h_c: -1})\n",
    "compute_mass_balance(model.reactions.H4MPTS9)"
   ]
  },
  {
   "cell_type": "markdown",
   "id": "7d07000b-0966-4bfe-97fb-834c0f4fe168",
   "metadata": {},
   "source": [
    "DNMPPA"
   ]
  },
  {
   "cell_type": "code",
   "execution_count": 69,
   "id": "8e035dad-c60d-4f64-b658-8ee5f5be9013",
   "metadata": {
    "execution": {
     "iopub.execute_input": "2021-10-28T13:56:20.988900Z",
     "iopub.status.busy": "2021-10-28T13:56:20.988663Z",
     "iopub.status.idle": "2021-10-28T13:56:20.993507Z",
     "shell.execute_reply": "2021-10-28T13:56:20.992904Z",
     "shell.execute_reply.started": "2021-10-28T13:56:20.988875Z"
    },
    "tags": []
   },
   "outputs": [
    {
     "data": {
      "text/html": [
       "\n",
       "        <table>\n",
       "            <tr>\n",
       "                <td><strong>Metabolite identifier</strong></td><td>dhpmp[c]</td>\n",
       "            </tr><tr>\n",
       "                <td><strong>Name</strong></td><td>Dihydroneopterin monophosphate</td>\n",
       "            </tr><tr>\n",
       "                <td><strong>Memory address</strong></td>\n",
       "                <td>0x07fccb09821c0</td>\n",
       "            </tr><tr>\n",
       "                <td><strong>Formula</strong></td><td>C9H13N5O7P</td>\n",
       "            </tr><tr>\n",
       "                <td><strong>Compartment</strong></td><td>c</td>\n",
       "            </tr><tr>\n",
       "                <td><strong>In 2 reaction(s)</strong></td><td>\n",
       "                    DNMPPA, DHPCPH</td>\n",
       "            </tr>\n",
       "        </table>"
      ],
      "text/plain": [
       "<Metabolite dhpmp[c] at 0x7fccb09821c0>"
      ]
     },
     "execution_count": 69,
     "metadata": {},
     "output_type": "execute_result"
    }
   ],
   "source": [
    "model.metabolites.get_by_id(\"dhpmp[c]\")"
   ]
  },
  {
   "cell_type": "code",
   "execution_count": 70,
   "id": "c7bc1ab3-9204-46da-83b5-a51ab36594ff",
   "metadata": {
    "execution": {
     "iopub.execute_input": "2021-10-28T13:56:46.928523Z",
     "iopub.status.busy": "2021-10-28T13:56:46.927882Z",
     "iopub.status.idle": "2021-10-28T13:56:46.935213Z",
     "shell.execute_reply": "2021-10-28T13:56:46.934447Z",
     "shell.execute_reply.started": "2021-10-28T13:56:46.928449Z"
    },
    "tags": []
   },
   "outputs": [
    {
     "data": {
      "text/html": [
       "\n",
       "        <table>\n",
       "            <tr>\n",
       "                <td><strong>Metabolite identifier</strong></td><td>dhnpt[c]</td>\n",
       "            </tr><tr>\n",
       "                <td><strong>Name</strong></td><td>Dihydroneopterin</td>\n",
       "            </tr><tr>\n",
       "                <td><strong>Memory address</strong></td>\n",
       "                <td>0x07fccb0a83af0</td>\n",
       "            </tr><tr>\n",
       "                <td><strong>Formula</strong></td><td>C9H13N5O4</td>\n",
       "            </tr><tr>\n",
       "                <td><strong>Compartment</strong></td><td>c</td>\n",
       "            </tr><tr>\n",
       "                <td><strong>In 3 reaction(s)</strong></td><td>\n",
       "                    DNMPPA, AKP1, DHNPA2</td>\n",
       "            </tr>\n",
       "        </table>"
      ],
      "text/plain": [
       "<Metabolite dhnpt[c] at 0x7fccb0a83af0>"
      ]
     },
     "execution_count": 70,
     "metadata": {},
     "output_type": "execute_result"
    }
   ],
   "source": [
    "model.metabolites.get_by_id(\"dhnpt[c]\")"
   ]
  },
  {
   "cell_type": "markdown",
   "id": "69f34cc4-9bba-4603-b800-b4d9019c2d48",
   "metadata": {
    "execution": {
     "iopub.execute_input": "2021-10-28T13:57:03.423098Z",
     "iopub.status.busy": "2021-10-28T13:57:03.422378Z",
     "iopub.status.idle": "2021-10-28T13:57:03.435913Z",
     "shell.execute_reply": "2021-10-28T13:57:03.433205Z",
     "shell.execute_reply.started": "2021-10-28T13:57:03.423012Z"
    },
    "tags": []
   },
   "source": [
    "dhpmp has one extra proton."
   ]
  },
  {
   "cell_type": "code",
   "execution_count": 74,
   "id": "e0467755-8ece-4a24-ae77-009ca0dc8a09",
   "metadata": {
    "execution": {
     "iopub.execute_input": "2021-10-28T13:58:02.741087Z",
     "iopub.status.busy": "2021-10-28T13:58:02.740861Z",
     "iopub.status.idle": "2021-10-28T13:58:02.744162Z",
     "shell.execute_reply": "2021-10-28T13:58:02.743655Z",
     "shell.execute_reply.started": "2021-10-28T13:58:02.741066Z"
    },
    "tags": []
   },
   "outputs": [],
   "source": [
    "model.metabolites.get_by_id(\"dhpmp[c]\").formula = \"C9H12N5O7P\""
   ]
  },
  {
   "cell_type": "code",
   "execution_count": 76,
   "id": "80c014d7-4bbe-4353-8d5f-9f735fa9867d",
   "metadata": {
    "execution": {
     "iopub.execute_input": "2021-10-28T13:58:32.114341Z",
     "iopub.status.busy": "2021-10-28T13:58:32.114044Z",
     "iopub.status.idle": "2021-10-28T13:58:32.118759Z",
     "shell.execute_reply": "2021-10-28T13:58:32.118191Z",
     "shell.execute_reply.started": "2021-10-28T13:58:32.114303Z"
    },
    "tags": []
   },
   "outputs": [
    {
     "data": {
      "text/plain": [
       "{}"
      ]
     },
     "execution_count": 76,
     "metadata": {},
     "output_type": "execute_result"
    }
   ],
   "source": [
    "compute_mass_balance(model.reactions.DNMPPA)"
   ]
  },
  {
   "cell_type": "markdown",
   "id": "0e301d80-d3d5-4473-9a07-bd5c17fadfe6",
   "metadata": {
    "execution": {
     "iopub.execute_input": "2021-10-28T13:59:38.516512Z",
     "iopub.status.busy": "2021-10-28T13:59:38.516319Z",
     "iopub.status.idle": "2021-10-28T13:59:38.520294Z",
     "shell.execute_reply": "2021-10-28T13:59:38.519716Z",
     "shell.execute_reply.started": "2021-10-28T13:59:38.516491Z"
    },
    "tags": []
   },
   "source": [
    "[GF4GL_1](http://bigg.ucsd.edu/universal/reactions/GF4GL_1)"
   ]
  },
  {
   "cell_type": "code",
   "execution_count": 80,
   "id": "16af6bd3-1bf8-43b0-bfe6-4ae7e5650f27",
   "metadata": {
    "execution": {
     "iopub.execute_input": "2021-10-28T14:00:36.742484Z",
     "iopub.status.busy": "2021-10-28T14:00:36.742221Z",
     "iopub.status.idle": "2021-10-28T14:00:36.746508Z",
     "shell.execute_reply": "2021-10-28T14:00:36.745607Z",
     "shell.execute_reply.started": "2021-10-28T14:00:36.742455Z"
    },
    "tags": []
   },
   "outputs": [],
   "source": [
    "model.metabolites.get_by_id(\"f420-1[c]\").formula = \"C24H26N4O15P\""
   ]
  },
  {
   "cell_type": "code",
   "execution_count": 81,
   "id": "3d3db9ee-0930-410e-875d-c040a6359c47",
   "metadata": {
    "execution": {
     "iopub.execute_input": "2021-10-28T14:00:44.422360Z",
     "iopub.status.busy": "2021-10-28T14:00:44.422068Z",
     "iopub.status.idle": "2021-10-28T14:00:44.426728Z",
     "shell.execute_reply": "2021-10-28T14:00:44.426043Z",
     "shell.execute_reply.started": "2021-10-28T14:00:44.422337Z"
    },
    "tags": []
   },
   "outputs": [
    {
     "data": {
      "text/plain": [
       "{}"
      ]
     },
     "execution_count": 81,
     "metadata": {},
     "output_type": "execute_result"
    }
   ],
   "source": [
    "compute_mass_balance(model.reactions.GF4GL_1)"
   ]
  },
  {
   "cell_type": "markdown",
   "id": "bc07c2b4-d6aa-4e26-a3a3-b9c3c2b4e49e",
   "metadata": {
    "execution": {
     "iopub.execute_input": "2021-10-28T14:00:51.000108Z",
     "iopub.status.busy": "2021-10-28T14:00:50.999873Z",
     "iopub.status.idle": "2021-10-28T14:00:51.010676Z",
     "shell.execute_reply": "2021-10-28T14:00:51.009449Z",
     "shell.execute_reply.started": "2021-10-28T14:00:51.000080Z"
    },
    "tags": []
   },
   "source": [
    "[METS](http://bigg.ucsd.edu/universal/reactions/METS) is missing a product proton."
   ]
  },
  {
   "cell_type": "code",
   "execution_count": 83,
   "id": "d605e068-26c7-4fcb-84da-2184a2c9da25",
   "metadata": {
    "execution": {
     "iopub.execute_input": "2021-10-28T14:01:57.641257Z",
     "iopub.status.busy": "2021-10-28T14:01:57.639335Z",
     "iopub.status.idle": "2021-10-28T14:01:57.659061Z",
     "shell.execute_reply": "2021-10-28T14:01:57.658080Z",
     "shell.execute_reply.started": "2021-10-28T14:01:57.641154Z"
    },
    "tags": []
   },
   "outputs": [
    {
     "data": {
      "text/plain": [
       "{}"
      ]
     },
     "execution_count": 83,
     "metadata": {},
     "output_type": "execute_result"
    }
   ],
   "source": [
    "model.reactions.METS.add_metabolites({h_c: 1})\n",
    "compute_mass_balance(model.reactions.METS)"
   ]
  },
  {
   "cell_type": "markdown",
   "id": "4f4e65fd-a7bd-4b81-a941-6e21017f2881",
   "metadata": {},
   "source": [
    "[DHNPA2](http://bigg.ucsd.edu/universal/reactions/DHNPA_1) has one extrain product proton."
   ]
  },
  {
   "cell_type": "code",
   "execution_count": 84,
   "id": "7a641e25-9b97-47e8-a0cf-146386e280c6",
   "metadata": {
    "execution": {
     "iopub.execute_input": "2021-10-28T14:03:00.149268Z",
     "iopub.status.busy": "2021-10-28T14:03:00.148516Z",
     "iopub.status.idle": "2021-10-28T14:03:00.160760Z",
     "shell.execute_reply": "2021-10-28T14:03:00.159967Z",
     "shell.execute_reply.started": "2021-10-28T14:03:00.149180Z"
    },
    "tags": []
   },
   "outputs": [
    {
     "data": {
      "text/plain": [
       "{}"
      ]
     },
     "execution_count": 84,
     "metadata": {},
     "output_type": "execute_result"
    }
   ],
   "source": [
    "model.reactions.DHNPA2.add_metabolites({h_c: -1})\n",
    "compute_mass_balance(model.reactions.DHNPA2)"
   ]
  },
  {
   "cell_type": "markdown",
   "id": "96539cef-c02e-4004-a4fd-57f6e1b2833f",
   "metadata": {
    "execution": {
     "iopub.execute_input": "2021-10-28T14:03:40.548646Z",
     "iopub.status.busy": "2021-10-28T14:03:40.546335Z",
     "iopub.status.idle": "2021-10-28T14:03:40.562425Z",
     "shell.execute_reply": "2021-10-28T14:03:40.560233Z",
     "shell.execute_reply.started": "2021-10-28T14:03:40.548503Z"
    },
    "tags": []
   },
   "source": [
    "[DHFR](http://bigg.ucsd.edu/universal/reactions/DHFR) seems correct."
   ]
  },
  {
   "cell_type": "code",
   "execution_count": 87,
   "id": "928a54cc-1706-48a4-800c-3e01040f91e1",
   "metadata": {
    "execution": {
     "iopub.execute_input": "2021-10-28T14:04:24.686340Z",
     "iopub.status.busy": "2021-10-28T14:04:24.686111Z",
     "iopub.status.idle": "2021-10-28T14:04:24.691404Z",
     "shell.execute_reply": "2021-10-28T14:04:24.690564Z",
     "shell.execute_reply.started": "2021-10-28T14:04:24.686315Z"
    },
    "tags": []
   },
   "outputs": [
    {
     "data": {
      "text/plain": [
       "False"
      ]
     },
     "execution_count": 87,
     "metadata": {},
     "output_type": "execute_result"
    }
   ],
   "source": [
    "# http://bigg.ucsd.edu/models/universal/metabolites/dhf\n",
    "model.metabolites.get_by_id(\"dhf[c]\").formula == \"C19H19N7O6\""
   ]
  },
  {
   "cell_type": "code",
   "execution_count": 88,
   "id": "d56fcfa8-6ecd-4863-91bd-a080a1f66c18",
   "metadata": {
    "execution": {
     "iopub.execute_input": "2021-10-28T14:04:31.393186Z",
     "iopub.status.busy": "2021-10-28T14:04:31.392946Z",
     "iopub.status.idle": "2021-10-28T14:04:31.396407Z",
     "shell.execute_reply": "2021-10-28T14:04:31.395897Z",
     "shell.execute_reply.started": "2021-10-28T14:04:31.393160Z"
    },
    "tags": []
   },
   "outputs": [],
   "source": [
    "model.metabolites.get_by_id(\"dhf[c]\").formula = \"C19H19N7O6\""
   ]
  },
  {
   "cell_type": "code",
   "execution_count": 89,
   "id": "63d87f12-c7a5-4650-abfa-e927c07c9119",
   "metadata": {
    "execution": {
     "iopub.execute_input": "2021-10-28T14:04:43.355252Z",
     "iopub.status.busy": "2021-10-28T14:04:43.355025Z",
     "iopub.status.idle": "2021-10-28T14:04:43.359890Z",
     "shell.execute_reply": "2021-10-28T14:04:43.359286Z",
     "shell.execute_reply.started": "2021-10-28T14:04:43.355227Z"
    },
    "tags": []
   },
   "outputs": [
    {
     "data": {
      "text/plain": [
       "{}"
      ]
     },
     "execution_count": 89,
     "metadata": {},
     "output_type": "execute_result"
    }
   ],
   "source": [
    "compute_mass_balance(model.reactions.DHFR)"
   ]
  },
  {
   "cell_type": "code",
   "execution_count": 90,
   "id": "457d706c-efb7-453b-804b-7daaf7f740e0",
   "metadata": {
    "execution": {
     "iopub.execute_input": "2021-10-28T14:05:36.950484Z",
     "iopub.status.busy": "2021-10-28T14:05:36.950142Z",
     "iopub.status.idle": "2021-10-28T14:05:36.956696Z",
     "shell.execute_reply": "2021-10-28T14:05:36.955937Z",
     "shell.execute_reply.started": "2021-10-28T14:05:36.950446Z"
    },
    "tags": []
   },
   "outputs": [
    {
     "name": "stdout",
     "output_type": "stream",
     "text": [
      "SULR2: {'H': 3.0}\t3.0 f420-2h2[c] + so3[c] <=> 3.0 f420-2[c] + 3.0 h2o[c] + h2s[c] + h[c]\n",
      "F4H2O: {'H': 2.0}\t2.0 f420-2h2[c] + o2[c] --> 2.0 f420-2[c] + 2.0 h2o[c] + 2.0 h[c]\n",
      "H2MPTR: {'H': -1.0}\tf420-2h2[c] + h2mpt[c] --> f420-2[c] + h4mpt[c]\n",
      "GLUS_F420: {'H': 1.0}\takg[c] + f420-2h2[c] + gln-L[c] --> f420-2[c] + 2.0 glu-L[c] + h[c]\n"
     ]
    }
   ],
   "source": [
    "imbalance_reac_model = [\n",
    "    reac for reac in imbalance_reac_model if compute_mass_balance(reac)\n",
    "]\n",
    "\n",
    "for reac in imbalance_reac_model:\n",
    "    print(f\"{reac.id}: {compute_mass_balance(reac)}\\t{reac.reaction}\")"
   ]
  },
  {
   "cell_type": "markdown",
   "id": "5559f3c2-3851-4536-add3-bccef3262786",
   "metadata": {
    "execution": {
     "iopub.execute_input": "2021-10-28T14:07:10.889348Z",
     "iopub.status.busy": "2021-10-28T14:07:10.888671Z",
     "iopub.status.idle": "2021-10-28T14:07:10.893674Z",
     "shell.execute_reply": "2021-10-28T14:07:10.892833Z",
     "shell.execute_reply.started": "2021-10-28T14:07:10.889314Z"
    },
    "tags": []
   },
   "source": [
    "[F4H2O](http://bigg.ucsd.edu/universal/reactions/F4H2O) has two extra product protons."
   ]
  },
  {
   "cell_type": "code",
   "execution_count": 94,
   "id": "acddc8a7-34c4-4320-b743-f4326d597531",
   "metadata": {
    "execution": {
     "iopub.execute_input": "2021-10-28T14:07:40.090216Z",
     "iopub.status.busy": "2021-10-28T14:07:40.089989Z",
     "iopub.status.idle": "2021-10-28T14:07:40.101911Z",
     "shell.execute_reply": "2021-10-28T14:07:40.101125Z",
     "shell.execute_reply.started": "2021-10-28T14:07:40.090191Z"
    },
    "tags": []
   },
   "outputs": [
    {
     "data": {
      "text/plain": [
       "{}"
      ]
     },
     "execution_count": 94,
     "metadata": {},
     "output_type": "execute_result"
    }
   ],
   "source": [
    "model.reactions.F4H2O.add_metabolites({h_c: -2})\n",
    "compute_mass_balance(model.reactions.F4H2O)"
   ]
  },
  {
   "cell_type": "code",
   "execution_count": 102,
   "id": "bf8e98bd-e3ff-4f3e-b032-8979444e1640",
   "metadata": {
    "execution": {
     "iopub.execute_input": "2021-10-28T14:09:47.935060Z",
     "iopub.status.busy": "2021-10-28T14:09:47.934737Z",
     "iopub.status.idle": "2021-10-28T14:09:48.759349Z",
     "shell.execute_reply": "2021-10-28T14:09:48.758894Z",
     "shell.execute_reply.started": "2021-10-28T14:09:47.935024Z"
    },
    "tags": []
   },
   "outputs": [
    {
     "data": {
      "text/plain": [
       "False"
      ]
     },
     "execution_count": 102,
     "metadata": {},
     "output_type": "execute_result"
    }
   ],
   "source": [
    "check_stoichiometric_consistency(model)"
   ]
  },
  {
   "cell_type": "markdown",
   "id": "fab54ce6-a508-48d2-8a15-044f3dfda1d1",
   "metadata": {
    "execution": {
     "iopub.execute_input": "2021-10-28T14:09:56.823153Z",
     "iopub.status.busy": "2021-10-28T14:09:56.822509Z",
     "iopub.status.idle": "2021-10-28T14:09:56.847863Z",
     "shell.execute_reply": "2021-10-28T14:09:56.846131Z",
     "shell.execute_reply.started": "2021-10-28T14:09:56.823077Z"
    },
    "tags": []
   },
   "source": [
    "SULR2"
   ]
  },
  {
   "cell_type": "code",
   "execution_count": 101,
   "id": "d4e07b1f-de5f-42a9-864e-cf4d46cad3d2",
   "metadata": {
    "execution": {
     "iopub.execute_input": "2021-10-28T14:09:46.067485Z",
     "iopub.status.busy": "2021-10-28T14:09:46.067272Z",
     "iopub.status.idle": "2021-10-28T14:09:46.078479Z",
     "shell.execute_reply": "2021-10-28T14:09:46.077858Z",
     "shell.execute_reply.started": "2021-10-28T14:09:46.067462Z"
    },
    "tags": []
   },
   "outputs": [
    {
     "data": {
      "text/plain": [
       "{}"
      ]
     },
     "execution_count": 101,
     "metadata": {},
     "output_type": "execute_result"
    }
   ],
   "source": [
    "model.reactions.SULR2.add_metabolites({h_c: -3})\n",
    "compute_mass_balance(model.reactions.SULR2)"
   ]
  },
  {
   "cell_type": "markdown",
   "id": "aae1b9d6-3298-461e-bfe6-a1b98be7d645",
   "metadata": {
    "execution": {
     "iopub.execute_input": "2021-10-28T14:10:03.129811Z",
     "iopub.status.busy": "2021-10-28T14:10:03.129578Z",
     "iopub.status.idle": "2021-10-28T14:10:03.134046Z",
     "shell.execute_reply": "2021-10-28T14:10:03.133335Z",
     "shell.execute_reply.started": "2021-10-28T14:10:03.129786Z"
    },
    "tags": []
   },
   "source": [
    "[H2MPTR](http://bigg.ucsd.edu/universal/reactions/H2MPTR)"
   ]
  },
  {
   "cell_type": "markdown",
   "id": "01ee5af4-0c54-4aad-a68b-6fd2a74a753d",
   "metadata": {
    "execution": {
     "iopub.execute_input": "2021-10-28T14:10:32.899596Z",
     "iopub.status.busy": "2021-10-28T14:10:32.899292Z",
     "iopub.status.idle": "2021-10-28T14:10:32.904126Z",
     "shell.execute_reply": "2021-10-28T14:10:32.903350Z",
     "shell.execute_reply.started": "2021-10-28T14:10:32.899569Z"
    },
    "tags": []
   },
   "source": [
    "[GLUS_F420](http://bigg.ucsd.edu/universal/reactions/GLUS_F420) has one extra product proton"
   ]
  },
  {
   "cell_type": "code",
   "execution_count": 106,
   "id": "62a14ea8-b9bf-4a26-aaf4-2198c1890787",
   "metadata": {
    "execution": {
     "iopub.execute_input": "2021-10-28T14:11:09.193193Z",
     "iopub.status.busy": "2021-10-28T14:11:09.192202Z",
     "iopub.status.idle": "2021-10-28T14:11:09.210874Z",
     "shell.execute_reply": "2021-10-28T14:11:09.210024Z",
     "shell.execute_reply.started": "2021-10-28T14:11:09.193098Z"
    },
    "tags": []
   },
   "outputs": [
    {
     "data": {
      "text/plain": [
       "{}"
      ]
     },
     "execution_count": 106,
     "metadata": {},
     "output_type": "execute_result"
    }
   ],
   "source": [
    "model.reactions.GLUS_F420.add_metabolites({h_c: -1})\n",
    "compute_mass_balance(model.reactions.GLUS_F420)"
   ]
  },
  {
   "cell_type": "code",
   "execution_count": 107,
   "id": "d83d9b66-72dd-4970-8c71-88041903a4f2",
   "metadata": {
    "execution": {
     "iopub.execute_input": "2021-10-28T14:11:14.186047Z",
     "iopub.status.busy": "2021-10-28T14:11:14.184243Z",
     "iopub.status.idle": "2021-10-28T14:11:15.055816Z",
     "shell.execute_reply": "2021-10-28T14:11:15.055380Z",
     "shell.execute_reply.started": "2021-10-28T14:11:14.185941Z"
    },
    "tags": []
   },
   "outputs": [
    {
     "data": {
      "text/plain": [
       "False"
      ]
     },
     "execution_count": 107,
     "metadata": {},
     "output_type": "execute_result"
    }
   ],
   "source": [
    "check_stoichiometric_consistency(model)"
   ]
  },
  {
   "cell_type": "code",
   "execution_count": null,
   "id": "e0ee5abb-0017-4e3f-925a-e5b850aba70a",
   "metadata": {},
   "outputs": [],
   "source": [
    "from memote import "
   ]
  },
  {
   "cell_type": "code",
   "execution_count": 113,
   "id": "4bdc3dcd-94a7-4596-b4cf-64214ca257e7",
   "metadata": {
    "execution": {
     "iopub.execute_input": "2021-10-28T14:13:22.550095Z",
     "iopub.status.busy": "2021-10-28T14:13:22.549489Z",
     "iopub.status.idle": "2021-10-28T14:13:26.033818Z",
     "shell.execute_reply": "2021-10-28T14:13:26.033358Z",
     "shell.execute_reply.started": "2021-10-28T14:13:22.550056Z"
    },
    "tags": []
   },
   "outputs": [
    {
     "name": "stdout",
     "output_type": "stream",
     "text": [
      "GF4GL_0: {'H': 1.0}\tf420-0[c] + glu-L[c] + gtp[c] <=> f420-1[c] + gdp[c] + h[c] + pi[c]\n",
      "GF4GL_3: {'H': -1.0}\tf420-3[c] + glu-L[c] + gtp[c] <=> f420-4[c] + gdp[c] + h[c] + pi[c]\n",
      "R00424: {'H': -1.0}\tgtp[c] + h2o[c] --> ahdt[c] + for[c]\n",
      "DHFS: {'H': -1.0}\tatp[c] + dhpt[c] + glu-L[c] <=> adp[c] + dhf[c] + h[c] + pi[c]\n",
      "FOLR2: {'H': -1.0}\tfol[c] + 2.0 h[c] + nadph[c] <=> dhf[c] + nadp[c]\n",
      "MTHFD2i: {'H': 1.0}\tmlthf[c] + nad[c] <=> h[c] + methf[c] + nadh[c]\n",
      "MTHFR2: {'H': 1.0}\th[c] + mlthf[c] + nadh[c] <=> 5mthf[c] + nad[c]\n",
      "MTHFR3: {'H': 1.0}\th[c] + mlthf[c] + nadph[c] --> 5mthf[c] + nadp[c]\n",
      "DHPCPH: {'H': -1.0}\tdhp23cp[c] + h2o[c] --> dhpmp[c] + h[c]\n",
      "H2MPTR: {'H': -1.0}\tf420-2h2[c] + h2mpt[c] --> f420-2[c] + h4mpt[c]\n"
     ]
    }
   ],
   "source": [
    "for reac in model.reactions:\n",
    "    if reac not in model.exchanges and reac.id != \"biomass\":\n",
    "        if all(met.formula for met in reac.metabolites) and compute_mass_balance(reac):\n",
    "            print(f\"{reac.id}: {compute_mass_balance(reac)}\\t{reac.reaction}\")"
   ]
  },
  {
   "cell_type": "markdown",
   "id": "4f087f5c-e25f-4c49-883c-059eabd94f96",
   "metadata": {},
   "source": [
    "[MTHFR2](http://bigg.ucsd.edu/universal/reactions/MTHFR2) and MTHFR3 are missing a reactant proton."
   ]
  },
  {
   "cell_type": "code",
   "execution_count": 114,
   "id": "c7b33138-50da-4715-82fe-a7445a4ff0e6",
   "metadata": {
    "execution": {
     "iopub.execute_input": "2021-10-28T14:15:03.042462Z",
     "iopub.status.busy": "2021-10-28T14:15:03.041650Z",
     "iopub.status.idle": "2021-10-28T14:15:03.066705Z",
     "shell.execute_reply": "2021-10-28T14:15:03.065918Z",
     "shell.execute_reply.started": "2021-10-28T14:15:03.042371Z"
    },
    "tags": []
   },
   "outputs": [],
   "source": [
    "model.reactions.MTHFR3.add_metabolites({h_c: -1})\n",
    "assert not compute_mass_balance(model.reactions.MTHFR3)\n",
    "model.reactions.MTHFR2.add_metabolites({h_c: -1})\n",
    "assert not compute_mass_balance(model.reactions.MTHFR2)"
   ]
  },
  {
   "cell_type": "code",
   "execution_count": 117,
   "id": "33471d87-eee9-4e35-8946-01d09ae72a4b",
   "metadata": {
    "execution": {
     "iopub.execute_input": "2021-10-28T14:16:35.643956Z",
     "iopub.status.busy": "2021-10-28T14:16:35.643365Z",
     "iopub.status.idle": "2021-10-28T14:16:35.647503Z",
     "shell.execute_reply": "2021-10-28T14:16:35.646897Z",
     "shell.execute_reply.started": "2021-10-28T14:16:35.643913Z"
    },
    "tags": []
   },
   "outputs": [],
   "source": [
    "model.metabolites.get_by_id(\"f420-0[c]\").formula = \"C19H20N3O12P\""
   ]
  },
  {
   "cell_type": "code",
   "execution_count": 118,
   "id": "dcd1aa82-f9fc-4662-858b-16627f92a96a",
   "metadata": {
    "execution": {
     "iopub.execute_input": "2021-10-28T14:16:40.015941Z",
     "iopub.status.busy": "2021-10-28T14:16:40.015309Z",
     "iopub.status.idle": "2021-10-28T14:16:43.510176Z",
     "shell.execute_reply": "2021-10-28T14:16:43.509732Z",
     "shell.execute_reply.started": "2021-10-28T14:16:40.015845Z"
    },
    "tags": []
   },
   "outputs": [
    {
     "name": "stdout",
     "output_type": "stream",
     "text": [
      "GF4GL_3: {'H': -1.0}\tf420-3[c] + glu-L[c] + gtp[c] <=> f420-4[c] + gdp[c] + h[c] + pi[c]\n",
      "R00424: {'H': -1.0}\tgtp[c] + h2o[c] --> ahdt[c] + for[c]\n",
      "DHFS: {'H': -1.0}\tatp[c] + dhpt[c] + glu-L[c] <=> adp[c] + dhf[c] + h[c] + pi[c]\n",
      "FOLR2: {'H': -1.0}\tfol[c] + 2.0 h[c] + nadph[c] <=> dhf[c] + nadp[c]\n",
      "MTHFD2i: {'H': 1.0}\tmlthf[c] + nad[c] <=> h[c] + methf[c] + nadh[c]\n",
      "DHPCPH: {'H': -1.0}\tdhp23cp[c] + h2o[c] --> dhpmp[c] + h[c]\n",
      "H2MPTR: {'H': -1.0}\tf420-2h2[c] + h2mpt[c] --> f420-2[c] + h4mpt[c]\n"
     ]
    }
   ],
   "source": [
    "for reac in model.reactions:\n",
    "    if reac not in model.exchanges and reac.id != \"biomass\":\n",
    "        if all(met.formula for met in reac.metabolites) and compute_mass_balance(reac):\n",
    "            print(f\"{reac.id}: {compute_mass_balance(reac)}\\t{reac.reaction}\")"
   ]
  },
  {
   "cell_type": "code",
   "execution_count": 120,
   "id": "8d0f59a1-6eb4-4eb5-8d8c-ca4c71466fdd",
   "metadata": {
    "execution": {
     "iopub.execute_input": "2021-10-28T14:18:34.828239Z",
     "iopub.status.busy": "2021-10-28T14:18:34.827594Z",
     "iopub.status.idle": "2021-10-28T14:18:34.841335Z",
     "shell.execute_reply": "2021-10-28T14:18:34.838746Z",
     "shell.execute_reply.started": "2021-10-28T14:18:34.828166Z"
    },
    "tags": []
   },
   "outputs": [
    {
     "data": {
      "text/plain": [
       "'C39H43N7O24P'"
      ]
     },
     "execution_count": 120,
     "metadata": {},
     "output_type": "execute_result"
    }
   ],
   "source": [
    "model.metabolites.get_by_id(\"f420-4[c]\").formula"
   ]
  },
  {
   "cell_type": "code",
   "execution_count": 121,
   "id": "f0f78303-1055-4792-b81b-52b3643ac77e",
   "metadata": {
    "execution": {
     "iopub.execute_input": "2021-10-28T14:18:37.638774Z",
     "iopub.status.busy": "2021-10-28T14:18:37.638547Z",
     "iopub.status.idle": "2021-10-28T14:18:37.642069Z",
     "shell.execute_reply": "2021-10-28T14:18:37.641565Z",
     "shell.execute_reply.started": "2021-10-28T14:18:37.638749Z"
    },
    "tags": []
   },
   "outputs": [],
   "source": [
    "model.metabolites.get_by_id(\"f420-4[c]\").formula = \"C39H44N7O24P\""
   ]
  },
  {
   "cell_type": "markdown",
   "id": "8c215ff6-b335-4f88-a3b1-fe2e81cb57a2",
   "metadata": {},
   "source": [
    "[R00424](http://bigg.ucsd.edu/models/iJO1366/reactions/GTPCI) is missing a product proton (GTPCI is BiGG)."
   ]
  },
  {
   "cell_type": "code",
   "execution_count": 122,
   "id": "45bdd14a-7b20-41a0-b0e3-dec58f89885a",
   "metadata": {
    "execution": {
     "iopub.execute_input": "2021-10-28T14:21:09.808809Z",
     "iopub.status.busy": "2021-10-28T14:21:09.808488Z",
     "iopub.status.idle": "2021-10-28T14:21:09.823366Z",
     "shell.execute_reply": "2021-10-28T14:21:09.822649Z",
     "shell.execute_reply.started": "2021-10-28T14:21:09.808774Z"
    },
    "tags": []
   },
   "outputs": [],
   "source": [
    "model.reactions.R00424.add_metabolites({h_c: 1})\n",
    "assert not compute_mass_balance(model.reactions.R00424)"
   ]
  },
  {
   "cell_type": "markdown",
   "id": "799ec0fb-b32c-4d11-8c3f-7e5d0ddd96de",
   "metadata": {},
   "source": [
    "DHFS and FOLR2 seem fine, the common metabolite is [dhf[c]](http://bigg.ucsd.edu/universal/metabolites/dhf)"
   ]
  },
  {
   "cell_type": "code",
   "execution_count": 126,
   "id": "d5849e9c-c481-4280-9b4e-53895d0174ec",
   "metadata": {
    "execution": {
     "iopub.execute_input": "2021-10-28T14:24:14.123526Z",
     "iopub.status.busy": "2021-10-28T14:24:14.123296Z",
     "iopub.status.idle": "2021-10-28T14:24:14.128061Z",
     "shell.execute_reply": "2021-10-28T14:24:14.127539Z",
     "shell.execute_reply.started": "2021-10-28T14:24:14.123502Z"
    },
    "tags": []
   },
   "outputs": [
    {
     "data": {
      "text/plain": [
       "False"
      ]
     },
     "execution_count": 126,
     "metadata": {},
     "output_type": "execute_result"
    }
   ],
   "source": [
    "model.metabolites.get_by_id(\"dhpt[c]\").formula == \"C14H13N6O3\""
   ]
  },
  {
   "cell_type": "code",
   "execution_count": 128,
   "id": "f09aa4f4-7e31-406e-85df-c85672b26620",
   "metadata": {
    "execution": {
     "iopub.execute_input": "2021-10-28T14:24:25.080439Z",
     "iopub.status.busy": "2021-10-28T14:24:25.080094Z",
     "iopub.status.idle": "2021-10-28T14:24:25.084974Z",
     "shell.execute_reply": "2021-10-28T14:24:25.084216Z",
     "shell.execute_reply.started": "2021-10-28T14:24:25.080401Z"
    },
    "tags": []
   },
   "outputs": [],
   "source": [
    "model.metabolites.get_by_id(\"dhpt[c]\").formula = \"C14H13N6O3\""
   ]
  },
  {
   "cell_type": "code",
   "execution_count": 129,
   "id": "a170ccfb-b127-416f-ac6d-358ba093780a",
   "metadata": {
    "execution": {
     "iopub.execute_input": "2021-10-28T14:24:36.770382Z",
     "iopub.status.busy": "2021-10-28T14:24:36.769574Z",
     "iopub.status.idle": "2021-10-28T14:24:40.098111Z",
     "shell.execute_reply": "2021-10-28T14:24:40.097733Z",
     "shell.execute_reply.started": "2021-10-28T14:24:36.770302Z"
    },
    "tags": []
   },
   "outputs": [
    {
     "name": "stdout",
     "output_type": "stream",
     "text": [
      "GF4GL_4: {'H': -1.0}\tf420-4[c] + glu-L[c] + gtp[c] <=> f420-5[c] + gdp[c] + h[c] + pi[c]\n",
      "DHPS2: {'H': -1.0}\t4abz[c] + 6hmhptpp[c] + h[c] <=> dhpt[c] + ppi[c]\n",
      "FOLR2: {'H': -1.0}\tfol[c] + 2.0 h[c] + nadph[c] <=> dhf[c] + nadp[c]\n",
      "MTHFD2i: {'H': 1.0}\tmlthf[c] + nad[c] <=> h[c] + methf[c] + nadh[c]\n",
      "DHPCPH: {'H': -1.0}\tdhp23cp[c] + h2o[c] --> dhpmp[c] + h[c]\n",
      "H2MPTR: {'H': -1.0}\tf420-2h2[c] + h2mpt[c] --> f420-2[c] + h4mpt[c]\n"
     ]
    }
   ],
   "source": [
    "for reac in model.reactions:\n",
    "    if reac not in model.exchanges and reac.id != \"biomass\":\n",
    "        if all(met.formula for met in reac.metabolites) and compute_mass_balance(reac):\n",
    "            print(f\"{reac.id}: {compute_mass_balance(reac)}\\t{reac.reaction}\")"
   ]
  },
  {
   "cell_type": "code",
   "execution_count": null,
   "id": "5ac74ba6-dc4b-4a43-aaec-2bc9a01353fd",
   "metadata": {
    "execution": {
     "iopub.execute_input": "2021-10-28T14:25:50.848884Z",
     "iopub.status.busy": "2021-10-28T14:25:50.848148Z",
     "iopub.status.idle": "2021-10-28T14:25:50.872533Z",
     "shell.execute_reply": "2021-10-28T14:25:50.871270Z",
     "shell.execute_reply.started": "2021-10-28T14:25:50.848798Z"
    },
    "tags": []
   },
   "outputs": [],
   "source": [
    "# http://bigg.ucsd.edu/universal/reactions/DHPS2\n",
    "model.reactions.DHPS2.add_metabolites({h_c: 1})\n",
    "assert not compute_mass_balance(model.reactions.DHPS2)"
   ]
  },
  {
   "cell_type": "code",
   "execution_count": 131,
   "id": "03d7f65e-4018-4f3a-a5fb-93a8f2ea73d2",
   "metadata": {
    "execution": {
     "iopub.execute_input": "2021-10-28T14:26:47.113962Z",
     "iopub.status.busy": "2021-10-28T14:26:47.113673Z",
     "iopub.status.idle": "2021-10-28T14:26:47.118597Z",
     "shell.execute_reply": "2021-10-28T14:26:47.117943Z",
     "shell.execute_reply.started": "2021-10-28T14:26:47.113936Z"
    },
    "tags": []
   },
   "outputs": [
    {
     "data": {
      "text/plain": [
       "'C19H17N7O6'"
      ]
     },
     "execution_count": 131,
     "metadata": {},
     "output_type": "execute_result"
    }
   ],
   "source": [
    "model.metabolites.get_by_id(\"fol[c]\").formula"
   ]
  },
  {
   "cell_type": "code",
   "execution_count": 132,
   "id": "2accf119-c0d9-4d90-8a22-71afaa81a213",
   "metadata": {
    "execution": {
     "iopub.execute_input": "2021-10-28T14:27:44.994391Z",
     "iopub.status.busy": "2021-10-28T14:27:44.992684Z",
     "iopub.status.idle": "2021-10-28T14:27:45.005126Z",
     "shell.execute_reply": "2021-10-28T14:27:45.004177Z",
     "shell.execute_reply.started": "2021-10-28T14:27:44.994282Z"
    },
    "tags": []
   },
   "outputs": [
    {
     "data": {
      "text/plain": [
       "'C19H19N7O6'"
      ]
     },
     "execution_count": 132,
     "metadata": {},
     "output_type": "execute_result"
    }
   ],
   "source": [
    "model.metabolites.get_by_id(\"dhf[c]\").formula"
   ]
  },
  {
   "cell_type": "markdown",
   "id": "f8366441-f4d4-41c3-953e-142edd897188",
   "metadata": {},
   "source": [
    "[MTHFD2i](http://bigg.ucsd.edu/universal/reactions/MTHFD2i) has one extra proton."
   ]
  },
  {
   "cell_type": "code",
   "execution_count": 134,
   "id": "c7b952f5-ce74-428c-97c4-1da68cb04b6b",
   "metadata": {
    "execution": {
     "iopub.execute_input": "2021-10-28T14:29:21.028820Z",
     "iopub.status.busy": "2021-10-28T14:29:21.028495Z",
     "iopub.status.idle": "2021-10-28T14:29:21.041104Z",
     "shell.execute_reply": "2021-10-28T14:29:21.040278Z",
     "shell.execute_reply.started": "2021-10-28T14:29:21.028783Z"
    },
    "tags": []
   },
   "outputs": [],
   "source": [
    "# http://bigg.ucsd.edu/universal/reactions/DHPS2\n",
    "model.reactions.MTHFD2i.add_metabolites({h_c: -1})\n",
    "assert not compute_mass_balance(model.reactions.MTHFD2i)"
   ]
  },
  {
   "cell_type": "code",
   "execution_count": 135,
   "id": "b8107d4c-084d-46f7-82b4-c0725d8db0b5",
   "metadata": {
    "execution": {
     "iopub.execute_input": "2021-10-28T14:29:39.162126Z",
     "iopub.status.busy": "2021-10-28T14:29:39.160384Z",
     "iopub.status.idle": "2021-10-28T14:29:42.429021Z",
     "shell.execute_reply": "2021-10-28T14:29:42.428561Z",
     "shell.execute_reply.started": "2021-10-28T14:29:39.162019Z"
    },
    "tags": []
   },
   "outputs": [
    {
     "name": "stdout",
     "output_type": "stream",
     "text": [
      "GF4GL_4: {'H': -1.0}\tf420-4[c] + glu-L[c] + gtp[c] <=> f420-5[c] + gdp[c] + h[c] + pi[c]\n",
      "FOLR2: {'H': -1.0}\tfol[c] + 2.0 h[c] + nadph[c] <=> dhf[c] + nadp[c]\n",
      "DHPCPH: {'H': -1.0}\tdhp23cp[c] + h2o[c] --> dhpmp[c] + h[c]\n",
      "H2MPTR: {'H': -1.0}\tf420-2h2[c] + h2mpt[c] --> f420-2[c] + h4mpt[c]\n"
     ]
    }
   ],
   "source": [
    "for reac in model.reactions:\n",
    "    if reac not in model.exchanges and reac.id != \"biomass\":\n",
    "        if all(met.formula for met in reac.metabolites) and compute_mass_balance(reac):\n",
    "            print(f\"{reac.id}: {compute_mass_balance(reac)}\\t{reac.reaction}\")"
   ]
  },
  {
   "cell_type": "code",
   "execution_count": 138,
   "id": "4fcf8b76-2c9e-4c7d-9f6c-58e72e4fa3b7",
   "metadata": {
    "execution": {
     "iopub.execute_input": "2021-10-28T14:32:37.799117Z",
     "iopub.status.busy": "2021-10-28T14:32:37.798483Z",
     "iopub.status.idle": "2021-10-28T14:32:37.809996Z",
     "shell.execute_reply": "2021-10-28T14:32:37.809387Z",
     "shell.execute_reply.started": "2021-10-28T14:32:37.799044Z"
    },
    "tags": []
   },
   "outputs": [],
   "source": [
    "model.reactions.FOLR2.add_metabolites({h_c: 1})\n",
    "assert not compute_mass_balance(model.reactions.FOLR2)"
   ]
  },
  {
   "cell_type": "code",
   "execution_count": 139,
   "id": "8e694911-fb1f-4260-bbd7-592244821e99",
   "metadata": {
    "execution": {
     "iopub.execute_input": "2021-10-28T14:32:38.966585Z",
     "iopub.status.busy": "2021-10-28T14:32:38.965560Z",
     "iopub.status.idle": "2021-10-28T14:32:39.790346Z",
     "shell.execute_reply": "2021-10-28T14:32:39.789933Z",
     "shell.execute_reply.started": "2021-10-28T14:32:38.966530Z"
    },
    "tags": []
   },
   "outputs": [
    {
     "data": {
      "text/plain": [
       "False"
      ]
     },
     "execution_count": 139,
     "metadata": {},
     "output_type": "execute_result"
    }
   ],
   "source": [
    "check_stoichiometric_consistency(model)"
   ]
  },
  {
   "cell_type": "code",
   "execution_count": 140,
   "id": "3193c696-db1d-490c-85e3-9d0d8acb3bd2",
   "metadata": {
    "execution": {
     "iopub.execute_input": "2021-10-28T14:32:44.196520Z",
     "iopub.status.busy": "2021-10-28T14:32:44.195899Z",
     "iopub.status.idle": "2021-10-28T14:32:47.411910Z",
     "shell.execute_reply": "2021-10-28T14:32:47.411510Z",
     "shell.execute_reply.started": "2021-10-28T14:32:44.196446Z"
    },
    "tags": []
   },
   "outputs": [
    {
     "name": "stdout",
     "output_type": "stream",
     "text": [
      "GF4GL_4: {'H': -1.0}\tf420-4[c] + glu-L[c] + gtp[c] <=> f420-5[c] + gdp[c] + h[c] + pi[c]\n",
      "DHPCPH: {'H': -1.0}\tdhp23cp[c] + h2o[c] --> dhpmp[c] + h[c]\n",
      "H2MPTR: {'H': -1.0}\tf420-2h2[c] + h2mpt[c] --> f420-2[c] + h4mpt[c]\n"
     ]
    }
   ],
   "source": [
    "for reac in model.reactions:\n",
    "    if reac not in model.exchanges and reac.id != \"biomass\":\n",
    "        if all(met.formula for met in reac.metabolites) and compute_mass_balance(reac):\n",
    "            print(f\"{reac.id}: {compute_mass_balance(reac)}\\t{reac.reaction}\")"
   ]
  },
  {
   "cell_type": "code",
   "execution_count": 143,
   "id": "2e5547c6-5346-48ed-b27b-447284f01d2b",
   "metadata": {
    "execution": {
     "iopub.execute_input": "2021-10-28T14:36:06.165247Z",
     "iopub.status.busy": "2021-10-28T14:36:06.164317Z",
     "iopub.status.idle": "2021-10-28T14:36:06.177182Z",
     "shell.execute_reply": "2021-10-28T14:36:06.176411Z",
     "shell.execute_reply.started": "2021-10-28T14:36:06.165202Z"
    },
    "tags": []
   },
   "outputs": [],
   "source": [
    "model.reactions.SULR2.add_metabolites({h_c: -3})"
   ]
  },
  {
   "cell_type": "code",
   "execution_count": 144,
   "id": "75b15c8b-f6be-479a-9e5b-44b0143576b8",
   "metadata": {
    "execution": {
     "iopub.execute_input": "2021-10-28T14:36:12.297749Z",
     "iopub.status.busy": "2021-10-28T14:36:12.296835Z",
     "iopub.status.idle": "2021-10-28T14:36:13.134267Z",
     "shell.execute_reply": "2021-10-28T14:36:13.133439Z",
     "shell.execute_reply.started": "2021-10-28T14:36:12.297640Z"
    },
    "tags": []
   },
   "outputs": [
    {
     "data": {
      "text/plain": [
       "False"
      ]
     },
     "execution_count": 144,
     "metadata": {},
     "output_type": "execute_result"
    }
   ],
   "source": [
    "check_stoichiometric_consistency(model)"
   ]
  },
  {
   "cell_type": "code",
   "execution_count": 147,
   "id": "cb0fc5af-8e66-4810-a8df-37a2fc1dbc2f",
   "metadata": {
    "execution": {
     "iopub.execute_input": "2021-10-28T14:36:42.830048Z",
     "iopub.status.busy": "2021-10-28T14:36:42.828405Z",
     "iopub.status.idle": "2021-10-28T14:36:42.843966Z",
     "shell.execute_reply": "2021-10-28T14:36:42.841310Z",
     "shell.execute_reply.started": "2021-10-28T14:36:42.829955Z"
    },
    "tags": []
   },
   "outputs": [
    {
     "data": {
      "text/html": [
       "\n",
       "        <table>\n",
       "            <tr>\n",
       "                <td><strong>Reaction identifier</strong></td><td>SULR2</td>\n",
       "            </tr><tr>\n",
       "                <td><strong>Name</strong></td><td>Sulfite reductase</td>\n",
       "            </tr><tr>\n",
       "                <td><strong>Memory address</strong></td>\n",
       "                <td>0x07fccb02d0ee0</td>\n",
       "            </tr><tr>\n",
       "                <td><strong>Stoichiometry</strong></td>\n",
       "                <td>\n",
       "                    <p style='text-align:right'>3.0 f420-2h2[c] + 5.0 h[c] + so3[c] <=> 3.0 f420-2[c] + 3.0 h2o[c] + h2s[c]</p>\n",
       "                    <p style='text-align:right'>3.0 coenzyme ferredoxin 420-2 (reduced) + 5.0 H+ + Sulfite <=> 3.0 coenzyme ferredoxin 420-2 (oxidized) + 3.0 H2O + Hydrogen sulfide</p>\n",
       "                </td>\n",
       "            </tr><tr>\n",
       "                <td><strong>GPR</strong></td><td>ANME2D_RS14395</td>\n",
       "            </tr><tr>\n",
       "                <td><strong>Lower bound</strong></td><td>-1000.0</td>\n",
       "            </tr><tr>\n",
       "                <td><strong>Upper bound</strong></td><td>1000.0</td>\n",
       "            </tr>\n",
       "        </table>\n",
       "        "
      ],
      "text/plain": [
       "<Reaction SULR2 at 0x7fccb02d0ee0>"
      ]
     },
     "execution_count": 147,
     "metadata": {},
     "output_type": "execute_result"
    }
   ],
   "source": [
    "model.reactions.SULR2"
   ]
  },
  {
   "cell_type": "code",
   "execution_count": 153,
   "id": "39f2fb5c-6a8a-4f50-8e11-3e6166577f16",
   "metadata": {
    "execution": {
     "iopub.execute_input": "2021-10-28T14:39:06.164606Z",
     "iopub.status.busy": "2021-10-28T14:39:06.164279Z",
     "iopub.status.idle": "2021-10-28T14:39:06.988890Z",
     "shell.execute_reply": "2021-10-28T14:39:06.988536Z",
     "shell.execute_reply.started": "2021-10-28T14:39:06.164568Z"
    },
    "tags": []
   },
   "outputs": [
    {
     "data": {
      "text/plain": [
       "False"
      ]
     },
     "execution_count": 153,
     "metadata": {},
     "output_type": "execute_result"
    }
   ],
   "source": [
    "check_stoichiometric_consistency(model)"
   ]
  },
  {
   "cell_type": "code",
   "execution_count": 159,
   "id": "2e92a173-8522-48d3-b578-a343d53b23cf",
   "metadata": {
    "execution": {
     "iopub.execute_input": "2021-10-28T14:41:04.909180Z",
     "iopub.status.busy": "2021-10-28T14:41:04.908720Z",
     "iopub.status.idle": "2021-10-28T14:41:04.913698Z",
     "shell.execute_reply": "2021-10-28T14:41:04.913071Z",
     "shell.execute_reply.started": "2021-10-28T14:41:04.909127Z"
    },
    "tags": []
   },
   "outputs": [],
   "source": [
    "model.metabolites.get_by_id(\"dhpmp[c]\").formula = \"C9H12N5O7P\""
   ]
  },
  {
   "cell_type": "code",
   "execution_count": 160,
   "id": "0b711a7b-31fd-4575-8b85-021a97d13280",
   "metadata": {
    "execution": {
     "iopub.execute_input": "2021-10-28T14:41:06.301238Z",
     "iopub.status.busy": "2021-10-28T14:41:06.301015Z",
     "iopub.status.idle": "2021-10-28T14:41:09.316774Z",
     "shell.execute_reply": "2021-10-28T14:41:09.316361Z",
     "shell.execute_reply.started": "2021-10-28T14:41:06.301214Z"
    },
    "tags": []
   },
   "outputs": [
    {
     "name": "stdout",
     "output_type": "stream",
     "text": [
      "GF4GL_4: {'H': -1.0}\tf420-4[c] + glu-L[c] + gtp[c] <=> f420-5[c] + gdp[c] + h[c] + pi[c]\n",
      "DHPCPH: {'H': -1.0}\tdhp23cp[c] + h2o[c] --> dhpmp[c] + h[c]\n",
      "H2MPTR: {'H': -1.0}\tf420-2h2[c] + h2mpt[c] --> f420-2[c] + h4mpt[c]\n"
     ]
    }
   ],
   "source": [
    "for reac in model.reactions:\n",
    "    if reac not in model.exchanges and reac.id != \"biomass\":\n",
    "        if all(met.formula for met in reac.metabolites) and compute_mass_balance(reac):\n",
    "            print(f\"{reac.id}: {compute_mass_balance(reac)}\\t{reac.reaction}\")"
   ]
  },
  {
   "cell_type": "code",
   "execution_count": 161,
   "id": "89ecb4b5-cd3c-4b60-9bda-3cea7e27b592",
   "metadata": {
    "execution": {
     "iopub.execute_input": "2021-10-28T14:41:30.482958Z",
     "iopub.status.busy": "2021-10-28T14:41:30.482539Z",
     "iopub.status.idle": "2021-10-28T14:41:30.489381Z",
     "shell.execute_reply": "2021-10-28T14:41:30.488824Z",
     "shell.execute_reply.started": "2021-10-28T14:41:30.482909Z"
    },
    "tags": []
   },
   "outputs": [
    {
     "data": {
      "text/plain": [
       "{'C': -39.65290700000082,\n",
       " 'H': -192.02026500000102,\n",
       " 'N': -10.650373000000172,\n",
       " 'O': -78.17350899999951,\n",
       " 'P': -0.36960299999987,\n",
       " 'S': -0.306762,\n",
       " 'Ni': -0.002005,\n",
       " 'Co': -0.004713}"
      ]
     },
     "execution_count": 161,
     "metadata": {},
     "output_type": "execute_result"
    }
   ],
   "source": [
    "compute_mass_balance(model.reactions.biomass)"
   ]
  },
  {
   "cell_type": "code",
   "execution_count": 163,
   "id": "24e45741-68d5-4d9f-905e-c37242a6b832",
   "metadata": {
    "execution": {
     "iopub.execute_input": "2021-10-28T14:41:56.707306Z",
     "iopub.status.busy": "2021-10-28T14:41:56.706537Z",
     "iopub.status.idle": "2021-10-28T14:41:56.712409Z",
     "shell.execute_reply": "2021-10-28T14:41:56.711718Z",
     "shell.execute_reply.started": "2021-10-28T14:41:56.707270Z"
    },
    "tags": []
   },
   "outputs": [
    {
     "data": {
      "text/plain": [
       "'0.002664 3hdpgpe[c] + 0.009966 3hdpgpg[c] + 0.013321 3hdpgpi[c] + 0.011347 3hdpgps[c] + 0.0001 accoa[c] + 0.004713 adocblhbi[c] + 0.55464 ala-L[c] + 0.000987 amp[c] + 0.3194 arg-L[c] + 0.2603 asn-L[c] + 0.2603 asp-L[c] + 169.0 atp[c] + 6e-06 coa[c] + 0.000501 cob[c] + 0.020656 com[c] + 0.13607 ctp[c] + 0.09887 cys-L[c] + 0.032661 datp[c] + 0.021215 dctp[c] + 0.021215 dgtp[c] + 0.000691 dpgpe[c] + 0.000691 dpgpg[c] + 0.002664 dpgpi[c] + 0.001283 dpgps[c] + 0.032661 dttp[c] + 5e-06 f390a[c] + 5e-06 f390g[c] + 4e-05 f420-2[c] + 3e-05 f420-3[c] + 0.000401 f420-4[c] + 0.000301 f420-5[c] + 1e-05 f420-6[c] + 1e-06 f420-7[c] + 0.002005 f430[c] + 0.00058 galactan[c] + 0.031965 gdpgpi[c] + 0.28418 gln-L[c] + 0.28418 glu-L[c] + 0.6615 gly[c] + 0.21925 gtp[c] + 228.2249 h2o[c] + 0.023664 h4mpt[c] + 0.10232 his-L[c] + 0.004638 hspmd[c] + 0.31368 ile-L[c] + 0.48646 leu-L[c] + 0.37052 lys-L[c] + 0.16597 met-L[c] + 0.02 mfr_b[c] + 0.0022 nad[c] + 0.0001 nadh[c] + 0.0001 nadp[c] + 0.0004 nadph[c] + 0.20001 phe-L[c] + 0.02484 polyacgal[c] + 0.01592 polyglcur[c] + 0.23869 pro-L[c] + 0.02585 ptrc[c] + 0.23297 ser-L[c] + 3e-06 succoa[c] + 0.0001 thf[c] + 0.27392 thr-L[c] + 0.06137 trp-L[c] + 0.14889 tyr-L[c] + 0.14692 utp[c] + 0.45695 val-L[c] --> 168.99803 adp[c] + 169.0 h[c] + 169.0 pi[c] + 0.788 ppi[c]'"
      ]
     },
     "execution_count": 163,
     "metadata": {},
     "output_type": "execute_result"
    }
   ],
   "source": [
    "model.reactions.biomass.reaction"
   ]
  }
 ],
 "metadata": {
  "kernelspec": {
   "display_name": "memote",
   "language": "python",
   "name": "memote"
  },
  "language_info": {
   "codemirror_mode": {
    "name": "ipython",
    "version": 3
   },
   "file_extension": ".py",
   "mimetype": "text/x-python",
   "name": "python",
   "nbconvert_exporter": "python",
   "pygments_lexer": "ipython3",
   "version": "3.9.7"
  }
 },
 "nbformat": 4,
 "nbformat_minor": 5
}
