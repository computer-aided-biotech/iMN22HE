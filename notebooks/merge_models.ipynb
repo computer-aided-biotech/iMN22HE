{
 "cells": [
  {
   "cell_type": "markdown",
   "id": "3ce25752-e77a-4f37-b6eb-2a8da07a10c5",
   "metadata": {},
   "source": [
    "# Merge models\n",
    "\n",
    "The model was improved in terms of stoichometric, mass and change balance, but it is lacking the previous annotations."
   ]
  },
  {
   "cell_type": "code",
   "execution_count": 1,
   "id": "ed4d79de-2b5f-4ec7-b002-b0231a5bef0e",
   "metadata": {
    "execution": {
     "iopub.execute_input": "2021-11-17T08:35:05.344892Z",
     "iopub.status.busy": "2021-11-17T08:35:05.344596Z",
     "iopub.status.idle": "2021-11-17T08:35:06.133609Z",
     "shell.execute_reply": "2021-11-17T08:35:06.133150Z",
     "shell.execute_reply.started": "2021-11-17T08:35:05.344810Z"
    },
    "tags": []
   },
   "outputs": [],
   "source": [
    "from pathlib import Path\n",
    "\n",
    "import cobra"
   ]
  },
  {
   "cell_type": "code",
   "execution_count": 2,
   "id": "3a5ba389-fef2-414d-8327-d8ce11b52d20",
   "metadata": {
    "execution": {
     "iopub.execute_input": "2021-11-17T08:35:06.134415Z",
     "iopub.status.busy": "2021-11-17T08:35:06.134295Z",
     "iopub.status.idle": "2021-11-17T08:35:06.137290Z",
     "shell.execute_reply": "2021-11-17T08:35:06.136738Z",
     "shell.execute_reply.started": "2021-11-17T08:35:06.134400Z"
    }
   },
   "outputs": [],
   "source": [
    "ROOT = Path.cwd().parent\n",
    "model_file = str(ROOT / \"iMN22HE.xml\")\n",
    "new_model_file = str(ROOT / \"M.nitroreducensGEM.xml\")"
   ]
  },
  {
   "cell_type": "code",
   "execution_count": 4,
   "id": "ad298fab-8fb9-46a1-827a-98a08ac107d2",
   "metadata": {
    "execution": {
     "iopub.execute_input": "2021-11-17T08:35:39.584830Z",
     "iopub.status.busy": "2021-11-17T08:35:39.584357Z",
     "iopub.status.idle": "2021-11-17T08:35:41.342008Z",
     "shell.execute_reply": "2021-11-17T08:35:41.341441Z",
     "shell.execute_reply.started": "2021-11-17T08:35:39.584776Z"
    },
    "tags": []
   },
   "outputs": [],
   "source": [
    "# model at HEAD\n",
    "model = cobra.io.read_sbml_model(model_file)\n",
    "# 100% consistency new model\n",
    "new_model = cobra.io.read_sbml_model(new_model_file)"
   ]
  },
  {
   "cell_type": "markdown",
   "id": "26ffc709-302c-4023-afdc-6453f69b08b7",
   "metadata": {},
   "source": [
    "The `new_model` is at the starting point (first commit) annotation-wise."
   ]
  },
  {
   "cell_type": "code",
   "execution_count": 5,
   "id": "0bf64a4b-40ba-4ec4-ac0e-3a15af226443",
   "metadata": {
    "execution": {
     "iopub.execute_input": "2021-11-17T08:35:55.818223Z",
     "iopub.status.busy": "2021-11-17T08:35:55.817578Z",
     "iopub.status.idle": "2021-11-17T08:35:55.837624Z",
     "shell.execute_reply": "2021-11-17T08:35:55.836790Z",
     "shell.execute_reply.started": "2021-11-17T08:35:55.818150Z"
    },
    "tags": []
   },
   "outputs": [
    {
     "data": {
      "text/plain": [
       "set()"
      ]
     },
     "execution_count": 5,
     "metadata": {},
     "output_type": "execute_result"
    }
   ],
   "source": [
    "{k for reac in new_model.reactions for k in reac.annotation}"
   ]
  },
  {
   "cell_type": "code",
   "execution_count": 6,
   "id": "a8ad3605-a9cc-4b1f-8b4b-0c4c0ee38636",
   "metadata": {
    "execution": {
     "iopub.execute_input": "2021-11-17T08:36:19.974761Z",
     "iopub.status.busy": "2021-11-17T08:36:19.974520Z",
     "iopub.status.idle": "2021-11-17T08:36:19.979957Z",
     "shell.execute_reply": "2021-11-17T08:36:19.979180Z",
     "shell.execute_reply.started": "2021-11-17T08:36:19.974735Z"
    },
    "tags": []
   },
   "outputs": [
    {
     "data": {
      "text/plain": [
       "set()"
      ]
     },
     "execution_count": 6,
     "metadata": {},
     "output_type": "execute_result"
    }
   ],
   "source": [
    "{k for gene in new_model.genes for k in gene.annotation}"
   ]
  },
  {
   "cell_type": "code",
   "execution_count": 7,
   "id": "c3963635-f97a-4078-a8d6-01a3e8951ce6",
   "metadata": {
    "execution": {
     "iopub.execute_input": "2021-11-17T08:36:38.714678Z",
     "iopub.status.busy": "2021-11-17T08:36:38.713882Z",
     "iopub.status.idle": "2021-11-17T08:36:38.720638Z",
     "shell.execute_reply": "2021-11-17T08:36:38.719862Z",
     "shell.execute_reply.started": "2021-11-17T08:36:38.714651Z"
    },
    "tags": []
   },
   "outputs": [
    {
     "data": {
      "text/plain": [
       "{'kegg.compound'}"
      ]
     },
     "execution_count": 7,
     "metadata": {},
     "output_type": "execute_result"
    }
   ],
   "source": [
    "{k for metabolite in new_model.metabolites for k in metabolite.annotation}"
   ]
  },
  {
   "cell_type": "markdown",
   "id": "e3bc982e-1c3e-48e0-af89-e24baf9bb9cc",
   "metadata": {},
   "source": [
    "### Check the identifiers between the two models"
   ]
  },
  {
   "cell_type": "code",
   "execution_count": 9,
   "id": "c60df50d-d912-4731-8884-420a349a97d4",
   "metadata": {
    "execution": {
     "iopub.execute_input": "2021-11-17T08:40:35.407245Z",
     "iopub.status.busy": "2021-11-17T08:40:35.406425Z",
     "iopub.status.idle": "2021-11-17T08:40:35.418455Z",
     "shell.execute_reply": "2021-11-17T08:40:35.417072Z",
     "shell.execute_reply.started": "2021-11-17T08:40:35.407168Z"
    },
    "tags": []
   },
   "outputs": [
    {
     "data": {
      "text/plain": [
       "True"
      ]
     },
     "execution_count": 9,
     "metadata": {},
     "output_type": "execute_result"
    }
   ],
   "source": [
    "len(model.reactions) == len(new_model.reactions)"
   ]
  },
  {
   "cell_type": "markdown",
   "id": "7ddc3ece-54bd-4a7d-beda-d886e8cbada6",
   "metadata": {},
   "source": [
    "Let's check if the identifiers are the same, with the symmetric difference."
   ]
  },
  {
   "cell_type": "code",
   "execution_count": 10,
   "id": "0405555f-79a3-4d80-89ed-aa894ee97d31",
   "metadata": {
    "execution": {
     "iopub.execute_input": "2021-11-17T08:41:38.003016Z",
     "iopub.status.busy": "2021-11-17T08:41:38.002768Z",
     "iopub.status.idle": "2021-11-17T08:41:38.009532Z",
     "shell.execute_reply": "2021-11-17T08:41:38.008856Z",
     "shell.execute_reply.started": "2021-11-17T08:41:38.002991Z"
    },
    "tags": []
   },
   "outputs": [
    {
     "data": {
      "text/plain": [
       "{'ASPO2',\n",
       " 'ASPO2x',\n",
       " 'GHMT2',\n",
       " 'GHMT2r',\n",
       " 'GTPCI',\n",
       " 'PEP_guanylytransferase',\n",
       " 'R00424',\n",
       " 'R12646'}"
      ]
     },
     "execution_count": 10,
     "metadata": {},
     "output_type": "execute_result"
    }
   ],
   "source": [
    "{r.id for r in model.reactions} ^ {r.id for r in new_model.reactions}"
   ]
  },
  {
   "cell_type": "code",
   "execution_count": 13,
   "id": "e875f1f9-81c6-415a-8a8e-41cf1c673593",
   "metadata": {
    "execution": {
     "iopub.execute_input": "2021-11-17T08:44:04.713264Z",
     "iopub.status.busy": "2021-11-17T08:44:04.712962Z",
     "iopub.status.idle": "2021-11-17T08:44:04.718036Z",
     "shell.execute_reply": "2021-11-17T08:44:04.717304Z",
     "shell.execute_reply.started": "2021-11-17T08:44:04.713239Z"
    },
    "tags": []
   },
   "outputs": [],
   "source": [
    "reac_ids_to_change = {r.id for r in model.reactions} - {r.id for r in new_model.reactions}"
   ]
  },
  {
   "cell_type": "code",
   "execution_count": 14,
   "id": "1675755d-5614-40a3-8d38-d86d379bce44",
   "metadata": {
    "execution": {
     "iopub.execute_input": "2021-11-17T08:44:05.342744Z",
     "iopub.status.busy": "2021-11-17T08:44:05.342200Z",
     "iopub.status.idle": "2021-11-17T08:44:05.349074Z",
     "shell.execute_reply": "2021-11-17T08:44:05.348146Z",
     "shell.execute_reply.started": "2021-11-17T08:44:05.342699Z"
    },
    "tags": []
   },
   "outputs": [],
   "source": [
    "reac_ids_new = {r.id for r in new_model.reactions} - {r.id for r in model.reactions}"
   ]
  },
  {
   "cell_type": "markdown",
   "id": "78ce056c-4ed6-4c16-a789-4fa040328be8",
   "metadata": {},
   "source": [
    "Four identifiers were changed in the reactions."
   ]
  },
  {
   "cell_type": "code",
   "execution_count": 15,
   "id": "6f261997-a951-487b-a966-e9b2e09ac651",
   "metadata": {
    "execution": {
     "iopub.execute_input": "2021-11-17T08:44:46.400927Z",
     "iopub.status.busy": "2021-11-17T08:44:46.400724Z",
     "iopub.status.idle": "2021-11-17T08:44:46.404118Z",
     "shell.execute_reply": "2021-11-17T08:44:46.403558Z",
     "shell.execute_reply.started": "2021-11-17T08:44:46.400906Z"
    },
    "tags": []
   },
   "outputs": [],
   "source": [
    "reac_renamed = {k: v for k, v in zip(reac_ids_to_change, reac_ids_new)}"
   ]
  },
  {
   "cell_type": "code",
   "execution_count": 16,
   "id": "9ff84126-d553-42dc-a169-be691a639552",
   "metadata": {
    "execution": {
     "iopub.execute_input": "2021-11-17T08:44:49.457540Z",
     "iopub.status.busy": "2021-11-17T08:44:49.456755Z",
     "iopub.status.idle": "2021-11-17T08:44:49.472519Z",
     "shell.execute_reply": "2021-11-17T08:44:49.469420Z",
     "shell.execute_reply.started": "2021-11-17T08:44:49.457449Z"
    },
    "tags": []
   },
   "outputs": [
    {
     "data": {
      "text/plain": [
       "{'ASPO2x': 'ASPO2',\n",
       " 'R00424': 'GTPCI',\n",
       " 'PEP_guanylytransferase': 'GHMT2r',\n",
       " 'GHMT2': 'R12646'}"
      ]
     },
     "execution_count": 16,
     "metadata": {},
     "output_type": "execute_result"
    }
   ],
   "source": [
    "reac_renamed"
   ]
  },
  {
   "cell_type": "markdown",
   "id": "72cbad05-b285-4bd7-831a-178dc18412a4",
   "metadata": {},
   "source": [
    "First, change them in the previous model, to facilitate the annotation."
   ]
  },
  {
   "cell_type": "code",
   "execution_count": 19,
   "id": "bd8761e3-58c5-44e6-ae83-deedb3192011",
   "metadata": {
    "execution": {
     "iopub.execute_input": "2021-11-17T08:50:03.410408Z",
     "iopub.status.busy": "2021-11-17T08:50:03.409948Z",
     "iopub.status.idle": "2021-11-17T08:50:03.416907Z",
     "shell.execute_reply": "2021-11-17T08:50:03.416196Z",
     "shell.execute_reply.started": "2021-11-17T08:50:03.410359Z"
    },
    "tags": []
   },
   "outputs": [],
   "source": [
    "for new_id, reac_id in reac_renamed.items():\n",
    "    model.reactions.get_by_id(new_id).id = reac_id"
   ]
  },
  {
   "cell_type": "markdown",
   "id": "44b1a9d8-d281-4ad6-84f1-a3e300c6de0d",
   "metadata": {},
   "source": [
    "Same with genes and metabolites."
   ]
  },
  {
   "cell_type": "code",
   "execution_count": 20,
   "id": "021aec8f-14d8-4c6f-968e-3d8cd2a7d75a",
   "metadata": {
    "execution": {
     "iopub.execute_input": "2021-11-17T08:51:53.884602Z",
     "iopub.status.busy": "2021-11-17T08:51:53.883938Z",
     "iopub.status.idle": "2021-11-17T08:51:53.900981Z",
     "shell.execute_reply": "2021-11-17T08:51:53.898781Z",
     "shell.execute_reply.started": "2021-11-17T08:51:53.884524Z"
    },
    "tags": []
   },
   "outputs": [
    {
     "name": "stdout",
     "output_type": "stream",
     "text": [
      "ΔGenes -> set()\n",
      "ΔMets -> set()\n"
     ]
    }
   ],
   "source": [
    "print(f\"ΔGenes -> { {g.id for g in model.genes} ^ {g.id for g in new_model.genes} }\")\n",
    "print(f\"ΔMets -> { {m.id for m in model.metabolites} ^ {m.id for m in new_model.metabolites} }\")"
   ]
  },
  {
   "cell_type": "markdown",
   "id": "3fdaab27-daa6-4169-a4e6-d83e96d16670",
   "metadata": {},
   "source": [
    "### Apply annotation from master to new model"
   ]
  },
  {
   "cell_type": "markdown",
   "id": "f1ff61b2-0004-4426-a02d-c3b9bae9d47a",
   "metadata": {},
   "source": [
    "Both are fine."
   ]
  },
  {
   "cell_type": "code",
   "execution_count": 21,
   "id": "96984a4e-38e0-4c94-b12c-b1bbef7deb55",
   "metadata": {
    "execution": {
     "iopub.execute_input": "2021-11-17T08:52:25.921574Z",
     "iopub.status.busy": "2021-11-17T08:52:25.920916Z",
     "iopub.status.idle": "2021-11-17T08:52:25.932121Z",
     "shell.execute_reply": "2021-11-17T08:52:25.931232Z",
     "shell.execute_reply.started": "2021-11-17T08:52:25.921499Z"
    },
    "tags": []
   },
   "outputs": [],
   "source": [
    "for reac in model.reactions:\n",
    "    new_reac = new_model.reactions.get_by_id(reac.id)\n",
    "    new_reac.annotation = reac.annotation\n",
    "for gene in model.genes:\n",
    "    new_gene = new_model.genes.get_by_id(gene.id)\n",
    "    new_gene.annotation = gene.annotation\n",
    "for metabolite in model.metabolites:\n",
    "    new_metabolite = new_model.metabolites.get_by_id(metabolite.id)\n",
    "    new_metabolite.annotation = metabolite.annotation"
   ]
  },
  {
   "cell_type": "code",
   "execution_count": 30,
   "id": "d2138816-11d0-48ea-b67d-631a11645cb3",
   "metadata": {
    "execution": {
     "iopub.execute_input": "2021-11-17T08:59:51.566313Z",
     "iopub.status.busy": "2021-11-17T08:59:51.565967Z",
     "iopub.status.idle": "2021-11-17T08:59:51.574070Z",
     "shell.execute_reply": "2021-11-17T08:59:51.573442Z",
     "shell.execute_reply.started": "2021-11-17T08:59:51.566280Z"
    },
    "tags": []
   },
   "outputs": [
    {
     "name": "stdout",
     "output_type": "stream",
     "text": [
      "Reac annotations -> {'rhea', 'kegg.reaction', 'rheaR', 'keggR', 'ec-code', 'mnx', 'metacycR', 'sabiorkR', 'metanetx.reaction', 'bigg.reaction', 'seed.reaction', 'sbo', 'seedR', 'biggR', 'metacyc.reaction', 'sabiork.reaction'}\n",
      "Gene annotations -> {'symbol', 'locus_tag', 'sbo', 'ncbiprotein', 'uniprot'}\n",
      "Met annotations -> {'keggD', 'keggC', 'bigg.metabolite', 'lipidmapsM', 'sbo', 'metacycM', 'hmdb', 'reactome', 'lipidmaps', 'seed.compound', 'seedM', 'metanetx.chemical', 'slm', 'sabiork.compound', 'rheaG', 'reactomeM', 'keggG', 'kegg.compound', 'envipath', 'chebi', 'kegg.drug', 'kegg.glycan', 'metacyc.compound', 'sabiorkM', 'biggM', 'envipathM'}\n"
     ]
    }
   ],
   "source": [
    "print(f\"Reac annotations -> { {k for reac in new_model.reactions for k in reac.annotation} }\")\n",
    "print(f\"Gene annotations -> { {k for gene in new_model.genes for k in gene.annotation} }\")\n",
    "print(f\"Met annotations -> { {k for met in new_model.metabolites for k in met.annotation} }\")"
   ]
  },
  {
   "cell_type": "markdown",
   "id": "fa01c447-529c-4953-b515-0ade5a7b7c67",
   "metadata": {},
   "source": [
    "### Annotate subsystems"
   ]
  },
  {
   "cell_type": "markdown",
   "id": "cfb74a79-c271-4c31-80de-e10319827994",
   "metadata": {},
   "source": [
    "While we're at it, we can give the reactions subsystems from the spreadsheet."
   ]
  },
  {
   "cell_type": "code",
   "execution_count": 23,
   "id": "0681797b-b2dd-455e-a666-7db79a64eba1",
   "metadata": {
    "execution": {
     "iopub.execute_input": "2021-11-17T08:56:30.674583Z",
     "iopub.status.busy": "2021-11-17T08:56:30.673629Z",
     "iopub.status.idle": "2021-11-17T08:56:30.684681Z",
     "shell.execute_reply": "2021-11-17T08:56:30.682140Z",
     "shell.execute_reply.started": "2021-11-17T08:56:30.674492Z"
    },
    "tags": []
   },
   "outputs": [],
   "source": [
    "import pandas as pd"
   ]
  },
  {
   "cell_type": "code",
   "execution_count": 26,
   "id": "d169cf24-a638-499f-909b-7fd32a9fe4af",
   "metadata": {
    "execution": {
     "iopub.execute_input": "2021-11-17T08:57:34.644457Z",
     "iopub.status.busy": "2021-11-17T08:57:34.644159Z",
     "iopub.status.idle": "2021-11-17T08:57:34.930453Z",
     "shell.execute_reply": "2021-11-17T08:57:34.929956Z",
     "shell.execute_reply.started": "2021-11-17T08:57:34.644425Z"
    },
    "tags": []
   },
   "outputs": [],
   "source": [
    "xls_model = pd.read_excel(ROOT / \"M.nitroreducensGEM.xlsx\")"
   ]
  },
  {
   "cell_type": "code",
   "execution_count": 28,
   "id": "4ef2b1ee-c377-4345-8546-1695764ee679",
   "metadata": {
    "execution": {
     "iopub.execute_input": "2021-11-17T08:57:43.871862Z",
     "iopub.status.busy": "2021-11-17T08:57:43.871629Z",
     "iopub.status.idle": "2021-11-17T08:57:43.891107Z",
     "shell.execute_reply": "2021-11-17T08:57:43.890379Z",
     "shell.execute_reply.started": "2021-11-17T08:57:43.871838Z"
    },
    "tags": []
   },
   "outputs": [
    {
     "data": {
      "text/html": [
       "<div>\n",
       "<style scoped>\n",
       "    .dataframe tbody tr th:only-of-type {\n",
       "        vertical-align: middle;\n",
       "    }\n",
       "\n",
       "    .dataframe tbody tr th {\n",
       "        vertical-align: top;\n",
       "    }\n",
       "\n",
       "    .dataframe thead th {\n",
       "        text-align: right;\n",
       "    }\n",
       "</style>\n",
       "<table border=\"1\" class=\"dataframe\">\n",
       "  <thead>\n",
       "    <tr style=\"text-align: right;\">\n",
       "      <th></th>\n",
       "      <th>Abbreviation</th>\n",
       "      <th>Description</th>\n",
       "      <th>Reaction</th>\n",
       "      <th>EC-Number</th>\n",
       "      <th>GPR</th>\n",
       "      <th>Gene</th>\n",
       "      <th>Subsystem</th>\n",
       "      <th>Reversible</th>\n",
       "      <th>Lower bound</th>\n",
       "      <th>Upper bound</th>\n",
       "      <th>Objective</th>\n",
       "    </tr>\n",
       "  </thead>\n",
       "  <tbody>\n",
       "    <tr>\n",
       "      <th>0</th>\n",
       "      <td>ALAD_L</td>\n",
       "      <td>L-Alanine:NAD+ oxidoreductase (deaminating)_c0</td>\n",
       "      <td>ala-L[c] + nad[c] + h2o[c] &lt;=&gt; pyr[c] + nh4[c]...</td>\n",
       "      <td>EC-1.4.1.1</td>\n",
       "      <td>ANME2D_RS14405</td>\n",
       "      <td>ANME2D_RS14405</td>\n",
       "      <td>Alanine and Aspartate Metabolism</td>\n",
       "      <td>1</td>\n",
       "      <td>-1000</td>\n",
       "      <td>1000</td>\n",
       "      <td>0</td>\n",
       "    </tr>\n",
       "    <tr>\n",
       "      <th>1</th>\n",
       "      <td>ASPTA</td>\n",
       "      <td>aspartate transaminase</td>\n",
       "      <td>glu-L[c] + oaa[c] &lt;=&gt; akg[c] + asp-L[c]</td>\n",
       "      <td>EC-2.6.1.1</td>\n",
       "      <td>ANME2D_RS08380 or ANME2D_RS05600 or ANME2D_RS0...</td>\n",
       "      <td>ANME2D_RS08380   ANME2D_RS05600   ANME2D_RS078...</td>\n",
       "      <td>Alanine and Aspartate Metabolism</td>\n",
       "      <td>1</td>\n",
       "      <td>-1000</td>\n",
       "      <td>1000</td>\n",
       "      <td>0</td>\n",
       "    </tr>\n",
       "    <tr>\n",
       "      <th>2</th>\n",
       "      <td>ARGSS</td>\n",
       "      <td>argininosuccinate synthase</td>\n",
       "      <td>asp-L[c] + atp[c] + citr-L[c] &lt;=&gt; amp[c] + arg...</td>\n",
       "      <td>EC-6.3.4.5</td>\n",
       "      <td>ANME2D_RS05565</td>\n",
       "      <td>ANME2D_RS05565</td>\n",
       "      <td>Alanine and Aspartate Metabolism</td>\n",
       "      <td>1</td>\n",
       "      <td>-1000</td>\n",
       "      <td>1000</td>\n",
       "      <td>0</td>\n",
       "    </tr>\n",
       "    <tr>\n",
       "      <th>3</th>\n",
       "      <td>ARGSL</td>\n",
       "      <td>argininosuccinate lyase</td>\n",
       "      <td>argsuc[c] &lt;=&gt; arg-L[c] + fum[c]</td>\n",
       "      <td>EC-4.3.2.1</td>\n",
       "      <td>ANME2D_RS01360</td>\n",
       "      <td>ANME2D_RS01360</td>\n",
       "      <td>Alanine and Aspartate Metabolism</td>\n",
       "      <td>1</td>\n",
       "      <td>-1000</td>\n",
       "      <td>1000</td>\n",
       "      <td>0</td>\n",
       "    </tr>\n",
       "    <tr>\n",
       "      <th>4</th>\n",
       "      <td>ADSS</td>\n",
       "      <td>adenylosuccinate synthase</td>\n",
       "      <td>asp-L[c] + gtp[c] + imp[c] &lt;=&gt; dcamp[c] + gdp[...</td>\n",
       "      <td>EC-6.3.4.4</td>\n",
       "      <td>ANME2D_RS03615</td>\n",
       "      <td>ANME2D_RS03615</td>\n",
       "      <td>Alanine and Aspartate Metabolism</td>\n",
       "      <td>1</td>\n",
       "      <td>-1000</td>\n",
       "      <td>1000</td>\n",
       "      <td>0</td>\n",
       "    </tr>\n",
       "  </tbody>\n",
       "</table>\n",
       "</div>"
      ],
      "text/plain": [
       "  Abbreviation                                     Description  \\\n",
       "0       ALAD_L  L-Alanine:NAD+ oxidoreductase (deaminating)_c0   \n",
       "1        ASPTA                          aspartate transaminase   \n",
       "2        ARGSS                      argininosuccinate synthase   \n",
       "3        ARGSL                         argininosuccinate lyase   \n",
       "4         ADSS                       adenylosuccinate synthase   \n",
       "\n",
       "                                            Reaction   EC-Number  \\\n",
       "0  ala-L[c] + nad[c] + h2o[c] <=> pyr[c] + nh4[c]...  EC-1.4.1.1   \n",
       "1            glu-L[c] + oaa[c] <=> akg[c] + asp-L[c]  EC-2.6.1.1   \n",
       "2  asp-L[c] + atp[c] + citr-L[c] <=> amp[c] + arg...  EC-6.3.4.5   \n",
       "3                   argsuc[c] <=> arg-L[c] + fum[c]   EC-4.3.2.1   \n",
       "4  asp-L[c] + gtp[c] + imp[c] <=> dcamp[c] + gdp[...  EC-6.3.4.4   \n",
       "\n",
       "                                                 GPR  \\\n",
       "0                                     ANME2D_RS14405   \n",
       "1  ANME2D_RS08380 or ANME2D_RS05600 or ANME2D_RS0...   \n",
       "2                                     ANME2D_RS05565   \n",
       "3                                     ANME2D_RS01360   \n",
       "4                                     ANME2D_RS03615   \n",
       "\n",
       "                                                Gene  \\\n",
       "0                                     ANME2D_RS14405   \n",
       "1  ANME2D_RS08380   ANME2D_RS05600   ANME2D_RS078...   \n",
       "2                                     ANME2D_RS05565   \n",
       "3                                     ANME2D_RS01360   \n",
       "4                                     ANME2D_RS03615   \n",
       "\n",
       "                          Subsystem  Reversible  Lower bound  Upper bound  \\\n",
       "0  Alanine and Aspartate Metabolism           1        -1000         1000   \n",
       "1  Alanine and Aspartate Metabolism           1        -1000         1000   \n",
       "2  Alanine and Aspartate Metabolism           1        -1000         1000   \n",
       "3  Alanine and Aspartate Metabolism           1        -1000         1000   \n",
       "4  Alanine and Aspartate Metabolism           1        -1000         1000   \n",
       "\n",
       "   Objective  \n",
       "0          0  \n",
       "1          0  \n",
       "2          0  \n",
       "3          0  \n",
       "4          0  "
      ]
     },
     "execution_count": 28,
     "metadata": {},
     "output_type": "execute_result"
    }
   ],
   "source": [
    "xls_model.head()"
   ]
  },
  {
   "cell_type": "code",
   "execution_count": 45,
   "id": "5e0e433f-8e4f-476f-ab45-5a3e37a49ea4",
   "metadata": {
    "execution": {
     "iopub.execute_input": "2021-11-17T09:06:49.526550Z",
     "iopub.status.busy": "2021-11-17T09:06:49.526226Z",
     "iopub.status.idle": "2021-11-17T09:06:50.095742Z",
     "shell.execute_reply": "2021-11-17T09:06:50.095233Z",
     "shell.execute_reply.started": "2021-11-17T09:06:49.526513Z"
    },
    "tags": []
   },
   "outputs": [],
   "source": [
    "for reac in new_model.reactions:\n",
    "    matched = xls_model.loc[xls_model.Abbreviation == reac.id, [\"EC-Number\", \"Subsystem\"]]\n",
    "    if len(matched):\n",
    "        reac.annotation[\"ec-code\"] = matched.iloc[0, 0]\n",
    "        reac.subsystem = matched.iloc[0, 1]"
   ]
  },
  {
   "cell_type": "markdown",
   "id": "ae517629-8d11-43c4-a13d-a4246cac284a",
   "metadata": {},
   "source": [
    "Write the merged model."
   ]
  },
  {
   "cell_type": "code",
   "execution_count": 48,
   "id": "515894c2-79cc-482b-b608-d0e41520dd20",
   "metadata": {
    "execution": {
     "iopub.execute_input": "2021-11-17T09:08:34.674697Z",
     "iopub.status.busy": "2021-11-17T09:08:34.674456Z",
     "iopub.status.idle": "2021-11-17T09:08:35.485517Z",
     "shell.execute_reply": "2021-11-17T09:08:35.484992Z",
     "shell.execute_reply.started": "2021-11-17T09:08:34.674673Z"
    },
    "tags": []
   },
   "outputs": [],
   "source": [
    "cobra.io.write_sbml_model(new_model, model_file)"
   ]
  }
 ],
 "metadata": {
  "kernelspec": {
   "display_name": "memote",
   "language": "python",
   "name": "memote"
  },
  "language_info": {
   "codemirror_mode": {
    "name": "ipython",
    "version": 3
   },
   "file_extension": ".py",
   "mimetype": "text/x-python",
   "name": "python",
   "nbconvert_exporter": "python",
   "pygments_lexer": "ipython3",
   "version": "3.9.7"
  }
 },
 "nbformat": 4,
 "nbformat_minor": 5
}
